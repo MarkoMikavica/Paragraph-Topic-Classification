{
 "cells": [
  {
   "cell_type": "code",
   "execution_count": 1,
   "id": "5c1765d5",
   "metadata": {},
   "outputs": [],
   "source": [
    "import wikipedia\n",
    "import wikipediaapi \n",
    "import datetime\n",
    "import pandas as pd\n",
    "import numpy as np\n",
    "from sklearn import feature_extraction\n",
    "from sklearn import model_selection\n",
    "import nltk\n",
    "from nltk import tokenize\n",
    "from nltk import word_tokenize, pos_tag\n",
    "import string\n",
    "from keras.preprocessing.text import Tokenizer\n",
    "from sklearn import svm\n",
    "from sklearn import multiclass\n",
    "from sklearn import metrics\n",
    "from tensorflow.keras.datasets import imdb\n",
    "from tensorflow.keras.preprocessing import sequence\n",
    "from tensorflow.keras.models import Sequential\n",
    "from tensorflow.keras.layers import Embedding, Dense, Flatten\n",
    "from tensorflow.keras.layers import Embedding, Conv1D, MaxPool1D, GlobalMaxPool1D, Dense\n",
    "from tensorflow.keras.losses import BinaryCrossentropy\n",
    "from tensorflow.keras.optimizers import Adam\n",
    "import matplotlib.pyplot as plt"
   ]
  },
  {
   "cell_type": "code",
   "execution_count": 2,
   "id": "9de9062b",
   "metadata": {},
   "outputs": [],
   "source": [
    "classes = ['sport', 'economy', 'politics', 'health', 'tourism', \n",
    "           'entertainment', 'culture', 'music', 'education', \n",
    "           'real estate', 'nutrition', 'science', 'history', 'technology'\n",
    "          ]"
   ]
  },
  {
   "cell_type": "code",
   "execution_count": 3,
   "id": "8f2b25c3",
   "metadata": {},
   "outputs": [],
   "source": [
    "def generate_data(classes, n):\n",
    "    data = [];\n",
    "    for i in classes:\n",
    "#         topics = wikipedia.search(i, results = n)\n",
    "#         for j in topics:\n",
    "#         print(classes)\n",
    "#         print(\"Class: \", i)\n",
    "        for j in list(wikipedia.search(i,results = n)):\n",
    "            wiki_wiki = wikipediaapi.Wikipedia('en')\n",
    "            page_py = wiki_wiki.page(j)\n",
    "            if(page_py.exists()):\n",
    "#                 print(\"Class: \", i)\n",
    "#                 print(\"Title: \", j)\n",
    "#                     print(\"Section: \", page_py.sections[0].title)\n",
    "#                     print(\"Text: \", page_py.text)\n",
    "                for k in page_py.categories:\n",
    "                    if i in k.lower(): \n",
    "#                         print(\"Class: \", i)\n",
    "                        data.append((i, page_py.summary))\n",
    "                        break\n",
    "            else:\n",
    "                continue\n",
    "    return data"
   ]
  },
  {
   "cell_type": "code",
   "execution_count": 5,
   "id": "78b9b408",
   "metadata": {},
   "outputs": [],
   "source": [
    "data = generate_data(classes, 10)"
   ]
  },
  {
   "cell_type": "code",
   "execution_count": 6,
   "id": "acc77fbf",
   "metadata": {},
   "outputs": [
    {
     "name": "stdout",
     "output_type": "stream",
     "text": [
      "sport 10\n",
      "economy 4\n",
      "politics 6\n",
      "health 7\n",
      "tourism 9\n",
      "entertainment 5\n",
      "culture 9\n",
      "music 7\n",
      "education 9\n",
      "real estate 9\n",
      "nutrition 8\n",
      "science 8\n",
      "history 6\n",
      "technology 8\n"
     ]
    }
   ],
   "source": [
    "for i in classes:\n",
    "    c = 0\n",
    "    for j in range(0, len(data)):\n",
    "        if(data[j][0] == i):\n",
    "            c = c + 1\n",
    "    print(\"%s %d\" %(i, c))"
   ]
  }
 ],
 "metadata": {
  "kernelspec": {
   "display_name": "Python 3",
   "language": "python",
   "name": "python3"
  },
  "language_info": {
   "codemirror_mode": {
    "name": "ipython",
    "version": 3
   },
   "file_extension": ".py",
   "mimetype": "text/x-python",
   "name": "python",
   "nbconvert_exporter": "python",
   "pygments_lexer": "ipython3",
   "version": "3.8.8"
  }
 },
 "nbformat": 4,
 "nbformat_minor": 5
}
