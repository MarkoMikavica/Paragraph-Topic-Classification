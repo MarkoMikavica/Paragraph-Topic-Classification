{
 "cells": [
  {
   "cell_type": "code",
   "execution_count": 1,
   "id": "73cabd31",
   "metadata": {},
   "outputs": [],
   "source": [
    "import wikipedia\n",
    "import wikipediaapi \n",
    "import datetime\n",
    "import pandas as pd\n",
    "import numpy as np\n",
    "from sklearn import feature_extraction\n",
    "from sklearn import model_selection\n",
    "import nltk\n",
    "from nltk import tokenize\n",
    "from nltk import word_tokenize, pos_tag\n",
    "import string\n",
    "from keras.preprocessing.text import Tokenizer\n",
    "from sklearn import svm\n",
    "from sklearn import multiclass\n",
    "from sklearn import metrics\n",
    "from tensorflow.keras.datasets import imdb\n",
    "from tensorflow.keras.preprocessing import sequence\n",
    "from tensorflow.keras.models import Sequential\n",
    "from tensorflow.keras.layers import Embedding, Dense, Flatten\n",
    "from tensorflow.keras.layers import Embedding, Conv1D, MaxPool1D, GlobalMaxPool1D, Dense\n",
    "from tensorflow.keras.losses import BinaryCrossentropy\n",
    "from tensorflow.keras.optimizers import Adam\n",
    "import matplotlib.pyplot as plt"
   ]
  },
  {
   "cell_type": "code",
   "execution_count": 2,
   "id": "174beca2",
   "metadata": {},
   "outputs": [],
   "source": [
    "classes = ['sport', 'economy', 'politics', 'health', 'tourism', \n",
    "           'entertainment', 'culture', 'music', 'education', \n",
    "           'real estate', 'nutrition', 'science', 'history', 'technology'\n",
    "          ]"
   ]
  },
  {
   "cell_type": "code",
   "execution_count": 3,
   "id": "5f56709f",
   "metadata": {},
   "outputs": [],
   "source": [
    "def generate_data(classes, n):\n",
    "    data = [];\n",
    "    for i in classes:\n",
    "#         topics = wikipedia.search(i, results = n)\n",
    "#         for j in topics:\n",
    "#         print(classes)\n",
    "#         print(\"Class: \", i)\n",
    "        for j in list(wikipedia.search(i,results = n)):\n",
    "            wiki_wiki = wikipediaapi.Wikipedia('en')\n",
    "            page_py = wiki_wiki.page(j)\n",
    "            if(page_py.exists()):\n",
    "#                 print(\"Class: \", i)\n",
    "#                 print(\"Title: \", j)\n",
    "#                     print(\"Section: \", page_py.sections[0].title)\n",
    "#                     print(\"Text: \", page_py.text)\n",
    "                for k in page_py.categories:\n",
    "                    if i in k.lower(): \n",
    "#                         print(\"Class: \", i)\n",
    "                        data.append((i, page_py.summary))\n",
    "                        break\n",
    "            else:\n",
    "                continue\n",
    "    return data"
   ]
  },
  {
   "cell_type": "code",
   "execution_count": 5,
   "id": "99fe7d6d",
   "metadata": {},
   "outputs": [],
   "source": [
    "data = generate_data(classes, 10)"
   ]
  },
  {
   "cell_type": "code",
   "execution_count": 6,
   "id": "16b7b3fd",
   "metadata": {},
   "outputs": [
    {
     "name": "stdout",
     "output_type": "stream",
     "text": [
      "sport 10\n",
      "economy 4\n",
      "politics 6\n",
      "health 7\n",
      "tourism 9\n",
      "entertainment 5\n",
      "culture 9\n",
      "music 7\n",
      "education 9\n",
      "real estate 9\n",
      "nutrition 8\n",
      "science 8\n",
      "history 6\n",
      "technology 8\n"
     ]
    }
   ],
   "source": [
    "for i in classes:\n",
    "    c = 0\n",
    "    for j in range(0, len(data)):\n",
    "        if(data[j][0] == i):\n",
    "            c = c + 1\n",
    "    print(\"%s %d\" %(i, c))"
   ]
  },
  {
   "cell_type": "code",
   "execution_count": 7,
   "id": "c1f9d05d",
   "metadata": {},
   "outputs": [],
   "source": [
    "def create_data_csv_file(name, data):\n",
    "    name = name + '.csv'\n",
    "#         '_' + str(datetime.datetime.now()).replace(' ', '_').replace('.', '-').replace(':', '-') + \n",
    "#         '.csv'\n",
    "    sep = '<>'\n",
    "    cols = 'class' + sep + 'text\\n'\n",
    "    with open(name, 'w+', encoding='utf-8') as file:\n",
    "        file.write(cols)\n",
    "#         YELLOW,SMALL,STRETCH,ADULT,T\n",
    "        for i in range(0, len(data)):\n",
    "            line = data[i][0] + sep + data[i][1].replace('\\n', ' ')\n",
    "\n",
    "            file.write(line)\n",
    "            file.write('\\n')\n",
    "    file.close()\n",
    "            \n",
    "#     print(text)"
   ]
  },
  {
   "cell_type": "code",
   "execution_count": 9,
   "id": "567a4b3a",
   "metadata": {},
   "outputs": [],
   "source": [
    "# create_data_csv_file('data_10', data)"
   ]
  },
  {
   "cell_type": "code",
   "execution_count": 10,
   "id": "d6096f73",
   "metadata": {},
   "outputs": [
    {
     "name": "stderr",
     "output_type": "stream",
     "text": [
      "<ipython-input-10-79470950938f>:1: ParserWarning: Falling back to the 'python' engine because the 'c' engine does not support regex separators (separators > 1 char and different from '\\s+' are interpreted as regex); you can avoid this warning by specifying engine='python'.\n",
      "  df = pd.read_csv('data_10.csv', sep = '<>')\n"
     ]
    },
    {
     "data": {
      "text/html": [
       "<div>\n",
       "<style scoped>\n",
       "    .dataframe tbody tr th:only-of-type {\n",
       "        vertical-align: middle;\n",
       "    }\n",
       "\n",
       "    .dataframe tbody tr th {\n",
       "        vertical-align: top;\n",
       "    }\n",
       "\n",
       "    .dataframe thead th {\n",
       "        text-align: right;\n",
       "    }\n",
       "</style>\n",
       "<table border=\"1\" class=\"dataframe\">\n",
       "  <thead>\n",
       "    <tr style=\"text-align: right;\">\n",
       "      <th></th>\n",
       "      <th>class</th>\n",
       "      <th>text</th>\n",
       "    </tr>\n",
       "  </thead>\n",
       "  <tbody>\n",
       "    <tr>\n",
       "      <th>0</th>\n",
       "      <td>sport</td>\n",
       "      <td>Sport pertains to any form of competitive phys...</td>\n",
       "    </tr>\n",
       "    <tr>\n",
       "      <th>1</th>\n",
       "      <td>sport</td>\n",
       "      <td>Sport was an American sports magazine. Launche...</td>\n",
       "    </tr>\n",
       "    <tr>\n",
       "      <th>2</th>\n",
       "      <td>sport</td>\n",
       "      <td>Sport, Sport, Sport (Russian: Спорт, спорт, сп...</td>\n",
       "    </tr>\n",
       "    <tr>\n",
       "      <th>3</th>\n",
       "      <td>sport</td>\n",
       "      <td>Sport Lisboa e Benfica  (Portuguese pronunciat...</td>\n",
       "    </tr>\n",
       "    <tr>\n",
       "      <th>4</th>\n",
       "      <td>sport</td>\n",
       "      <td>Sport diving is an underwater sport that uses ...</td>\n",
       "    </tr>\n",
       "    <tr>\n",
       "      <th>...</th>\n",
       "      <td>...</td>\n",
       "      <td>...</td>\n",
       "    </tr>\n",
       "    <tr>\n",
       "      <th>100</th>\n",
       "      <td>technology</td>\n",
       "      <td>Fintech a portmanteau of \"financial technology...</td>\n",
       "    </tr>\n",
       "    <tr>\n",
       "      <th>101</th>\n",
       "      <td>technology</td>\n",
       "      <td>TCL Technology (originally an abbreviation for...</td>\n",
       "    </tr>\n",
       "    <tr>\n",
       "      <th>102</th>\n",
       "      <td>technology</td>\n",
       "      <td>Space technology is technology for use in oute...</td>\n",
       "    </tr>\n",
       "    <tr>\n",
       "      <th>103</th>\n",
       "      <td>technology</td>\n",
       "      <td>A technology company (or tech company) is an e...</td>\n",
       "    </tr>\n",
       "    <tr>\n",
       "      <th>104</th>\n",
       "      <td>technology</td>\n",
       "      <td>Agricultural technology or agrotechnology (abb...</td>\n",
       "    </tr>\n",
       "  </tbody>\n",
       "</table>\n",
       "<p>105 rows × 2 columns</p>\n",
       "</div>"
      ],
      "text/plain": [
       "          class                                               text\n",
       "0         sport  Sport pertains to any form of competitive phys...\n",
       "1         sport  Sport was an American sports magazine. Launche...\n",
       "2         sport  Sport, Sport, Sport (Russian: Спорт, спорт, сп...\n",
       "3         sport  Sport Lisboa e Benfica  (Portuguese pronunciat...\n",
       "4         sport  Sport diving is an underwater sport that uses ...\n",
       "..          ...                                                ...\n",
       "100  technology  Fintech a portmanteau of \"financial technology...\n",
       "101  technology  TCL Technology (originally an abbreviation for...\n",
       "102  technology  Space technology is technology for use in oute...\n",
       "103  technology  A technology company (or tech company) is an e...\n",
       "104  technology  Agricultural technology or agrotechnology (abb...\n",
       "\n",
       "[105 rows x 2 columns]"
      ]
     },
     "execution_count": 10,
     "metadata": {},
     "output_type": "execute_result"
    }
   ],
   "source": [
    "df = pd.read_csv('data_10.csv', sep = '<>')\n",
    "df"
   ]
  },
  {
   "cell_type": "code",
   "execution_count": 11,
   "id": "3cae8818",
   "metadata": {},
   "outputs": [
    {
     "data": {
      "text/plain": [
       "sport            10\n",
       "education         9\n",
       "tourism           9\n",
       "real estate       9\n",
       "culture           9\n",
       "technology        8\n",
       "nutrition         8\n",
       "science           8\n",
       "music             7\n",
       "health            7\n",
       "politics          6\n",
       "history           6\n",
       "entertainment     5\n",
       "economy           4\n",
       "Name: class, dtype: int64"
      ]
     },
     "execution_count": 11,
     "metadata": {},
     "output_type": "execute_result"
    }
   ],
   "source": [
    "df['class'].value_counts()"
   ]
  },
  {
   "cell_type": "code",
   "execution_count": 12,
   "id": "c59638d3",
   "metadata": {},
   "outputs": [
    {
     "name": "stderr",
     "output_type": "stream",
     "text": [
      "[nltk_data] Downloading package punkt to\n",
      "[nltk_data]     C:\\Users\\Palja\\AppData\\Roaming\\nltk_data...\n",
      "[nltk_data]   Package punkt is already up-to-date!\n"
     ]
    },
    {
     "data": {
      "text/plain": [
       "True"
      ]
     },
     "execution_count": 12,
     "metadata": {},
     "output_type": "execute_result"
    }
   ],
   "source": [
    "nltk.download('punkt')"
   ]
  },
  {
   "cell_type": "code",
   "execution_count": 13,
   "id": "f4d4d709",
   "metadata": {},
   "outputs": [],
   "source": [
    "dict_class_index = {\n",
    "    class_name: i for i, class_name in enumerate(df['class'].unique())\n",
    "}\n",
    "\n",
    "df['class num'] = df['class'].map(dict_class_index)"
   ]
  },
  {
   "cell_type": "code",
   "execution_count": 14,
   "id": "b5b42dfb",
   "metadata": {},
   "outputs": [
    {
     "data": {
      "text/html": [
       "<div>\n",
       "<style scoped>\n",
       "    .dataframe tbody tr th:only-of-type {\n",
       "        vertical-align: middle;\n",
       "    }\n",
       "\n",
       "    .dataframe tbody tr th {\n",
       "        vertical-align: top;\n",
       "    }\n",
       "\n",
       "    .dataframe thead th {\n",
       "        text-align: right;\n",
       "    }\n",
       "</style>\n",
       "<table border=\"1\" class=\"dataframe\">\n",
       "  <thead>\n",
       "    <tr style=\"text-align: right;\">\n",
       "      <th></th>\n",
       "      <th>class</th>\n",
       "      <th>text</th>\n",
       "      <th>class num</th>\n",
       "    </tr>\n",
       "  </thead>\n",
       "  <tbody>\n",
       "    <tr>\n",
       "      <th>0</th>\n",
       "      <td>sport</td>\n",
       "      <td>Sport pertains to any form of competitive phys...</td>\n",
       "      <td>0</td>\n",
       "    </tr>\n",
       "    <tr>\n",
       "      <th>1</th>\n",
       "      <td>sport</td>\n",
       "      <td>Sport was an American sports magazine. Launche...</td>\n",
       "      <td>0</td>\n",
       "    </tr>\n",
       "    <tr>\n",
       "      <th>2</th>\n",
       "      <td>sport</td>\n",
       "      <td>Sport, Sport, Sport (Russian: Спорт, спорт, сп...</td>\n",
       "      <td>0</td>\n",
       "    </tr>\n",
       "    <tr>\n",
       "      <th>3</th>\n",
       "      <td>sport</td>\n",
       "      <td>Sport Lisboa e Benfica  (Portuguese pronunciat...</td>\n",
       "      <td>0</td>\n",
       "    </tr>\n",
       "    <tr>\n",
       "      <th>4</th>\n",
       "      <td>sport</td>\n",
       "      <td>Sport diving is an underwater sport that uses ...</td>\n",
       "      <td>0</td>\n",
       "    </tr>\n",
       "    <tr>\n",
       "      <th>...</th>\n",
       "      <td>...</td>\n",
       "      <td>...</td>\n",
       "      <td>...</td>\n",
       "    </tr>\n",
       "    <tr>\n",
       "      <th>100</th>\n",
       "      <td>technology</td>\n",
       "      <td>Fintech a portmanteau of \"financial technology...</td>\n",
       "      <td>13</td>\n",
       "    </tr>\n",
       "    <tr>\n",
       "      <th>101</th>\n",
       "      <td>technology</td>\n",
       "      <td>TCL Technology (originally an abbreviation for...</td>\n",
       "      <td>13</td>\n",
       "    </tr>\n",
       "    <tr>\n",
       "      <th>102</th>\n",
       "      <td>technology</td>\n",
       "      <td>Space technology is technology for use in oute...</td>\n",
       "      <td>13</td>\n",
       "    </tr>\n",
       "    <tr>\n",
       "      <th>103</th>\n",
       "      <td>technology</td>\n",
       "      <td>A technology company (or tech company) is an e...</td>\n",
       "      <td>13</td>\n",
       "    </tr>\n",
       "    <tr>\n",
       "      <th>104</th>\n",
       "      <td>technology</td>\n",
       "      <td>Agricultural technology or agrotechnology (abb...</td>\n",
       "      <td>13</td>\n",
       "    </tr>\n",
       "  </tbody>\n",
       "</table>\n",
       "<p>105 rows × 3 columns</p>\n",
       "</div>"
      ],
      "text/plain": [
       "          class                                               text  class num\n",
       "0         sport  Sport pertains to any form of competitive phys...          0\n",
       "1         sport  Sport was an American sports magazine. Launche...          0\n",
       "2         sport  Sport, Sport, Sport (Russian: Спорт, спорт, сп...          0\n",
       "3         sport  Sport Lisboa e Benfica  (Portuguese pronunciat...          0\n",
       "4         sport  Sport diving is an underwater sport that uses ...          0\n",
       "..          ...                                                ...        ...\n",
       "100  technology  Fintech a portmanteau of \"financial technology...         13\n",
       "101  technology  TCL Technology (originally an abbreviation for...         13\n",
       "102  technology  Space technology is technology for use in oute...         13\n",
       "103  technology  A technology company (or tech company) is an e...         13\n",
       "104  technology  Agricultural technology or agrotechnology (abb...         13\n",
       "\n",
       "[105 rows x 3 columns]"
      ]
     },
     "execution_count": 14,
     "metadata": {},
     "output_type": "execute_result"
    }
   ],
   "source": [
    "df"
   ]
  },
  {
   "cell_type": "code",
   "execution_count": 15,
   "id": "a71e9082",
   "metadata": {},
   "outputs": [
    {
     "data": {
      "text/plain": [
       "{'sport': 0,\n",
       " 'economy': 1,\n",
       " 'politics': 2,\n",
       " 'health': 3,\n",
       " 'tourism': 4,\n",
       " 'entertainment': 5,\n",
       " 'culture': 6,\n",
       " 'music': 7,\n",
       " 'education': 8,\n",
       " 'real estate': 9,\n",
       " 'nutrition': 10,\n",
       " 'science': 11,\n",
       " 'history': 12,\n",
       " 'technology': 13}"
      ]
     },
     "execution_count": 15,
     "metadata": {},
     "output_type": "execute_result"
    }
   ],
   "source": [
    "dict_class_index"
   ]
  },
  {
   "cell_type": "code",
   "execution_count": 20,
   "id": "97fe3813",
   "metadata": {},
   "outputs": [
    {
     "name": "stdout",
     "output_type": "stream",
     "text": [
      "['a', 'about', 'above', 'across', 'after', 'afterwards', 'again', 'against', 'all', 'almost', 'alone', 'along', 'already', 'also', 'although', 'always', 'am', 'among', 'amongst', 'amount', 'an', 'and', 'another', 'any', 'anyhow', 'anyone', 'anything', 'anyway', 'anywhere', 'are', 'around', 'as', 'at', 'back', 'be', 'became', 'because', 'become', 'becomes', 'becoming', 'been', 'before', 'beforehand', 'behind', 'being', 'below', 'beside', 'besides', 'between', 'beyond', 'both', 'bottom', 'but', 'by', 'ca', 'call', 'can', 'cannot', 'could', 'did', 'do', 'does', 'doing', 'done', 'down', 'due', 'during', 'each', 'eight', 'either', 'eleven', 'else', 'elsewhere', 'empty', 'enough', 'even', 'ever', 'every', 'everyone', 'everything', 'everywhere', 'except', 'few', 'fifteen', 'fifty', 'first', 'five', 'for', 'former', 'formerly', 'forty', 'four', 'from', 'front', 'full', 'further', 'get', 'give', 'go', 'had', 'has', 'have', 'he', 'hence', 'her', 'here', 'hereafter', 'hereby', 'herein', 'hereupon', 'hers', 'herself', 'him', 'himself', 'his', 'how', 'however', 'hundred', 'i', 'if', 'in', 'indeed', 'into', 'is', 'it', 'its', 'itself', 'just', 'keep', 'last', 'latter', 'latterly', 'least', 'less', 'made', 'make', 'many', 'may', 'me', 'meanwhile', 'might', 'mine', 'more', 'moreover', 'most', 'mostly', 'move', 'much', 'must', 'my', 'myself', 'name', 'namely', 'neither', 'never', 'nevertheless', 'next', 'nine', 'no', 'nobody', 'none', 'noone', 'nor', 'not', 'nothing', 'now', 'nowhere', 'of', 'off', 'often', 'on', 'once', 'one', 'only', 'onto', 'or', 'other', 'others', 'otherwise', 'our', 'ours', 'ourselves', 'out', 'over', 'own', 'part', 'per', 'perhaps', 'please', 'put', 'quite', 'rather', 're', 'really', 'regarding', 'same', 'say', 'see', 'seem', 'seemed', 'seeming', 'seems', 'serious', 'several', 'she', 'should', 'show', 'side', 'since', 'six', 'sixty', 'so', 'some', 'somehow', 'someone', 'something', 'sometime', 'sometimes', 'somewhere', 'still', 'such', 'take', 'ten', 'than', 'that', 'the', 'their', 'them', 'themselves', 'then', 'thence', 'there', 'thereafter', 'thereby', 'therefore', 'therein', 'thereupon', 'these', 'they', 'third', 'this', 'those', 'though', 'three', 'through', 'throughout', 'thru', 'thus', 'to', 'together', 'too', 'top', 'toward', 'towards', 'twelve', 'twenty', 'two', 'under', 'unless', 'until', 'up', 'upon', 'us', 'used', 'using', 'various', 'very', 'via', 'was', 'we', 'well', 'were', 'what', 'whatever', 'when', 'whence', 'whenever', 'where', 'whereafter', 'whereas', 'whereby', 'wherein', 'whereupon', 'wherever', 'whether', 'which', 'while', 'whither', 'who', 'whoever', 'whole', 'whom', 'whose', 'why', 'will', 'with', 'within', 'without', 'would', 'yet', 'you', 'your', 'yours', 'yourself', 'yourselves']\n"
     ]
    }
   ],
   "source": [
    "import advertools as adv\n",
    "stop_words = sorted(adv.stopwords['english'])\n",
    "print(stop_words)"
   ]
  },
  {
   "cell_type": "code",
   "execution_count": 21,
   "id": "308a6363",
   "metadata": {},
   "outputs": [],
   "source": [
    "def clear_text(text):\n",
    "    new_text = text.apply(lambda x: ' '.join([word for word in x.split() if word not in stop_words])).str.lower()\n",
    "    new_text = new_text.replace(r'[^\\w\\s]+', '', regex=True)\n",
    "    return new_text"
   ]
  },
  {
   "cell_type": "code",
   "execution_count": 22,
   "id": "fb700abd",
   "metadata": {},
   "outputs": [],
   "source": [
    "new_text = clear_text(df['text'])"
   ]
  },
  {
   "cell_type": "code",
   "execution_count": 24,
   "id": "19c377a1",
   "metadata": {},
   "outputs": [
    {
     "data": {
      "text/html": [
       "<div>\n",
       "<style scoped>\n",
       "    .dataframe tbody tr th:only-of-type {\n",
       "        vertical-align: middle;\n",
       "    }\n",
       "\n",
       "    .dataframe tbody tr th {\n",
       "        vertical-align: top;\n",
       "    }\n",
       "\n",
       "    .dataframe thead th {\n",
       "        text-align: right;\n",
       "    }\n",
       "</style>\n",
       "<table border=\"1\" class=\"dataframe\">\n",
       "  <thead>\n",
       "    <tr style=\"text-align: right;\">\n",
       "      <th></th>\n",
       "      <th>class</th>\n",
       "      <th>text</th>\n",
       "      <th>class num</th>\n",
       "      <th>clear text</th>\n",
       "    </tr>\n",
       "  </thead>\n",
       "  <tbody>\n",
       "    <tr>\n",
       "      <th>0</th>\n",
       "      <td>sport</td>\n",
       "      <td>Sport pertains to any form of competitive phys...</td>\n",
       "      <td>0</td>\n",
       "      <td>sport pertains form competitive physical activ...</td>\n",
       "    </tr>\n",
       "    <tr>\n",
       "      <th>1</th>\n",
       "      <td>sport</td>\n",
       "      <td>Sport was an American sports magazine. Launche...</td>\n",
       "      <td>0</td>\n",
       "      <td>sport american sports magazine launched septem...</td>\n",
       "    </tr>\n",
       "    <tr>\n",
       "      <th>2</th>\n",
       "      <td>sport</td>\n",
       "      <td>Sport, Sport, Sport (Russian: Спорт, спорт, сп...</td>\n",
       "      <td>0</td>\n",
       "      <td>sport sport sport russian спорт спорт спорт 19...</td>\n",
       "    </tr>\n",
       "    <tr>\n",
       "      <th>3</th>\n",
       "      <td>sport</td>\n",
       "      <td>Sport Lisboa e Benfica  (Portuguese pronunciat...</td>\n",
       "      <td>0</td>\n",
       "      <td>sport lisboa e benfica portuguese pronunciatio...</td>\n",
       "    </tr>\n",
       "    <tr>\n",
       "      <th>4</th>\n",
       "      <td>sport</td>\n",
       "      <td>Sport diving is an underwater sport that uses ...</td>\n",
       "      <td>0</td>\n",
       "      <td>sport diving underwater sport uses recreationa...</td>\n",
       "    </tr>\n",
       "    <tr>\n",
       "      <th>...</th>\n",
       "      <td>...</td>\n",
       "      <td>...</td>\n",
       "      <td>...</td>\n",
       "      <td>...</td>\n",
       "    </tr>\n",
       "    <tr>\n",
       "      <th>100</th>\n",
       "      <td>technology</td>\n",
       "      <td>Fintech a portmanteau of \"financial technology...</td>\n",
       "      <td>13</td>\n",
       "      <td>fintech portmanteau financial technology refer...</td>\n",
       "    </tr>\n",
       "    <tr>\n",
       "      <th>101</th>\n",
       "      <td>technology</td>\n",
       "      <td>TCL Technology (originally an abbreviation for...</td>\n",
       "      <td>13</td>\n",
       "      <td>tcl technology originally abbreviation telepho...</td>\n",
       "    </tr>\n",
       "    <tr>\n",
       "      <th>102</th>\n",
       "      <td>technology</td>\n",
       "      <td>Space technology is technology for use in oute...</td>\n",
       "      <td>13</td>\n",
       "      <td>space technology technology use outer space tr...</td>\n",
       "    </tr>\n",
       "    <tr>\n",
       "      <th>103</th>\n",
       "      <td>technology</td>\n",
       "      <td>A technology company (or tech company) is an e...</td>\n",
       "      <td>13</td>\n",
       "      <td>a technology company or tech company electroni...</td>\n",
       "    </tr>\n",
       "    <tr>\n",
       "      <th>104</th>\n",
       "      <td>technology</td>\n",
       "      <td>Agricultural technology or agrotechnology (abb...</td>\n",
       "      <td>13</td>\n",
       "      <td>agricultural technology agrotechnology abbrevi...</td>\n",
       "    </tr>\n",
       "  </tbody>\n",
       "</table>\n",
       "<p>105 rows × 4 columns</p>\n",
       "</div>"
      ],
      "text/plain": [
       "          class                                               text  class num  \\\n",
       "0         sport  Sport pertains to any form of competitive phys...          0   \n",
       "1         sport  Sport was an American sports magazine. Launche...          0   \n",
       "2         sport  Sport, Sport, Sport (Russian: Спорт, спорт, сп...          0   \n",
       "3         sport  Sport Lisboa e Benfica  (Portuguese pronunciat...          0   \n",
       "4         sport  Sport diving is an underwater sport that uses ...          0   \n",
       "..          ...                                                ...        ...   \n",
       "100  technology  Fintech a portmanteau of \"financial technology...         13   \n",
       "101  technology  TCL Technology (originally an abbreviation for...         13   \n",
       "102  technology  Space technology is technology for use in oute...         13   \n",
       "103  technology  A technology company (or tech company) is an e...         13   \n",
       "104  technology  Agricultural technology or agrotechnology (abb...         13   \n",
       "\n",
       "                                            clear text  \n",
       "0    sport pertains form competitive physical activ...  \n",
       "1    sport american sports magazine launched septem...  \n",
       "2    sport sport sport russian спорт спорт спорт 19...  \n",
       "3    sport lisboa e benfica portuguese pronunciatio...  \n",
       "4    sport diving underwater sport uses recreationa...  \n",
       "..                                                 ...  \n",
       "100  fintech portmanteau financial technology refer...  \n",
       "101  tcl technology originally abbreviation telepho...  \n",
       "102  space technology technology use outer space tr...  \n",
       "103  a technology company or tech company electroni...  \n",
       "104  agricultural technology agrotechnology abbrevi...  \n",
       "\n",
       "[105 rows x 4 columns]"
      ]
     },
     "execution_count": 24,
     "metadata": {},
     "output_type": "execute_result"
    }
   ],
   "source": [
    "df['clear text'] = new_text\n",
    "df"
   ]
  },
  {
   "cell_type": "code",
   "execution_count": null,
   "id": "df43b345",
   "metadata": {},
   "outputs": [],
   "source": []
  }
 ],
 "metadata": {
  "kernelspec": {
   "display_name": "Python 3",
   "language": "python",
   "name": "python3"
  },
  "language_info": {
   "codemirror_mode": {
    "name": "ipython",
    "version": 3
   },
   "file_extension": ".py",
   "mimetype": "text/x-python",
   "name": "python",
   "nbconvert_exporter": "python",
   "pygments_lexer": "ipython3",
   "version": "3.8.8"
  }
 },
 "nbformat": 4,
 "nbformat_minor": 5
}
