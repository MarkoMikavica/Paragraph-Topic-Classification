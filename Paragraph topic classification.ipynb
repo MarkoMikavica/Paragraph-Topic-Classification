{
 "cells": [
  {
   "cell_type": "code",
   "execution_count": 1,
   "id": "b5a0416f",
   "metadata": {},
   "outputs": [],
   "source": [
    "import wikipedia\n",
    "import wikipediaapi \n",
    "import datetime\n",
    "import pandas as pd\n",
    "import numpy as np\n",
    "from sklearn import feature_extraction\n",
    "from sklearn import model_selection\n",
    "import nltk\n",
    "from nltk import tokenize\n",
    "from nltk import word_tokenize, pos_tag\n",
    "import string\n",
    "from keras.preprocessing.text import Tokenizer\n",
    "from sklearn import svm\n",
    "from sklearn import multiclass\n",
    "from sklearn import metrics\n",
    "from tensorflow.keras.datasets import imdb\n",
    "from tensorflow.keras.preprocessing import sequence\n",
    "from tensorflow.keras.models import Sequential\n",
    "from tensorflow.keras.layers import Embedding, Dense, Flatten\n",
    "from tensorflow.keras.layers import Embedding, Conv1D, MaxPool1D, GlobalMaxPool1D, Dense\n",
    "from tensorflow.keras.losses import BinaryCrossentropy\n",
    "from tensorflow.keras.optimizers import Adam\n",
    "import matplotlib.pyplot as plt"
   ]
  },
  {
   "cell_type": "code",
   "execution_count": 2,
   "id": "c0089bd5",
   "metadata": {},
   "outputs": [],
   "source": [
    "classes = ['sport', 'economy', 'politics', 'health', 'tourism', \n",
    "           'entertainment', 'culture', 'music', 'education', \n",
    "           'real estate', 'nutrition', 'science', 'history', 'technology'\n",
    "          ]"
   ]
  },
  {
   "cell_type": "code",
   "execution_count": 3,
   "id": "983c6128",
   "metadata": {},
   "outputs": [],
   "source": [
    "def generate_data(classes, n):\n",
    "    data = [];\n",
    "    for i in classes:\n",
    "#         topics = wikipedia.search(i, results = n)\n",
    "#         for j in topics:\n",
    "#         print(classes)\n",
    "#         print(\"Class: \", i)\n",
    "        for j in list(wikipedia.search(i,results = n)):\n",
    "            wiki_wiki = wikipediaapi.Wikipedia('en')\n",
    "            page_py = wiki_wiki.page(j)\n",
    "            if(page_py.exists()):\n",
    "#                 print(\"Class: \", i)\n",
    "#                 print(\"Title: \", j)\n",
    "#                     print(\"Section: \", page_py.sections[0].title)\n",
    "#                     print(\"Text: \", page_py.text)\n",
    "                for k in page_py.categories:\n",
    "                    if i in k.lower(): \n",
    "#                         print(\"Class: \", i)\n",
    "                        data.append((i, page_py.summary))\n",
    "                        break\n",
    "            else:\n",
    "                continue\n",
    "    return data"
   ]
  },
  {
   "cell_type": "code",
   "execution_count": 5,
   "id": "46ee7ea9",
   "metadata": {},
   "outputs": [],
   "source": [
    "data = generate_data(classes, 10)"
   ]
  },
  {
   "cell_type": "code",
   "execution_count": 6,
   "id": "6e83d94b",
   "metadata": {},
   "outputs": [
    {
     "name": "stdout",
     "output_type": "stream",
     "text": [
      "sport 10\n",
      "economy 4\n",
      "politics 6\n",
      "health 7\n",
      "tourism 9\n",
      "entertainment 5\n",
      "culture 9\n",
      "music 7\n",
      "education 9\n",
      "real estate 9\n",
      "nutrition 8\n",
      "science 8\n",
      "history 6\n",
      "technology 8\n"
     ]
    }
   ],
   "source": [
    "for i in classes:\n",
    "    c = 0\n",
    "    for j in range(0, len(data)):\n",
    "        if(data[j][0] == i):\n",
    "            c = c + 1\n",
    "    print(\"%s %d\" %(i, c))"
   ]
  },
  {
   "cell_type": "code",
   "execution_count": 7,
   "id": "fdb7b7c7",
   "metadata": {},
   "outputs": [],
   "source": [
    "def create_data_csv_file(name, data):\n",
    "    name = name + '.csv'\n",
    "#         '_' + str(datetime.datetime.now()).replace(' ', '_').replace('.', '-').replace(':', '-') + \n",
    "#         '.csv'\n",
    "    sep = '<>'\n",
    "    cols = 'class' + sep + 'text\\n'\n",
    "    with open(name, 'w+', encoding='utf-8') as file:\n",
    "        file.write(cols)\n",
    "#         YELLOW,SMALL,STRETCH,ADULT,T\n",
    "        for i in range(0, len(data)):\n",
    "            line = data[i][0] + sep + data[i][1].replace('\\n', ' ')\n",
    "\n",
    "            file.write(line)\n",
    "            file.write('\\n')\n",
    "    file.close()\n",
    "            \n",
    "#     print(text)"
   ]
  },
  {
   "cell_type": "code",
   "execution_count": 9,
   "id": "14b59612",
   "metadata": {},
   "outputs": [],
   "source": [
    "# create_data_csv_file('data_10', data)"
   ]
  },
  {
   "cell_type": "code",
   "execution_count": 10,
   "id": "2c64ff78",
   "metadata": {},
   "outputs": [
    {
     "name": "stderr",
     "output_type": "stream",
     "text": [
      "<ipython-input-10-79470950938f>:1: ParserWarning: Falling back to the 'python' engine because the 'c' engine does not support regex separators (separators > 1 char and different from '\\s+' are interpreted as regex); you can avoid this warning by specifying engine='python'.\n",
      "  df = pd.read_csv('data_10.csv', sep = '<>')\n"
     ]
    },
    {
     "data": {
      "text/html": [
       "<div>\n",
       "<style scoped>\n",
       "    .dataframe tbody tr th:only-of-type {\n",
       "        vertical-align: middle;\n",
       "    }\n",
       "\n",
       "    .dataframe tbody tr th {\n",
       "        vertical-align: top;\n",
       "    }\n",
       "\n",
       "    .dataframe thead th {\n",
       "        text-align: right;\n",
       "    }\n",
       "</style>\n",
       "<table border=\"1\" class=\"dataframe\">\n",
       "  <thead>\n",
       "    <tr style=\"text-align: right;\">\n",
       "      <th></th>\n",
       "      <th>class</th>\n",
       "      <th>text</th>\n",
       "    </tr>\n",
       "  </thead>\n",
       "  <tbody>\n",
       "    <tr>\n",
       "      <th>0</th>\n",
       "      <td>sport</td>\n",
       "      <td>Sport pertains to any form of competitive phys...</td>\n",
       "    </tr>\n",
       "    <tr>\n",
       "      <th>1</th>\n",
       "      <td>sport</td>\n",
       "      <td>Sport was an American sports magazine. Launche...</td>\n",
       "    </tr>\n",
       "    <tr>\n",
       "      <th>2</th>\n",
       "      <td>sport</td>\n",
       "      <td>Sport, Sport, Sport (Russian: Спорт, спорт, сп...</td>\n",
       "    </tr>\n",
       "    <tr>\n",
       "      <th>3</th>\n",
       "      <td>sport</td>\n",
       "      <td>Sport Lisboa e Benfica  (Portuguese pronunciat...</td>\n",
       "    </tr>\n",
       "    <tr>\n",
       "      <th>4</th>\n",
       "      <td>sport</td>\n",
       "      <td>Sport diving is an underwater sport that uses ...</td>\n",
       "    </tr>\n",
       "    <tr>\n",
       "      <th>...</th>\n",
       "      <td>...</td>\n",
       "      <td>...</td>\n",
       "    </tr>\n",
       "    <tr>\n",
       "      <th>100</th>\n",
       "      <td>technology</td>\n",
       "      <td>Fintech a portmanteau of \"financial technology...</td>\n",
       "    </tr>\n",
       "    <tr>\n",
       "      <th>101</th>\n",
       "      <td>technology</td>\n",
       "      <td>TCL Technology (originally an abbreviation for...</td>\n",
       "    </tr>\n",
       "    <tr>\n",
       "      <th>102</th>\n",
       "      <td>technology</td>\n",
       "      <td>Space technology is technology for use in oute...</td>\n",
       "    </tr>\n",
       "    <tr>\n",
       "      <th>103</th>\n",
       "      <td>technology</td>\n",
       "      <td>A technology company (or tech company) is an e...</td>\n",
       "    </tr>\n",
       "    <tr>\n",
       "      <th>104</th>\n",
       "      <td>technology</td>\n",
       "      <td>Agricultural technology or agrotechnology (abb...</td>\n",
       "    </tr>\n",
       "  </tbody>\n",
       "</table>\n",
       "<p>105 rows × 2 columns</p>\n",
       "</div>"
      ],
      "text/plain": [
       "          class                                               text\n",
       "0         sport  Sport pertains to any form of competitive phys...\n",
       "1         sport  Sport was an American sports magazine. Launche...\n",
       "2         sport  Sport, Sport, Sport (Russian: Спорт, спорт, сп...\n",
       "3         sport  Sport Lisboa e Benfica  (Portuguese pronunciat...\n",
       "4         sport  Sport diving is an underwater sport that uses ...\n",
       "..          ...                                                ...\n",
       "100  technology  Fintech a portmanteau of \"financial technology...\n",
       "101  technology  TCL Technology (originally an abbreviation for...\n",
       "102  technology  Space technology is technology for use in oute...\n",
       "103  technology  A technology company (or tech company) is an e...\n",
       "104  technology  Agricultural technology or agrotechnology (abb...\n",
       "\n",
       "[105 rows x 2 columns]"
      ]
     },
     "execution_count": 10,
     "metadata": {},
     "output_type": "execute_result"
    }
   ],
   "source": [
    "df = pd.read_csv('data_10.csv', sep = '<>')\n",
    "df"
   ]
  },
  {
   "cell_type": "code",
   "execution_count": 11,
   "id": "da5fe213",
   "metadata": {},
   "outputs": [
    {
     "data": {
      "text/plain": [
       "sport            10\n",
       "education         9\n",
       "tourism           9\n",
       "real estate       9\n",
       "culture           9\n",
       "technology        8\n",
       "nutrition         8\n",
       "science           8\n",
       "music             7\n",
       "health            7\n",
       "politics          6\n",
       "history           6\n",
       "entertainment     5\n",
       "economy           4\n",
       "Name: class, dtype: int64"
      ]
     },
     "execution_count": 11,
     "metadata": {},
     "output_type": "execute_result"
    }
   ],
   "source": [
    "df['class'].value_counts()"
   ]
  },
  {
   "cell_type": "code",
   "execution_count": 12,
   "id": "0822a2d8",
   "metadata": {},
   "outputs": [
    {
     "name": "stderr",
     "output_type": "stream",
     "text": [
      "[nltk_data] Downloading package punkt to\n",
      "[nltk_data]     C:\\Users\\Palja\\AppData\\Roaming\\nltk_data...\n",
      "[nltk_data]   Package punkt is already up-to-date!\n"
     ]
    },
    {
     "data": {
      "text/plain": [
       "True"
      ]
     },
     "execution_count": 12,
     "metadata": {},
     "output_type": "execute_result"
    }
   ],
   "source": [
    "nltk.download('punkt')"
   ]
  },
  {
   "cell_type": "code",
   "execution_count": 13,
   "id": "4f9db13e",
   "metadata": {},
   "outputs": [],
   "source": [
    "dict_class_index = {\n",
    "    class_name: i for i, class_name in enumerate(df['class'].unique())\n",
    "}\n",
    "\n",
    "df['class num'] = df['class'].map(dict_class_index)"
   ]
  },
  {
   "cell_type": "code",
   "execution_count": 14,
   "id": "7c0c559e",
   "metadata": {},
   "outputs": [
    {
     "data": {
      "text/html": [
       "<div>\n",
       "<style scoped>\n",
       "    .dataframe tbody tr th:only-of-type {\n",
       "        vertical-align: middle;\n",
       "    }\n",
       "\n",
       "    .dataframe tbody tr th {\n",
       "        vertical-align: top;\n",
       "    }\n",
       "\n",
       "    .dataframe thead th {\n",
       "        text-align: right;\n",
       "    }\n",
       "</style>\n",
       "<table border=\"1\" class=\"dataframe\">\n",
       "  <thead>\n",
       "    <tr style=\"text-align: right;\">\n",
       "      <th></th>\n",
       "      <th>class</th>\n",
       "      <th>text</th>\n",
       "      <th>class num</th>\n",
       "    </tr>\n",
       "  </thead>\n",
       "  <tbody>\n",
       "    <tr>\n",
       "      <th>0</th>\n",
       "      <td>sport</td>\n",
       "      <td>Sport pertains to any form of competitive phys...</td>\n",
       "      <td>0</td>\n",
       "    </tr>\n",
       "    <tr>\n",
       "      <th>1</th>\n",
       "      <td>sport</td>\n",
       "      <td>Sport was an American sports magazine. Launche...</td>\n",
       "      <td>0</td>\n",
       "    </tr>\n",
       "    <tr>\n",
       "      <th>2</th>\n",
       "      <td>sport</td>\n",
       "      <td>Sport, Sport, Sport (Russian: Спорт, спорт, сп...</td>\n",
       "      <td>0</td>\n",
       "    </tr>\n",
       "    <tr>\n",
       "      <th>3</th>\n",
       "      <td>sport</td>\n",
       "      <td>Sport Lisboa e Benfica  (Portuguese pronunciat...</td>\n",
       "      <td>0</td>\n",
       "    </tr>\n",
       "    <tr>\n",
       "      <th>4</th>\n",
       "      <td>sport</td>\n",
       "      <td>Sport diving is an underwater sport that uses ...</td>\n",
       "      <td>0</td>\n",
       "    </tr>\n",
       "    <tr>\n",
       "      <th>...</th>\n",
       "      <td>...</td>\n",
       "      <td>...</td>\n",
       "      <td>...</td>\n",
       "    </tr>\n",
       "    <tr>\n",
       "      <th>100</th>\n",
       "      <td>technology</td>\n",
       "      <td>Fintech a portmanteau of \"financial technology...</td>\n",
       "      <td>13</td>\n",
       "    </tr>\n",
       "    <tr>\n",
       "      <th>101</th>\n",
       "      <td>technology</td>\n",
       "      <td>TCL Technology (originally an abbreviation for...</td>\n",
       "      <td>13</td>\n",
       "    </tr>\n",
       "    <tr>\n",
       "      <th>102</th>\n",
       "      <td>technology</td>\n",
       "      <td>Space technology is technology for use in oute...</td>\n",
       "      <td>13</td>\n",
       "    </tr>\n",
       "    <tr>\n",
       "      <th>103</th>\n",
       "      <td>technology</td>\n",
       "      <td>A technology company (or tech company) is an e...</td>\n",
       "      <td>13</td>\n",
       "    </tr>\n",
       "    <tr>\n",
       "      <th>104</th>\n",
       "      <td>technology</td>\n",
       "      <td>Agricultural technology or agrotechnology (abb...</td>\n",
       "      <td>13</td>\n",
       "    </tr>\n",
       "  </tbody>\n",
       "</table>\n",
       "<p>105 rows × 3 columns</p>\n",
       "</div>"
      ],
      "text/plain": [
       "          class                                               text  class num\n",
       "0         sport  Sport pertains to any form of competitive phys...          0\n",
       "1         sport  Sport was an American sports magazine. Launche...          0\n",
       "2         sport  Sport, Sport, Sport (Russian: Спорт, спорт, сп...          0\n",
       "3         sport  Sport Lisboa e Benfica  (Portuguese pronunciat...          0\n",
       "4         sport  Sport diving is an underwater sport that uses ...          0\n",
       "..          ...                                                ...        ...\n",
       "100  technology  Fintech a portmanteau of \"financial technology...         13\n",
       "101  technology  TCL Technology (originally an abbreviation for...         13\n",
       "102  technology  Space technology is technology for use in oute...         13\n",
       "103  technology  A technology company (or tech company) is an e...         13\n",
       "104  technology  Agricultural technology or agrotechnology (abb...         13\n",
       "\n",
       "[105 rows x 3 columns]"
      ]
     },
     "execution_count": 14,
     "metadata": {},
     "output_type": "execute_result"
    }
   ],
   "source": [
    "df"
   ]
  },
  {
   "cell_type": "code",
   "execution_count": 15,
   "id": "28e927e5",
   "metadata": {},
   "outputs": [
    {
     "data": {
      "text/plain": [
       "{'sport': 0,\n",
       " 'economy': 1,\n",
       " 'politics': 2,\n",
       " 'health': 3,\n",
       " 'tourism': 4,\n",
       " 'entertainment': 5,\n",
       " 'culture': 6,\n",
       " 'music': 7,\n",
       " 'education': 8,\n",
       " 'real estate': 9,\n",
       " 'nutrition': 10,\n",
       " 'science': 11,\n",
       " 'history': 12,\n",
       " 'technology': 13}"
      ]
     },
     "execution_count": 15,
     "metadata": {},
     "output_type": "execute_result"
    }
   ],
   "source": [
    "dict_class_index"
   ]
  },
  {
   "cell_type": "code",
   "execution_count": 20,
   "id": "2e71682a",
   "metadata": {},
   "outputs": [
    {
     "name": "stdout",
     "output_type": "stream",
     "text": [
      "['a', 'about', 'above', 'across', 'after', 'afterwards', 'again', 'against', 'all', 'almost', 'alone', 'along', 'already', 'also', 'although', 'always', 'am', 'among', 'amongst', 'amount', 'an', 'and', 'another', 'any', 'anyhow', 'anyone', 'anything', 'anyway', 'anywhere', 'are', 'around', 'as', 'at', 'back', 'be', 'became', 'because', 'become', 'becomes', 'becoming', 'been', 'before', 'beforehand', 'behind', 'being', 'below', 'beside', 'besides', 'between', 'beyond', 'both', 'bottom', 'but', 'by', 'ca', 'call', 'can', 'cannot', 'could', 'did', 'do', 'does', 'doing', 'done', 'down', 'due', 'during', 'each', 'eight', 'either', 'eleven', 'else', 'elsewhere', 'empty', 'enough', 'even', 'ever', 'every', 'everyone', 'everything', 'everywhere', 'except', 'few', 'fifteen', 'fifty', 'first', 'five', 'for', 'former', 'formerly', 'forty', 'four', 'from', 'front', 'full', 'further', 'get', 'give', 'go', 'had', 'has', 'have', 'he', 'hence', 'her', 'here', 'hereafter', 'hereby', 'herein', 'hereupon', 'hers', 'herself', 'him', 'himself', 'his', 'how', 'however', 'hundred', 'i', 'if', 'in', 'indeed', 'into', 'is', 'it', 'its', 'itself', 'just', 'keep', 'last', 'latter', 'latterly', 'least', 'less', 'made', 'make', 'many', 'may', 'me', 'meanwhile', 'might', 'mine', 'more', 'moreover', 'most', 'mostly', 'move', 'much', 'must', 'my', 'myself', 'name', 'namely', 'neither', 'never', 'nevertheless', 'next', 'nine', 'no', 'nobody', 'none', 'noone', 'nor', 'not', 'nothing', 'now', 'nowhere', 'of', 'off', 'often', 'on', 'once', 'one', 'only', 'onto', 'or', 'other', 'others', 'otherwise', 'our', 'ours', 'ourselves', 'out', 'over', 'own', 'part', 'per', 'perhaps', 'please', 'put', 'quite', 'rather', 're', 'really', 'regarding', 'same', 'say', 'see', 'seem', 'seemed', 'seeming', 'seems', 'serious', 'several', 'she', 'should', 'show', 'side', 'since', 'six', 'sixty', 'so', 'some', 'somehow', 'someone', 'something', 'sometime', 'sometimes', 'somewhere', 'still', 'such', 'take', 'ten', 'than', 'that', 'the', 'their', 'them', 'themselves', 'then', 'thence', 'there', 'thereafter', 'thereby', 'therefore', 'therein', 'thereupon', 'these', 'they', 'third', 'this', 'those', 'though', 'three', 'through', 'throughout', 'thru', 'thus', 'to', 'together', 'too', 'top', 'toward', 'towards', 'twelve', 'twenty', 'two', 'under', 'unless', 'until', 'up', 'upon', 'us', 'used', 'using', 'various', 'very', 'via', 'was', 'we', 'well', 'were', 'what', 'whatever', 'when', 'whence', 'whenever', 'where', 'whereafter', 'whereas', 'whereby', 'wherein', 'whereupon', 'wherever', 'whether', 'which', 'while', 'whither', 'who', 'whoever', 'whole', 'whom', 'whose', 'why', 'will', 'with', 'within', 'without', 'would', 'yet', 'you', 'your', 'yours', 'yourself', 'yourselves']\n"
     ]
    }
   ],
   "source": [
    "import advertools as adv\n",
    "stop_words = sorted(adv.stopwords['english'])\n",
    "print(stop_words)"
   ]
  },
  {
   "cell_type": "code",
   "execution_count": 21,
   "id": "9a4fbcf3",
   "metadata": {},
   "outputs": [],
   "source": [
    "def clear_text(text):\n",
    "    new_text = text.apply(lambda x: ' '.join([word for word in x.split() if word not in stop_words])).str.lower()\n",
    "    new_text = new_text.replace(r'[^\\w\\s]+', '', regex=True)\n",
    "    return new_text"
   ]
  },
  {
   "cell_type": "code",
   "execution_count": 22,
   "id": "06e801ed",
   "metadata": {},
   "outputs": [],
   "source": [
    "new_text = clear_text(df['text'])"
   ]
  },
  {
   "cell_type": "code",
   "execution_count": 24,
   "id": "02f07315",
   "metadata": {},
   "outputs": [
    {
     "data": {
      "text/html": [
       "<div>\n",
       "<style scoped>\n",
       "    .dataframe tbody tr th:only-of-type {\n",
       "        vertical-align: middle;\n",
       "    }\n",
       "\n",
       "    .dataframe tbody tr th {\n",
       "        vertical-align: top;\n",
       "    }\n",
       "\n",
       "    .dataframe thead th {\n",
       "        text-align: right;\n",
       "    }\n",
       "</style>\n",
       "<table border=\"1\" class=\"dataframe\">\n",
       "  <thead>\n",
       "    <tr style=\"text-align: right;\">\n",
       "      <th></th>\n",
       "      <th>class</th>\n",
       "      <th>text</th>\n",
       "      <th>class num</th>\n",
       "      <th>clear text</th>\n",
       "    </tr>\n",
       "  </thead>\n",
       "  <tbody>\n",
       "    <tr>\n",
       "      <th>0</th>\n",
       "      <td>sport</td>\n",
       "      <td>Sport pertains to any form of competitive phys...</td>\n",
       "      <td>0</td>\n",
       "      <td>sport pertains form competitive physical activ...</td>\n",
       "    </tr>\n",
       "    <tr>\n",
       "      <th>1</th>\n",
       "      <td>sport</td>\n",
       "      <td>Sport was an American sports magazine. Launche...</td>\n",
       "      <td>0</td>\n",
       "      <td>sport american sports magazine launched septem...</td>\n",
       "    </tr>\n",
       "    <tr>\n",
       "      <th>2</th>\n",
       "      <td>sport</td>\n",
       "      <td>Sport, Sport, Sport (Russian: Спорт, спорт, сп...</td>\n",
       "      <td>0</td>\n",
       "      <td>sport sport sport russian спорт спорт спорт 19...</td>\n",
       "    </tr>\n",
       "    <tr>\n",
       "      <th>3</th>\n",
       "      <td>sport</td>\n",
       "      <td>Sport Lisboa e Benfica  (Portuguese pronunciat...</td>\n",
       "      <td>0</td>\n",
       "      <td>sport lisboa e benfica portuguese pronunciatio...</td>\n",
       "    </tr>\n",
       "    <tr>\n",
       "      <th>4</th>\n",
       "      <td>sport</td>\n",
       "      <td>Sport diving is an underwater sport that uses ...</td>\n",
       "      <td>0</td>\n",
       "      <td>sport diving underwater sport uses recreationa...</td>\n",
       "    </tr>\n",
       "    <tr>\n",
       "      <th>...</th>\n",
       "      <td>...</td>\n",
       "      <td>...</td>\n",
       "      <td>...</td>\n",
       "      <td>...</td>\n",
       "    </tr>\n",
       "    <tr>\n",
       "      <th>100</th>\n",
       "      <td>technology</td>\n",
       "      <td>Fintech a portmanteau of \"financial technology...</td>\n",
       "      <td>13</td>\n",
       "      <td>fintech portmanteau financial technology refer...</td>\n",
       "    </tr>\n",
       "    <tr>\n",
       "      <th>101</th>\n",
       "      <td>technology</td>\n",
       "      <td>TCL Technology (originally an abbreviation for...</td>\n",
       "      <td>13</td>\n",
       "      <td>tcl technology originally abbreviation telepho...</td>\n",
       "    </tr>\n",
       "    <tr>\n",
       "      <th>102</th>\n",
       "      <td>technology</td>\n",
       "      <td>Space technology is technology for use in oute...</td>\n",
       "      <td>13</td>\n",
       "      <td>space technology technology use outer space tr...</td>\n",
       "    </tr>\n",
       "    <tr>\n",
       "      <th>103</th>\n",
       "      <td>technology</td>\n",
       "      <td>A technology company (or tech company) is an e...</td>\n",
       "      <td>13</td>\n",
       "      <td>a technology company or tech company electroni...</td>\n",
       "    </tr>\n",
       "    <tr>\n",
       "      <th>104</th>\n",
       "      <td>technology</td>\n",
       "      <td>Agricultural technology or agrotechnology (abb...</td>\n",
       "      <td>13</td>\n",
       "      <td>agricultural technology agrotechnology abbrevi...</td>\n",
       "    </tr>\n",
       "  </tbody>\n",
       "</table>\n",
       "<p>105 rows × 4 columns</p>\n",
       "</div>"
      ],
      "text/plain": [
       "          class                                               text  class num  \\\n",
       "0         sport  Sport pertains to any form of competitive phys...          0   \n",
       "1         sport  Sport was an American sports magazine. Launche...          0   \n",
       "2         sport  Sport, Sport, Sport (Russian: Спорт, спорт, сп...          0   \n",
       "3         sport  Sport Lisboa e Benfica  (Portuguese pronunciat...          0   \n",
       "4         sport  Sport diving is an underwater sport that uses ...          0   \n",
       "..          ...                                                ...        ...   \n",
       "100  technology  Fintech a portmanteau of \"financial technology...         13   \n",
       "101  technology  TCL Technology (originally an abbreviation for...         13   \n",
       "102  technology  Space technology is technology for use in oute...         13   \n",
       "103  technology  A technology company (or tech company) is an e...         13   \n",
       "104  technology  Agricultural technology or agrotechnology (abb...         13   \n",
       "\n",
       "                                            clear text  \n",
       "0    sport pertains form competitive physical activ...  \n",
       "1    sport american sports magazine launched septem...  \n",
       "2    sport sport sport russian спорт спорт спорт 19...  \n",
       "3    sport lisboa e benfica portuguese pronunciatio...  \n",
       "4    sport diving underwater sport uses recreationa...  \n",
       "..                                                 ...  \n",
       "100  fintech portmanteau financial technology refer...  \n",
       "101  tcl technology originally abbreviation telepho...  \n",
       "102  space technology technology use outer space tr...  \n",
       "103  a technology company or tech company electroni...  \n",
       "104  agricultural technology agrotechnology abbrevi...  \n",
       "\n",
       "[105 rows x 4 columns]"
      ]
     },
     "execution_count": 24,
     "metadata": {},
     "output_type": "execute_result"
    }
   ],
   "source": [
    "df['clear text'] = new_text\n",
    "df"
   ]
  },
  {
   "cell_type": "code",
   "execution_count": 25,
   "id": "16f0dce9",
   "metadata": {},
   "outputs": [],
   "source": [
    "newest_text = []\n",
    "for i in range(0, len(df)):\n",
    "    newest_text.append(word_tokenize(df['clear text'][i]))"
   ]
  },
  {
   "cell_type": "code",
   "execution_count": 26,
   "id": "3998404f",
   "metadata": {},
   "outputs": [
    {
     "name": "stderr",
     "output_type": "stream",
     "text": [
      "[nltk_data] Downloading package averaged_perceptron_tagger to\n",
      "[nltk_data]     C:\\Users\\Palja\\AppData\\Roaming\\nltk_data...\n",
      "[nltk_data]   Package averaged_perceptron_tagger is already up-to-\n",
      "[nltk_data]       date!\n"
     ]
    },
    {
     "data": {
      "text/plain": [
       "True"
      ]
     },
     "execution_count": 26,
     "metadata": {},
     "output_type": "execute_result"
    }
   ],
   "source": [
    "nltk.download('averaged_perceptron_tagger')"
   ]
  },
  {
   "cell_type": "code",
   "execution_count": 27,
   "id": "c83c2131",
   "metadata": {},
   "outputs": [
    {
     "name": "stderr",
     "output_type": "stream",
     "text": [
      "[nltk_data] Downloading package wordnet to\n",
      "[nltk_data]     C:\\Users\\Palja\\AppData\\Roaming\\nltk_data...\n",
      "[nltk_data]   Package wordnet is already up-to-date!\n"
     ]
    },
    {
     "data": {
      "text/plain": [
       "True"
      ]
     },
     "execution_count": 27,
     "metadata": {},
     "output_type": "execute_result"
    }
   ],
   "source": [
    "nltk.download('wordnet')"
   ]
  },
  {
   "cell_type": "code",
   "execution_count": 28,
   "id": "1882eef9",
   "metadata": {},
   "outputs": [],
   "source": [
    "def my_lemmitezer(text):\n",
    "    return pos_tag(word_tokenize(text))"
   ]
  },
  {
   "cell_type": "code",
   "execution_count": 29,
   "id": "3c0cf977",
   "metadata": {},
   "outputs": [],
   "source": [
    "tokenized_lemmitzed_text = []\n",
    "for i in range(0, len(df)):\n",
    "    tokenized_lemmitzed_text.append(my_lemmitezer(df['clear text'][i]))"
   ]
  },
  {
   "cell_type": "code",
   "execution_count": 30,
   "id": "9f3ce546",
   "metadata": {},
   "outputs": [],
   "source": [
    "df['tokenized lemmitzed text'] = tokenized_lemmitzed_text"
   ]
  },
  {
   "cell_type": "code",
   "execution_count": 31,
   "id": "d06434f4",
   "metadata": {},
   "outputs": [],
   "source": [
    "stemmer = nltk.stem.PorterStemmer()"
   ]
  },
  {
   "cell_type": "code",
   "execution_count": 32,
   "id": "9c4ea937",
   "metadata": {},
   "outputs": [],
   "source": [
    "def my_stemmer(text):\n",
    "    tokenized_stemmed_text = []\n",
    "    tokens = word_tokenize(text)\n",
    "    for token in tokens:\n",
    "        tokenized_stemmed_text.append(stemmer.stem(token))\n",
    "    return tokenized_stemmed_text"
   ]
  },
  {
   "cell_type": "code",
   "execution_count": 33,
   "id": "248fc4dc",
   "metadata": {},
   "outputs": [],
   "source": [
    "tokenized_stemmed_text = []\n",
    "for i in range(0, len(df)):\n",
    "    tokenized_stemmed_text.append(my_stemmer(df['clear text'][i]))"
   ]
  },
  {
   "cell_type": "code",
   "execution_count": 34,
   "id": "a10a3388",
   "metadata": {},
   "outputs": [],
   "source": [
    "df['tokenized stemmed text'] = tokenized_stemmed_text\n",
    "# df['tokenized stemmed text'] = df['tokenized stemmed text'].str.join(' ')"
   ]
  },
  {
   "cell_type": "code",
   "execution_count": 35,
   "id": "16c8ebb8",
   "metadata": {},
   "outputs": [
    {
     "data": {
      "text/plain": [
       "0      sport pertains form competitive physical activ...\n",
       "1      sport american sports magazine launched septem...\n",
       "2      sport sport sport russian спорт спорт спорт 19...\n",
       "3      sport lisboa e benfica portuguese pronunciatio...\n",
       "4      sport diving underwater sport uses recreationa...\n",
       "                             ...                        \n",
       "100    fintech portmanteau financial technology refer...\n",
       "101    tcl technology originally abbreviation telepho...\n",
       "102    space technology technology use outer space tr...\n",
       "103    a technology company or tech company electroni...\n",
       "104    agricultural technology agrotechnology abbrevi...\n",
       "Name: clear text, Length: 105, dtype: object"
      ]
     },
     "execution_count": 35,
     "metadata": {},
     "output_type": "execute_result"
    }
   ],
   "source": [
    "x = df['clear text']\n",
    "x"
   ]
  },
  {
   "cell_type": "code",
   "execution_count": 36,
   "id": "d4fb029d",
   "metadata": {},
   "outputs": [
    {
     "data": {
      "text/plain": [
       "0       0\n",
       "1       0\n",
       "2       0\n",
       "3       0\n",
       "4       0\n",
       "       ..\n",
       "100    13\n",
       "101    13\n",
       "102    13\n",
       "103    13\n",
       "104    13\n",
       "Name: class num, Length: 105, dtype: int64"
      ]
     },
     "execution_count": 36,
     "metadata": {},
     "output_type": "execute_result"
    }
   ],
   "source": [
    "y = df['class num']\n",
    "y"
   ]
  },
  {
   "cell_type": "code",
   "execution_count": 37,
   "id": "5248a7c1",
   "metadata": {},
   "outputs": [],
   "source": [
    "x_tr, x_ft, y_tr, y_ft = model_selection.train_test_split(x, y, test_size=0.2, stratify=y)"
   ]
  },
  {
   "cell_type": "code",
   "execution_count": 38,
   "id": "9718e76e",
   "metadata": {},
   "outputs": [
    {
     "data": {
      "text/plain": [
       "100    fintech portmanteau financial technology refer...\n",
       "86     social science branches science devoted study ...\n",
       "9      bbc sport sports division bbc providing nation...\n",
       "11     the economy india middle income developing mar...\n",
       "72     real estate appraisal property valuation land ...\n",
       "                             ...                        \n",
       "64     sex education known sexual education sexuality...\n",
       "98     information technology it use computers create...\n",
       "97     technologies artifacts systematic application ...\n",
       "27     tourism travel pleasure business theory practi...\n",
       "56     sony music entertainment sme known simply sony...\n",
       "Name: clear text, Length: 84, dtype: object"
      ]
     },
     "execution_count": 38,
     "metadata": {},
     "output_type": "execute_result"
    }
   ],
   "source": [
    "x_tr"
   ]
  },
  {
   "cell_type": "code",
   "execution_count": 39,
   "id": "2afeeb2e",
   "metadata": {},
   "outputs": [],
   "source": [
    "x_train, x_test, y_train, y_test = model_selection.train_test_split(x_tr, y_tr, test_size=0.3, stratify=y_tr, random_state=5)"
   ]
  },
  {
   "cell_type": "code",
   "execution_count": 40,
   "id": "2e98ffb9",
   "metadata": {},
   "outputs": [],
   "source": [
    "count_vectorizer_t = feature_extraction.text.TfidfVectorizer()"
   ]
  },
  {
   "cell_type": "code",
   "execution_count": 41,
   "id": "c2c6eba8",
   "metadata": {},
   "outputs": [
    {
     "data": {
      "text/html": [
       "<style>#sk-container-id-1 {color: black;background-color: white;}#sk-container-id-1 pre{padding: 0;}#sk-container-id-1 div.sk-toggleable {background-color: white;}#sk-container-id-1 label.sk-toggleable__label {cursor: pointer;display: block;width: 100%;margin-bottom: 0;padding: 0.3em;box-sizing: border-box;text-align: center;}#sk-container-id-1 label.sk-toggleable__label-arrow:before {content: \"▸\";float: left;margin-right: 0.25em;color: #696969;}#sk-container-id-1 label.sk-toggleable__label-arrow:hover:before {color: black;}#sk-container-id-1 div.sk-estimator:hover label.sk-toggleable__label-arrow:before {color: black;}#sk-container-id-1 div.sk-toggleable__content {max-height: 0;max-width: 0;overflow: hidden;text-align: left;background-color: #f0f8ff;}#sk-container-id-1 div.sk-toggleable__content pre {margin: 0.2em;color: black;border-radius: 0.25em;background-color: #f0f8ff;}#sk-container-id-1 input.sk-toggleable__control:checked~div.sk-toggleable__content {max-height: 200px;max-width: 100%;overflow: auto;}#sk-container-id-1 input.sk-toggleable__control:checked~label.sk-toggleable__label-arrow:before {content: \"▾\";}#sk-container-id-1 div.sk-estimator input.sk-toggleable__control:checked~label.sk-toggleable__label {background-color: #d4ebff;}#sk-container-id-1 div.sk-label input.sk-toggleable__control:checked~label.sk-toggleable__label {background-color: #d4ebff;}#sk-container-id-1 input.sk-hidden--visually {border: 0;clip: rect(1px 1px 1px 1px);clip: rect(1px, 1px, 1px, 1px);height: 1px;margin: -1px;overflow: hidden;padding: 0;position: absolute;width: 1px;}#sk-container-id-1 div.sk-estimator {font-family: monospace;background-color: #f0f8ff;border: 1px dotted black;border-radius: 0.25em;box-sizing: border-box;margin-bottom: 0.5em;}#sk-container-id-1 div.sk-estimator:hover {background-color: #d4ebff;}#sk-container-id-1 div.sk-parallel-item::after {content: \"\";width: 100%;border-bottom: 1px solid gray;flex-grow: 1;}#sk-container-id-1 div.sk-label:hover label.sk-toggleable__label {background-color: #d4ebff;}#sk-container-id-1 div.sk-serial::before {content: \"\";position: absolute;border-left: 1px solid gray;box-sizing: border-box;top: 0;bottom: 0;left: 50%;z-index: 0;}#sk-container-id-1 div.sk-serial {display: flex;flex-direction: column;align-items: center;background-color: white;padding-right: 0.2em;padding-left: 0.2em;position: relative;}#sk-container-id-1 div.sk-item {position: relative;z-index: 1;}#sk-container-id-1 div.sk-parallel {display: flex;align-items: stretch;justify-content: center;background-color: white;position: relative;}#sk-container-id-1 div.sk-item::before, #sk-container-id-1 div.sk-parallel-item::before {content: \"\";position: absolute;border-left: 1px solid gray;box-sizing: border-box;top: 0;bottom: 0;left: 50%;z-index: -1;}#sk-container-id-1 div.sk-parallel-item {display: flex;flex-direction: column;z-index: 1;position: relative;background-color: white;}#sk-container-id-1 div.sk-parallel-item:first-child::after {align-self: flex-end;width: 50%;}#sk-container-id-1 div.sk-parallel-item:last-child::after {align-self: flex-start;width: 50%;}#sk-container-id-1 div.sk-parallel-item:only-child::after {width: 0;}#sk-container-id-1 div.sk-dashed-wrapped {border: 1px dashed gray;margin: 0 0.4em 0.5em 0.4em;box-sizing: border-box;padding-bottom: 0.4em;background-color: white;}#sk-container-id-1 div.sk-label label {font-family: monospace;font-weight: bold;display: inline-block;line-height: 1.2em;}#sk-container-id-1 div.sk-label-container {text-align: center;}#sk-container-id-1 div.sk-container {/* jupyter's `normalize.less` sets `[hidden] { display: none; }` but bootstrap.min.css set `[hidden] { display: none !important; }` so we also need the `!important` here to be able to override the default hidden behavior on the sphinx rendered scikit-learn.org. See: https://github.com/scikit-learn/scikit-learn/issues/21755 */display: inline-block !important;position: relative;}#sk-container-id-1 div.sk-text-repr-fallback {display: none;}</style><div id=\"sk-container-id-1\" class=\"sk-top-container\"><div class=\"sk-text-repr-fallback\"><pre>TfidfVectorizer()</pre><b>In a Jupyter environment, please rerun this cell to show the HTML representation or trust the notebook. <br />On GitHub, the HTML representation is unable to render, please try loading this page with nbviewer.org.</b></div><div class=\"sk-container\" hidden><div class=\"sk-item\"><div class=\"sk-estimator sk-toggleable\"><input class=\"sk-toggleable__control sk-hidden--visually\" id=\"sk-estimator-id-1\" type=\"checkbox\" checked><label for=\"sk-estimator-id-1\" class=\"sk-toggleable__label sk-toggleable__label-arrow\">TfidfVectorizer</label><div class=\"sk-toggleable__content\"><pre>TfidfVectorizer()</pre></div></div></div></div></div>"
      ],
      "text/plain": [
       "TfidfVectorizer()"
      ]
     },
     "execution_count": 41,
     "metadata": {},
     "output_type": "execute_result"
    }
   ],
   "source": [
    "count_vectorizer_t.fit(x_train)"
   ]
  },
  {
   "cell_type": "code",
   "execution_count": 42,
   "id": "257aee23",
   "metadata": {},
   "outputs": [],
   "source": [
    "x_train_t_tfidf = count_vectorizer_t.transform(x_train)\n",
    "x_test_t_tfidf = count_vectorizer_t.transform(x_test)"
   ]
  },
  {
   "cell_type": "code",
   "execution_count": 43,
   "id": "079a4168",
   "metadata": {},
   "outputs": [],
   "source": [
    "model = svm.LinearSVC(max_iter=100000)"
   ]
  },
  {
   "cell_type": "code",
   "execution_count": 44,
   "id": "304fd759",
   "metadata": {},
   "outputs": [],
   "source": [
    "model_t = multiclass.OneVsRestClassifier(model)"
   ]
  },
  {
   "cell_type": "code",
   "execution_count": 45,
   "id": "86ebd79f",
   "metadata": {},
   "outputs": [
    {
     "data": {
      "text/html": [
       "<style>#sk-container-id-2 {color: black;background-color: white;}#sk-container-id-2 pre{padding: 0;}#sk-container-id-2 div.sk-toggleable {background-color: white;}#sk-container-id-2 label.sk-toggleable__label {cursor: pointer;display: block;width: 100%;margin-bottom: 0;padding: 0.3em;box-sizing: border-box;text-align: center;}#sk-container-id-2 label.sk-toggleable__label-arrow:before {content: \"▸\";float: left;margin-right: 0.25em;color: #696969;}#sk-container-id-2 label.sk-toggleable__label-arrow:hover:before {color: black;}#sk-container-id-2 div.sk-estimator:hover label.sk-toggleable__label-arrow:before {color: black;}#sk-container-id-2 div.sk-toggleable__content {max-height: 0;max-width: 0;overflow: hidden;text-align: left;background-color: #f0f8ff;}#sk-container-id-2 div.sk-toggleable__content pre {margin: 0.2em;color: black;border-radius: 0.25em;background-color: #f0f8ff;}#sk-container-id-2 input.sk-toggleable__control:checked~div.sk-toggleable__content {max-height: 200px;max-width: 100%;overflow: auto;}#sk-container-id-2 input.sk-toggleable__control:checked~label.sk-toggleable__label-arrow:before {content: \"▾\";}#sk-container-id-2 div.sk-estimator input.sk-toggleable__control:checked~label.sk-toggleable__label {background-color: #d4ebff;}#sk-container-id-2 div.sk-label input.sk-toggleable__control:checked~label.sk-toggleable__label {background-color: #d4ebff;}#sk-container-id-2 input.sk-hidden--visually {border: 0;clip: rect(1px 1px 1px 1px);clip: rect(1px, 1px, 1px, 1px);height: 1px;margin: -1px;overflow: hidden;padding: 0;position: absolute;width: 1px;}#sk-container-id-2 div.sk-estimator {font-family: monospace;background-color: #f0f8ff;border: 1px dotted black;border-radius: 0.25em;box-sizing: border-box;margin-bottom: 0.5em;}#sk-container-id-2 div.sk-estimator:hover {background-color: #d4ebff;}#sk-container-id-2 div.sk-parallel-item::after {content: \"\";width: 100%;border-bottom: 1px solid gray;flex-grow: 1;}#sk-container-id-2 div.sk-label:hover label.sk-toggleable__label {background-color: #d4ebff;}#sk-container-id-2 div.sk-serial::before {content: \"\";position: absolute;border-left: 1px solid gray;box-sizing: border-box;top: 0;bottom: 0;left: 50%;z-index: 0;}#sk-container-id-2 div.sk-serial {display: flex;flex-direction: column;align-items: center;background-color: white;padding-right: 0.2em;padding-left: 0.2em;position: relative;}#sk-container-id-2 div.sk-item {position: relative;z-index: 1;}#sk-container-id-2 div.sk-parallel {display: flex;align-items: stretch;justify-content: center;background-color: white;position: relative;}#sk-container-id-2 div.sk-item::before, #sk-container-id-2 div.sk-parallel-item::before {content: \"\";position: absolute;border-left: 1px solid gray;box-sizing: border-box;top: 0;bottom: 0;left: 50%;z-index: -1;}#sk-container-id-2 div.sk-parallel-item {display: flex;flex-direction: column;z-index: 1;position: relative;background-color: white;}#sk-container-id-2 div.sk-parallel-item:first-child::after {align-self: flex-end;width: 50%;}#sk-container-id-2 div.sk-parallel-item:last-child::after {align-self: flex-start;width: 50%;}#sk-container-id-2 div.sk-parallel-item:only-child::after {width: 0;}#sk-container-id-2 div.sk-dashed-wrapped {border: 1px dashed gray;margin: 0 0.4em 0.5em 0.4em;box-sizing: border-box;padding-bottom: 0.4em;background-color: white;}#sk-container-id-2 div.sk-label label {font-family: monospace;font-weight: bold;display: inline-block;line-height: 1.2em;}#sk-container-id-2 div.sk-label-container {text-align: center;}#sk-container-id-2 div.sk-container {/* jupyter's `normalize.less` sets `[hidden] { display: none; }` but bootstrap.min.css set `[hidden] { display: none !important; }` so we also need the `!important` here to be able to override the default hidden behavior on the sphinx rendered scikit-learn.org. See: https://github.com/scikit-learn/scikit-learn/issues/21755 */display: inline-block !important;position: relative;}#sk-container-id-2 div.sk-text-repr-fallback {display: none;}</style><div id=\"sk-container-id-2\" class=\"sk-top-container\"><div class=\"sk-text-repr-fallback\"><pre>OneVsRestClassifier(estimator=LinearSVC(max_iter=100000))</pre><b>In a Jupyter environment, please rerun this cell to show the HTML representation or trust the notebook. <br />On GitHub, the HTML representation is unable to render, please try loading this page with nbviewer.org.</b></div><div class=\"sk-container\" hidden><div class=\"sk-item sk-dashed-wrapped\"><div class=\"sk-label-container\"><div class=\"sk-label sk-toggleable\"><input class=\"sk-toggleable__control sk-hidden--visually\" id=\"sk-estimator-id-2\" type=\"checkbox\" ><label for=\"sk-estimator-id-2\" class=\"sk-toggleable__label sk-toggleable__label-arrow\">OneVsRestClassifier</label><div class=\"sk-toggleable__content\"><pre>OneVsRestClassifier(estimator=LinearSVC(max_iter=100000))</pre></div></div></div><div class=\"sk-parallel\"><div class=\"sk-parallel-item\"><div class=\"sk-item\"><div class=\"sk-label-container\"><div class=\"sk-label sk-toggleable\"><input class=\"sk-toggleable__control sk-hidden--visually\" id=\"sk-estimator-id-3\" type=\"checkbox\" ><label for=\"sk-estimator-id-3\" class=\"sk-toggleable__label sk-toggleable__label-arrow\">estimator: LinearSVC</label><div class=\"sk-toggleable__content\"><pre>LinearSVC(max_iter=100000)</pre></div></div></div><div class=\"sk-serial\"><div class=\"sk-item\"><div class=\"sk-estimator sk-toggleable\"><input class=\"sk-toggleable__control sk-hidden--visually\" id=\"sk-estimator-id-4\" type=\"checkbox\" ><label for=\"sk-estimator-id-4\" class=\"sk-toggleable__label sk-toggleable__label-arrow\">LinearSVC</label><div class=\"sk-toggleable__content\"><pre>LinearSVC(max_iter=100000)</pre></div></div></div></div></div></div></div></div></div></div>"
      ],
      "text/plain": [
       "OneVsRestClassifier(estimator=LinearSVC(max_iter=100000))"
      ]
     },
     "execution_count": 45,
     "metadata": {},
     "output_type": "execute_result"
    }
   ],
   "source": [
    "model_t.fit(x_train_t_tfidf, y_train)"
   ]
  },
  {
   "cell_type": "code",
   "execution_count": 46,
   "id": "e88cf2dc",
   "metadata": {},
   "outputs": [],
   "source": [
    "y_test_predicted_t = model_t.predict(x_test_t_tfidf)"
   ]
  },
  {
   "cell_type": "code",
   "execution_count": 47,
   "id": "76536eeb",
   "metadata": {},
   "outputs": [
    {
     "data": {
      "text/html": [
       "<div>\n",
       "<style scoped>\n",
       "    .dataframe tbody tr th:only-of-type {\n",
       "        vertical-align: middle;\n",
       "    }\n",
       "\n",
       "    .dataframe tbody tr th {\n",
       "        vertical-align: top;\n",
       "    }\n",
       "\n",
       "    .dataframe thead th {\n",
       "        text-align: right;\n",
       "    }\n",
       "</style>\n",
       "<table border=\"1\" class=\"dataframe\">\n",
       "  <thead>\n",
       "    <tr style=\"text-align: right;\">\n",
       "      <th></th>\n",
       "      <th>sport</th>\n",
       "      <th>economy</th>\n",
       "      <th>politics</th>\n",
       "      <th>health</th>\n",
       "      <th>tourism</th>\n",
       "      <th>entertainment</th>\n",
       "      <th>culture</th>\n",
       "      <th>music</th>\n",
       "      <th>education</th>\n",
       "      <th>real estate</th>\n",
       "      <th>nutrition</th>\n",
       "      <th>science</th>\n",
       "      <th>history</th>\n",
       "      <th>technology</th>\n",
       "    </tr>\n",
       "  </thead>\n",
       "  <tbody>\n",
       "    <tr>\n",
       "      <th>sport</th>\n",
       "      <td>2</td>\n",
       "      <td>0</td>\n",
       "      <td>0</td>\n",
       "      <td>0</td>\n",
       "      <td>0</td>\n",
       "      <td>0</td>\n",
       "      <td>0</td>\n",
       "      <td>0</td>\n",
       "      <td>0</td>\n",
       "      <td>0</td>\n",
       "      <td>0</td>\n",
       "      <td>0</td>\n",
       "      <td>0</td>\n",
       "      <td>0</td>\n",
       "    </tr>\n",
       "    <tr>\n",
       "      <th>economy</th>\n",
       "      <td>0</td>\n",
       "      <td>1</td>\n",
       "      <td>0</td>\n",
       "      <td>0</td>\n",
       "      <td>0</td>\n",
       "      <td>0</td>\n",
       "      <td>0</td>\n",
       "      <td>0</td>\n",
       "      <td>0</td>\n",
       "      <td>0</td>\n",
       "      <td>0</td>\n",
       "      <td>0</td>\n",
       "      <td>0</td>\n",
       "      <td>0</td>\n",
       "    </tr>\n",
       "    <tr>\n",
       "      <th>politics</th>\n",
       "      <td>0</td>\n",
       "      <td>0</td>\n",
       "      <td>2</td>\n",
       "      <td>0</td>\n",
       "      <td>0</td>\n",
       "      <td>0</td>\n",
       "      <td>0</td>\n",
       "      <td>0</td>\n",
       "      <td>0</td>\n",
       "      <td>0</td>\n",
       "      <td>0</td>\n",
       "      <td>0</td>\n",
       "      <td>0</td>\n",
       "      <td>0</td>\n",
       "    </tr>\n",
       "    <tr>\n",
       "      <th>health</th>\n",
       "      <td>0</td>\n",
       "      <td>0</td>\n",
       "      <td>0</td>\n",
       "      <td>2</td>\n",
       "      <td>0</td>\n",
       "      <td>0</td>\n",
       "      <td>0</td>\n",
       "      <td>0</td>\n",
       "      <td>0</td>\n",
       "      <td>0</td>\n",
       "      <td>0</td>\n",
       "      <td>0</td>\n",
       "      <td>0</td>\n",
       "      <td>0</td>\n",
       "    </tr>\n",
       "    <tr>\n",
       "      <th>tourism</th>\n",
       "      <td>0</td>\n",
       "      <td>0</td>\n",
       "      <td>0</td>\n",
       "      <td>0</td>\n",
       "      <td>2</td>\n",
       "      <td>0</td>\n",
       "      <td>0</td>\n",
       "      <td>0</td>\n",
       "      <td>0</td>\n",
       "      <td>0</td>\n",
       "      <td>0</td>\n",
       "      <td>0</td>\n",
       "      <td>0</td>\n",
       "      <td>0</td>\n",
       "    </tr>\n",
       "    <tr>\n",
       "      <th>entertainment</th>\n",
       "      <td>0</td>\n",
       "      <td>0</td>\n",
       "      <td>0</td>\n",
       "      <td>0</td>\n",
       "      <td>0</td>\n",
       "      <td>1</td>\n",
       "      <td>0</td>\n",
       "      <td>0</td>\n",
       "      <td>0</td>\n",
       "      <td>0</td>\n",
       "      <td>0</td>\n",
       "      <td>0</td>\n",
       "      <td>0</td>\n",
       "      <td>0</td>\n",
       "    </tr>\n",
       "    <tr>\n",
       "      <th>culture</th>\n",
       "      <td>0</td>\n",
       "      <td>0</td>\n",
       "      <td>0</td>\n",
       "      <td>0</td>\n",
       "      <td>0</td>\n",
       "      <td>0</td>\n",
       "      <td>1</td>\n",
       "      <td>1</td>\n",
       "      <td>0</td>\n",
       "      <td>0</td>\n",
       "      <td>0</td>\n",
       "      <td>0</td>\n",
       "      <td>0</td>\n",
       "      <td>0</td>\n",
       "    </tr>\n",
       "    <tr>\n",
       "      <th>music</th>\n",
       "      <td>0</td>\n",
       "      <td>0</td>\n",
       "      <td>0</td>\n",
       "      <td>0</td>\n",
       "      <td>0</td>\n",
       "      <td>0</td>\n",
       "      <td>0</td>\n",
       "      <td>2</td>\n",
       "      <td>0</td>\n",
       "      <td>0</td>\n",
       "      <td>0</td>\n",
       "      <td>0</td>\n",
       "      <td>0</td>\n",
       "      <td>0</td>\n",
       "    </tr>\n",
       "    <tr>\n",
       "      <th>education</th>\n",
       "      <td>0</td>\n",
       "      <td>0</td>\n",
       "      <td>0</td>\n",
       "      <td>0</td>\n",
       "      <td>0</td>\n",
       "      <td>0</td>\n",
       "      <td>0</td>\n",
       "      <td>0</td>\n",
       "      <td>2</td>\n",
       "      <td>0</td>\n",
       "      <td>0</td>\n",
       "      <td>0</td>\n",
       "      <td>0</td>\n",
       "      <td>0</td>\n",
       "    </tr>\n",
       "    <tr>\n",
       "      <th>real estate</th>\n",
       "      <td>0</td>\n",
       "      <td>0</td>\n",
       "      <td>0</td>\n",
       "      <td>0</td>\n",
       "      <td>0</td>\n",
       "      <td>0</td>\n",
       "      <td>0</td>\n",
       "      <td>0</td>\n",
       "      <td>0</td>\n",
       "      <td>2</td>\n",
       "      <td>0</td>\n",
       "      <td>0</td>\n",
       "      <td>0</td>\n",
       "      <td>0</td>\n",
       "    </tr>\n",
       "    <tr>\n",
       "      <th>nutrition</th>\n",
       "      <td>0</td>\n",
       "      <td>0</td>\n",
       "      <td>0</td>\n",
       "      <td>1</td>\n",
       "      <td>0</td>\n",
       "      <td>0</td>\n",
       "      <td>0</td>\n",
       "      <td>0</td>\n",
       "      <td>0</td>\n",
       "      <td>0</td>\n",
       "      <td>1</td>\n",
       "      <td>0</td>\n",
       "      <td>0</td>\n",
       "      <td>0</td>\n",
       "    </tr>\n",
       "    <tr>\n",
       "      <th>science</th>\n",
       "      <td>0</td>\n",
       "      <td>0</td>\n",
       "      <td>0</td>\n",
       "      <td>0</td>\n",
       "      <td>0</td>\n",
       "      <td>0</td>\n",
       "      <td>0</td>\n",
       "      <td>0</td>\n",
       "      <td>0</td>\n",
       "      <td>0</td>\n",
       "      <td>0</td>\n",
       "      <td>1</td>\n",
       "      <td>0</td>\n",
       "      <td>1</td>\n",
       "    </tr>\n",
       "    <tr>\n",
       "      <th>history</th>\n",
       "      <td>0</td>\n",
       "      <td>0</td>\n",
       "      <td>0</td>\n",
       "      <td>0</td>\n",
       "      <td>0</td>\n",
       "      <td>0</td>\n",
       "      <td>1</td>\n",
       "      <td>0</td>\n",
       "      <td>0</td>\n",
       "      <td>0</td>\n",
       "      <td>0</td>\n",
       "      <td>0</td>\n",
       "      <td>1</td>\n",
       "      <td>0</td>\n",
       "    </tr>\n",
       "    <tr>\n",
       "      <th>technology</th>\n",
       "      <td>0</td>\n",
       "      <td>0</td>\n",
       "      <td>0</td>\n",
       "      <td>0</td>\n",
       "      <td>0</td>\n",
       "      <td>0</td>\n",
       "      <td>0</td>\n",
       "      <td>0</td>\n",
       "      <td>0</td>\n",
       "      <td>0</td>\n",
       "      <td>0</td>\n",
       "      <td>0</td>\n",
       "      <td>0</td>\n",
       "      <td>2</td>\n",
       "    </tr>\n",
       "  </tbody>\n",
       "</table>\n",
       "</div>"
      ],
      "text/plain": [
       "               sport  economy  politics  health  tourism  entertainment  \\\n",
       "sport              2        0         0       0        0              0   \n",
       "economy            0        1         0       0        0              0   \n",
       "politics           0        0         2       0        0              0   \n",
       "health             0        0         0       2        0              0   \n",
       "tourism            0        0         0       0        2              0   \n",
       "entertainment      0        0         0       0        0              1   \n",
       "culture            0        0         0       0        0              0   \n",
       "music              0        0         0       0        0              0   \n",
       "education          0        0         0       0        0              0   \n",
       "real estate        0        0         0       0        0              0   \n",
       "nutrition          0        0         0       1        0              0   \n",
       "science            0        0         0       0        0              0   \n",
       "history            0        0         0       0        0              0   \n",
       "technology         0        0         0       0        0              0   \n",
       "\n",
       "               culture  music  education  real estate  nutrition  science  \\\n",
       "sport                0      0          0            0          0        0   \n",
       "economy              0      0          0            0          0        0   \n",
       "politics             0      0          0            0          0        0   \n",
       "health               0      0          0            0          0        0   \n",
       "tourism              0      0          0            0          0        0   \n",
       "entertainment        0      0          0            0          0        0   \n",
       "culture              1      1          0            0          0        0   \n",
       "music                0      2          0            0          0        0   \n",
       "education            0      0          2            0          0        0   \n",
       "real estate          0      0          0            2          0        0   \n",
       "nutrition            0      0          0            0          1        0   \n",
       "science              0      0          0            0          0        1   \n",
       "history              1      0          0            0          0        0   \n",
       "technology           0      0          0            0          0        0   \n",
       "\n",
       "               history  technology  \n",
       "sport                0           0  \n",
       "economy              0           0  \n",
       "politics             0           0  \n",
       "health               0           0  \n",
       "tourism              0           0  \n",
       "entertainment        0           0  \n",
       "culture              0           0  \n",
       "music                0           0  \n",
       "education            0           0  \n",
       "real estate          0           0  \n",
       "nutrition            0           0  \n",
       "science              0           1  \n",
       "history              1           0  \n",
       "technology           0           2  "
      ]
     },
     "execution_count": 47,
     "metadata": {},
     "output_type": "execute_result"
    }
   ],
   "source": [
    "cm = pd.DataFrame(metrics.confusion_matrix(y_test, y_test_predicted_t), columns=df['class'].unique(), index=df['class'].unique())\n",
    "cm"
   ]
  },
  {
   "cell_type": "code",
   "execution_count": 48,
   "id": "c6998778",
   "metadata": {},
   "outputs": [
    {
     "name": "stdout",
     "output_type": "stream",
     "text": [
      "              precision    recall  f1-score   support\n",
      "\n",
      "           0       1.00      1.00      1.00         2\n",
      "           1       1.00      1.00      1.00         1\n",
      "           2       1.00      1.00      1.00         2\n",
      "           3       0.67      1.00      0.80         2\n",
      "           4       1.00      1.00      1.00         2\n",
      "           5       1.00      1.00      1.00         1\n",
      "           6       0.50      0.50      0.50         2\n",
      "           7       0.67      1.00      0.80         2\n",
      "           8       1.00      1.00      1.00         2\n",
      "           9       1.00      1.00      1.00         2\n",
      "          10       1.00      0.50      0.67         2\n",
      "          11       1.00      0.50      0.67         2\n",
      "          12       1.00      0.50      0.67         2\n",
      "          13       0.67      1.00      0.80         2\n",
      "\n",
      "    accuracy                           0.85        26\n",
      "   macro avg       0.89      0.86      0.85        26\n",
      "weighted avg       0.88      0.85      0.84        26\n",
      "\n"
     ]
    }
   ],
   "source": [
    "print(metrics.classification_report(y_test, y_test_predicted_t))"
   ]
  },
  {
   "cell_type": "code",
   "execution_count": 49,
   "id": "a235f5e4",
   "metadata": {},
   "outputs": [
    {
     "data": {
      "text/plain": [
       "0.8499999999999999"
      ]
     },
     "execution_count": 49,
     "metadata": {},
     "output_type": "execute_result"
    }
   ],
   "source": [
    "metrics.f1_score(y_test, y_test_predicted_t, average='macro')"
   ]
  },
  {
   "cell_type": "code",
   "execution_count": null,
   "id": "72ac3af8",
   "metadata": {},
   "outputs": [],
   "source": []
  }
 ],
 "metadata": {
  "kernelspec": {
   "display_name": "Python 3",
   "language": "python",
   "name": "python3"
  },
  "language_info": {
   "codemirror_mode": {
    "name": "ipython",
    "version": 3
   },
   "file_extension": ".py",
   "mimetype": "text/x-python",
   "name": "python",
   "nbconvert_exporter": "python",
   "pygments_lexer": "ipython3",
   "version": "3.8.8"
  }
 },
 "nbformat": 4,
 "nbformat_minor": 5
}
