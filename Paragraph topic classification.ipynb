{
  "cells": [
    {
      "cell_type": "code",
      "source": [
        "!pip install wikipedia"
      ],
      "metadata": {
        "colab": {
          "base_uri": "https://localhost:8080/"
        },
        "id": "qLGIO88pxp_H",
        "outputId": "ea3a71f9-e2b3-4fd0-d87c-0dfa74bbdb53"
      },
      "id": "qLGIO88pxp_H",
      "execution_count": 1,
      "outputs": [
        {
          "output_type": "stream",
          "name": "stdout",
          "text": [
            "Looking in indexes: https://pypi.org/simple, https://us-python.pkg.dev/colab-wheels/public/simple/\n",
            "Collecting wikipedia\n",
            "  Downloading wikipedia-1.4.0.tar.gz (27 kB)\n",
            "Requirement already satisfied: beautifulsoup4 in /usr/local/lib/python3.7/dist-packages (from wikipedia) (4.6.3)\n",
            "Requirement already satisfied: requests<3.0.0,>=2.0.0 in /usr/local/lib/python3.7/dist-packages (from wikipedia) (2.23.0)\n",
            "Requirement already satisfied: certifi>=2017.4.17 in /usr/local/lib/python3.7/dist-packages (from requests<3.0.0,>=2.0.0->wikipedia) (2022.6.15)\n",
            "Requirement already satisfied: urllib3!=1.25.0,!=1.25.1,<1.26,>=1.21.1 in /usr/local/lib/python3.7/dist-packages (from requests<3.0.0,>=2.0.0->wikipedia) (1.24.3)\n",
            "Requirement already satisfied: chardet<4,>=3.0.2 in /usr/local/lib/python3.7/dist-packages (from requests<3.0.0,>=2.0.0->wikipedia) (3.0.4)\n",
            "Requirement already satisfied: idna<3,>=2.5 in /usr/local/lib/python3.7/dist-packages (from requests<3.0.0,>=2.0.0->wikipedia) (2.10)\n",
            "Building wheels for collected packages: wikipedia\n",
            "  Building wheel for wikipedia (setup.py) ... \u001b[?25l\u001b[?25hdone\n",
            "  Created wheel for wikipedia: filename=wikipedia-1.4.0-py3-none-any.whl size=11695 sha256=75256f83f0f392d5dd7ba6b1895da7031019bdc6a9878b4fe6473145411cad85\n",
            "  Stored in directory: /root/.cache/pip/wheels/15/93/6d/5b2c68b8a64c7a7a04947b4ed6d89fb557dcc6bc27d1d7f3ba\n",
            "Successfully built wikipedia\n",
            "Installing collected packages: wikipedia\n",
            "Successfully installed wikipedia-1.4.0\n"
          ]
        }
      ]
    },
    {
      "cell_type": "code",
      "execution_count": 89,
      "id": "30988ca8",
      "metadata": {
        "id": "30988ca8"
      },
      "outputs": [],
      "source": [
        "import wikipedia\n",
        "# import wikipediaapi \n",
        "import datetime\n",
        "import pandas as pd\n",
        "import numpy as np\n",
        "from sklearn import feature_extraction\n",
        "from sklearn import model_selection\n",
        "import nltk\n",
        "from nltk import tokenize\n",
        "from nltk import word_tokenize, pos_tag\n",
        "import string\n",
        "from keras.preprocessing.text import Tokenizer\n",
        "from sklearn import svm\n",
        "from sklearn import multiclass\n",
        "from sklearn import metrics\n",
        "from tensorflow.keras.datasets import imdb\n",
        "from tensorflow.keras.preprocessing import sequence\n",
        "from tensorflow.keras.models import Sequential\n",
        "from tensorflow.keras.layers import Embedding, Dense, Flatten\n",
        "from tensorflow.keras.layers import Embedding, Conv1D, MaxPool1D, GlobalMaxPool1D, Dense\n",
        "from tensorflow.keras.losses import BinaryCrossentropy\n",
        "from tensorflow.keras.optimizers import Adam\n",
        "import matplotlib.pyplot as plt\n",
        "from tensorflow.keras import utils"
      ]
    },
    {
      "cell_type": "code",
      "execution_count": 3,
      "id": "9dba27a7",
      "metadata": {
        "id": "9dba27a7"
      },
      "outputs": [],
      "source": [
        "classes = ['sport', 'economy', 'politics', 'health', 'tourism', \n",
        "           'entertainment', 'culture', 'music', 'education', \n",
        "           'real estate', 'nutrition', 'science', 'history', 'technology'\n",
        "          ]"
      ]
    },
    {
      "cell_type": "code",
      "execution_count": 4,
      "id": "514ed559",
      "metadata": {
        "id": "514ed559"
      },
      "outputs": [],
      "source": [
        "def generate_data(classes, n):\n",
        "    data = [];\n",
        "    for i in classes:\n",
        "#         topics = wikipedia.search(i, results = n)\n",
        "#         for j in topics:\n",
        "#         print(classes)\n",
        "#         print(\"Class: \", i)\n",
        "        for j in list(wikipedia.search(i,results = n)):\n",
        "            wiki_wiki = wikipediaapi.Wikipedia('en')\n",
        "            page_py = wiki_wiki.page(j)\n",
        "            if(page_py.exists()):\n",
        "#                 print(\"Class: \", i)\n",
        "#                 print(\"Title: \", j)\n",
        "#                     print(\"Section: \", page_py.sections[0].title)\n",
        "#                     print(\"Text: \", page_py.text)\n",
        "                for k in page_py.categories:\n",
        "                    if i in k.lower(): \n",
        "#                         print(\"Class: \", i)\n",
        "                        data.append((i, page_py.summary))\n",
        "                        break\n",
        "            else:\n",
        "                continue\n",
        "    return data"
      ]
    },
    {
      "cell_type": "code",
      "execution_count": 5,
      "id": "1e769b6f",
      "metadata": {
        "id": "1e769b6f"
      },
      "outputs": [],
      "source": [
        "# data = generate_data(classes, 10)"
      ]
    },
    {
      "cell_type": "code",
      "execution_count": 6,
      "id": "de782fcc",
      "metadata": {
        "id": "de782fcc"
      },
      "outputs": [],
      "source": [
        "# for i in classes:\n",
        "#     c = 0\n",
        "#     for j in range(0, len(data)):\n",
        "#         if(data[j][0] == i):\n",
        "#             c = c + 1\n",
        "#     print(\"%s %d\" %(i, c))"
      ]
    },
    {
      "cell_type": "code",
      "execution_count": 7,
      "id": "e0b7afbf",
      "metadata": {
        "id": "e0b7afbf"
      },
      "outputs": [],
      "source": [
        "def create_data_csv_file(name, data):\n",
        "    name = name + '.csv'\n",
        "#         '_' + str(datetime.datetime.now()).replace(' ', '_').replace('.', '-').replace(':', '-') + \n",
        "#         '.csv'\n",
        "    sep = '<>'\n",
        "    cols = 'class' + sep + 'text\\n'\n",
        "    with open(name, 'w+', encoding='utf-8') as file:\n",
        "        file.write(cols)\n",
        "#         YELLOW,SMALL,STRETCH,ADULT,T\n",
        "        for i in range(0, len(data)):\n",
        "            line = data[i][0] + sep + data[i][1].replace('\\n', ' ')\n",
        "\n",
        "            file.write(line)\n",
        "            file.write('\\n')\n",
        "    file.close()\n",
        "            \n",
        "#     print(text)"
      ]
    },
    {
      "cell_type": "code",
      "execution_count": 8,
      "id": "f41f93bc",
      "metadata": {
        "id": "f41f93bc"
      },
      "outputs": [],
      "source": [
        "# create_data_csv_file('data_10', data)"
      ]
    },
    {
      "cell_type": "code",
      "execution_count": 9,
      "id": "d972ed0e",
      "metadata": {
        "colab": {
          "base_uri": "https://localhost:8080/",
          "height": 478
        },
        "id": "d972ed0e",
        "outputId": "8cb49f7f-01c3-47d6-8b1c-4a5226b03a9d"
      },
      "outputs": [
        {
          "output_type": "stream",
          "name": "stderr",
          "text": [
            "/usr/local/lib/python3.7/dist-packages/pandas/util/_decorators.py:311: ParserWarning: Falling back to the 'python' engine because the 'c' engine does not support regex separators (separators > 1 char and different from '\\s+' are interpreted as regex); you can avoid this warning by specifying engine='python'.\n",
            "  return func(*args, **kwargs)\n"
          ]
        },
        {
          "output_type": "execute_result",
          "data": {
            "text/plain": [
              "          class                                               text\n",
              "0         sport  Sport pertains to any form of competitive phys...\n",
              "1         sport  Sport was an American sports magazine. Launche...\n",
              "2         sport  Sport, Sport, Sport (Russian: Спорт, спорт, сп...\n",
              "3         sport  Sport Lisboa e Benfica  (Portuguese pronunciat...\n",
              "4         sport  Sport diving is an underwater sport that uses ...\n",
              "..          ...                                                ...\n",
              "100  technology  Fintech a portmanteau of \"financial technology...\n",
              "101  technology  TCL Technology (originally an abbreviation for...\n",
              "102  technology  Space technology is technology for use in oute...\n",
              "103  technology  A technology company (or tech company) is an e...\n",
              "104  technology  Agricultural technology or agrotechnology (abb...\n",
              "\n",
              "[105 rows x 2 columns]"
            ],
            "text/html": [
              "\n",
              "  <div id=\"df-e7738cb0-f350-4484-90a7-d4c852780fb5\">\n",
              "    <div class=\"colab-df-container\">\n",
              "      <div>\n",
              "<style scoped>\n",
              "    .dataframe tbody tr th:only-of-type {\n",
              "        vertical-align: middle;\n",
              "    }\n",
              "\n",
              "    .dataframe tbody tr th {\n",
              "        vertical-align: top;\n",
              "    }\n",
              "\n",
              "    .dataframe thead th {\n",
              "        text-align: right;\n",
              "    }\n",
              "</style>\n",
              "<table border=\"1\" class=\"dataframe\">\n",
              "  <thead>\n",
              "    <tr style=\"text-align: right;\">\n",
              "      <th></th>\n",
              "      <th>class</th>\n",
              "      <th>text</th>\n",
              "    </tr>\n",
              "  </thead>\n",
              "  <tbody>\n",
              "    <tr>\n",
              "      <th>0</th>\n",
              "      <td>sport</td>\n",
              "      <td>Sport pertains to any form of competitive phys...</td>\n",
              "    </tr>\n",
              "    <tr>\n",
              "      <th>1</th>\n",
              "      <td>sport</td>\n",
              "      <td>Sport was an American sports magazine. Launche...</td>\n",
              "    </tr>\n",
              "    <tr>\n",
              "      <th>2</th>\n",
              "      <td>sport</td>\n",
              "      <td>Sport, Sport, Sport (Russian: Спорт, спорт, сп...</td>\n",
              "    </tr>\n",
              "    <tr>\n",
              "      <th>3</th>\n",
              "      <td>sport</td>\n",
              "      <td>Sport Lisboa e Benfica  (Portuguese pronunciat...</td>\n",
              "    </tr>\n",
              "    <tr>\n",
              "      <th>4</th>\n",
              "      <td>sport</td>\n",
              "      <td>Sport diving is an underwater sport that uses ...</td>\n",
              "    </tr>\n",
              "    <tr>\n",
              "      <th>...</th>\n",
              "      <td>...</td>\n",
              "      <td>...</td>\n",
              "    </tr>\n",
              "    <tr>\n",
              "      <th>100</th>\n",
              "      <td>technology</td>\n",
              "      <td>Fintech a portmanteau of \"financial technology...</td>\n",
              "    </tr>\n",
              "    <tr>\n",
              "      <th>101</th>\n",
              "      <td>technology</td>\n",
              "      <td>TCL Technology (originally an abbreviation for...</td>\n",
              "    </tr>\n",
              "    <tr>\n",
              "      <th>102</th>\n",
              "      <td>technology</td>\n",
              "      <td>Space technology is technology for use in oute...</td>\n",
              "    </tr>\n",
              "    <tr>\n",
              "      <th>103</th>\n",
              "      <td>technology</td>\n",
              "      <td>A technology company (or tech company) is an e...</td>\n",
              "    </tr>\n",
              "    <tr>\n",
              "      <th>104</th>\n",
              "      <td>technology</td>\n",
              "      <td>Agricultural technology or agrotechnology (abb...</td>\n",
              "    </tr>\n",
              "  </tbody>\n",
              "</table>\n",
              "<p>105 rows × 2 columns</p>\n",
              "</div>\n",
              "      <button class=\"colab-df-convert\" onclick=\"convertToInteractive('df-e7738cb0-f350-4484-90a7-d4c852780fb5')\"\n",
              "              title=\"Convert this dataframe to an interactive table.\"\n",
              "              style=\"display:none;\">\n",
              "        \n",
              "  <svg xmlns=\"http://www.w3.org/2000/svg\" height=\"24px\"viewBox=\"0 0 24 24\"\n",
              "       width=\"24px\">\n",
              "    <path d=\"M0 0h24v24H0V0z\" fill=\"none\"/>\n",
              "    <path d=\"M18.56 5.44l.94 2.06.94-2.06 2.06-.94-2.06-.94-.94-2.06-.94 2.06-2.06.94zm-11 1L8.5 8.5l.94-2.06 2.06-.94-2.06-.94L8.5 2.5l-.94 2.06-2.06.94zm10 10l.94 2.06.94-2.06 2.06-.94-2.06-.94-.94-2.06-.94 2.06-2.06.94z\"/><path d=\"M17.41 7.96l-1.37-1.37c-.4-.4-.92-.59-1.43-.59-.52 0-1.04.2-1.43.59L10.3 9.45l-7.72 7.72c-.78.78-.78 2.05 0 2.83L4 21.41c.39.39.9.59 1.41.59.51 0 1.02-.2 1.41-.59l7.78-7.78 2.81-2.81c.8-.78.8-2.07 0-2.86zM5.41 20L4 18.59l7.72-7.72 1.47 1.35L5.41 20z\"/>\n",
              "  </svg>\n",
              "      </button>\n",
              "      \n",
              "  <style>\n",
              "    .colab-df-container {\n",
              "      display:flex;\n",
              "      flex-wrap:wrap;\n",
              "      gap: 12px;\n",
              "    }\n",
              "\n",
              "    .colab-df-convert {\n",
              "      background-color: #E8F0FE;\n",
              "      border: none;\n",
              "      border-radius: 50%;\n",
              "      cursor: pointer;\n",
              "      display: none;\n",
              "      fill: #1967D2;\n",
              "      height: 32px;\n",
              "      padding: 0 0 0 0;\n",
              "      width: 32px;\n",
              "    }\n",
              "\n",
              "    .colab-df-convert:hover {\n",
              "      background-color: #E2EBFA;\n",
              "      box-shadow: 0px 1px 2px rgba(60, 64, 67, 0.3), 0px 1px 3px 1px rgba(60, 64, 67, 0.15);\n",
              "      fill: #174EA6;\n",
              "    }\n",
              "\n",
              "    [theme=dark] .colab-df-convert {\n",
              "      background-color: #3B4455;\n",
              "      fill: #D2E3FC;\n",
              "    }\n",
              "\n",
              "    [theme=dark] .colab-df-convert:hover {\n",
              "      background-color: #434B5C;\n",
              "      box-shadow: 0px 1px 3px 1px rgba(0, 0, 0, 0.15);\n",
              "      filter: drop-shadow(0px 1px 2px rgba(0, 0, 0, 0.3));\n",
              "      fill: #FFFFFF;\n",
              "    }\n",
              "  </style>\n",
              "\n",
              "      <script>\n",
              "        const buttonEl =\n",
              "          document.querySelector('#df-e7738cb0-f350-4484-90a7-d4c852780fb5 button.colab-df-convert');\n",
              "        buttonEl.style.display =\n",
              "          google.colab.kernel.accessAllowed ? 'block' : 'none';\n",
              "\n",
              "        async function convertToInteractive(key) {\n",
              "          const element = document.querySelector('#df-e7738cb0-f350-4484-90a7-d4c852780fb5');\n",
              "          const dataTable =\n",
              "            await google.colab.kernel.invokeFunction('convertToInteractive',\n",
              "                                                     [key], {});\n",
              "          if (!dataTable) return;\n",
              "\n",
              "          const docLinkHtml = 'Like what you see? Visit the ' +\n",
              "            '<a target=\"_blank\" href=https://colab.research.google.com/notebooks/data_table.ipynb>data table notebook</a>'\n",
              "            + ' to learn more about interactive tables.';\n",
              "          element.innerHTML = '';\n",
              "          dataTable['output_type'] = 'display_data';\n",
              "          await google.colab.output.renderOutput(dataTable, element);\n",
              "          const docLink = document.createElement('div');\n",
              "          docLink.innerHTML = docLinkHtml;\n",
              "          element.appendChild(docLink);\n",
              "        }\n",
              "      </script>\n",
              "    </div>\n",
              "  </div>\n",
              "  "
            ]
          },
          "metadata": {},
          "execution_count": 9
        }
      ],
      "source": [
        "df = pd.read_csv('data_10.csv', sep = '<>')\n",
        "df"
      ]
    },
    {
      "cell_type": "code",
      "execution_count": 10,
      "id": "ac2514ae",
      "metadata": {
        "colab": {
          "base_uri": "https://localhost:8080/"
        },
        "id": "ac2514ae",
        "outputId": "dd7b9df3-f2bd-4322-918f-7412bae10ec2"
      },
      "outputs": [
        {
          "output_type": "execute_result",
          "data": {
            "text/plain": [
              "sport            10\n",
              "tourism           9\n",
              "culture           9\n",
              "education         9\n",
              "real estate       9\n",
              "nutrition         8\n",
              "science           8\n",
              "technology        8\n",
              "health            7\n",
              "music             7\n",
              "politics          6\n",
              "history           6\n",
              "entertainment     5\n",
              "economy           4\n",
              "Name: class, dtype: int64"
            ]
          },
          "metadata": {},
          "execution_count": 10
        }
      ],
      "source": [
        "df['class'].value_counts()"
      ]
    },
    {
      "cell_type": "code",
      "execution_count": 11,
      "id": "c8a998eb",
      "metadata": {
        "colab": {
          "base_uri": "https://localhost:8080/"
        },
        "id": "c8a998eb",
        "outputId": "50ca5270-68f1-4ebd-f3fa-02055ed0e3eb"
      },
      "outputs": [
        {
          "output_type": "stream",
          "name": "stderr",
          "text": [
            "[nltk_data] Downloading package punkt to /root/nltk_data...\n",
            "[nltk_data]   Unzipping tokenizers/punkt.zip.\n"
          ]
        },
        {
          "output_type": "execute_result",
          "data": {
            "text/plain": [
              "True"
            ]
          },
          "metadata": {},
          "execution_count": 11
        }
      ],
      "source": [
        "nltk.download('punkt')"
      ]
    },
    {
      "cell_type": "code",
      "execution_count": 12,
      "id": "c83fe692",
      "metadata": {
        "id": "c83fe692"
      },
      "outputs": [],
      "source": [
        "dict_class_index = {\n",
        "    class_name: i for i, class_name in enumerate(df['class'].unique())\n",
        "}\n",
        "\n",
        "df['class num'] = df['class'].map(dict_class_index)"
      ]
    },
    {
      "cell_type": "code",
      "execution_count": 13,
      "id": "46bf5c29",
      "metadata": {
        "colab": {
          "base_uri": "https://localhost:8080/",
          "height": 424
        },
        "id": "46bf5c29",
        "outputId": "3d951d5b-0f0d-4ab8-e21d-c729e89eb1c2"
      },
      "outputs": [
        {
          "output_type": "execute_result",
          "data": {
            "text/plain": [
              "          class                                               text  class num\n",
              "0         sport  Sport pertains to any form of competitive phys...          0\n",
              "1         sport  Sport was an American sports magazine. Launche...          0\n",
              "2         sport  Sport, Sport, Sport (Russian: Спорт, спорт, сп...          0\n",
              "3         sport  Sport Lisboa e Benfica  (Portuguese pronunciat...          0\n",
              "4         sport  Sport diving is an underwater sport that uses ...          0\n",
              "..          ...                                                ...        ...\n",
              "100  technology  Fintech a portmanteau of \"financial technology...         13\n",
              "101  technology  TCL Technology (originally an abbreviation for...         13\n",
              "102  technology  Space technology is technology for use in oute...         13\n",
              "103  technology  A technology company (or tech company) is an e...         13\n",
              "104  technology  Agricultural technology or agrotechnology (abb...         13\n",
              "\n",
              "[105 rows x 3 columns]"
            ],
            "text/html": [
              "\n",
              "  <div id=\"df-f1f0490e-2853-466f-9cd8-9ceafe46cb75\">\n",
              "    <div class=\"colab-df-container\">\n",
              "      <div>\n",
              "<style scoped>\n",
              "    .dataframe tbody tr th:only-of-type {\n",
              "        vertical-align: middle;\n",
              "    }\n",
              "\n",
              "    .dataframe tbody tr th {\n",
              "        vertical-align: top;\n",
              "    }\n",
              "\n",
              "    .dataframe thead th {\n",
              "        text-align: right;\n",
              "    }\n",
              "</style>\n",
              "<table border=\"1\" class=\"dataframe\">\n",
              "  <thead>\n",
              "    <tr style=\"text-align: right;\">\n",
              "      <th></th>\n",
              "      <th>class</th>\n",
              "      <th>text</th>\n",
              "      <th>class num</th>\n",
              "    </tr>\n",
              "  </thead>\n",
              "  <tbody>\n",
              "    <tr>\n",
              "      <th>0</th>\n",
              "      <td>sport</td>\n",
              "      <td>Sport pertains to any form of competitive phys...</td>\n",
              "      <td>0</td>\n",
              "    </tr>\n",
              "    <tr>\n",
              "      <th>1</th>\n",
              "      <td>sport</td>\n",
              "      <td>Sport was an American sports magazine. Launche...</td>\n",
              "      <td>0</td>\n",
              "    </tr>\n",
              "    <tr>\n",
              "      <th>2</th>\n",
              "      <td>sport</td>\n",
              "      <td>Sport, Sport, Sport (Russian: Спорт, спорт, сп...</td>\n",
              "      <td>0</td>\n",
              "    </tr>\n",
              "    <tr>\n",
              "      <th>3</th>\n",
              "      <td>sport</td>\n",
              "      <td>Sport Lisboa e Benfica  (Portuguese pronunciat...</td>\n",
              "      <td>0</td>\n",
              "    </tr>\n",
              "    <tr>\n",
              "      <th>4</th>\n",
              "      <td>sport</td>\n",
              "      <td>Sport diving is an underwater sport that uses ...</td>\n",
              "      <td>0</td>\n",
              "    </tr>\n",
              "    <tr>\n",
              "      <th>...</th>\n",
              "      <td>...</td>\n",
              "      <td>...</td>\n",
              "      <td>...</td>\n",
              "    </tr>\n",
              "    <tr>\n",
              "      <th>100</th>\n",
              "      <td>technology</td>\n",
              "      <td>Fintech a portmanteau of \"financial technology...</td>\n",
              "      <td>13</td>\n",
              "    </tr>\n",
              "    <tr>\n",
              "      <th>101</th>\n",
              "      <td>technology</td>\n",
              "      <td>TCL Technology (originally an abbreviation for...</td>\n",
              "      <td>13</td>\n",
              "    </tr>\n",
              "    <tr>\n",
              "      <th>102</th>\n",
              "      <td>technology</td>\n",
              "      <td>Space technology is technology for use in oute...</td>\n",
              "      <td>13</td>\n",
              "    </tr>\n",
              "    <tr>\n",
              "      <th>103</th>\n",
              "      <td>technology</td>\n",
              "      <td>A technology company (or tech company) is an e...</td>\n",
              "      <td>13</td>\n",
              "    </tr>\n",
              "    <tr>\n",
              "      <th>104</th>\n",
              "      <td>technology</td>\n",
              "      <td>Agricultural technology or agrotechnology (abb...</td>\n",
              "      <td>13</td>\n",
              "    </tr>\n",
              "  </tbody>\n",
              "</table>\n",
              "<p>105 rows × 3 columns</p>\n",
              "</div>\n",
              "      <button class=\"colab-df-convert\" onclick=\"convertToInteractive('df-f1f0490e-2853-466f-9cd8-9ceafe46cb75')\"\n",
              "              title=\"Convert this dataframe to an interactive table.\"\n",
              "              style=\"display:none;\">\n",
              "        \n",
              "  <svg xmlns=\"http://www.w3.org/2000/svg\" height=\"24px\"viewBox=\"0 0 24 24\"\n",
              "       width=\"24px\">\n",
              "    <path d=\"M0 0h24v24H0V0z\" fill=\"none\"/>\n",
              "    <path d=\"M18.56 5.44l.94 2.06.94-2.06 2.06-.94-2.06-.94-.94-2.06-.94 2.06-2.06.94zm-11 1L8.5 8.5l.94-2.06 2.06-.94-2.06-.94L8.5 2.5l-.94 2.06-2.06.94zm10 10l.94 2.06.94-2.06 2.06-.94-2.06-.94-.94-2.06-.94 2.06-2.06.94z\"/><path d=\"M17.41 7.96l-1.37-1.37c-.4-.4-.92-.59-1.43-.59-.52 0-1.04.2-1.43.59L10.3 9.45l-7.72 7.72c-.78.78-.78 2.05 0 2.83L4 21.41c.39.39.9.59 1.41.59.51 0 1.02-.2 1.41-.59l7.78-7.78 2.81-2.81c.8-.78.8-2.07 0-2.86zM5.41 20L4 18.59l7.72-7.72 1.47 1.35L5.41 20z\"/>\n",
              "  </svg>\n",
              "      </button>\n",
              "      \n",
              "  <style>\n",
              "    .colab-df-container {\n",
              "      display:flex;\n",
              "      flex-wrap:wrap;\n",
              "      gap: 12px;\n",
              "    }\n",
              "\n",
              "    .colab-df-convert {\n",
              "      background-color: #E8F0FE;\n",
              "      border: none;\n",
              "      border-radius: 50%;\n",
              "      cursor: pointer;\n",
              "      display: none;\n",
              "      fill: #1967D2;\n",
              "      height: 32px;\n",
              "      padding: 0 0 0 0;\n",
              "      width: 32px;\n",
              "    }\n",
              "\n",
              "    .colab-df-convert:hover {\n",
              "      background-color: #E2EBFA;\n",
              "      box-shadow: 0px 1px 2px rgba(60, 64, 67, 0.3), 0px 1px 3px 1px rgba(60, 64, 67, 0.15);\n",
              "      fill: #174EA6;\n",
              "    }\n",
              "\n",
              "    [theme=dark] .colab-df-convert {\n",
              "      background-color: #3B4455;\n",
              "      fill: #D2E3FC;\n",
              "    }\n",
              "\n",
              "    [theme=dark] .colab-df-convert:hover {\n",
              "      background-color: #434B5C;\n",
              "      box-shadow: 0px 1px 3px 1px rgba(0, 0, 0, 0.15);\n",
              "      filter: drop-shadow(0px 1px 2px rgba(0, 0, 0, 0.3));\n",
              "      fill: #FFFFFF;\n",
              "    }\n",
              "  </style>\n",
              "\n",
              "      <script>\n",
              "        const buttonEl =\n",
              "          document.querySelector('#df-f1f0490e-2853-466f-9cd8-9ceafe46cb75 button.colab-df-convert');\n",
              "        buttonEl.style.display =\n",
              "          google.colab.kernel.accessAllowed ? 'block' : 'none';\n",
              "\n",
              "        async function convertToInteractive(key) {\n",
              "          const element = document.querySelector('#df-f1f0490e-2853-466f-9cd8-9ceafe46cb75');\n",
              "          const dataTable =\n",
              "            await google.colab.kernel.invokeFunction('convertToInteractive',\n",
              "                                                     [key], {});\n",
              "          if (!dataTable) return;\n",
              "\n",
              "          const docLinkHtml = 'Like what you see? Visit the ' +\n",
              "            '<a target=\"_blank\" href=https://colab.research.google.com/notebooks/data_table.ipynb>data table notebook</a>'\n",
              "            + ' to learn more about interactive tables.';\n",
              "          element.innerHTML = '';\n",
              "          dataTable['output_type'] = 'display_data';\n",
              "          await google.colab.output.renderOutput(dataTable, element);\n",
              "          const docLink = document.createElement('div');\n",
              "          docLink.innerHTML = docLinkHtml;\n",
              "          element.appendChild(docLink);\n",
              "        }\n",
              "      </script>\n",
              "    </div>\n",
              "  </div>\n",
              "  "
            ]
          },
          "metadata": {},
          "execution_count": 13
        }
      ],
      "source": [
        "df"
      ]
    },
    {
      "cell_type": "code",
      "execution_count": 14,
      "id": "7c3b1b06",
      "metadata": {
        "colab": {
          "base_uri": "https://localhost:8080/"
        },
        "id": "7c3b1b06",
        "outputId": "dc14e1c6-2cdc-4f30-984c-e27bde37918d"
      },
      "outputs": [
        {
          "output_type": "execute_result",
          "data": {
            "text/plain": [
              "{'sport': 0,\n",
              " 'economy': 1,\n",
              " 'politics': 2,\n",
              " 'health': 3,\n",
              " 'tourism': 4,\n",
              " 'entertainment': 5,\n",
              " 'culture': 6,\n",
              " 'music': 7,\n",
              " 'education': 8,\n",
              " 'real estate': 9,\n",
              " 'nutrition': 10,\n",
              " 'science': 11,\n",
              " 'history': 12,\n",
              " 'technology': 13}"
            ]
          },
          "metadata": {},
          "execution_count": 14
        }
      ],
      "source": [
        "dict_class_index"
      ]
    },
    {
      "cell_type": "code",
      "source": [
        "!pip install advertools"
      ],
      "metadata": {
        "colab": {
          "base_uri": "https://localhost:8080/"
        },
        "id": "LONqIklFyIqG",
        "outputId": "8cf15624-41c7-4d75-96c5-b13dce311a01"
      },
      "id": "LONqIklFyIqG",
      "execution_count": 15,
      "outputs": [
        {
          "output_type": "stream",
          "name": "stdout",
          "text": [
            "Looking in indexes: https://pypi.org/simple, https://us-python.pkg.dev/colab-wheels/public/simple/\n",
            "Collecting advertools\n",
            "  Downloading advertools-0.13.1-py2.py3-none-any.whl (309 kB)\n",
            "\u001b[K     |████████████████████████████████| 309 kB 13.3 MB/s \n",
            "\u001b[?25hRequirement already satisfied: pyasn1 in /usr/local/lib/python3.7/dist-packages (from advertools) (0.4.8)\n",
            "Collecting twython\n",
            "  Downloading twython-3.9.1-py3-none-any.whl (33 kB)\n",
            "Requirement already satisfied: pandas in /usr/local/lib/python3.7/dist-packages (from advertools) (1.3.5)\n",
            "Requirement already satisfied: pyarrow in /usr/local/lib/python3.7/dist-packages (from advertools) (6.0.1)\n",
            "Collecting scrapy\n",
            "  Downloading Scrapy-2.6.2-py2.py3-none-any.whl (264 kB)\n",
            "\u001b[K     |████████████████████████████████| 264 kB 62.6 MB/s \n",
            "\u001b[?25hRequirement already satisfied: numpy>=1.17.3 in /usr/local/lib/python3.7/dist-packages (from pandas->advertools) (1.21.6)\n",
            "Requirement already satisfied: pytz>=2017.3 in /usr/local/lib/python3.7/dist-packages (from pandas->advertools) (2022.2.1)\n",
            "Requirement already satisfied: python-dateutil>=2.7.3 in /usr/local/lib/python3.7/dist-packages (from pandas->advertools) (2.8.2)\n",
            "Requirement already satisfied: six>=1.5 in /usr/local/lib/python3.7/dist-packages (from python-dateutil>=2.7.3->pandas->advertools) (1.15.0)\n",
            "Collecting pyOpenSSL>=16.2.0\n",
            "  Downloading pyOpenSSL-22.0.0-py2.py3-none-any.whl (55 kB)\n",
            "\u001b[K     |████████████████████████████████| 55 kB 3.6 MB/s \n",
            "\u001b[?25hCollecting zope.interface>=4.1.3\n",
            "  Downloading zope.interface-5.4.0-cp37-cp37m-manylinux2010_x86_64.whl (251 kB)\n",
            "\u001b[K     |████████████████████████████████| 251 kB 65.5 MB/s \n",
            "\u001b[?25hRequirement already satisfied: setuptools in /usr/local/lib/python3.7/dist-packages (from scrapy->advertools) (57.4.0)\n",
            "Collecting cssselect>=0.9.1\n",
            "  Downloading cssselect-1.1.0-py2.py3-none-any.whl (16 kB)\n",
            "Collecting tldextract\n",
            "  Downloading tldextract-3.3.1-py3-none-any.whl (93 kB)\n",
            "\u001b[K     |████████████████████████████████| 93 kB 1.0 MB/s \n",
            "\u001b[?25hCollecting parsel>=1.5.0\n",
            "  Downloading parsel-1.6.0-py2.py3-none-any.whl (13 kB)\n",
            "Collecting PyDispatcher>=2.0.5\n",
            "  Downloading PyDispatcher-2.0.6.tar.gz (38 kB)\n",
            "Collecting itemloaders>=1.0.1\n",
            "  Downloading itemloaders-1.0.6-py3-none-any.whl (11 kB)\n",
            "Collecting service-identity>=16.0.0\n",
            "  Downloading service_identity-21.1.0-py2.py3-none-any.whl (12 kB)\n",
            "Collecting cryptography>=2.0\n",
            "  Downloading cryptography-38.0.1-cp36-abi3-manylinux_2_24_x86_64.whl (4.0 MB)\n",
            "\u001b[K     |████████████████████████████████| 4.0 MB 9.2 MB/s \n",
            "\u001b[?25hCollecting w3lib>=1.17.0\n",
            "  Downloading w3lib-2.0.1-py3-none-any.whl (20 kB)\n",
            "Collecting itemadapter>=0.1.0\n",
            "  Downloading itemadapter-0.7.0-py3-none-any.whl (10 kB)\n",
            "Collecting queuelib>=1.4.2\n",
            "  Downloading queuelib-1.6.2-py2.py3-none-any.whl (13 kB)\n",
            "Requirement already satisfied: lxml>=3.5.0 in /usr/local/lib/python3.7/dist-packages (from scrapy->advertools) (4.9.1)\n",
            "Collecting protego>=0.1.15\n",
            "  Downloading Protego-0.2.1-py2.py3-none-any.whl (8.2 kB)\n",
            "Collecting Twisted>=17.9.0\n",
            "  Downloading Twisted-22.8.0-py3-none-any.whl (3.1 MB)\n",
            "\u001b[K     |████████████████████████████████| 3.1 MB 63.2 MB/s \n",
            "\u001b[?25hRequirement already satisfied: cffi>=1.12 in /usr/local/lib/python3.7/dist-packages (from cryptography>=2.0->scrapy->advertools) (1.15.1)\n",
            "Requirement already satisfied: pycparser in /usr/local/lib/python3.7/dist-packages (from cffi>=1.12->cryptography>=2.0->scrapy->advertools) (2.21)\n",
            "Collecting jmespath>=0.9.5\n",
            "  Downloading jmespath-1.0.1-py3-none-any.whl (20 kB)\n",
            "Requirement already satisfied: attrs>=19.1.0 in /usr/local/lib/python3.7/dist-packages (from service-identity>=16.0.0->scrapy->advertools) (22.1.0)\n",
            "Requirement already satisfied: pyasn1-modules in /usr/local/lib/python3.7/dist-packages (from service-identity>=16.0.0->scrapy->advertools) (0.2.8)\n",
            "Collecting Automat>=0.8.0\n",
            "  Downloading Automat-20.2.0-py2.py3-none-any.whl (31 kB)\n",
            "Collecting incremental>=21.3.0\n",
            "  Downloading incremental-21.3.0-py2.py3-none-any.whl (15 kB)\n",
            "Collecting constantly>=15.1\n",
            "  Downloading constantly-15.1.0-py2.py3-none-any.whl (7.9 kB)\n",
            "Collecting hyperlink>=17.1.1\n",
            "  Downloading hyperlink-21.0.0-py2.py3-none-any.whl (74 kB)\n",
            "\u001b[K     |████████████████████████████████| 74 kB 3.3 MB/s \n",
            "\u001b[?25hRequirement already satisfied: typing-extensions>=3.6.5 in /usr/local/lib/python3.7/dist-packages (from Twisted>=17.9.0->scrapy->advertools) (4.1.1)\n",
            "Requirement already satisfied: idna>=2.5 in /usr/local/lib/python3.7/dist-packages (from hyperlink>=17.1.1->Twisted>=17.9.0->scrapy->advertools) (2.10)\n",
            "Requirement already satisfied: filelock>=3.0.8 in /usr/local/lib/python3.7/dist-packages (from tldextract->scrapy->advertools) (3.8.0)\n",
            "Requirement already satisfied: requests>=2.1.0 in /usr/local/lib/python3.7/dist-packages (from tldextract->scrapy->advertools) (2.23.0)\n",
            "Collecting requests-file>=1.4\n",
            "  Downloading requests_file-1.5.1-py2.py3-none-any.whl (3.7 kB)\n",
            "Requirement already satisfied: chardet<4,>=3.0.2 in /usr/local/lib/python3.7/dist-packages (from requests>=2.1.0->tldextract->scrapy->advertools) (3.0.4)\n",
            "Requirement already satisfied: urllib3!=1.25.0,!=1.25.1,<1.26,>=1.21.1 in /usr/local/lib/python3.7/dist-packages (from requests>=2.1.0->tldextract->scrapy->advertools) (1.24.3)\n",
            "Requirement already satisfied: certifi>=2017.4.17 in /usr/local/lib/python3.7/dist-packages (from requests>=2.1.0->tldextract->scrapy->advertools) (2022.6.15)\n",
            "Requirement already satisfied: requests-oauthlib>=0.4.0 in /usr/local/lib/python3.7/dist-packages (from twython->advertools) (1.3.1)\n",
            "Requirement already satisfied: oauthlib>=3.0.0 in /usr/local/lib/python3.7/dist-packages (from requests-oauthlib>=0.4.0->twython->advertools) (3.2.0)\n",
            "Building wheels for collected packages: PyDispatcher\n",
            "  Building wheel for PyDispatcher (setup.py) ... \u001b[?25l\u001b[?25hdone\n",
            "  Created wheel for PyDispatcher: filename=PyDispatcher-2.0.6-py3-none-any.whl size=11958 sha256=0c9985077e99eb3defc007f6aeeb0599c0a648f180265688dea7a5efe94ef233\n",
            "  Stored in directory: /root/.cache/pip/wheels/c9/d6/6a/de198d890277cde60ca3dbebe7ae592d3b381c7d9bb2455f4d\n",
            "Successfully built PyDispatcher\n",
            "Installing collected packages: w3lib, cssselect, zope.interface, requests-file, parsel, jmespath, itemadapter, incremental, hyperlink, cryptography, constantly, Automat, Twisted, tldextract, service-identity, queuelib, pyOpenSSL, PyDispatcher, protego, itemloaders, twython, scrapy, advertools\n",
            "Successfully installed Automat-20.2.0 PyDispatcher-2.0.6 Twisted-22.8.0 advertools-0.13.1 constantly-15.1.0 cryptography-38.0.1 cssselect-1.1.0 hyperlink-21.0.0 incremental-21.3.0 itemadapter-0.7.0 itemloaders-1.0.6 jmespath-1.0.1 parsel-1.6.0 protego-0.2.1 pyOpenSSL-22.0.0 queuelib-1.6.2 requests-file-1.5.1 scrapy-2.6.2 service-identity-21.1.0 tldextract-3.3.1 twython-3.9.1 w3lib-2.0.1 zope.interface-5.4.0\n"
          ]
        }
      ]
    },
    {
      "cell_type": "code",
      "execution_count": 16,
      "id": "d882e51b",
      "metadata": {
        "colab": {
          "base_uri": "https://localhost:8080/"
        },
        "id": "d882e51b",
        "outputId": "56e15935-38df-4c3b-a9be-da5a610a23ff"
      },
      "outputs": [
        {
          "output_type": "stream",
          "name": "stdout",
          "text": [
            "['a', 'about', 'above', 'across', 'after', 'afterwards', 'again', 'against', 'all', 'almost', 'alone', 'along', 'already', 'also', 'although', 'always', 'am', 'among', 'amongst', 'amount', 'an', 'and', 'another', 'any', 'anyhow', 'anyone', 'anything', 'anyway', 'anywhere', 'are', 'around', 'as', 'at', 'back', 'be', 'became', 'because', 'become', 'becomes', 'becoming', 'been', 'before', 'beforehand', 'behind', 'being', 'below', 'beside', 'besides', 'between', 'beyond', 'both', 'bottom', 'but', 'by', 'ca', 'call', 'can', 'cannot', 'could', 'did', 'do', 'does', 'doing', 'done', 'down', 'due', 'during', 'each', 'eight', 'either', 'eleven', 'else', 'elsewhere', 'empty', 'enough', 'even', 'ever', 'every', 'everyone', 'everything', 'everywhere', 'except', 'few', 'fifteen', 'fifty', 'first', 'five', 'for', 'former', 'formerly', 'forty', 'four', 'from', 'front', 'full', 'further', 'get', 'give', 'go', 'had', 'has', 'have', 'he', 'hence', 'her', 'here', 'hereafter', 'hereby', 'herein', 'hereupon', 'hers', 'herself', 'him', 'himself', 'his', 'how', 'however', 'hundred', 'i', 'if', 'in', 'indeed', 'into', 'is', 'it', 'its', 'itself', 'just', 'keep', 'last', 'latter', 'latterly', 'least', 'less', 'made', 'make', 'many', 'may', 'me', 'meanwhile', 'might', 'mine', 'more', 'moreover', 'most', 'mostly', 'move', 'much', 'must', 'my', 'myself', 'name', 'namely', 'neither', 'never', 'nevertheless', 'next', 'nine', 'no', 'nobody', 'none', 'noone', 'nor', 'not', 'nothing', 'now', 'nowhere', 'of', 'off', 'often', 'on', 'once', 'one', 'only', 'onto', 'or', 'other', 'others', 'otherwise', 'our', 'ours', 'ourselves', 'out', 'over', 'own', 'part', 'per', 'perhaps', 'please', 'put', 'quite', 'rather', 're', 'really', 'regarding', 'same', 'say', 'see', 'seem', 'seemed', 'seeming', 'seems', 'serious', 'several', 'she', 'should', 'show', 'side', 'since', 'six', 'sixty', 'so', 'some', 'somehow', 'someone', 'something', 'sometime', 'sometimes', 'somewhere', 'still', 'such', 'take', 'ten', 'than', 'that', 'the', 'their', 'them', 'themselves', 'then', 'thence', 'there', 'thereafter', 'thereby', 'therefore', 'therein', 'thereupon', 'these', 'they', 'third', 'this', 'those', 'though', 'three', 'through', 'throughout', 'thru', 'thus', 'to', 'together', 'too', 'top', 'toward', 'towards', 'twelve', 'twenty', 'two', 'under', 'unless', 'until', 'up', 'upon', 'us', 'used', 'using', 'various', 'very', 'via', 'was', 'we', 'well', 'were', 'what', 'whatever', 'when', 'whence', 'whenever', 'where', 'whereafter', 'whereas', 'whereby', 'wherein', 'whereupon', 'wherever', 'whether', 'which', 'while', 'whither', 'who', 'whoever', 'whole', 'whom', 'whose', 'why', 'will', 'with', 'within', 'without', 'would', 'yet', 'you', 'your', 'yours', 'yourself', 'yourselves']\n"
          ]
        }
      ],
      "source": [
        "import advertools as adv\n",
        "stop_words = sorted(adv.stopwords['english'])\n",
        "print(stop_words)"
      ]
    },
    {
      "cell_type": "code",
      "execution_count": 17,
      "id": "5391e288",
      "metadata": {
        "id": "5391e288"
      },
      "outputs": [],
      "source": [
        "def clear_text(text):\n",
        "    new_text = text.apply(lambda x: ' '.join([word for word in x.split() if word not in stop_words])).str.lower()\n",
        "    new_text = new_text.replace(r'[^\\w\\s]+', '', regex=True)\n",
        "    return new_text"
      ]
    },
    {
      "cell_type": "code",
      "execution_count": 18,
      "id": "1802bb8d",
      "metadata": {
        "id": "1802bb8d"
      },
      "outputs": [],
      "source": [
        "new_text = clear_text(df['text'])"
      ]
    },
    {
      "cell_type": "code",
      "execution_count": 19,
      "id": "946c36f5",
      "metadata": {
        "colab": {
          "base_uri": "https://localhost:8080/",
          "height": 520
        },
        "id": "946c36f5",
        "outputId": "7e7c7d5b-13ba-4555-9ded-428a5013e54b"
      },
      "outputs": [
        {
          "output_type": "execute_result",
          "data": {
            "text/plain": [
              "          class                                               text  class num  \\\n",
              "0         sport  Sport pertains to any form of competitive phys...          0   \n",
              "1         sport  Sport was an American sports magazine. Launche...          0   \n",
              "2         sport  Sport, Sport, Sport (Russian: Спорт, спорт, сп...          0   \n",
              "3         sport  Sport Lisboa e Benfica  (Portuguese pronunciat...          0   \n",
              "4         sport  Sport diving is an underwater sport that uses ...          0   \n",
              "..          ...                                                ...        ...   \n",
              "100  technology  Fintech a portmanteau of \"financial technology...         13   \n",
              "101  technology  TCL Technology (originally an abbreviation for...         13   \n",
              "102  technology  Space technology is technology for use in oute...         13   \n",
              "103  technology  A technology company (or tech company) is an e...         13   \n",
              "104  technology  Agricultural technology or agrotechnology (abb...         13   \n",
              "\n",
              "                                            clear text  \n",
              "0    sport pertains form competitive physical activ...  \n",
              "1    sport american sports magazine launched septem...  \n",
              "2    sport sport sport russian спорт спорт спорт 19...  \n",
              "3    sport lisboa e benfica portuguese pronunciatio...  \n",
              "4    sport diving underwater sport uses recreationa...  \n",
              "..                                                 ...  \n",
              "100  fintech portmanteau financial technology refer...  \n",
              "101  tcl technology originally abbreviation telepho...  \n",
              "102  space technology technology use outer space tr...  \n",
              "103  a technology company or tech company electroni...  \n",
              "104  agricultural technology agrotechnology abbrevi...  \n",
              "\n",
              "[105 rows x 4 columns]"
            ],
            "text/html": [
              "\n",
              "  <div id=\"df-994b377f-2047-495f-9631-1b4defa39428\">\n",
              "    <div class=\"colab-df-container\">\n",
              "      <div>\n",
              "<style scoped>\n",
              "    .dataframe tbody tr th:only-of-type {\n",
              "        vertical-align: middle;\n",
              "    }\n",
              "\n",
              "    .dataframe tbody tr th {\n",
              "        vertical-align: top;\n",
              "    }\n",
              "\n",
              "    .dataframe thead th {\n",
              "        text-align: right;\n",
              "    }\n",
              "</style>\n",
              "<table border=\"1\" class=\"dataframe\">\n",
              "  <thead>\n",
              "    <tr style=\"text-align: right;\">\n",
              "      <th></th>\n",
              "      <th>class</th>\n",
              "      <th>text</th>\n",
              "      <th>class num</th>\n",
              "      <th>clear text</th>\n",
              "    </tr>\n",
              "  </thead>\n",
              "  <tbody>\n",
              "    <tr>\n",
              "      <th>0</th>\n",
              "      <td>sport</td>\n",
              "      <td>Sport pertains to any form of competitive phys...</td>\n",
              "      <td>0</td>\n",
              "      <td>sport pertains form competitive physical activ...</td>\n",
              "    </tr>\n",
              "    <tr>\n",
              "      <th>1</th>\n",
              "      <td>sport</td>\n",
              "      <td>Sport was an American sports magazine. Launche...</td>\n",
              "      <td>0</td>\n",
              "      <td>sport american sports magazine launched septem...</td>\n",
              "    </tr>\n",
              "    <tr>\n",
              "      <th>2</th>\n",
              "      <td>sport</td>\n",
              "      <td>Sport, Sport, Sport (Russian: Спорт, спорт, сп...</td>\n",
              "      <td>0</td>\n",
              "      <td>sport sport sport russian спорт спорт спорт 19...</td>\n",
              "    </tr>\n",
              "    <tr>\n",
              "      <th>3</th>\n",
              "      <td>sport</td>\n",
              "      <td>Sport Lisboa e Benfica  (Portuguese pronunciat...</td>\n",
              "      <td>0</td>\n",
              "      <td>sport lisboa e benfica portuguese pronunciatio...</td>\n",
              "    </tr>\n",
              "    <tr>\n",
              "      <th>4</th>\n",
              "      <td>sport</td>\n",
              "      <td>Sport diving is an underwater sport that uses ...</td>\n",
              "      <td>0</td>\n",
              "      <td>sport diving underwater sport uses recreationa...</td>\n",
              "    </tr>\n",
              "    <tr>\n",
              "      <th>...</th>\n",
              "      <td>...</td>\n",
              "      <td>...</td>\n",
              "      <td>...</td>\n",
              "      <td>...</td>\n",
              "    </tr>\n",
              "    <tr>\n",
              "      <th>100</th>\n",
              "      <td>technology</td>\n",
              "      <td>Fintech a portmanteau of \"financial technology...</td>\n",
              "      <td>13</td>\n",
              "      <td>fintech portmanteau financial technology refer...</td>\n",
              "    </tr>\n",
              "    <tr>\n",
              "      <th>101</th>\n",
              "      <td>technology</td>\n",
              "      <td>TCL Technology (originally an abbreviation for...</td>\n",
              "      <td>13</td>\n",
              "      <td>tcl technology originally abbreviation telepho...</td>\n",
              "    </tr>\n",
              "    <tr>\n",
              "      <th>102</th>\n",
              "      <td>technology</td>\n",
              "      <td>Space technology is technology for use in oute...</td>\n",
              "      <td>13</td>\n",
              "      <td>space technology technology use outer space tr...</td>\n",
              "    </tr>\n",
              "    <tr>\n",
              "      <th>103</th>\n",
              "      <td>technology</td>\n",
              "      <td>A technology company (or tech company) is an e...</td>\n",
              "      <td>13</td>\n",
              "      <td>a technology company or tech company electroni...</td>\n",
              "    </tr>\n",
              "    <tr>\n",
              "      <th>104</th>\n",
              "      <td>technology</td>\n",
              "      <td>Agricultural technology or agrotechnology (abb...</td>\n",
              "      <td>13</td>\n",
              "      <td>agricultural technology agrotechnology abbrevi...</td>\n",
              "    </tr>\n",
              "  </tbody>\n",
              "</table>\n",
              "<p>105 rows × 4 columns</p>\n",
              "</div>\n",
              "      <button class=\"colab-df-convert\" onclick=\"convertToInteractive('df-994b377f-2047-495f-9631-1b4defa39428')\"\n",
              "              title=\"Convert this dataframe to an interactive table.\"\n",
              "              style=\"display:none;\">\n",
              "        \n",
              "  <svg xmlns=\"http://www.w3.org/2000/svg\" height=\"24px\"viewBox=\"0 0 24 24\"\n",
              "       width=\"24px\">\n",
              "    <path d=\"M0 0h24v24H0V0z\" fill=\"none\"/>\n",
              "    <path d=\"M18.56 5.44l.94 2.06.94-2.06 2.06-.94-2.06-.94-.94-2.06-.94 2.06-2.06.94zm-11 1L8.5 8.5l.94-2.06 2.06-.94-2.06-.94L8.5 2.5l-.94 2.06-2.06.94zm10 10l.94 2.06.94-2.06 2.06-.94-2.06-.94-.94-2.06-.94 2.06-2.06.94z\"/><path d=\"M17.41 7.96l-1.37-1.37c-.4-.4-.92-.59-1.43-.59-.52 0-1.04.2-1.43.59L10.3 9.45l-7.72 7.72c-.78.78-.78 2.05 0 2.83L4 21.41c.39.39.9.59 1.41.59.51 0 1.02-.2 1.41-.59l7.78-7.78 2.81-2.81c.8-.78.8-2.07 0-2.86zM5.41 20L4 18.59l7.72-7.72 1.47 1.35L5.41 20z\"/>\n",
              "  </svg>\n",
              "      </button>\n",
              "      \n",
              "  <style>\n",
              "    .colab-df-container {\n",
              "      display:flex;\n",
              "      flex-wrap:wrap;\n",
              "      gap: 12px;\n",
              "    }\n",
              "\n",
              "    .colab-df-convert {\n",
              "      background-color: #E8F0FE;\n",
              "      border: none;\n",
              "      border-radius: 50%;\n",
              "      cursor: pointer;\n",
              "      display: none;\n",
              "      fill: #1967D2;\n",
              "      height: 32px;\n",
              "      padding: 0 0 0 0;\n",
              "      width: 32px;\n",
              "    }\n",
              "\n",
              "    .colab-df-convert:hover {\n",
              "      background-color: #E2EBFA;\n",
              "      box-shadow: 0px 1px 2px rgba(60, 64, 67, 0.3), 0px 1px 3px 1px rgba(60, 64, 67, 0.15);\n",
              "      fill: #174EA6;\n",
              "    }\n",
              "\n",
              "    [theme=dark] .colab-df-convert {\n",
              "      background-color: #3B4455;\n",
              "      fill: #D2E3FC;\n",
              "    }\n",
              "\n",
              "    [theme=dark] .colab-df-convert:hover {\n",
              "      background-color: #434B5C;\n",
              "      box-shadow: 0px 1px 3px 1px rgba(0, 0, 0, 0.15);\n",
              "      filter: drop-shadow(0px 1px 2px rgba(0, 0, 0, 0.3));\n",
              "      fill: #FFFFFF;\n",
              "    }\n",
              "  </style>\n",
              "\n",
              "      <script>\n",
              "        const buttonEl =\n",
              "          document.querySelector('#df-994b377f-2047-495f-9631-1b4defa39428 button.colab-df-convert');\n",
              "        buttonEl.style.display =\n",
              "          google.colab.kernel.accessAllowed ? 'block' : 'none';\n",
              "\n",
              "        async function convertToInteractive(key) {\n",
              "          const element = document.querySelector('#df-994b377f-2047-495f-9631-1b4defa39428');\n",
              "          const dataTable =\n",
              "            await google.colab.kernel.invokeFunction('convertToInteractive',\n",
              "                                                     [key], {});\n",
              "          if (!dataTable) return;\n",
              "\n",
              "          const docLinkHtml = 'Like what you see? Visit the ' +\n",
              "            '<a target=\"_blank\" href=https://colab.research.google.com/notebooks/data_table.ipynb>data table notebook</a>'\n",
              "            + ' to learn more about interactive tables.';\n",
              "          element.innerHTML = '';\n",
              "          dataTable['output_type'] = 'display_data';\n",
              "          await google.colab.output.renderOutput(dataTable, element);\n",
              "          const docLink = document.createElement('div');\n",
              "          docLink.innerHTML = docLinkHtml;\n",
              "          element.appendChild(docLink);\n",
              "        }\n",
              "      </script>\n",
              "    </div>\n",
              "  </div>\n",
              "  "
            ]
          },
          "metadata": {},
          "execution_count": 19
        }
      ],
      "source": [
        "df['clear text'] = new_text\n",
        "df"
      ]
    },
    {
      "cell_type": "code",
      "execution_count": 20,
      "id": "125b305d",
      "metadata": {
        "id": "125b305d"
      },
      "outputs": [],
      "source": [
        "newest_text = []\n",
        "for i in range(0, len(df)):\n",
        "    newest_text.append(word_tokenize(df['clear text'][i]))"
      ]
    },
    {
      "cell_type": "code",
      "execution_count": 21,
      "id": "777d5e01",
      "metadata": {
        "colab": {
          "base_uri": "https://localhost:8080/"
        },
        "id": "777d5e01",
        "outputId": "f8a139c8-7943-413d-847e-15ad7eb17c77"
      },
      "outputs": [
        {
          "output_type": "stream",
          "name": "stderr",
          "text": [
            "[nltk_data] Downloading package averaged_perceptron_tagger to\n",
            "[nltk_data]     /root/nltk_data...\n",
            "[nltk_data]   Unzipping taggers/averaged_perceptron_tagger.zip.\n"
          ]
        },
        {
          "output_type": "execute_result",
          "data": {
            "text/plain": [
              "True"
            ]
          },
          "metadata": {},
          "execution_count": 21
        }
      ],
      "source": [
        "nltk.download('averaged_perceptron_tagger')"
      ]
    },
    {
      "cell_type": "code",
      "execution_count": 22,
      "id": "5656e48a",
      "metadata": {
        "colab": {
          "base_uri": "https://localhost:8080/"
        },
        "id": "5656e48a",
        "outputId": "a8505937-75f2-4919-a00b-5de1b32b59cc"
      },
      "outputs": [
        {
          "output_type": "stream",
          "name": "stderr",
          "text": [
            "[nltk_data] Downloading package wordnet to /root/nltk_data...\n"
          ]
        },
        {
          "output_type": "execute_result",
          "data": {
            "text/plain": [
              "True"
            ]
          },
          "metadata": {},
          "execution_count": 22
        }
      ],
      "source": [
        "nltk.download('wordnet')"
      ]
    },
    {
      "cell_type": "code",
      "execution_count": 23,
      "id": "6c3e3a28",
      "metadata": {
        "id": "6c3e3a28"
      },
      "outputs": [],
      "source": [
        "def my_lemmitezer(text):\n",
        "    return pos_tag(word_tokenize(text))"
      ]
    },
    {
      "cell_type": "code",
      "execution_count": 24,
      "id": "77b18f68",
      "metadata": {
        "id": "77b18f68"
      },
      "outputs": [],
      "source": [
        "tokenized_lemmitzed_text = []\n",
        "for i in range(0, len(df)):\n",
        "    tokenized_lemmitzed_text.append(my_lemmitezer(df['clear text'][i]))"
      ]
    },
    {
      "cell_type": "code",
      "execution_count": 25,
      "id": "efd359f8",
      "metadata": {
        "id": "efd359f8"
      },
      "outputs": [],
      "source": [
        "df['tokenized lemmitzed text'] = tokenized_lemmitzed_text"
      ]
    },
    {
      "cell_type": "code",
      "execution_count": 26,
      "id": "467087ce",
      "metadata": {
        "id": "467087ce"
      },
      "outputs": [],
      "source": [
        "stemmer = nltk.stem.PorterStemmer()"
      ]
    },
    {
      "cell_type": "code",
      "execution_count": 27,
      "id": "c55a27a3",
      "metadata": {
        "id": "c55a27a3"
      },
      "outputs": [],
      "source": [
        "def my_stemmer(text):\n",
        "    tokenized_stemmed_text = []\n",
        "    tokens = word_tokenize(text)\n",
        "    for token in tokens:\n",
        "        tokenized_stemmed_text.append(stemmer.stem(token))\n",
        "    return tokenized_stemmed_text"
      ]
    },
    {
      "cell_type": "code",
      "execution_count": 28,
      "id": "705facbe",
      "metadata": {
        "id": "705facbe"
      },
      "outputs": [],
      "source": [
        "tokenized_stemmed_text = []\n",
        "for i in range(0, len(df)):\n",
        "    tokenized_stemmed_text.append(my_stemmer(df['clear text'][i]))"
      ]
    },
    {
      "cell_type": "code",
      "execution_count": 29,
      "id": "f89793fd",
      "metadata": {
        "id": "f89793fd"
      },
      "outputs": [],
      "source": [
        "df['tokenized stemmed text'] = tokenized_stemmed_text\n",
        "# df['tokenized stemmed text'] = df['tokenized stemmed text'].str.join(' ')"
      ]
    },
    {
      "cell_type": "code",
      "execution_count": 30,
      "id": "eb33fad8",
      "metadata": {
        "colab": {
          "base_uri": "https://localhost:8080/"
        },
        "id": "eb33fad8",
        "outputId": "dd26271c-19f3-4032-c2cc-36906c7c4ec5"
      },
      "outputs": [
        {
          "output_type": "execute_result",
          "data": {
            "text/plain": [
              "0      sport pertains form competitive physical activ...\n",
              "1      sport american sports magazine launched septem...\n",
              "2      sport sport sport russian спорт спорт спорт 19...\n",
              "3      sport lisboa e benfica portuguese pronunciatio...\n",
              "4      sport diving underwater sport uses recreationa...\n",
              "                             ...                        \n",
              "100    fintech portmanteau financial technology refer...\n",
              "101    tcl technology originally abbreviation telepho...\n",
              "102    space technology technology use outer space tr...\n",
              "103    a technology company or tech company electroni...\n",
              "104    agricultural technology agrotechnology abbrevi...\n",
              "Name: clear text, Length: 105, dtype: object"
            ]
          },
          "metadata": {},
          "execution_count": 30
        }
      ],
      "source": [
        "x = df['clear text']\n",
        "x"
      ]
    },
    {
      "cell_type": "code",
      "execution_count": 31,
      "id": "b7173f11",
      "metadata": {
        "colab": {
          "base_uri": "https://localhost:8080/"
        },
        "id": "b7173f11",
        "outputId": "edabb50c-b034-447b-a71a-32a20f0b41c9"
      },
      "outputs": [
        {
          "output_type": "execute_result",
          "data": {
            "text/plain": [
              "0       0\n",
              "1       0\n",
              "2       0\n",
              "3       0\n",
              "4       0\n",
              "       ..\n",
              "100    13\n",
              "101    13\n",
              "102    13\n",
              "103    13\n",
              "104    13\n",
              "Name: class num, Length: 105, dtype: int64"
            ]
          },
          "metadata": {},
          "execution_count": 31
        }
      ],
      "source": [
        "y = df['class num']\n",
        "y"
      ]
    },
    {
      "cell_type": "code",
      "execution_count": 32,
      "id": "18fe4ba3",
      "metadata": {
        "id": "18fe4ba3"
      },
      "outputs": [],
      "source": [
        "x_tr, x_ft, y_tr, y_ft = model_selection.train_test_split(x, y, test_size=0.2, stratify=y)"
      ]
    },
    {
      "cell_type": "code",
      "execution_count": 33,
      "id": "25831cf4",
      "metadata": {
        "colab": {
          "base_uri": "https://localhost:8080/"
        },
        "id": "25831cf4",
        "outputId": "c013d8a9-0e6e-49f4-e07a-39cd879e5066"
      },
      "outputs": [
        {
          "output_type": "execute_result",
          "data": {
            "text/plain": [
              "93     google chrome freeware web browser developed g...\n",
              "4      sport diving underwater sport uses recreationa...\n",
              "18     leftwing politics describes range political id...\n",
              "38     sony interactive entertainment sie known sony ...\n",
              "104    agricultural technology agrotechnology abbrevi...\n",
              "                             ...                        \n",
              "5      athletics group sporting events involves compe...\n",
              "96     the history christianity concerns christian re...\n",
              "42     popular culture also called mass culture pop c...\n",
              "82     holozoic nutrition greek holowhole  zoikosof a...\n",
              "48     culture club english new wave band formed lond...\n",
              "Name: clear text, Length: 84, dtype: object"
            ]
          },
          "metadata": {},
          "execution_count": 33
        }
      ],
      "source": [
        "x_tr"
      ]
    },
    {
      "cell_type": "code",
      "execution_count": 34,
      "id": "0866a004",
      "metadata": {
        "id": "0866a004"
      },
      "outputs": [],
      "source": [
        "x_train, x_test, y_train, y_test = model_selection.train_test_split(x_tr, y_tr, test_size=0.3, stratify=y_tr, random_state=5)"
      ]
    },
    {
      "cell_type": "code",
      "execution_count": 35,
      "id": "39e8c86f",
      "metadata": {
        "id": "39e8c86f"
      },
      "outputs": [],
      "source": [
        "count_vectorizer_t = feature_extraction.text.TfidfVectorizer()"
      ]
    },
    {
      "cell_type": "code",
      "execution_count": 36,
      "id": "182664c2",
      "metadata": {
        "colab": {
          "base_uri": "https://localhost:8080/"
        },
        "id": "182664c2",
        "outputId": "19ddb7f2-af78-4600-e82c-d064355763cd"
      },
      "outputs": [
        {
          "output_type": "execute_result",
          "data": {
            "text/plain": [
              "TfidfVectorizer()"
            ]
          },
          "metadata": {},
          "execution_count": 36
        }
      ],
      "source": [
        "count_vectorizer_t.fit(x_train)"
      ]
    },
    {
      "cell_type": "code",
      "execution_count": 37,
      "id": "ba9d5ba3",
      "metadata": {
        "id": "ba9d5ba3"
      },
      "outputs": [],
      "source": [
        "x_train_t_tfidf = count_vectorizer_t.transform(x_train)\n",
        "x_test_t_tfidf = count_vectorizer_t.transform(x_test)"
      ]
    },
    {
      "cell_type": "code",
      "execution_count": 38,
      "id": "34c098b6",
      "metadata": {
        "id": "34c098b6"
      },
      "outputs": [],
      "source": [
        "model = svm.LinearSVC(max_iter=100000)"
      ]
    },
    {
      "cell_type": "code",
      "execution_count": 39,
      "id": "a63254d0",
      "metadata": {
        "id": "a63254d0"
      },
      "outputs": [],
      "source": [
        "model_t = multiclass.OneVsRestClassifier(model)"
      ]
    },
    {
      "cell_type": "code",
      "execution_count": 40,
      "id": "49e36d71",
      "metadata": {
        "colab": {
          "base_uri": "https://localhost:8080/"
        },
        "id": "49e36d71",
        "outputId": "8efc8f4f-d73c-4c19-96ee-8ed8b2cb33f1"
      },
      "outputs": [
        {
          "output_type": "execute_result",
          "data": {
            "text/plain": [
              "OneVsRestClassifier(estimator=LinearSVC(max_iter=100000))"
            ]
          },
          "metadata": {},
          "execution_count": 40
        }
      ],
      "source": [
        "model_t.fit(x_train_t_tfidf, y_train)"
      ]
    },
    {
      "cell_type": "code",
      "execution_count": 41,
      "id": "ee8ca6c4",
      "metadata": {
        "id": "ee8ca6c4"
      },
      "outputs": [],
      "source": [
        "y_test_predicted_t = model_t.predict(x_test_t_tfidf)"
      ]
    },
    {
      "cell_type": "code",
      "execution_count": 42,
      "id": "c8d48629",
      "metadata": {
        "colab": {
          "base_uri": "https://localhost:8080/",
          "height": 570
        },
        "id": "c8d48629",
        "outputId": "3be78ebe-6b80-4ee1-a3bf-50d9db5a66b7"
      },
      "outputs": [
        {
          "output_type": "execute_result",
          "data": {
            "text/plain": [
              "               sport  economy  politics  health  tourism  entertainment  \\\n",
              "sport              2        0         0       0        0              0   \n",
              "economy            0        1         0       0        0              0   \n",
              "politics           0        0         2       0        0              0   \n",
              "health             0        0         0       2        0              0   \n",
              "tourism            0        0         0       0        2              0   \n",
              "entertainment      0        0         0       0        0              1   \n",
              "culture            0        0         0       0        0              0   \n",
              "music              0        0         0       0        0              0   \n",
              "education          0        0         0       0        0              0   \n",
              "real estate        0        0         0       0        0              0   \n",
              "nutrition          0        0         0       0        0              1   \n",
              "science            0        0         0       0        0              0   \n",
              "history            0        0         0       0        0              0   \n",
              "technology         0        0         0       0        0              0   \n",
              "\n",
              "               culture  music  education  real estate  nutrition  science  \\\n",
              "sport                0      0          0            0          0        0   \n",
              "economy              0      0          0            0          0        0   \n",
              "politics             0      0          0            0          0        0   \n",
              "health               0      0          0            0          0        0   \n",
              "tourism              0      0          0            0          0        0   \n",
              "entertainment        0      0          0            0          0        0   \n",
              "culture              2      0          0            0          0        0   \n",
              "music                0      2          0            0          0        0   \n",
              "education            0      0          2            0          0        0   \n",
              "real estate          0      0          0            2          0        0   \n",
              "nutrition            0      0          0            0          1        0   \n",
              "science              0      0          0            0          0        2   \n",
              "history              0      0          0            0          0        0   \n",
              "technology           0      0          0            0          0        0   \n",
              "\n",
              "               history  technology  \n",
              "sport                0           0  \n",
              "economy              0           0  \n",
              "politics             0           0  \n",
              "health               0           0  \n",
              "tourism              0           0  \n",
              "entertainment        0           0  \n",
              "culture              0           0  \n",
              "music                0           0  \n",
              "education            0           0  \n",
              "real estate          0           0  \n",
              "nutrition            0           0  \n",
              "science              0           0  \n",
              "history              2           0  \n",
              "technology           0           2  "
            ],
            "text/html": [
              "\n",
              "  <div id=\"df-06f70888-5379-423b-8903-58285e8230f8\">\n",
              "    <div class=\"colab-df-container\">\n",
              "      <div>\n",
              "<style scoped>\n",
              "    .dataframe tbody tr th:only-of-type {\n",
              "        vertical-align: middle;\n",
              "    }\n",
              "\n",
              "    .dataframe tbody tr th {\n",
              "        vertical-align: top;\n",
              "    }\n",
              "\n",
              "    .dataframe thead th {\n",
              "        text-align: right;\n",
              "    }\n",
              "</style>\n",
              "<table border=\"1\" class=\"dataframe\">\n",
              "  <thead>\n",
              "    <tr style=\"text-align: right;\">\n",
              "      <th></th>\n",
              "      <th>sport</th>\n",
              "      <th>economy</th>\n",
              "      <th>politics</th>\n",
              "      <th>health</th>\n",
              "      <th>tourism</th>\n",
              "      <th>entertainment</th>\n",
              "      <th>culture</th>\n",
              "      <th>music</th>\n",
              "      <th>education</th>\n",
              "      <th>real estate</th>\n",
              "      <th>nutrition</th>\n",
              "      <th>science</th>\n",
              "      <th>history</th>\n",
              "      <th>technology</th>\n",
              "    </tr>\n",
              "  </thead>\n",
              "  <tbody>\n",
              "    <tr>\n",
              "      <th>sport</th>\n",
              "      <td>2</td>\n",
              "      <td>0</td>\n",
              "      <td>0</td>\n",
              "      <td>0</td>\n",
              "      <td>0</td>\n",
              "      <td>0</td>\n",
              "      <td>0</td>\n",
              "      <td>0</td>\n",
              "      <td>0</td>\n",
              "      <td>0</td>\n",
              "      <td>0</td>\n",
              "      <td>0</td>\n",
              "      <td>0</td>\n",
              "      <td>0</td>\n",
              "    </tr>\n",
              "    <tr>\n",
              "      <th>economy</th>\n",
              "      <td>0</td>\n",
              "      <td>1</td>\n",
              "      <td>0</td>\n",
              "      <td>0</td>\n",
              "      <td>0</td>\n",
              "      <td>0</td>\n",
              "      <td>0</td>\n",
              "      <td>0</td>\n",
              "      <td>0</td>\n",
              "      <td>0</td>\n",
              "      <td>0</td>\n",
              "      <td>0</td>\n",
              "      <td>0</td>\n",
              "      <td>0</td>\n",
              "    </tr>\n",
              "    <tr>\n",
              "      <th>politics</th>\n",
              "      <td>0</td>\n",
              "      <td>0</td>\n",
              "      <td>2</td>\n",
              "      <td>0</td>\n",
              "      <td>0</td>\n",
              "      <td>0</td>\n",
              "      <td>0</td>\n",
              "      <td>0</td>\n",
              "      <td>0</td>\n",
              "      <td>0</td>\n",
              "      <td>0</td>\n",
              "      <td>0</td>\n",
              "      <td>0</td>\n",
              "      <td>0</td>\n",
              "    </tr>\n",
              "    <tr>\n",
              "      <th>health</th>\n",
              "      <td>0</td>\n",
              "      <td>0</td>\n",
              "      <td>0</td>\n",
              "      <td>2</td>\n",
              "      <td>0</td>\n",
              "      <td>0</td>\n",
              "      <td>0</td>\n",
              "      <td>0</td>\n",
              "      <td>0</td>\n",
              "      <td>0</td>\n",
              "      <td>0</td>\n",
              "      <td>0</td>\n",
              "      <td>0</td>\n",
              "      <td>0</td>\n",
              "    </tr>\n",
              "    <tr>\n",
              "      <th>tourism</th>\n",
              "      <td>0</td>\n",
              "      <td>0</td>\n",
              "      <td>0</td>\n",
              "      <td>0</td>\n",
              "      <td>2</td>\n",
              "      <td>0</td>\n",
              "      <td>0</td>\n",
              "      <td>0</td>\n",
              "      <td>0</td>\n",
              "      <td>0</td>\n",
              "      <td>0</td>\n",
              "      <td>0</td>\n",
              "      <td>0</td>\n",
              "      <td>0</td>\n",
              "    </tr>\n",
              "    <tr>\n",
              "      <th>entertainment</th>\n",
              "      <td>0</td>\n",
              "      <td>0</td>\n",
              "      <td>0</td>\n",
              "      <td>0</td>\n",
              "      <td>0</td>\n",
              "      <td>1</td>\n",
              "      <td>0</td>\n",
              "      <td>0</td>\n",
              "      <td>0</td>\n",
              "      <td>0</td>\n",
              "      <td>0</td>\n",
              "      <td>0</td>\n",
              "      <td>0</td>\n",
              "      <td>0</td>\n",
              "    </tr>\n",
              "    <tr>\n",
              "      <th>culture</th>\n",
              "      <td>0</td>\n",
              "      <td>0</td>\n",
              "      <td>0</td>\n",
              "      <td>0</td>\n",
              "      <td>0</td>\n",
              "      <td>0</td>\n",
              "      <td>2</td>\n",
              "      <td>0</td>\n",
              "      <td>0</td>\n",
              "      <td>0</td>\n",
              "      <td>0</td>\n",
              "      <td>0</td>\n",
              "      <td>0</td>\n",
              "      <td>0</td>\n",
              "    </tr>\n",
              "    <tr>\n",
              "      <th>music</th>\n",
              "      <td>0</td>\n",
              "      <td>0</td>\n",
              "      <td>0</td>\n",
              "      <td>0</td>\n",
              "      <td>0</td>\n",
              "      <td>0</td>\n",
              "      <td>0</td>\n",
              "      <td>2</td>\n",
              "      <td>0</td>\n",
              "      <td>0</td>\n",
              "      <td>0</td>\n",
              "      <td>0</td>\n",
              "      <td>0</td>\n",
              "      <td>0</td>\n",
              "    </tr>\n",
              "    <tr>\n",
              "      <th>education</th>\n",
              "      <td>0</td>\n",
              "      <td>0</td>\n",
              "      <td>0</td>\n",
              "      <td>0</td>\n",
              "      <td>0</td>\n",
              "      <td>0</td>\n",
              "      <td>0</td>\n",
              "      <td>0</td>\n",
              "      <td>2</td>\n",
              "      <td>0</td>\n",
              "      <td>0</td>\n",
              "      <td>0</td>\n",
              "      <td>0</td>\n",
              "      <td>0</td>\n",
              "    </tr>\n",
              "    <tr>\n",
              "      <th>real estate</th>\n",
              "      <td>0</td>\n",
              "      <td>0</td>\n",
              "      <td>0</td>\n",
              "      <td>0</td>\n",
              "      <td>0</td>\n",
              "      <td>0</td>\n",
              "      <td>0</td>\n",
              "      <td>0</td>\n",
              "      <td>0</td>\n",
              "      <td>2</td>\n",
              "      <td>0</td>\n",
              "      <td>0</td>\n",
              "      <td>0</td>\n",
              "      <td>0</td>\n",
              "    </tr>\n",
              "    <tr>\n",
              "      <th>nutrition</th>\n",
              "      <td>0</td>\n",
              "      <td>0</td>\n",
              "      <td>0</td>\n",
              "      <td>0</td>\n",
              "      <td>0</td>\n",
              "      <td>1</td>\n",
              "      <td>0</td>\n",
              "      <td>0</td>\n",
              "      <td>0</td>\n",
              "      <td>0</td>\n",
              "      <td>1</td>\n",
              "      <td>0</td>\n",
              "      <td>0</td>\n",
              "      <td>0</td>\n",
              "    </tr>\n",
              "    <tr>\n",
              "      <th>science</th>\n",
              "      <td>0</td>\n",
              "      <td>0</td>\n",
              "      <td>0</td>\n",
              "      <td>0</td>\n",
              "      <td>0</td>\n",
              "      <td>0</td>\n",
              "      <td>0</td>\n",
              "      <td>0</td>\n",
              "      <td>0</td>\n",
              "      <td>0</td>\n",
              "      <td>0</td>\n",
              "      <td>2</td>\n",
              "      <td>0</td>\n",
              "      <td>0</td>\n",
              "    </tr>\n",
              "    <tr>\n",
              "      <th>history</th>\n",
              "      <td>0</td>\n",
              "      <td>0</td>\n",
              "      <td>0</td>\n",
              "      <td>0</td>\n",
              "      <td>0</td>\n",
              "      <td>0</td>\n",
              "      <td>0</td>\n",
              "      <td>0</td>\n",
              "      <td>0</td>\n",
              "      <td>0</td>\n",
              "      <td>0</td>\n",
              "      <td>0</td>\n",
              "      <td>2</td>\n",
              "      <td>0</td>\n",
              "    </tr>\n",
              "    <tr>\n",
              "      <th>technology</th>\n",
              "      <td>0</td>\n",
              "      <td>0</td>\n",
              "      <td>0</td>\n",
              "      <td>0</td>\n",
              "      <td>0</td>\n",
              "      <td>0</td>\n",
              "      <td>0</td>\n",
              "      <td>0</td>\n",
              "      <td>0</td>\n",
              "      <td>0</td>\n",
              "      <td>0</td>\n",
              "      <td>0</td>\n",
              "      <td>0</td>\n",
              "      <td>2</td>\n",
              "    </tr>\n",
              "  </tbody>\n",
              "</table>\n",
              "</div>\n",
              "      <button class=\"colab-df-convert\" onclick=\"convertToInteractive('df-06f70888-5379-423b-8903-58285e8230f8')\"\n",
              "              title=\"Convert this dataframe to an interactive table.\"\n",
              "              style=\"display:none;\">\n",
              "        \n",
              "  <svg xmlns=\"http://www.w3.org/2000/svg\" height=\"24px\"viewBox=\"0 0 24 24\"\n",
              "       width=\"24px\">\n",
              "    <path d=\"M0 0h24v24H0V0z\" fill=\"none\"/>\n",
              "    <path d=\"M18.56 5.44l.94 2.06.94-2.06 2.06-.94-2.06-.94-.94-2.06-.94 2.06-2.06.94zm-11 1L8.5 8.5l.94-2.06 2.06-.94-2.06-.94L8.5 2.5l-.94 2.06-2.06.94zm10 10l.94 2.06.94-2.06 2.06-.94-2.06-.94-.94-2.06-.94 2.06-2.06.94z\"/><path d=\"M17.41 7.96l-1.37-1.37c-.4-.4-.92-.59-1.43-.59-.52 0-1.04.2-1.43.59L10.3 9.45l-7.72 7.72c-.78.78-.78 2.05 0 2.83L4 21.41c.39.39.9.59 1.41.59.51 0 1.02-.2 1.41-.59l7.78-7.78 2.81-2.81c.8-.78.8-2.07 0-2.86zM5.41 20L4 18.59l7.72-7.72 1.47 1.35L5.41 20z\"/>\n",
              "  </svg>\n",
              "      </button>\n",
              "      \n",
              "  <style>\n",
              "    .colab-df-container {\n",
              "      display:flex;\n",
              "      flex-wrap:wrap;\n",
              "      gap: 12px;\n",
              "    }\n",
              "\n",
              "    .colab-df-convert {\n",
              "      background-color: #E8F0FE;\n",
              "      border: none;\n",
              "      border-radius: 50%;\n",
              "      cursor: pointer;\n",
              "      display: none;\n",
              "      fill: #1967D2;\n",
              "      height: 32px;\n",
              "      padding: 0 0 0 0;\n",
              "      width: 32px;\n",
              "    }\n",
              "\n",
              "    .colab-df-convert:hover {\n",
              "      background-color: #E2EBFA;\n",
              "      box-shadow: 0px 1px 2px rgba(60, 64, 67, 0.3), 0px 1px 3px 1px rgba(60, 64, 67, 0.15);\n",
              "      fill: #174EA6;\n",
              "    }\n",
              "\n",
              "    [theme=dark] .colab-df-convert {\n",
              "      background-color: #3B4455;\n",
              "      fill: #D2E3FC;\n",
              "    }\n",
              "\n",
              "    [theme=dark] .colab-df-convert:hover {\n",
              "      background-color: #434B5C;\n",
              "      box-shadow: 0px 1px 3px 1px rgba(0, 0, 0, 0.15);\n",
              "      filter: drop-shadow(0px 1px 2px rgba(0, 0, 0, 0.3));\n",
              "      fill: #FFFFFF;\n",
              "    }\n",
              "  </style>\n",
              "\n",
              "      <script>\n",
              "        const buttonEl =\n",
              "          document.querySelector('#df-06f70888-5379-423b-8903-58285e8230f8 button.colab-df-convert');\n",
              "        buttonEl.style.display =\n",
              "          google.colab.kernel.accessAllowed ? 'block' : 'none';\n",
              "\n",
              "        async function convertToInteractive(key) {\n",
              "          const element = document.querySelector('#df-06f70888-5379-423b-8903-58285e8230f8');\n",
              "          const dataTable =\n",
              "            await google.colab.kernel.invokeFunction('convertToInteractive',\n",
              "                                                     [key], {});\n",
              "          if (!dataTable) return;\n",
              "\n",
              "          const docLinkHtml = 'Like what you see? Visit the ' +\n",
              "            '<a target=\"_blank\" href=https://colab.research.google.com/notebooks/data_table.ipynb>data table notebook</a>'\n",
              "            + ' to learn more about interactive tables.';\n",
              "          element.innerHTML = '';\n",
              "          dataTable['output_type'] = 'display_data';\n",
              "          await google.colab.output.renderOutput(dataTable, element);\n",
              "          const docLink = document.createElement('div');\n",
              "          docLink.innerHTML = docLinkHtml;\n",
              "          element.appendChild(docLink);\n",
              "        }\n",
              "      </script>\n",
              "    </div>\n",
              "  </div>\n",
              "  "
            ]
          },
          "metadata": {},
          "execution_count": 42
        }
      ],
      "source": [
        "cm = pd.DataFrame(metrics.confusion_matrix(y_test, y_test_predicted_t), columns=df['class'].unique(), index=df['class'].unique())\n",
        "cm"
      ]
    },
    {
      "cell_type": "code",
      "execution_count": 43,
      "id": "b97a3c5f",
      "metadata": {
        "colab": {
          "base_uri": "https://localhost:8080/"
        },
        "id": "b97a3c5f",
        "outputId": "e043b38e-8aef-4da7-a8b0-21302c87557c"
      },
      "outputs": [
        {
          "output_type": "stream",
          "name": "stdout",
          "text": [
            "              precision    recall  f1-score   support\n",
            "\n",
            "           0       1.00      1.00      1.00         2\n",
            "           1       1.00      1.00      1.00         1\n",
            "           2       1.00      1.00      1.00         2\n",
            "           3       1.00      1.00      1.00         2\n",
            "           4       1.00      1.00      1.00         2\n",
            "           5       0.50      1.00      0.67         1\n",
            "           6       1.00      1.00      1.00         2\n",
            "           7       1.00      1.00      1.00         2\n",
            "           8       1.00      1.00      1.00         2\n",
            "           9       1.00      1.00      1.00         2\n",
            "          10       1.00      0.50      0.67         2\n",
            "          11       1.00      1.00      1.00         2\n",
            "          12       1.00      1.00      1.00         2\n",
            "          13       1.00      1.00      1.00         2\n",
            "\n",
            "    accuracy                           0.96        26\n",
            "   macro avg       0.96      0.96      0.95        26\n",
            "weighted avg       0.98      0.96      0.96        26\n",
            "\n"
          ]
        }
      ],
      "source": [
        "print(metrics.classification_report(y_test, y_test_predicted_t))"
      ]
    },
    {
      "cell_type": "code",
      "execution_count": 44,
      "id": "54d53ab7",
      "metadata": {
        "colab": {
          "base_uri": "https://localhost:8080/"
        },
        "id": "54d53ab7",
        "outputId": "db3a015a-df55-40a1-d97b-163a4416ef28"
      },
      "outputs": [
        {
          "output_type": "execute_result",
          "data": {
            "text/plain": [
              "0.9523809523809523"
            ]
          },
          "metadata": {},
          "execution_count": 44
        }
      ],
      "source": [
        "metrics.f1_score(y_test, y_test_predicted_t, average='macro')"
      ]
    },
    {
      "cell_type": "code",
      "execution_count": 45,
      "id": "4c8a16e7",
      "metadata": {
        "id": "4c8a16e7"
      },
      "outputs": [],
      "source": [
        "count_vectorizer_l = feature_extraction.text.TfidfVectorizer(tokenizer=my_lemmitezer)"
      ]
    },
    {
      "cell_type": "code",
      "execution_count": 46,
      "id": "0ce8acb3",
      "metadata": {
        "colab": {
          "base_uri": "https://localhost:8080/"
        },
        "id": "0ce8acb3",
        "outputId": "1d27be3f-52d4-4caa-aef2-36396877d4df"
      },
      "outputs": [
        {
          "output_type": "stream",
          "name": "stderr",
          "text": [
            "/usr/local/lib/python3.7/dist-packages/sklearn/feature_extraction/text.py:517: UserWarning: The parameter 'token_pattern' will not be used since 'tokenizer' is not None'\n",
            "  \"The parameter 'token_pattern' will not be used\"\n"
          ]
        },
        {
          "output_type": "execute_result",
          "data": {
            "text/plain": [
              "TfidfVectorizer(tokenizer=<function my_lemmitezer at 0x7f4b0b5ae680>)"
            ]
          },
          "metadata": {},
          "execution_count": 46
        }
      ],
      "source": [
        "count_vectorizer_l.fit(x_train)"
      ]
    },
    {
      "cell_type": "code",
      "execution_count": 47,
      "id": "55688fe0",
      "metadata": {
        "id": "55688fe0"
      },
      "outputs": [],
      "source": [
        "x_train_l_tfidf = count_vectorizer_l.transform(x_train)\n",
        "x_test_l_tfidf = count_vectorizer_l.transform(x_test)"
      ]
    },
    {
      "cell_type": "code",
      "execution_count": 48,
      "id": "4594c7f8",
      "metadata": {
        "id": "4594c7f8"
      },
      "outputs": [],
      "source": [
        "model = svm.LinearSVC(max_iter=100000)"
      ]
    },
    {
      "cell_type": "code",
      "execution_count": 49,
      "id": "57a0a1c0",
      "metadata": {
        "id": "57a0a1c0"
      },
      "outputs": [],
      "source": [
        "model_l = multiclass.OneVsRestClassifier(model)"
      ]
    },
    {
      "cell_type": "code",
      "execution_count": 50,
      "id": "26b6ef7c",
      "metadata": {
        "colab": {
          "base_uri": "https://localhost:8080/"
        },
        "id": "26b6ef7c",
        "outputId": "8d95c7ac-fa9e-45fe-fca0-46dc1e8d699a"
      },
      "outputs": [
        {
          "output_type": "execute_result",
          "data": {
            "text/plain": [
              "OneVsRestClassifier(estimator=LinearSVC(max_iter=100000))"
            ]
          },
          "metadata": {},
          "execution_count": 50
        }
      ],
      "source": [
        "model_l.fit(x_train_l_tfidf, y_train)"
      ]
    },
    {
      "cell_type": "code",
      "execution_count": 51,
      "id": "a24e474e",
      "metadata": {
        "id": "a24e474e"
      },
      "outputs": [],
      "source": [
        "y_test_predicted_l = model_l.predict(x_test_l_tfidf)"
      ]
    },
    {
      "cell_type": "code",
      "execution_count": 52,
      "id": "c00988ce",
      "metadata": {
        "colab": {
          "base_uri": "https://localhost:8080/",
          "height": 570
        },
        "id": "c00988ce",
        "outputId": "bb03dc71-b52d-4838-c81f-fef30fd2a9a3"
      },
      "outputs": [
        {
          "output_type": "execute_result",
          "data": {
            "text/plain": [
              "               sport  economy  politics  health  tourism  entertainment  \\\n",
              "sport              2        0         0       0        0              0   \n",
              "economy            0        1         0       0        0              0   \n",
              "politics           0        0         2       0        0              0   \n",
              "health             0        0         0       2        0              0   \n",
              "tourism            0        0         0       0        2              0   \n",
              "entertainment      0        0         0       0        0              1   \n",
              "culture            0        0         0       0        0              0   \n",
              "music              0        0         0       0        0              0   \n",
              "education          0        0         0       0        0              0   \n",
              "real estate        0        0         0       0        0              0   \n",
              "nutrition          0        0         0       0        0              1   \n",
              "science            0        0         0       0        0              0   \n",
              "history            0        0         0       0        0              0   \n",
              "technology         0        0         0       0        0              0   \n",
              "\n",
              "               culture  music  education  real estate  nutrition  science  \\\n",
              "sport                0      0          0            0          0        0   \n",
              "economy              0      0          0            0          0        0   \n",
              "politics             0      0          0            0          0        0   \n",
              "health               0      0          0            0          0        0   \n",
              "tourism              0      0          0            0          0        0   \n",
              "entertainment        0      0          0            0          0        0   \n",
              "culture              2      0          0            0          0        0   \n",
              "music                0      2          0            0          0        0   \n",
              "education            0      0          2            0          0        0   \n",
              "real estate          0      0          0            2          0        0   \n",
              "nutrition            0      0          0            0          1        0   \n",
              "science              0      0          0            0          0        2   \n",
              "history              0      0          0            0          0        0   \n",
              "technology           0      0          0            0          0        0   \n",
              "\n",
              "               history  technology  \n",
              "sport                0           0  \n",
              "economy              0           0  \n",
              "politics             0           0  \n",
              "health               0           0  \n",
              "tourism              0           0  \n",
              "entertainment        0           0  \n",
              "culture              0           0  \n",
              "music                0           0  \n",
              "education            0           0  \n",
              "real estate          0           0  \n",
              "nutrition            0           0  \n",
              "science              0           0  \n",
              "history              2           0  \n",
              "technology           0           2  "
            ],
            "text/html": [
              "\n",
              "  <div id=\"df-989a0782-d1c1-499f-b868-2c3936459aed\">\n",
              "    <div class=\"colab-df-container\">\n",
              "      <div>\n",
              "<style scoped>\n",
              "    .dataframe tbody tr th:only-of-type {\n",
              "        vertical-align: middle;\n",
              "    }\n",
              "\n",
              "    .dataframe tbody tr th {\n",
              "        vertical-align: top;\n",
              "    }\n",
              "\n",
              "    .dataframe thead th {\n",
              "        text-align: right;\n",
              "    }\n",
              "</style>\n",
              "<table border=\"1\" class=\"dataframe\">\n",
              "  <thead>\n",
              "    <tr style=\"text-align: right;\">\n",
              "      <th></th>\n",
              "      <th>sport</th>\n",
              "      <th>economy</th>\n",
              "      <th>politics</th>\n",
              "      <th>health</th>\n",
              "      <th>tourism</th>\n",
              "      <th>entertainment</th>\n",
              "      <th>culture</th>\n",
              "      <th>music</th>\n",
              "      <th>education</th>\n",
              "      <th>real estate</th>\n",
              "      <th>nutrition</th>\n",
              "      <th>science</th>\n",
              "      <th>history</th>\n",
              "      <th>technology</th>\n",
              "    </tr>\n",
              "  </thead>\n",
              "  <tbody>\n",
              "    <tr>\n",
              "      <th>sport</th>\n",
              "      <td>2</td>\n",
              "      <td>0</td>\n",
              "      <td>0</td>\n",
              "      <td>0</td>\n",
              "      <td>0</td>\n",
              "      <td>0</td>\n",
              "      <td>0</td>\n",
              "      <td>0</td>\n",
              "      <td>0</td>\n",
              "      <td>0</td>\n",
              "      <td>0</td>\n",
              "      <td>0</td>\n",
              "      <td>0</td>\n",
              "      <td>0</td>\n",
              "    </tr>\n",
              "    <tr>\n",
              "      <th>economy</th>\n",
              "      <td>0</td>\n",
              "      <td>1</td>\n",
              "      <td>0</td>\n",
              "      <td>0</td>\n",
              "      <td>0</td>\n",
              "      <td>0</td>\n",
              "      <td>0</td>\n",
              "      <td>0</td>\n",
              "      <td>0</td>\n",
              "      <td>0</td>\n",
              "      <td>0</td>\n",
              "      <td>0</td>\n",
              "      <td>0</td>\n",
              "      <td>0</td>\n",
              "    </tr>\n",
              "    <tr>\n",
              "      <th>politics</th>\n",
              "      <td>0</td>\n",
              "      <td>0</td>\n",
              "      <td>2</td>\n",
              "      <td>0</td>\n",
              "      <td>0</td>\n",
              "      <td>0</td>\n",
              "      <td>0</td>\n",
              "      <td>0</td>\n",
              "      <td>0</td>\n",
              "      <td>0</td>\n",
              "      <td>0</td>\n",
              "      <td>0</td>\n",
              "      <td>0</td>\n",
              "      <td>0</td>\n",
              "    </tr>\n",
              "    <tr>\n",
              "      <th>health</th>\n",
              "      <td>0</td>\n",
              "      <td>0</td>\n",
              "      <td>0</td>\n",
              "      <td>2</td>\n",
              "      <td>0</td>\n",
              "      <td>0</td>\n",
              "      <td>0</td>\n",
              "      <td>0</td>\n",
              "      <td>0</td>\n",
              "      <td>0</td>\n",
              "      <td>0</td>\n",
              "      <td>0</td>\n",
              "      <td>0</td>\n",
              "      <td>0</td>\n",
              "    </tr>\n",
              "    <tr>\n",
              "      <th>tourism</th>\n",
              "      <td>0</td>\n",
              "      <td>0</td>\n",
              "      <td>0</td>\n",
              "      <td>0</td>\n",
              "      <td>2</td>\n",
              "      <td>0</td>\n",
              "      <td>0</td>\n",
              "      <td>0</td>\n",
              "      <td>0</td>\n",
              "      <td>0</td>\n",
              "      <td>0</td>\n",
              "      <td>0</td>\n",
              "      <td>0</td>\n",
              "      <td>0</td>\n",
              "    </tr>\n",
              "    <tr>\n",
              "      <th>entertainment</th>\n",
              "      <td>0</td>\n",
              "      <td>0</td>\n",
              "      <td>0</td>\n",
              "      <td>0</td>\n",
              "      <td>0</td>\n",
              "      <td>1</td>\n",
              "      <td>0</td>\n",
              "      <td>0</td>\n",
              "      <td>0</td>\n",
              "      <td>0</td>\n",
              "      <td>0</td>\n",
              "      <td>0</td>\n",
              "      <td>0</td>\n",
              "      <td>0</td>\n",
              "    </tr>\n",
              "    <tr>\n",
              "      <th>culture</th>\n",
              "      <td>0</td>\n",
              "      <td>0</td>\n",
              "      <td>0</td>\n",
              "      <td>0</td>\n",
              "      <td>0</td>\n",
              "      <td>0</td>\n",
              "      <td>2</td>\n",
              "      <td>0</td>\n",
              "      <td>0</td>\n",
              "      <td>0</td>\n",
              "      <td>0</td>\n",
              "      <td>0</td>\n",
              "      <td>0</td>\n",
              "      <td>0</td>\n",
              "    </tr>\n",
              "    <tr>\n",
              "      <th>music</th>\n",
              "      <td>0</td>\n",
              "      <td>0</td>\n",
              "      <td>0</td>\n",
              "      <td>0</td>\n",
              "      <td>0</td>\n",
              "      <td>0</td>\n",
              "      <td>0</td>\n",
              "      <td>2</td>\n",
              "      <td>0</td>\n",
              "      <td>0</td>\n",
              "      <td>0</td>\n",
              "      <td>0</td>\n",
              "      <td>0</td>\n",
              "      <td>0</td>\n",
              "    </tr>\n",
              "    <tr>\n",
              "      <th>education</th>\n",
              "      <td>0</td>\n",
              "      <td>0</td>\n",
              "      <td>0</td>\n",
              "      <td>0</td>\n",
              "      <td>0</td>\n",
              "      <td>0</td>\n",
              "      <td>0</td>\n",
              "      <td>0</td>\n",
              "      <td>2</td>\n",
              "      <td>0</td>\n",
              "      <td>0</td>\n",
              "      <td>0</td>\n",
              "      <td>0</td>\n",
              "      <td>0</td>\n",
              "    </tr>\n",
              "    <tr>\n",
              "      <th>real estate</th>\n",
              "      <td>0</td>\n",
              "      <td>0</td>\n",
              "      <td>0</td>\n",
              "      <td>0</td>\n",
              "      <td>0</td>\n",
              "      <td>0</td>\n",
              "      <td>0</td>\n",
              "      <td>0</td>\n",
              "      <td>0</td>\n",
              "      <td>2</td>\n",
              "      <td>0</td>\n",
              "      <td>0</td>\n",
              "      <td>0</td>\n",
              "      <td>0</td>\n",
              "    </tr>\n",
              "    <tr>\n",
              "      <th>nutrition</th>\n",
              "      <td>0</td>\n",
              "      <td>0</td>\n",
              "      <td>0</td>\n",
              "      <td>0</td>\n",
              "      <td>0</td>\n",
              "      <td>1</td>\n",
              "      <td>0</td>\n",
              "      <td>0</td>\n",
              "      <td>0</td>\n",
              "      <td>0</td>\n",
              "      <td>1</td>\n",
              "      <td>0</td>\n",
              "      <td>0</td>\n",
              "      <td>0</td>\n",
              "    </tr>\n",
              "    <tr>\n",
              "      <th>science</th>\n",
              "      <td>0</td>\n",
              "      <td>0</td>\n",
              "      <td>0</td>\n",
              "      <td>0</td>\n",
              "      <td>0</td>\n",
              "      <td>0</td>\n",
              "      <td>0</td>\n",
              "      <td>0</td>\n",
              "      <td>0</td>\n",
              "      <td>0</td>\n",
              "      <td>0</td>\n",
              "      <td>2</td>\n",
              "      <td>0</td>\n",
              "      <td>0</td>\n",
              "    </tr>\n",
              "    <tr>\n",
              "      <th>history</th>\n",
              "      <td>0</td>\n",
              "      <td>0</td>\n",
              "      <td>0</td>\n",
              "      <td>0</td>\n",
              "      <td>0</td>\n",
              "      <td>0</td>\n",
              "      <td>0</td>\n",
              "      <td>0</td>\n",
              "      <td>0</td>\n",
              "      <td>0</td>\n",
              "      <td>0</td>\n",
              "      <td>0</td>\n",
              "      <td>2</td>\n",
              "      <td>0</td>\n",
              "    </tr>\n",
              "    <tr>\n",
              "      <th>technology</th>\n",
              "      <td>0</td>\n",
              "      <td>0</td>\n",
              "      <td>0</td>\n",
              "      <td>0</td>\n",
              "      <td>0</td>\n",
              "      <td>0</td>\n",
              "      <td>0</td>\n",
              "      <td>0</td>\n",
              "      <td>0</td>\n",
              "      <td>0</td>\n",
              "      <td>0</td>\n",
              "      <td>0</td>\n",
              "      <td>0</td>\n",
              "      <td>2</td>\n",
              "    </tr>\n",
              "  </tbody>\n",
              "</table>\n",
              "</div>\n",
              "      <button class=\"colab-df-convert\" onclick=\"convertToInteractive('df-989a0782-d1c1-499f-b868-2c3936459aed')\"\n",
              "              title=\"Convert this dataframe to an interactive table.\"\n",
              "              style=\"display:none;\">\n",
              "        \n",
              "  <svg xmlns=\"http://www.w3.org/2000/svg\" height=\"24px\"viewBox=\"0 0 24 24\"\n",
              "       width=\"24px\">\n",
              "    <path d=\"M0 0h24v24H0V0z\" fill=\"none\"/>\n",
              "    <path d=\"M18.56 5.44l.94 2.06.94-2.06 2.06-.94-2.06-.94-.94-2.06-.94 2.06-2.06.94zm-11 1L8.5 8.5l.94-2.06 2.06-.94-2.06-.94L8.5 2.5l-.94 2.06-2.06.94zm10 10l.94 2.06.94-2.06 2.06-.94-2.06-.94-.94-2.06-.94 2.06-2.06.94z\"/><path d=\"M17.41 7.96l-1.37-1.37c-.4-.4-.92-.59-1.43-.59-.52 0-1.04.2-1.43.59L10.3 9.45l-7.72 7.72c-.78.78-.78 2.05 0 2.83L4 21.41c.39.39.9.59 1.41.59.51 0 1.02-.2 1.41-.59l7.78-7.78 2.81-2.81c.8-.78.8-2.07 0-2.86zM5.41 20L4 18.59l7.72-7.72 1.47 1.35L5.41 20z\"/>\n",
              "  </svg>\n",
              "      </button>\n",
              "      \n",
              "  <style>\n",
              "    .colab-df-container {\n",
              "      display:flex;\n",
              "      flex-wrap:wrap;\n",
              "      gap: 12px;\n",
              "    }\n",
              "\n",
              "    .colab-df-convert {\n",
              "      background-color: #E8F0FE;\n",
              "      border: none;\n",
              "      border-radius: 50%;\n",
              "      cursor: pointer;\n",
              "      display: none;\n",
              "      fill: #1967D2;\n",
              "      height: 32px;\n",
              "      padding: 0 0 0 0;\n",
              "      width: 32px;\n",
              "    }\n",
              "\n",
              "    .colab-df-convert:hover {\n",
              "      background-color: #E2EBFA;\n",
              "      box-shadow: 0px 1px 2px rgba(60, 64, 67, 0.3), 0px 1px 3px 1px rgba(60, 64, 67, 0.15);\n",
              "      fill: #174EA6;\n",
              "    }\n",
              "\n",
              "    [theme=dark] .colab-df-convert {\n",
              "      background-color: #3B4455;\n",
              "      fill: #D2E3FC;\n",
              "    }\n",
              "\n",
              "    [theme=dark] .colab-df-convert:hover {\n",
              "      background-color: #434B5C;\n",
              "      box-shadow: 0px 1px 3px 1px rgba(0, 0, 0, 0.15);\n",
              "      filter: drop-shadow(0px 1px 2px rgba(0, 0, 0, 0.3));\n",
              "      fill: #FFFFFF;\n",
              "    }\n",
              "  </style>\n",
              "\n",
              "      <script>\n",
              "        const buttonEl =\n",
              "          document.querySelector('#df-989a0782-d1c1-499f-b868-2c3936459aed button.colab-df-convert');\n",
              "        buttonEl.style.display =\n",
              "          google.colab.kernel.accessAllowed ? 'block' : 'none';\n",
              "\n",
              "        async function convertToInteractive(key) {\n",
              "          const element = document.querySelector('#df-989a0782-d1c1-499f-b868-2c3936459aed');\n",
              "          const dataTable =\n",
              "            await google.colab.kernel.invokeFunction('convertToInteractive',\n",
              "                                                     [key], {});\n",
              "          if (!dataTable) return;\n",
              "\n",
              "          const docLinkHtml = 'Like what you see? Visit the ' +\n",
              "            '<a target=\"_blank\" href=https://colab.research.google.com/notebooks/data_table.ipynb>data table notebook</a>'\n",
              "            + ' to learn more about interactive tables.';\n",
              "          element.innerHTML = '';\n",
              "          dataTable['output_type'] = 'display_data';\n",
              "          await google.colab.output.renderOutput(dataTable, element);\n",
              "          const docLink = document.createElement('div');\n",
              "          docLink.innerHTML = docLinkHtml;\n",
              "          element.appendChild(docLink);\n",
              "        }\n",
              "      </script>\n",
              "    </div>\n",
              "  </div>\n",
              "  "
            ]
          },
          "metadata": {},
          "execution_count": 52
        }
      ],
      "source": [
        "cm = pd.DataFrame(metrics.confusion_matrix(y_test, y_test_predicted_l), columns=df['class'].unique(), index=df['class'].unique())\n",
        "cm"
      ]
    },
    {
      "cell_type": "code",
      "execution_count": 53,
      "id": "3bce5577",
      "metadata": {
        "colab": {
          "base_uri": "https://localhost:8080/"
        },
        "id": "3bce5577",
        "outputId": "cca2b6ea-25fb-4f8f-dad7-31adf2fa699a"
      },
      "outputs": [
        {
          "output_type": "stream",
          "name": "stdout",
          "text": [
            "              precision    recall  f1-score   support\n",
            "\n",
            "           0       1.00      1.00      1.00         2\n",
            "           1       1.00      1.00      1.00         1\n",
            "           2       1.00      1.00      1.00         2\n",
            "           3       1.00      1.00      1.00         2\n",
            "           4       1.00      1.00      1.00         2\n",
            "           5       0.50      1.00      0.67         1\n",
            "           6       1.00      1.00      1.00         2\n",
            "           7       1.00      1.00      1.00         2\n",
            "           8       1.00      1.00      1.00         2\n",
            "           9       1.00      1.00      1.00         2\n",
            "          10       1.00      0.50      0.67         2\n",
            "          11       1.00      1.00      1.00         2\n",
            "          12       1.00      1.00      1.00         2\n",
            "          13       1.00      1.00      1.00         2\n",
            "\n",
            "    accuracy                           0.96        26\n",
            "   macro avg       0.96      0.96      0.95        26\n",
            "weighted avg       0.98      0.96      0.96        26\n",
            "\n"
          ]
        }
      ],
      "source": [
        "print(metrics.classification_report(y_test, y_test_predicted_l))"
      ]
    },
    {
      "cell_type": "code",
      "execution_count": 54,
      "id": "a04fe762",
      "metadata": {
        "colab": {
          "base_uri": "https://localhost:8080/"
        },
        "id": "a04fe762",
        "outputId": "75c045af-7a7c-4143-804f-771c9c1199b5"
      },
      "outputs": [
        {
          "output_type": "execute_result",
          "data": {
            "text/plain": [
              "0.9523809523809523"
            ]
          },
          "metadata": {},
          "execution_count": 54
        }
      ],
      "source": [
        "metrics.f1_score(y_test, y_test_predicted_l, average='macro')"
      ]
    },
    {
      "cell_type": "code",
      "execution_count": 55,
      "id": "1a54f918",
      "metadata": {
        "id": "1a54f918"
      },
      "outputs": [],
      "source": [
        "count_vectorizer_s = feature_extraction.text.TfidfVectorizer(tokenizer=my_stemmer)"
      ]
    },
    {
      "cell_type": "code",
      "execution_count": 56,
      "id": "86a190e9",
      "metadata": {
        "colab": {
          "base_uri": "https://localhost:8080/"
        },
        "id": "86a190e9",
        "outputId": "fbe64295-c8ca-49e3-b45c-1d33871ea4e5"
      },
      "outputs": [
        {
          "output_type": "stream",
          "name": "stderr",
          "text": [
            "/usr/local/lib/python3.7/dist-packages/sklearn/feature_extraction/text.py:517: UserWarning: The parameter 'token_pattern' will not be used since 'tokenizer' is not None'\n",
            "  \"The parameter 'token_pattern' will not be used\"\n"
          ]
        },
        {
          "output_type": "execute_result",
          "data": {
            "text/plain": [
              "TfidfVectorizer(tokenizer=<function my_stemmer at 0x7f4b0905cef0>)"
            ]
          },
          "metadata": {},
          "execution_count": 56
        }
      ],
      "source": [
        "count_vectorizer_s.fit(x_train)"
      ]
    },
    {
      "cell_type": "code",
      "execution_count": 57,
      "id": "a8c86caa",
      "metadata": {
        "id": "a8c86caa"
      },
      "outputs": [],
      "source": [
        "x_train_s_tfidf = count_vectorizer_s.transform(x_train)\n",
        "x_test_s_tfidf = count_vectorizer_s.transform(x_test)"
      ]
    },
    {
      "cell_type": "code",
      "execution_count": 58,
      "id": "cd743b19",
      "metadata": {
        "id": "cd743b19"
      },
      "outputs": [],
      "source": [
        "model = svm.LinearSVC(max_iter=100000)"
      ]
    },
    {
      "cell_type": "code",
      "execution_count": 59,
      "id": "daf761f6",
      "metadata": {
        "id": "daf761f6"
      },
      "outputs": [],
      "source": [
        "model_s = multiclass.OneVsRestClassifier(model)"
      ]
    },
    {
      "cell_type": "code",
      "execution_count": 60,
      "id": "7a426645",
      "metadata": {
        "colab": {
          "base_uri": "https://localhost:8080/"
        },
        "id": "7a426645",
        "outputId": "d47a7acf-8619-4db4-b221-7c0494445c6a"
      },
      "outputs": [
        {
          "output_type": "execute_result",
          "data": {
            "text/plain": [
              "OneVsRestClassifier(estimator=LinearSVC(max_iter=100000))"
            ]
          },
          "metadata": {},
          "execution_count": 60
        }
      ],
      "source": [
        "model_s.fit(x_train_s_tfidf, y_train)"
      ]
    },
    {
      "cell_type": "code",
      "execution_count": 61,
      "id": "21add4a0",
      "metadata": {
        "id": "21add4a0"
      },
      "outputs": [],
      "source": [
        "y_test_predicted_s = model_s.predict(x_test_s_tfidf)"
      ]
    },
    {
      "cell_type": "code",
      "execution_count": 62,
      "id": "b712c4bf",
      "metadata": {
        "colab": {
          "base_uri": "https://localhost:8080/",
          "height": 570
        },
        "id": "b712c4bf",
        "outputId": "da543f71-99e5-402d-c374-090b0379d5e4"
      },
      "outputs": [
        {
          "output_type": "execute_result",
          "data": {
            "text/plain": [
              "               sport  economy  politics  health  tourism  entertainment  \\\n",
              "sport              2        0         0       0        0              0   \n",
              "economy            0        1         0       0        0              0   \n",
              "politics           0        0         2       0        0              0   \n",
              "health             0        0         0       2        0              0   \n",
              "tourism            0        0         0       0        2              0   \n",
              "entertainment      0        0         0       0        0              1   \n",
              "culture            0        0         0       0        0              0   \n",
              "music              0        0         0       0        0              0   \n",
              "education          0        0         0       0        0              0   \n",
              "real estate        0        0         0       0        0              0   \n",
              "nutrition          0        0         0       0        0              1   \n",
              "science            0        0         0       0        0              0   \n",
              "history            0        0         0       0        0              0   \n",
              "technology         0        0         0       0        0              0   \n",
              "\n",
              "               culture  music  education  real estate  nutrition  science  \\\n",
              "sport                0      0          0            0          0        0   \n",
              "economy              0      0          0            0          0        0   \n",
              "politics             0      0          0            0          0        0   \n",
              "health               0      0          0            0          0        0   \n",
              "tourism              0      0          0            0          0        0   \n",
              "entertainment        0      0          0            0          0        0   \n",
              "culture              2      0          0            0          0        0   \n",
              "music                0      2          0            0          0        0   \n",
              "education            0      0          2            0          0        0   \n",
              "real estate          0      0          0            2          0        0   \n",
              "nutrition            0      0          0            0          1        0   \n",
              "science              0      0          0            0          0        2   \n",
              "history              0      0          0            0          0        0   \n",
              "technology           0      0          0            0          0        0   \n",
              "\n",
              "               history  technology  \n",
              "sport                0           0  \n",
              "economy              0           0  \n",
              "politics             0           0  \n",
              "health               0           0  \n",
              "tourism              0           0  \n",
              "entertainment        0           0  \n",
              "culture              0           0  \n",
              "music                0           0  \n",
              "education            0           0  \n",
              "real estate          0           0  \n",
              "nutrition            0           0  \n",
              "science              0           0  \n",
              "history              2           0  \n",
              "technology           0           2  "
            ],
            "text/html": [
              "\n",
              "  <div id=\"df-612f5c8d-229b-4f12-b008-ecf2073472c6\">\n",
              "    <div class=\"colab-df-container\">\n",
              "      <div>\n",
              "<style scoped>\n",
              "    .dataframe tbody tr th:only-of-type {\n",
              "        vertical-align: middle;\n",
              "    }\n",
              "\n",
              "    .dataframe tbody tr th {\n",
              "        vertical-align: top;\n",
              "    }\n",
              "\n",
              "    .dataframe thead th {\n",
              "        text-align: right;\n",
              "    }\n",
              "</style>\n",
              "<table border=\"1\" class=\"dataframe\">\n",
              "  <thead>\n",
              "    <tr style=\"text-align: right;\">\n",
              "      <th></th>\n",
              "      <th>sport</th>\n",
              "      <th>economy</th>\n",
              "      <th>politics</th>\n",
              "      <th>health</th>\n",
              "      <th>tourism</th>\n",
              "      <th>entertainment</th>\n",
              "      <th>culture</th>\n",
              "      <th>music</th>\n",
              "      <th>education</th>\n",
              "      <th>real estate</th>\n",
              "      <th>nutrition</th>\n",
              "      <th>science</th>\n",
              "      <th>history</th>\n",
              "      <th>technology</th>\n",
              "    </tr>\n",
              "  </thead>\n",
              "  <tbody>\n",
              "    <tr>\n",
              "      <th>sport</th>\n",
              "      <td>2</td>\n",
              "      <td>0</td>\n",
              "      <td>0</td>\n",
              "      <td>0</td>\n",
              "      <td>0</td>\n",
              "      <td>0</td>\n",
              "      <td>0</td>\n",
              "      <td>0</td>\n",
              "      <td>0</td>\n",
              "      <td>0</td>\n",
              "      <td>0</td>\n",
              "      <td>0</td>\n",
              "      <td>0</td>\n",
              "      <td>0</td>\n",
              "    </tr>\n",
              "    <tr>\n",
              "      <th>economy</th>\n",
              "      <td>0</td>\n",
              "      <td>1</td>\n",
              "      <td>0</td>\n",
              "      <td>0</td>\n",
              "      <td>0</td>\n",
              "      <td>0</td>\n",
              "      <td>0</td>\n",
              "      <td>0</td>\n",
              "      <td>0</td>\n",
              "      <td>0</td>\n",
              "      <td>0</td>\n",
              "      <td>0</td>\n",
              "      <td>0</td>\n",
              "      <td>0</td>\n",
              "    </tr>\n",
              "    <tr>\n",
              "      <th>politics</th>\n",
              "      <td>0</td>\n",
              "      <td>0</td>\n",
              "      <td>2</td>\n",
              "      <td>0</td>\n",
              "      <td>0</td>\n",
              "      <td>0</td>\n",
              "      <td>0</td>\n",
              "      <td>0</td>\n",
              "      <td>0</td>\n",
              "      <td>0</td>\n",
              "      <td>0</td>\n",
              "      <td>0</td>\n",
              "      <td>0</td>\n",
              "      <td>0</td>\n",
              "    </tr>\n",
              "    <tr>\n",
              "      <th>health</th>\n",
              "      <td>0</td>\n",
              "      <td>0</td>\n",
              "      <td>0</td>\n",
              "      <td>2</td>\n",
              "      <td>0</td>\n",
              "      <td>0</td>\n",
              "      <td>0</td>\n",
              "      <td>0</td>\n",
              "      <td>0</td>\n",
              "      <td>0</td>\n",
              "      <td>0</td>\n",
              "      <td>0</td>\n",
              "      <td>0</td>\n",
              "      <td>0</td>\n",
              "    </tr>\n",
              "    <tr>\n",
              "      <th>tourism</th>\n",
              "      <td>0</td>\n",
              "      <td>0</td>\n",
              "      <td>0</td>\n",
              "      <td>0</td>\n",
              "      <td>2</td>\n",
              "      <td>0</td>\n",
              "      <td>0</td>\n",
              "      <td>0</td>\n",
              "      <td>0</td>\n",
              "      <td>0</td>\n",
              "      <td>0</td>\n",
              "      <td>0</td>\n",
              "      <td>0</td>\n",
              "      <td>0</td>\n",
              "    </tr>\n",
              "    <tr>\n",
              "      <th>entertainment</th>\n",
              "      <td>0</td>\n",
              "      <td>0</td>\n",
              "      <td>0</td>\n",
              "      <td>0</td>\n",
              "      <td>0</td>\n",
              "      <td>1</td>\n",
              "      <td>0</td>\n",
              "      <td>0</td>\n",
              "      <td>0</td>\n",
              "      <td>0</td>\n",
              "      <td>0</td>\n",
              "      <td>0</td>\n",
              "      <td>0</td>\n",
              "      <td>0</td>\n",
              "    </tr>\n",
              "    <tr>\n",
              "      <th>culture</th>\n",
              "      <td>0</td>\n",
              "      <td>0</td>\n",
              "      <td>0</td>\n",
              "      <td>0</td>\n",
              "      <td>0</td>\n",
              "      <td>0</td>\n",
              "      <td>2</td>\n",
              "      <td>0</td>\n",
              "      <td>0</td>\n",
              "      <td>0</td>\n",
              "      <td>0</td>\n",
              "      <td>0</td>\n",
              "      <td>0</td>\n",
              "      <td>0</td>\n",
              "    </tr>\n",
              "    <tr>\n",
              "      <th>music</th>\n",
              "      <td>0</td>\n",
              "      <td>0</td>\n",
              "      <td>0</td>\n",
              "      <td>0</td>\n",
              "      <td>0</td>\n",
              "      <td>0</td>\n",
              "      <td>0</td>\n",
              "      <td>2</td>\n",
              "      <td>0</td>\n",
              "      <td>0</td>\n",
              "      <td>0</td>\n",
              "      <td>0</td>\n",
              "      <td>0</td>\n",
              "      <td>0</td>\n",
              "    </tr>\n",
              "    <tr>\n",
              "      <th>education</th>\n",
              "      <td>0</td>\n",
              "      <td>0</td>\n",
              "      <td>0</td>\n",
              "      <td>0</td>\n",
              "      <td>0</td>\n",
              "      <td>0</td>\n",
              "      <td>0</td>\n",
              "      <td>0</td>\n",
              "      <td>2</td>\n",
              "      <td>0</td>\n",
              "      <td>0</td>\n",
              "      <td>0</td>\n",
              "      <td>0</td>\n",
              "      <td>0</td>\n",
              "    </tr>\n",
              "    <tr>\n",
              "      <th>real estate</th>\n",
              "      <td>0</td>\n",
              "      <td>0</td>\n",
              "      <td>0</td>\n",
              "      <td>0</td>\n",
              "      <td>0</td>\n",
              "      <td>0</td>\n",
              "      <td>0</td>\n",
              "      <td>0</td>\n",
              "      <td>0</td>\n",
              "      <td>2</td>\n",
              "      <td>0</td>\n",
              "      <td>0</td>\n",
              "      <td>0</td>\n",
              "      <td>0</td>\n",
              "    </tr>\n",
              "    <tr>\n",
              "      <th>nutrition</th>\n",
              "      <td>0</td>\n",
              "      <td>0</td>\n",
              "      <td>0</td>\n",
              "      <td>0</td>\n",
              "      <td>0</td>\n",
              "      <td>1</td>\n",
              "      <td>0</td>\n",
              "      <td>0</td>\n",
              "      <td>0</td>\n",
              "      <td>0</td>\n",
              "      <td>1</td>\n",
              "      <td>0</td>\n",
              "      <td>0</td>\n",
              "      <td>0</td>\n",
              "    </tr>\n",
              "    <tr>\n",
              "      <th>science</th>\n",
              "      <td>0</td>\n",
              "      <td>0</td>\n",
              "      <td>0</td>\n",
              "      <td>0</td>\n",
              "      <td>0</td>\n",
              "      <td>0</td>\n",
              "      <td>0</td>\n",
              "      <td>0</td>\n",
              "      <td>0</td>\n",
              "      <td>0</td>\n",
              "      <td>0</td>\n",
              "      <td>2</td>\n",
              "      <td>0</td>\n",
              "      <td>0</td>\n",
              "    </tr>\n",
              "    <tr>\n",
              "      <th>history</th>\n",
              "      <td>0</td>\n",
              "      <td>0</td>\n",
              "      <td>0</td>\n",
              "      <td>0</td>\n",
              "      <td>0</td>\n",
              "      <td>0</td>\n",
              "      <td>0</td>\n",
              "      <td>0</td>\n",
              "      <td>0</td>\n",
              "      <td>0</td>\n",
              "      <td>0</td>\n",
              "      <td>0</td>\n",
              "      <td>2</td>\n",
              "      <td>0</td>\n",
              "    </tr>\n",
              "    <tr>\n",
              "      <th>technology</th>\n",
              "      <td>0</td>\n",
              "      <td>0</td>\n",
              "      <td>0</td>\n",
              "      <td>0</td>\n",
              "      <td>0</td>\n",
              "      <td>0</td>\n",
              "      <td>0</td>\n",
              "      <td>0</td>\n",
              "      <td>0</td>\n",
              "      <td>0</td>\n",
              "      <td>0</td>\n",
              "      <td>0</td>\n",
              "      <td>0</td>\n",
              "      <td>2</td>\n",
              "    </tr>\n",
              "  </tbody>\n",
              "</table>\n",
              "</div>\n",
              "      <button class=\"colab-df-convert\" onclick=\"convertToInteractive('df-612f5c8d-229b-4f12-b008-ecf2073472c6')\"\n",
              "              title=\"Convert this dataframe to an interactive table.\"\n",
              "              style=\"display:none;\">\n",
              "        \n",
              "  <svg xmlns=\"http://www.w3.org/2000/svg\" height=\"24px\"viewBox=\"0 0 24 24\"\n",
              "       width=\"24px\">\n",
              "    <path d=\"M0 0h24v24H0V0z\" fill=\"none\"/>\n",
              "    <path d=\"M18.56 5.44l.94 2.06.94-2.06 2.06-.94-2.06-.94-.94-2.06-.94 2.06-2.06.94zm-11 1L8.5 8.5l.94-2.06 2.06-.94-2.06-.94L8.5 2.5l-.94 2.06-2.06.94zm10 10l.94 2.06.94-2.06 2.06-.94-2.06-.94-.94-2.06-.94 2.06-2.06.94z\"/><path d=\"M17.41 7.96l-1.37-1.37c-.4-.4-.92-.59-1.43-.59-.52 0-1.04.2-1.43.59L10.3 9.45l-7.72 7.72c-.78.78-.78 2.05 0 2.83L4 21.41c.39.39.9.59 1.41.59.51 0 1.02-.2 1.41-.59l7.78-7.78 2.81-2.81c.8-.78.8-2.07 0-2.86zM5.41 20L4 18.59l7.72-7.72 1.47 1.35L5.41 20z\"/>\n",
              "  </svg>\n",
              "      </button>\n",
              "      \n",
              "  <style>\n",
              "    .colab-df-container {\n",
              "      display:flex;\n",
              "      flex-wrap:wrap;\n",
              "      gap: 12px;\n",
              "    }\n",
              "\n",
              "    .colab-df-convert {\n",
              "      background-color: #E8F0FE;\n",
              "      border: none;\n",
              "      border-radius: 50%;\n",
              "      cursor: pointer;\n",
              "      display: none;\n",
              "      fill: #1967D2;\n",
              "      height: 32px;\n",
              "      padding: 0 0 0 0;\n",
              "      width: 32px;\n",
              "    }\n",
              "\n",
              "    .colab-df-convert:hover {\n",
              "      background-color: #E2EBFA;\n",
              "      box-shadow: 0px 1px 2px rgba(60, 64, 67, 0.3), 0px 1px 3px 1px rgba(60, 64, 67, 0.15);\n",
              "      fill: #174EA6;\n",
              "    }\n",
              "\n",
              "    [theme=dark] .colab-df-convert {\n",
              "      background-color: #3B4455;\n",
              "      fill: #D2E3FC;\n",
              "    }\n",
              "\n",
              "    [theme=dark] .colab-df-convert:hover {\n",
              "      background-color: #434B5C;\n",
              "      box-shadow: 0px 1px 3px 1px rgba(0, 0, 0, 0.15);\n",
              "      filter: drop-shadow(0px 1px 2px rgba(0, 0, 0, 0.3));\n",
              "      fill: #FFFFFF;\n",
              "    }\n",
              "  </style>\n",
              "\n",
              "      <script>\n",
              "        const buttonEl =\n",
              "          document.querySelector('#df-612f5c8d-229b-4f12-b008-ecf2073472c6 button.colab-df-convert');\n",
              "        buttonEl.style.display =\n",
              "          google.colab.kernel.accessAllowed ? 'block' : 'none';\n",
              "\n",
              "        async function convertToInteractive(key) {\n",
              "          const element = document.querySelector('#df-612f5c8d-229b-4f12-b008-ecf2073472c6');\n",
              "          const dataTable =\n",
              "            await google.colab.kernel.invokeFunction('convertToInteractive',\n",
              "                                                     [key], {});\n",
              "          if (!dataTable) return;\n",
              "\n",
              "          const docLinkHtml = 'Like what you see? Visit the ' +\n",
              "            '<a target=\"_blank\" href=https://colab.research.google.com/notebooks/data_table.ipynb>data table notebook</a>'\n",
              "            + ' to learn more about interactive tables.';\n",
              "          element.innerHTML = '';\n",
              "          dataTable['output_type'] = 'display_data';\n",
              "          await google.colab.output.renderOutput(dataTable, element);\n",
              "          const docLink = document.createElement('div');\n",
              "          docLink.innerHTML = docLinkHtml;\n",
              "          element.appendChild(docLink);\n",
              "        }\n",
              "      </script>\n",
              "    </div>\n",
              "  </div>\n",
              "  "
            ]
          },
          "metadata": {},
          "execution_count": 62
        }
      ],
      "source": [
        "cm = pd.DataFrame(metrics.confusion_matrix(y_test, y_test_predicted_s), columns=df['class'].unique(), index=df['class'].unique())\n",
        "cm"
      ]
    },
    {
      "cell_type": "code",
      "execution_count": 63,
      "id": "a0d3df4c",
      "metadata": {
        "colab": {
          "base_uri": "https://localhost:8080/"
        },
        "id": "a0d3df4c",
        "outputId": "6c666d3d-2239-4964-8807-479a313b43c1"
      },
      "outputs": [
        {
          "output_type": "stream",
          "name": "stdout",
          "text": [
            "              precision    recall  f1-score   support\n",
            "\n",
            "           0       1.00      1.00      1.00         2\n",
            "           1       1.00      1.00      1.00         1\n",
            "           2       1.00      1.00      1.00         2\n",
            "           3       1.00      1.00      1.00         2\n",
            "           4       1.00      1.00      1.00         2\n",
            "           5       0.50      1.00      0.67         1\n",
            "           6       1.00      1.00      1.00         2\n",
            "           7       1.00      1.00      1.00         2\n",
            "           8       1.00      1.00      1.00         2\n",
            "           9       1.00      1.00      1.00         2\n",
            "          10       1.00      0.50      0.67         2\n",
            "          11       1.00      1.00      1.00         2\n",
            "          12       1.00      1.00      1.00         2\n",
            "          13       1.00      1.00      1.00         2\n",
            "\n",
            "    accuracy                           0.96        26\n",
            "   macro avg       0.96      0.96      0.95        26\n",
            "weighted avg       0.98      0.96      0.96        26\n",
            "\n"
          ]
        }
      ],
      "source": [
        "print(metrics.classification_report(y_test, y_test_predicted_s))"
      ]
    },
    {
      "cell_type": "code",
      "execution_count": 64,
      "id": "44d6961b",
      "metadata": {
        "colab": {
          "base_uri": "https://localhost:8080/"
        },
        "id": "44d6961b",
        "outputId": "d811de69-a4aa-4ff2-bf62-b6f61a6f50b9"
      },
      "outputs": [
        {
          "output_type": "execute_result",
          "data": {
            "text/plain": [
              "0.9523809523809523"
            ]
          },
          "metadata": {},
          "execution_count": 64
        }
      ],
      "source": [
        "metrics.f1_score(y_test, y_test_predicted_s, average='macro')"
      ]
    },
    {
      "cell_type": "code",
      "execution_count": 65,
      "id": "196afb55",
      "metadata": {
        "colab": {
          "base_uri": "https://localhost:8080/"
        },
        "id": "196afb55",
        "outputId": "802f8aab-d283-4d80-8824-acaa21008b57"
      },
      "outputs": [
        {
          "output_type": "stream",
          "name": "stdout",
          "text": [
            "--2022-09-17 15:40:17--  https://nlp.stanford.edu/data/glove.6B.zip\n",
            "Resolving nlp.stanford.edu (nlp.stanford.edu)... 171.64.67.140\n",
            "Connecting to nlp.stanford.edu (nlp.stanford.edu)|171.64.67.140|:443... connected.\n",
            "HTTP request sent, awaiting response... 301 Moved Permanently\n",
            "Location: https://downloads.cs.stanford.edu/nlp/data/glove.6B.zip [following]\n",
            "--2022-09-17 15:40:18--  https://downloads.cs.stanford.edu/nlp/data/glove.6B.zip\n",
            "Resolving downloads.cs.stanford.edu (downloads.cs.stanford.edu)... 171.64.64.22\n",
            "Connecting to downloads.cs.stanford.edu (downloads.cs.stanford.edu)|171.64.64.22|:443... connected.\n",
            "HTTP request sent, awaiting response... 200 OK\n",
            "Length: 862182613 (822M) [application/zip]\n",
            "Saving to: ‘glove.6B.zip’\n",
            "\n",
            "glove.6B.zip        100%[===================>] 822.24M  5.00MB/s    in 2m 41s  \n",
            "\n",
            "2022-09-17 15:43:00 (5.09 MB/s) - ‘glove.6B.zip’ saved [862182613/862182613]\n",
            "\n",
            "Archive:  glove.6B.zip\n",
            "  inflating: glove.6B.50d.txt        \n",
            "  inflating: glove.6B.100d.txt       \n",
            "  inflating: glove.6B.200d.txt       \n",
            "  inflating: glove.6B.300d.txt       \n"
          ]
        }
      ],
      "source": [
        "# !wget https://nlp.stanford.edu/data/glove.6B.zip\n",
        "# !unzip glove.6B.zip"
      ]
    },
    {
      "cell_type": "code",
      "source": [
        "file = open('glove.6B.100d.txt', 'r', encoding='utf-8')\n",
        "lines  = file.readlines()\n",
        "file.close()"
      ],
      "metadata": {
        "id": "QcR9DqzDzWHU"
      },
      "id": "QcR9DqzDzWHU",
      "execution_count": 66,
      "outputs": []
    },
    {
      "cell_type": "code",
      "source": [
        "word_embeddings = {}\n",
        "\n",
        "for line in lines:\n",
        "    strs = line.split()\n",
        "    word = strs[0]\n",
        "    coefs = np.array(strs[1:], dtype='float32')\n",
        "    \n",
        "    word_embeddings[word] = coefs"
      ],
      "metadata": {
        "id": "j41zUv2ZzYiQ"
      },
      "id": "j41zUv2ZzYiQ",
      "execution_count": 67,
      "outputs": []
    },
    {
      "cell_type": "code",
      "source": [
        "x_train"
      ],
      "metadata": {
        "colab": {
          "base_uri": "https://localhost:8080/"
        },
        "id": "AvEFA0Nq3-Az",
        "outputId": "721446f1-9593-4cfb-ac15-47055c1ab454"
      },
      "id": "AvEFA0Nq3-Az",
      "execution_count": 68,
      "outputs": [
        {
          "output_type": "execute_result",
          "data": {
            "text/plain": [
              "40     caesars entertainment inc eldorado resorts inc...\n",
              "65     the montessori method education system educati...\n",
              "70     real estate economics application economic tec...\n",
              "82     holozoic nutrition greek holowhole  zoikosof a...\n",
              "27     tourism travel pleasure business theory practi...\n",
              "81     clinical nutrition centers prevention diagnosi...\n",
              "63     physical education abbreviated phys ed pe subj...\n",
              "75     nutrition biochemical physiological process or...\n",
              "72     real estate appraisal property valuation land ...\n",
              "14     politics from greek πολιτικά politiká affairs ...\n",
              "6      swimming individual team racing sport requires...\n",
              "51     music music music put another nickel in popula...\n",
              "55     pop music genre popular music originated moder...\n",
              "32     tourism brings positive negative impacts touri...\n",
              "5      athletics group sporting events involves compe...\n",
              "2      sport sport sport russian спорт спорт спорт 19...\n",
              "10     an economy area production distribution trade ...\n",
              "29     space tourism human space travel recreational ...\n",
              "8      rowing called crew united states sport racing ...\n",
              "61     undergraduate education education conducted se...\n",
              "47     internet culture cyberculture culture based ma...\n",
              "38     sony interactive entertainment sie known sony ...\n",
              "91     history from ancient greek ἱστορία romanized h...\n",
              "46     the culture fictional interstellar postscarcit...\n",
              "21     health care healthcare improvement health prev...\n",
              "93     google chrome freeware web browser developed g...\n",
              "67     a real estate agent broker person represents s...\n",
              "104    agricultural technology agrotechnology abbrevi...\n",
              "16     a political party organization coordinates can...\n",
              "84     science fiction sometimes shortened scifi sf g...\n",
              "86     social science branches science devoted study ...\n",
              "42     popular culture also called mass culture pop c...\n",
              "37     blizzard entertainment inc american video game...\n",
              "13     the world economy global economy economy human...\n",
              "9      bbc sport sports division bbc providing nation...\n",
              "31     the minister tourism head governmental departm...\n",
              "97     technologies artifacts systematic application ...\n",
              "99     educational technology commonly abbreviated ed...\n",
              "87     political science scientific study politics it...\n",
              "20     health according world health organization a s...\n",
              "58     postgraduate education graduate education nort...\n",
              "92     human history called world history narrative h...\n",
              "73     a real estate investment trust reit company ow...\n",
              "76     human nutrition deals provision essential nutr...\n",
              "25     a health professional healthcare professional ...\n",
              "49     a culture minister heritage minister common ca...\n",
              "79     malnutrition occurs organism gets nutrients re...\n",
              "64     sex education known sexual education sexuality...\n",
              "1      sport american sports magazine launched septem...\n",
              "101    tcl technology originally abbreviation telepho...\n",
              "89     data science interdisciplinary field uses scie...\n",
              "68     real estate development property development b...\n",
              "15     rightwing politics generally characterized sup...\n",
              "54     allmusic previously known all music guide amg ...\n",
              "48     culture club english new wave band formed lond...\n",
              "24     the world health organization who specialized ...\n",
              "53     a music genre conventional category identifies...\n",
              "35     urban tourism called city tourism form tourism...\n",
              "Name: clear text, dtype: object"
            ]
          },
          "metadata": {},
          "execution_count": 68
        }
      ]
    },
    {
      "cell_type": "code",
      "source": [
        "dimension = 100\n",
        "# voc_size = 15000 #voditi racuna ovo mora da se povecava kada se poveca broj tekstova\n",
        "voc_size = len(word_embeddings)\n",
        "tokenizer = Tokenizer(num_words=voc_size)\n",
        "tokenizer.fit_on_texts(x_train)\n",
        "word_index = tokenizer.word_index"
      ],
      "metadata": {
        "id": "GQ7ybm7fzaI-"
      },
      "id": "GQ7ybm7fzaI-",
      "execution_count": 69,
      "outputs": []
    },
    {
      "cell_type": "code",
      "source": [
        "num_of_words = min(voc_size, len(word_index))"
      ],
      "metadata": {
        "id": "PNkuS1lfzgB3"
      },
      "id": "PNkuS1lfzgB3",
      "execution_count": 70,
      "outputs": []
    },
    {
      "cell_type": "code",
      "source": [
        "coef_matrix = np.zeros((num_of_words, dimension))\n",
        "\n",
        "for word, ord_num in word_index.items():\n",
        "    if ord_num >= num_of_words:\n",
        "        continue\n",
        "    \n",
        "    embedding_vector = word_embeddings.get(word)\n",
        "    if embedding_vector is not None:\n",
        "        coef_matrix[ord_num] = embedding_vector"
      ],
      "metadata": {
        "id": "eYNpdRmzzicX"
      },
      "id": "eYNpdRmzzicX",
      "execution_count": 71,
      "outputs": []
    },
    {
      "cell_type": "code",
      "source": [
        "# max_len = max([len(i) for i in x_train])\n",
        "max_len = 100"
      ],
      "metadata": {
        "id": "P6mcAAuGzkde"
      },
      "id": "P6mcAAuGzkde",
      "execution_count": 72,
      "outputs": []
    },
    {
      "cell_type": "code",
      "source": [
        "data_len = len(x_train)\n",
        "x_train = x_train.apply(lambda x: [coef_matrix[word_index[word] - 1] for word in x.split(' ') if word in word_index])\n",
        "x_train_glove = sequence.pad_sequences([x for x in x_train], maxlen=max_len, dtype='float16')\n",
        "x_train_glove = x_train_glove.reshape(data_len, max_len * 100).astype('float16')"
      ],
      "metadata": {
        "id": "-O0YRuvTzzT_"
      },
      "id": "-O0YRuvTzzT_",
      "execution_count": 73,
      "outputs": []
    },
    {
      "cell_type": "code",
      "source": [
        "x_train_glove"
      ],
      "metadata": {
        "colab": {
          "base_uri": "https://localhost:8080/"
        },
        "id": "O6EUn8mxz1WP",
        "outputId": "fb7950e7-ddc6-45f5-da56-34966b426b02"
      },
      "id": "O6EUn8mxz1WP",
      "execution_count": 74,
      "outputs": [
        {
          "output_type": "execute_result",
          "data": {
            "text/plain": [
              "array([[ 0.     ,  0.     ,  0.     , ..., -0.1625 ,  0.01245, -0.2854 ],\n",
              "       [ 0.3867 ,  0.6484 ,  0.728  , ..., -1.098  ,  0.3477 ,  0.3071 ],\n",
              "       [ 0.     ,  0.     ,  0.     , ..., -0.332  ,  1.364  ,  0.1332 ],\n",
              "       ...,\n",
              "       [ 0.2588 , -1.202  ,  0.1837 , ..., -0.9385 ,  0.742  , -0.3481 ],\n",
              "       [ 0.     ,  0.     ,  0.     , ...,  0.144  ,  0.5903 , -0.1837 ],\n",
              "       [ 0.     ,  0.     ,  0.     , ..., -1.347  ,  1.014  ,  0.0582 ]],\n",
              "      dtype=float16)"
            ]
          },
          "metadata": {},
          "execution_count": 74
        }
      ]
    },
    {
      "cell_type": "code",
      "source": [
        "data_len = len(x_test)\n",
        "x_test = x_test.apply(lambda x: [coef_matrix[word_index[word] - 1] for word in x.split(' ') if word in word_index])\n",
        "x_test_glove = sequence.pad_sequences([x for x in x_test], maxlen=max_len, dtype='float16')\n",
        "x_test_glove = x_test_glove.reshape(data_len, max_len * 100).astype('float16')"
      ],
      "metadata": {
        "id": "EEvnJMlZ40CE"
      },
      "id": "EEvnJMlZ40CE",
      "execution_count": 75,
      "outputs": []
    },
    {
      "cell_type": "code",
      "source": [
        "# def convert_to_svm_fromat(text, max_len):\n",
        "#     text = text.apply(lambda x: [coef_matrix[word_index[word] - 1] for word in x.split(' ') if word in word_index])\n",
        "\n",
        "#     x_train_glove = []\n",
        "\n",
        "#     for i in text:\n",
        "#         glove = []\n",
        "#         for j in i:\n",
        "#             glove.extend(j)\n",
        "#         if len(i) < max_len:\n",
        "#             glove.extend(np.zeros((max_len - len(i))*100))\n",
        "#         x_train_glove.append(glove)\n",
        "#     return x_train_glove"
      ],
      "metadata": {
        "id": "mlLSdZ5q43KF"
      },
      "id": "mlLSdZ5q43KF",
      "execution_count": 76,
      "outputs": []
    },
    {
      "cell_type": "code",
      "source": [
        "model = svm.LinearSVC(max_iter=100000)"
      ],
      "metadata": {
        "id": "sA051mpB5CW1"
      },
      "id": "sA051mpB5CW1",
      "execution_count": 77,
      "outputs": []
    },
    {
      "cell_type": "code",
      "source": [
        "model_g = multiclass.OneVsRestClassifier(model)"
      ],
      "metadata": {
        "id": "HiCnL3SM5Slt"
      },
      "id": "HiCnL3SM5Slt",
      "execution_count": 78,
      "outputs": []
    },
    {
      "cell_type": "code",
      "source": [
        "model_g.fit(x_train_glove, y_train)"
      ],
      "metadata": {
        "colab": {
          "base_uri": "https://localhost:8080/"
        },
        "id": "q4TyKYYN5W5E",
        "outputId": "609b55c6-cf49-47fa-9fd5-69edea009425"
      },
      "id": "q4TyKYYN5W5E",
      "execution_count": 79,
      "outputs": [
        {
          "output_type": "execute_result",
          "data": {
            "text/plain": [
              "OneVsRestClassifier(estimator=LinearSVC(max_iter=100000))"
            ]
          },
          "metadata": {},
          "execution_count": 79
        }
      ]
    },
    {
      "cell_type": "code",
      "source": [
        "y_test_predicted_g = model_g.predict(x_test_glove)"
      ],
      "metadata": {
        "id": "CnoxjV0X5Zhk"
      },
      "id": "CnoxjV0X5Zhk",
      "execution_count": 80,
      "outputs": []
    },
    {
      "cell_type": "code",
      "source": [
        "cm = pd.DataFrame(metrics.confusion_matrix(y_test, y_test_predicted_g), columns=df['class'].unique(), index=df['class'].unique())\n",
        "cm"
      ],
      "metadata": {
        "colab": {
          "base_uri": "https://localhost:8080/",
          "height": 570
        },
        "id": "mzCUhi-s5d99",
        "outputId": "57c8918c-cba1-4dfe-cd9a-b9a8cafcf00a"
      },
      "id": "mzCUhi-s5d99",
      "execution_count": 81,
      "outputs": [
        {
          "output_type": "execute_result",
          "data": {
            "text/plain": [
              "               sport  economy  politics  health  tourism  entertainment  \\\n",
              "sport              1        0         0       0        1              0   \n",
              "economy            0        0         0       0        0              0   \n",
              "politics           1        0         0       0        0              0   \n",
              "health             0        0         0       1        0              0   \n",
              "tourism            0        0         0       0        1              0   \n",
              "entertainment      0        0         0       0        0              0   \n",
              "culture            0        0         0       0        0              0   \n",
              "music              1        0         0       0        0              0   \n",
              "education          0        0         0       0        0              0   \n",
              "real estate        0        0         0       0        0              0   \n",
              "nutrition          1        0         0       0        0              0   \n",
              "science            0        0         0       0        0              0   \n",
              "history            1        0         0       0        0              0   \n",
              "technology         0        0         0       0        0              0   \n",
              "\n",
              "               culture  music  education  real estate  nutrition  science  \\\n",
              "sport                0      0          0            0          0        0   \n",
              "economy              1      0          0            0          0        0   \n",
              "politics             0      1          0            0          0        0   \n",
              "health               0      0          1            0          0        0   \n",
              "tourism              0      1          0            0          0        0   \n",
              "entertainment        1      0          0            0          0        0   \n",
              "culture              0      1          0            1          0        0   \n",
              "music                1      0          0            0          0        0   \n",
              "education            0      1          0            0          1        0   \n",
              "real estate          0      1          1            0          0        0   \n",
              "nutrition            0      1          0            0          0        0   \n",
              "science              0      0          0            0          0        2   \n",
              "history              1      0          0            0          0        0   \n",
              "technology           0      1          1            0          0        0   \n",
              "\n",
              "               history  technology  \n",
              "sport                0           0  \n",
              "economy              0           0  \n",
              "politics             0           0  \n",
              "health               0           0  \n",
              "tourism              0           0  \n",
              "entertainment        0           0  \n",
              "culture              0           0  \n",
              "music                0           0  \n",
              "education            0           0  \n",
              "real estate          0           0  \n",
              "nutrition            0           0  \n",
              "science              0           0  \n",
              "history              0           0  \n",
              "technology           0           0  "
            ],
            "text/html": [
              "\n",
              "  <div id=\"df-b34c61b4-b14b-49d5-ba40-4571c671d7e4\">\n",
              "    <div class=\"colab-df-container\">\n",
              "      <div>\n",
              "<style scoped>\n",
              "    .dataframe tbody tr th:only-of-type {\n",
              "        vertical-align: middle;\n",
              "    }\n",
              "\n",
              "    .dataframe tbody tr th {\n",
              "        vertical-align: top;\n",
              "    }\n",
              "\n",
              "    .dataframe thead th {\n",
              "        text-align: right;\n",
              "    }\n",
              "</style>\n",
              "<table border=\"1\" class=\"dataframe\">\n",
              "  <thead>\n",
              "    <tr style=\"text-align: right;\">\n",
              "      <th></th>\n",
              "      <th>sport</th>\n",
              "      <th>economy</th>\n",
              "      <th>politics</th>\n",
              "      <th>health</th>\n",
              "      <th>tourism</th>\n",
              "      <th>entertainment</th>\n",
              "      <th>culture</th>\n",
              "      <th>music</th>\n",
              "      <th>education</th>\n",
              "      <th>real estate</th>\n",
              "      <th>nutrition</th>\n",
              "      <th>science</th>\n",
              "      <th>history</th>\n",
              "      <th>technology</th>\n",
              "    </tr>\n",
              "  </thead>\n",
              "  <tbody>\n",
              "    <tr>\n",
              "      <th>sport</th>\n",
              "      <td>1</td>\n",
              "      <td>0</td>\n",
              "      <td>0</td>\n",
              "      <td>0</td>\n",
              "      <td>1</td>\n",
              "      <td>0</td>\n",
              "      <td>0</td>\n",
              "      <td>0</td>\n",
              "      <td>0</td>\n",
              "      <td>0</td>\n",
              "      <td>0</td>\n",
              "      <td>0</td>\n",
              "      <td>0</td>\n",
              "      <td>0</td>\n",
              "    </tr>\n",
              "    <tr>\n",
              "      <th>economy</th>\n",
              "      <td>0</td>\n",
              "      <td>0</td>\n",
              "      <td>0</td>\n",
              "      <td>0</td>\n",
              "      <td>0</td>\n",
              "      <td>0</td>\n",
              "      <td>1</td>\n",
              "      <td>0</td>\n",
              "      <td>0</td>\n",
              "      <td>0</td>\n",
              "      <td>0</td>\n",
              "      <td>0</td>\n",
              "      <td>0</td>\n",
              "      <td>0</td>\n",
              "    </tr>\n",
              "    <tr>\n",
              "      <th>politics</th>\n",
              "      <td>1</td>\n",
              "      <td>0</td>\n",
              "      <td>0</td>\n",
              "      <td>0</td>\n",
              "      <td>0</td>\n",
              "      <td>0</td>\n",
              "      <td>0</td>\n",
              "      <td>1</td>\n",
              "      <td>0</td>\n",
              "      <td>0</td>\n",
              "      <td>0</td>\n",
              "      <td>0</td>\n",
              "      <td>0</td>\n",
              "      <td>0</td>\n",
              "    </tr>\n",
              "    <tr>\n",
              "      <th>health</th>\n",
              "      <td>0</td>\n",
              "      <td>0</td>\n",
              "      <td>0</td>\n",
              "      <td>1</td>\n",
              "      <td>0</td>\n",
              "      <td>0</td>\n",
              "      <td>0</td>\n",
              "      <td>0</td>\n",
              "      <td>1</td>\n",
              "      <td>0</td>\n",
              "      <td>0</td>\n",
              "      <td>0</td>\n",
              "      <td>0</td>\n",
              "      <td>0</td>\n",
              "    </tr>\n",
              "    <tr>\n",
              "      <th>tourism</th>\n",
              "      <td>0</td>\n",
              "      <td>0</td>\n",
              "      <td>0</td>\n",
              "      <td>0</td>\n",
              "      <td>1</td>\n",
              "      <td>0</td>\n",
              "      <td>0</td>\n",
              "      <td>1</td>\n",
              "      <td>0</td>\n",
              "      <td>0</td>\n",
              "      <td>0</td>\n",
              "      <td>0</td>\n",
              "      <td>0</td>\n",
              "      <td>0</td>\n",
              "    </tr>\n",
              "    <tr>\n",
              "      <th>entertainment</th>\n",
              "      <td>0</td>\n",
              "      <td>0</td>\n",
              "      <td>0</td>\n",
              "      <td>0</td>\n",
              "      <td>0</td>\n",
              "      <td>0</td>\n",
              "      <td>1</td>\n",
              "      <td>0</td>\n",
              "      <td>0</td>\n",
              "      <td>0</td>\n",
              "      <td>0</td>\n",
              "      <td>0</td>\n",
              "      <td>0</td>\n",
              "      <td>0</td>\n",
              "    </tr>\n",
              "    <tr>\n",
              "      <th>culture</th>\n",
              "      <td>0</td>\n",
              "      <td>0</td>\n",
              "      <td>0</td>\n",
              "      <td>0</td>\n",
              "      <td>0</td>\n",
              "      <td>0</td>\n",
              "      <td>0</td>\n",
              "      <td>1</td>\n",
              "      <td>0</td>\n",
              "      <td>1</td>\n",
              "      <td>0</td>\n",
              "      <td>0</td>\n",
              "      <td>0</td>\n",
              "      <td>0</td>\n",
              "    </tr>\n",
              "    <tr>\n",
              "      <th>music</th>\n",
              "      <td>1</td>\n",
              "      <td>0</td>\n",
              "      <td>0</td>\n",
              "      <td>0</td>\n",
              "      <td>0</td>\n",
              "      <td>0</td>\n",
              "      <td>1</td>\n",
              "      <td>0</td>\n",
              "      <td>0</td>\n",
              "      <td>0</td>\n",
              "      <td>0</td>\n",
              "      <td>0</td>\n",
              "      <td>0</td>\n",
              "      <td>0</td>\n",
              "    </tr>\n",
              "    <tr>\n",
              "      <th>education</th>\n",
              "      <td>0</td>\n",
              "      <td>0</td>\n",
              "      <td>0</td>\n",
              "      <td>0</td>\n",
              "      <td>0</td>\n",
              "      <td>0</td>\n",
              "      <td>0</td>\n",
              "      <td>1</td>\n",
              "      <td>0</td>\n",
              "      <td>0</td>\n",
              "      <td>1</td>\n",
              "      <td>0</td>\n",
              "      <td>0</td>\n",
              "      <td>0</td>\n",
              "    </tr>\n",
              "    <tr>\n",
              "      <th>real estate</th>\n",
              "      <td>0</td>\n",
              "      <td>0</td>\n",
              "      <td>0</td>\n",
              "      <td>0</td>\n",
              "      <td>0</td>\n",
              "      <td>0</td>\n",
              "      <td>0</td>\n",
              "      <td>1</td>\n",
              "      <td>1</td>\n",
              "      <td>0</td>\n",
              "      <td>0</td>\n",
              "      <td>0</td>\n",
              "      <td>0</td>\n",
              "      <td>0</td>\n",
              "    </tr>\n",
              "    <tr>\n",
              "      <th>nutrition</th>\n",
              "      <td>1</td>\n",
              "      <td>0</td>\n",
              "      <td>0</td>\n",
              "      <td>0</td>\n",
              "      <td>0</td>\n",
              "      <td>0</td>\n",
              "      <td>0</td>\n",
              "      <td>1</td>\n",
              "      <td>0</td>\n",
              "      <td>0</td>\n",
              "      <td>0</td>\n",
              "      <td>0</td>\n",
              "      <td>0</td>\n",
              "      <td>0</td>\n",
              "    </tr>\n",
              "    <tr>\n",
              "      <th>science</th>\n",
              "      <td>0</td>\n",
              "      <td>0</td>\n",
              "      <td>0</td>\n",
              "      <td>0</td>\n",
              "      <td>0</td>\n",
              "      <td>0</td>\n",
              "      <td>0</td>\n",
              "      <td>0</td>\n",
              "      <td>0</td>\n",
              "      <td>0</td>\n",
              "      <td>0</td>\n",
              "      <td>2</td>\n",
              "      <td>0</td>\n",
              "      <td>0</td>\n",
              "    </tr>\n",
              "    <tr>\n",
              "      <th>history</th>\n",
              "      <td>1</td>\n",
              "      <td>0</td>\n",
              "      <td>0</td>\n",
              "      <td>0</td>\n",
              "      <td>0</td>\n",
              "      <td>0</td>\n",
              "      <td>1</td>\n",
              "      <td>0</td>\n",
              "      <td>0</td>\n",
              "      <td>0</td>\n",
              "      <td>0</td>\n",
              "      <td>0</td>\n",
              "      <td>0</td>\n",
              "      <td>0</td>\n",
              "    </tr>\n",
              "    <tr>\n",
              "      <th>technology</th>\n",
              "      <td>0</td>\n",
              "      <td>0</td>\n",
              "      <td>0</td>\n",
              "      <td>0</td>\n",
              "      <td>0</td>\n",
              "      <td>0</td>\n",
              "      <td>0</td>\n",
              "      <td>1</td>\n",
              "      <td>1</td>\n",
              "      <td>0</td>\n",
              "      <td>0</td>\n",
              "      <td>0</td>\n",
              "      <td>0</td>\n",
              "      <td>0</td>\n",
              "    </tr>\n",
              "  </tbody>\n",
              "</table>\n",
              "</div>\n",
              "      <button class=\"colab-df-convert\" onclick=\"convertToInteractive('df-b34c61b4-b14b-49d5-ba40-4571c671d7e4')\"\n",
              "              title=\"Convert this dataframe to an interactive table.\"\n",
              "              style=\"display:none;\">\n",
              "        \n",
              "  <svg xmlns=\"http://www.w3.org/2000/svg\" height=\"24px\"viewBox=\"0 0 24 24\"\n",
              "       width=\"24px\">\n",
              "    <path d=\"M0 0h24v24H0V0z\" fill=\"none\"/>\n",
              "    <path d=\"M18.56 5.44l.94 2.06.94-2.06 2.06-.94-2.06-.94-.94-2.06-.94 2.06-2.06.94zm-11 1L8.5 8.5l.94-2.06 2.06-.94-2.06-.94L8.5 2.5l-.94 2.06-2.06.94zm10 10l.94 2.06.94-2.06 2.06-.94-2.06-.94-.94-2.06-.94 2.06-2.06.94z\"/><path d=\"M17.41 7.96l-1.37-1.37c-.4-.4-.92-.59-1.43-.59-.52 0-1.04.2-1.43.59L10.3 9.45l-7.72 7.72c-.78.78-.78 2.05 0 2.83L4 21.41c.39.39.9.59 1.41.59.51 0 1.02-.2 1.41-.59l7.78-7.78 2.81-2.81c.8-.78.8-2.07 0-2.86zM5.41 20L4 18.59l7.72-7.72 1.47 1.35L5.41 20z\"/>\n",
              "  </svg>\n",
              "      </button>\n",
              "      \n",
              "  <style>\n",
              "    .colab-df-container {\n",
              "      display:flex;\n",
              "      flex-wrap:wrap;\n",
              "      gap: 12px;\n",
              "    }\n",
              "\n",
              "    .colab-df-convert {\n",
              "      background-color: #E8F0FE;\n",
              "      border: none;\n",
              "      border-radius: 50%;\n",
              "      cursor: pointer;\n",
              "      display: none;\n",
              "      fill: #1967D2;\n",
              "      height: 32px;\n",
              "      padding: 0 0 0 0;\n",
              "      width: 32px;\n",
              "    }\n",
              "\n",
              "    .colab-df-convert:hover {\n",
              "      background-color: #E2EBFA;\n",
              "      box-shadow: 0px 1px 2px rgba(60, 64, 67, 0.3), 0px 1px 3px 1px rgba(60, 64, 67, 0.15);\n",
              "      fill: #174EA6;\n",
              "    }\n",
              "\n",
              "    [theme=dark] .colab-df-convert {\n",
              "      background-color: #3B4455;\n",
              "      fill: #D2E3FC;\n",
              "    }\n",
              "\n",
              "    [theme=dark] .colab-df-convert:hover {\n",
              "      background-color: #434B5C;\n",
              "      box-shadow: 0px 1px 3px 1px rgba(0, 0, 0, 0.15);\n",
              "      filter: drop-shadow(0px 1px 2px rgba(0, 0, 0, 0.3));\n",
              "      fill: #FFFFFF;\n",
              "    }\n",
              "  </style>\n",
              "\n",
              "      <script>\n",
              "        const buttonEl =\n",
              "          document.querySelector('#df-b34c61b4-b14b-49d5-ba40-4571c671d7e4 button.colab-df-convert');\n",
              "        buttonEl.style.display =\n",
              "          google.colab.kernel.accessAllowed ? 'block' : 'none';\n",
              "\n",
              "        async function convertToInteractive(key) {\n",
              "          const element = document.querySelector('#df-b34c61b4-b14b-49d5-ba40-4571c671d7e4');\n",
              "          const dataTable =\n",
              "            await google.colab.kernel.invokeFunction('convertToInteractive',\n",
              "                                                     [key], {});\n",
              "          if (!dataTable) return;\n",
              "\n",
              "          const docLinkHtml = 'Like what you see? Visit the ' +\n",
              "            '<a target=\"_blank\" href=https://colab.research.google.com/notebooks/data_table.ipynb>data table notebook</a>'\n",
              "            + ' to learn more about interactive tables.';\n",
              "          element.innerHTML = '';\n",
              "          dataTable['output_type'] = 'display_data';\n",
              "          await google.colab.output.renderOutput(dataTable, element);\n",
              "          const docLink = document.createElement('div');\n",
              "          docLink.innerHTML = docLinkHtml;\n",
              "          element.appendChild(docLink);\n",
              "        }\n",
              "      </script>\n",
              "    </div>\n",
              "  </div>\n",
              "  "
            ]
          },
          "metadata": {},
          "execution_count": 81
        }
      ]
    },
    {
      "cell_type": "code",
      "source": [
        "print(metrics.classification_report(y_test, y_test_predicted_g))"
      ],
      "metadata": {
        "colab": {
          "base_uri": "https://localhost:8080/"
        },
        "id": "76dZZ6Y75hhc",
        "outputId": "6cb13a46-3048-424b-f098-79f2d52a46c2"
      },
      "id": "76dZZ6Y75hhc",
      "execution_count": 82,
      "outputs": [
        {
          "output_type": "stream",
          "name": "stdout",
          "text": [
            "              precision    recall  f1-score   support\n",
            "\n",
            "           0       0.20      0.50      0.29         2\n",
            "           1       0.00      0.00      0.00         1\n",
            "           2       0.00      0.00      0.00         2\n",
            "           3       1.00      0.50      0.67         2\n",
            "           4       0.50      0.50      0.50         2\n",
            "           5       0.00      0.00      0.00         1\n",
            "           6       0.00      0.00      0.00         2\n",
            "           7       0.00      0.00      0.00         2\n",
            "           8       0.00      0.00      0.00         2\n",
            "           9       0.00      0.00      0.00         2\n",
            "          10       0.00      0.00      0.00         2\n",
            "          11       1.00      1.00      1.00         2\n",
            "          12       0.00      0.00      0.00         2\n",
            "          13       0.00      0.00      0.00         2\n",
            "\n",
            "    accuracy                           0.19        26\n",
            "   macro avg       0.19      0.18      0.18        26\n",
            "weighted avg       0.21      0.19      0.19        26\n",
            "\n"
          ]
        },
        {
          "output_type": "stream",
          "name": "stderr",
          "text": [
            "/usr/local/lib/python3.7/dist-packages/sklearn/metrics/_classification.py:1318: UndefinedMetricWarning: Precision and F-score are ill-defined and being set to 0.0 in labels with no predicted samples. Use `zero_division` parameter to control this behavior.\n",
            "  _warn_prf(average, modifier, msg_start, len(result))\n",
            "/usr/local/lib/python3.7/dist-packages/sklearn/metrics/_classification.py:1318: UndefinedMetricWarning: Precision and F-score are ill-defined and being set to 0.0 in labels with no predicted samples. Use `zero_division` parameter to control this behavior.\n",
            "  _warn_prf(average, modifier, msg_start, len(result))\n",
            "/usr/local/lib/python3.7/dist-packages/sklearn/metrics/_classification.py:1318: UndefinedMetricWarning: Precision and F-score are ill-defined and being set to 0.0 in labels with no predicted samples. Use `zero_division` parameter to control this behavior.\n",
            "  _warn_prf(average, modifier, msg_start, len(result))\n"
          ]
        }
      ]
    },
    {
      "cell_type": "code",
      "source": [
        "metrics.f1_score(y_test, y_test_predicted_g, average='macro')"
      ],
      "metadata": {
        "colab": {
          "base_uri": "https://localhost:8080/"
        },
        "id": "UOWaB1Q75mRc",
        "outputId": "8be1d5a5-4e83-4193-81a7-3a8491fd29b9"
      },
      "id": "UOWaB1Q75mRc",
      "execution_count": 83,
      "outputs": [
        {
          "output_type": "execute_result",
          "data": {
            "text/plain": [
              "0.17517006802721088"
            ]
          },
          "metadata": {},
          "execution_count": 83
        }
      ]
    },
    {
      "cell_type": "code",
      "source": [
        "maxlen = max([x_train_t_tfidf[i].data.shape[0] for i in range(x_train_t_tfidf.shape[0])])\n",
        "maxlen = 500"
      ],
      "metadata": {
        "id": "HTxxC1BR5tyk"
      },
      "id": "HTxxC1BR5tyk",
      "execution_count": 92,
      "outputs": []
    },
    {
      "cell_type": "code",
      "source": [
        "x_train_t_tfidf = sequence.pad_sequences([x.data for x in x_train_t_tfidf], maxlen=maxlen, dtype='float16')\n",
        "x_test_t_tfidf = sequence.pad_sequences([x.data for x in x_test_t_tfidf], maxlen=maxlen, dtype='float16')"
      ],
      "metadata": {
        "id": "XZ6V9Z7cHzhi"
      },
      "id": "XZ6V9Z7cHzhi",
      "execution_count": 93,
      "outputs": []
    },
    {
      "cell_type": "code",
      "source": [
        "vocabulary_size = len(count_vectorizer_t.vocabulary_)\n",
        "vocabulary_size"
      ],
      "metadata": {
        "colab": {
          "base_uri": "https://localhost:8080/"
        },
        "id": "ZYIs-faDH1-x",
        "outputId": "33e7b11d-4a13-41fa-ea53-a4a9d3303094"
      },
      "id": "ZYIs-faDH1-x",
      "execution_count": 94,
      "outputs": [
        {
          "output_type": "execute_result",
          "data": {
            "text/plain": [
              "3170"
            ]
          },
          "metadata": {},
          "execution_count": 94
        }
      ]
    },
    {
      "cell_type": "code",
      "source": [
        "y_train = utils.to_categorical(y_train, 14)\n",
        "y_test = utils.to_categorical(y_test, 14)\n",
        "y_test"
      ],
      "metadata": {
        "colab": {
          "base_uri": "https://localhost:8080/"
        },
        "id": "IUpA52XkH7v7",
        "outputId": "966a223c-9a9d-43a0-8d3f-aa34b92f53b4"
      },
      "id": "IUpA52XkH7v7",
      "execution_count": 90,
      "outputs": [
        {
          "output_type": "execute_result",
          "data": {
            "text/plain": [
              "array([[0., 0., 0., 1., 0., 0., 0., 0., 0., 0., 0., 0., 0., 0.],\n",
              "       [0., 0., 0., 0., 0., 0., 0., 1., 0., 0., 0., 0., 0., 0.],\n",
              "       [0., 0., 0., 0., 0., 0., 0., 0., 0., 1., 0., 0., 0., 0.],\n",
              "       [0., 0., 0., 0., 1., 0., 0., 0., 0., 0., 0., 0., 0., 0.],\n",
              "       [0., 0., 0., 0., 0., 0., 0., 0., 0., 0., 0., 1., 0., 0.],\n",
              "       [1., 0., 0., 0., 0., 0., 0., 0., 0., 0., 0., 0., 0., 0.],\n",
              "       [0., 0., 0., 0., 0., 0., 0., 1., 0., 0., 0., 0., 0., 0.],\n",
              "       [0., 0., 0., 0., 0., 0., 1., 0., 0., 0., 0., 0., 0., 0.],\n",
              "       [0., 0., 0., 0., 1., 0., 0., 0., 0., 0., 0., 0., 0., 0.],\n",
              "       [0., 0., 0., 0., 0., 0., 0., 0., 0., 0., 0., 0., 1., 0.],\n",
              "       [0., 0., 1., 0., 0., 0., 0., 0., 0., 0., 0., 0., 0., 0.],\n",
              "       [0., 0., 0., 0., 0., 0., 0., 0., 0., 0., 0., 0., 0., 1.],\n",
              "       [0., 0., 0., 0., 0., 0., 0., 0., 0., 0., 0., 0., 1., 0.],\n",
              "       [0., 1., 0., 0., 0., 0., 0., 0., 0., 0., 0., 0., 0., 0.],\n",
              "       [0., 0., 0., 0., 0., 0., 0., 0., 1., 0., 0., 0., 0., 0.],\n",
              "       [0., 0., 0., 0., 0., 0., 0., 0., 0., 0., 0., 1., 0., 0.],\n",
              "       [0., 0., 0., 1., 0., 0., 0., 0., 0., 0., 0., 0., 0., 0.],\n",
              "       [0., 0., 0., 0., 0., 0., 0., 0., 1., 0., 0., 0., 0., 0.],\n",
              "       [0., 0., 0., 0., 0., 0., 1., 0., 0., 0., 0., 0., 0., 0.],\n",
              "       [1., 0., 0., 0., 0., 0., 0., 0., 0., 0., 0., 0., 0., 0.],\n",
              "       [0., 0., 0., 0., 0., 1., 0., 0., 0., 0., 0., 0., 0., 0.],\n",
              "       [0., 0., 0., 0., 0., 0., 0., 0., 0., 0., 0., 0., 0., 1.],\n",
              "       [0., 0., 0., 0., 0., 0., 0., 0., 0., 0., 1., 0., 0., 0.],\n",
              "       [0., 0., 0., 0., 0., 0., 0., 0., 0., 0., 1., 0., 0., 0.],\n",
              "       [0., 0., 1., 0., 0., 0., 0., 0., 0., 0., 0., 0., 0., 0.],\n",
              "       [0., 0., 0., 0., 0., 0., 0., 0., 0., 1., 0., 0., 0., 0.]],\n",
              "      dtype=float32)"
            ]
          },
          "metadata": {},
          "execution_count": 90
        }
      ]
    },
    {
      "cell_type": "code",
      "source": [
        "model = Sequential([Embedding(vocabulary_size, 128, input_length=maxlen), \n",
        "                    Conv1D(100, 2, activation='relu'), \n",
        "                    MaxPool1D(pool_size=14),\n",
        "                    Conv1D(48, 14, activation='relu'), \n",
        "                    # MaxPool1D(pool_size=14),\n",
        "                    # Conv1D(48, 7, activation='sigmoid'), \n",
        "                    # MaxPool1D(pool_size=5),\n",
        "                    GlobalMaxPool1D(),\n",
        "                    Flatten(),\n",
        "                    Dense(units=256, activation='relu'),\n",
        "                    Dense(14, activation='softmax')\n",
        "                   ]) "
      ],
      "metadata": {
        "id": "bQ-ty3M1INCS"
      },
      "id": "bQ-ty3M1INCS",
      "execution_count": 95,
      "outputs": []
    },
    {
      "cell_type": "code",
      "source": [
        "model.summary()"
      ],
      "metadata": {
        "colab": {
          "base_uri": "https://localhost:8080/"
        },
        "id": "g4Lx67K6IZSL",
        "outputId": "3587cd84-5f98-4ca8-acb6-0dc2b5ffb7d6"
      },
      "id": "g4Lx67K6IZSL",
      "execution_count": 96,
      "outputs": [
        {
          "output_type": "stream",
          "name": "stdout",
          "text": [
            "Model: \"sequential_1\"\n",
            "_________________________________________________________________\n",
            " Layer (type)                Output Shape              Param #   \n",
            "=================================================================\n",
            " embedding_1 (Embedding)     (None, 500, 128)          405760    \n",
            "                                                                 \n",
            " conv1d_2 (Conv1D)           (None, 499, 100)          25700     \n",
            "                                                                 \n",
            " max_pooling1d_1 (MaxPooling  (None, 35, 100)          0         \n",
            " 1D)                                                             \n",
            "                                                                 \n",
            " conv1d_3 (Conv1D)           (None, 22, 48)            67248     \n",
            "                                                                 \n",
            " global_max_pooling1d_1 (Glo  (None, 48)               0         \n",
            " balMaxPooling1D)                                                \n",
            "                                                                 \n",
            " flatten_1 (Flatten)         (None, 48)                0         \n",
            "                                                                 \n",
            " dense_2 (Dense)             (None, 256)               12544     \n",
            "                                                                 \n",
            " dense_3 (Dense)             (None, 14)                3598      \n",
            "                                                                 \n",
            "=================================================================\n",
            "Total params: 514,850\n",
            "Trainable params: 514,850\n",
            "Non-trainable params: 0\n",
            "_________________________________________________________________\n"
          ]
        }
      ]
    },
    {
      "cell_type": "code",
      "source": [
        "model.compile(loss=BinaryCrossentropy(), optimizer=Adam(learning_rate=0.001), metrics=['accuracy'])"
      ],
      "metadata": {
        "id": "AfxAjtZoIr-k"
      },
      "id": "AfxAjtZoIr-k",
      "execution_count": 97,
      "outputs": []
    },
    {
      "cell_type": "code",
      "source": [
        "history = model.fit(x_train_t_tfidf, y_train, epochs=10, batch_size=256, validation_split=0.2, verbose=1)"
      ],
      "metadata": {
        "colab": {
          "base_uri": "https://localhost:8080/"
        },
        "id": "_ySvRVKBIvD8",
        "outputId": "a690040b-afe7-4cab-fa0c-b8979a5b110e"
      },
      "id": "_ySvRVKBIvD8",
      "execution_count": 98,
      "outputs": [
        {
          "output_type": "stream",
          "name": "stdout",
          "text": [
            "Epoch 1/10\n",
            "1/1 [==============================] - 4s 4s/step - loss: 0.6928 - accuracy: 0.0435 - val_loss: 0.6863 - val_accuracy: 0.0833\n",
            "Epoch 2/10\n",
            "1/1 [==============================] - 0s 411ms/step - loss: 0.6865 - accuracy: 0.0435 - val_loss: 0.6789 - val_accuracy: 0.0833\n",
            "Epoch 3/10\n",
            "1/1 [==============================] - 0s 259ms/step - loss: 0.6790 - accuracy: 0.0435 - val_loss: 0.6687 - val_accuracy: 0.0833\n",
            "Epoch 4/10\n",
            "1/1 [==============================] - 0s 315ms/step - loss: 0.6687 - accuracy: 0.0652 - val_loss: 0.6543 - val_accuracy: 0.0833\n",
            "Epoch 5/10\n",
            "1/1 [==============================] - 0s 417ms/step - loss: 0.6543 - accuracy: 0.0652 - val_loss: 0.6354 - val_accuracy: 0.0833\n",
            "Epoch 6/10\n",
            "1/1 [==============================] - 0s 370ms/step - loss: 0.6353 - accuracy: 0.0652 - val_loss: 0.6113 - val_accuracy: 0.0833\n",
            "Epoch 7/10\n",
            "1/1 [==============================] - 0s 337ms/step - loss: 0.6111 - accuracy: 0.0652 - val_loss: 0.5814 - val_accuracy: 0.0833\n",
            "Epoch 8/10\n",
            "1/1 [==============================] - 0s 304ms/step - loss: 0.5810 - accuracy: 0.0652 - val_loss: 0.5455 - val_accuracy: 0.0833\n",
            "Epoch 9/10\n",
            "1/1 [==============================] - 0s 360ms/step - loss: 0.5450 - accuracy: 0.0652 - val_loss: 0.5040 - val_accuracy: 0.0833\n",
            "Epoch 10/10\n",
            "1/1 [==============================] - 0s 342ms/step - loss: 0.5033 - accuracy: 0.0652 - val_loss: 0.4581 - val_accuracy: 0.0833\n"
          ]
        }
      ]
    },
    {
      "cell_type": "code",
      "source": [
        "plt.figure(figsize=(10, 4))\n",
        "\n",
        "plt.subplot(1, 2, 1)\n",
        "plt.title('Loss')\n",
        "plt.plot(history.epoch, history.history['loss'], label='training')\n",
        "plt.plot(history.epoch, history.history['val_loss'], label='validation')\n",
        "plt.legend(loc='best')\n",
        "\n",
        "plt.subplot(1, 2, 2)\n",
        "plt.title('Accuracy')\n",
        "plt.plot(history.epoch, history.history['accuracy'], label='training')\n",
        "plt.plot(history.epoch, history.history['val_accuracy'], label='validation')\n",
        "plt.legend(loc='best')\n",
        "\n",
        "plt.show()"
      ],
      "metadata": {
        "colab": {
          "base_uri": "https://localhost:8080/",
          "height": 281
        },
        "id": "gthXcCkTIw9M",
        "outputId": "49d7a311-a730-456e-e6b4-7bf7d06d2407"
      },
      "id": "gthXcCkTIw9M",
      "execution_count": 99,
      "outputs": [
        {
          "output_type": "display_data",
          "data": {
            "text/plain": [
              "<Figure size 720x288 with 2 Axes>"
            ],
            "image/png": "[encoded data removed]"
          },
          "metadata": {
            "needs_background": "light"
          }
        }
      ]
    },
    {
      "cell_type": "code",
      "source": [
        "train_scores = model.evaluate(x_train_t_tfidf, y_train)"
      ],
      "metadata": {
        "colab": {
          "base_uri": "https://localhost:8080/"
        },
        "id": "XSRiAfzII2l0",
        "outputId": "5f7913e8-2f48-4bf1-fbec-1e8d16cbebf2"
      },
      "id": "XSRiAfzII2l0",
      "execution_count": 100,
      "outputs": [
        {
          "output_type": "stream",
          "name": "stdout",
          "text": [
            "2/2 [==============================] - 0s 35ms/step - loss: 0.4574 - accuracy: 0.0517\n"
          ]
        }
      ]
    },
    {
      "cell_type": "code",
      "source": [
        "train_scores"
      ],
      "metadata": {
        "colab": {
          "base_uri": "https://localhost:8080/"
        },
        "id": "2PAebDLhI7Yk",
        "outputId": "55fa7b50-efed-4eb5-db96-6dc2b45f9fe2"
      },
      "id": "2PAebDLhI7Yk",
      "execution_count": 101,
      "outputs": [
        {
          "output_type": "execute_result",
          "data": {
            "text/plain": [
              "[0.45735493302345276, 0.0517241396009922]"
            ]
          },
          "metadata": {},
          "execution_count": 101
        }
      ]
    },
    {
      "cell_type": "code",
      "source": [
        "test_scores = model.evaluate(x_test_t_tfidf, y_test)"
      ],
      "metadata": {
        "colab": {
          "base_uri": "https://localhost:8080/"
        },
        "id": "oalrGlzXI9Es",
        "outputId": "87811e70-1033-4953-f1de-7eca76564bbb"
      },
      "id": "oalrGlzXI9Es",
      "execution_count": 102,
      "outputs": [
        {
          "output_type": "stream",
          "name": "stdout",
          "text": [
            "1/1 [==============================] - 0s 90ms/step - loss: 0.4562 - accuracy: 0.0769\n"
          ]
        }
      ]
    },
    {
      "cell_type": "code",
      "source": [
        "test_scores"
      ],
      "metadata": {
        "colab": {
          "base_uri": "https://localhost:8080/"
        },
        "id": "8aqc3wGXI_ft",
        "outputId": "2e949508-96f9-4aa4-c532-21586cfa7f5e"
      },
      "id": "8aqc3wGXI_ft",
      "execution_count": 103,
      "outputs": [
        {
          "output_type": "execute_result",
          "data": {
            "text/plain": [
              "[0.4562419354915619, 0.07692307978868484]"
            ]
          },
          "metadata": {},
          "execution_count": 103
        }
      ]
    },
    {
      "cell_type": "code",
      "source": [
        "maxlen = max([x_train_l_tfidf[i].data.shape[0] for i in range(x_train_l_tfidf.shape[0])])\n",
        "maxlen = 500"
      ],
      "metadata": {
        "id": "MIfIQKrnJBrF"
      },
      "id": "MIfIQKrnJBrF",
      "execution_count": 126,
      "outputs": []
    },
    {
      "cell_type": "code",
      "source": [
        "x_train_l_tfidf = sequence.pad_sequences([x.data for x in x_train_l_tfidf], maxlen=maxlen, dtype='float16')\n",
        "x_test_l_tfidf = sequence.pad_sequences([x.data for x in x_test_l_tfidf], maxlen=maxlen, dtype='float16')"
      ],
      "metadata": {
        "id": "i3MrSkDAK6C3"
      },
      "id": "i3MrSkDAK6C3",
      "execution_count": 105,
      "outputs": []
    },
    {
      "cell_type": "code",
      "source": [
        "vocabulary_size = len(count_vectorizer_l.vocabulary_)"
      ],
      "metadata": {
        "id": "IeG7Qx2sK8_Y"
      },
      "id": "IeG7Qx2sK8_Y",
      "execution_count": 127,
      "outputs": []
    },
    {
      "cell_type": "code",
      "source": [
        "model = Sequential([Embedding(vocabulary_size, 128, input_length=maxlen), \n",
        "                    Conv1D(48, 10, activation='sigmoid'), \n",
        "                    MaxPool1D(pool_size=48),\n",
        "                    # Conv1D(48, 7, activation='sigmoid'), \n",
        "                    # MaxPool1D(pool_size=5),\n",
        "                    GlobalMaxPool1D(),\n",
        "                    Flatten(),\n",
        "                    Dense(14, activation='softmax')\n",
        "                   ]) "
      ],
      "metadata": {
        "id": "m9L_faHUK__f"
      },
      "id": "m9L_faHUK__f",
      "execution_count": 138,
      "outputs": []
    },
    {
      "cell_type": "code",
      "source": [
        "model.summary()"
      ],
      "metadata": {
        "colab": {
          "base_uri": "https://localhost:8080/"
        },
        "id": "-skJdQXMLHpx",
        "outputId": "0fa9fd57-3894-437d-8a06-70f81b312a1b"
      },
      "id": "-skJdQXMLHpx",
      "execution_count": 139,
      "outputs": [
        {
          "output_type": "stream",
          "name": "stdout",
          "text": [
            "Model: \"sequential_9\"\n",
            "_________________________________________________________________\n",
            " Layer (type)                Output Shape              Param #   \n",
            "=================================================================\n",
            " embedding_10 (Embedding)    (None, 500, 128)          460672    \n",
            "                                                                 \n",
            " conv1d_12 (Conv1D)          (None, 491, 48)           61488     \n",
            "                                                                 \n",
            " max_pooling1d_9 (MaxPooling  (None, 10, 48)           0         \n",
            " 1D)                                                             \n",
            "                                                                 \n",
            " global_max_pooling1d_9 (Glo  (None, 48)               0         \n",
            " balMaxPooling1D)                                                \n",
            "                                                                 \n",
            " flatten_9 (Flatten)         (None, 48)                0         \n",
            "                                                                 \n",
            " dense_14 (Dense)            (None, 14)                686       \n",
            "                                                                 \n",
            "=================================================================\n",
            "Total params: 522,846\n",
            "Trainable params: 522,846\n",
            "Non-trainable params: 0\n",
            "_________________________________________________________________\n"
          ]
        }
      ]
    },
    {
      "cell_type": "code",
      "source": [
        "model.compile(loss=BinaryCrossentropy(), optimizer=Adam(learning_rate=0.0001), metrics=['accuracy'])"
      ],
      "metadata": {
        "id": "WALybCCILKHP"
      },
      "id": "WALybCCILKHP",
      "execution_count": 140,
      "outputs": []
    },
    {
      "cell_type": "code",
      "source": [
        "history = model.fit(x_train_l_tfidf, y_train, epochs=10, batch_size=128, validation_split=0.2, verbose=1)"
      ],
      "metadata": {
        "colab": {
          "base_uri": "https://localhost:8080/"
        },
        "id": "DWhaHzEoLPcw",
        "outputId": "b2e08761-ef0d-4414-fa87-0e2394f8bd27"
      },
      "id": "DWhaHzEoLPcw",
      "execution_count": 141,
      "outputs": [
        {
          "output_type": "stream",
          "name": "stdout",
          "text": [
            "Epoch 1/10\n",
            "1/1 [==============================] - 1s 1s/step - loss: 0.7874 - accuracy: 0.1087 - val_loss: 0.7871 - val_accuracy: 0.0833\n",
            "Epoch 2/10\n",
            "1/1 [==============================] - 0s 309ms/step - loss: 0.7857 - accuracy: 0.1087 - val_loss: 0.7854 - val_accuracy: 0.0833\n",
            "Epoch 3/10\n",
            "1/1 [==============================] - 0s 319ms/step - loss: 0.7839 - accuracy: 0.1087 - val_loss: 0.7836 - val_accuracy: 0.0833\n",
            "Epoch 4/10\n",
            "1/1 [==============================] - 0s 317ms/step - loss: 0.7822 - accuracy: 0.1087 - val_loss: 0.7819 - val_accuracy: 0.0833\n",
            "Epoch 5/10\n",
            "1/1 [==============================] - 0s 339ms/step - loss: 0.7804 - accuracy: 0.1087 - val_loss: 0.7801 - val_accuracy: 0.0833\n",
            "Epoch 6/10\n",
            "1/1 [==============================] - 0s 369ms/step - loss: 0.7787 - accuracy: 0.1087 - val_loss: 0.7784 - val_accuracy: 0.0833\n",
            "Epoch 7/10\n",
            "1/1 [==============================] - 0s 341ms/step - loss: 0.7769 - accuracy: 0.1087 - val_loss: 0.7767 - val_accuracy: 0.0833\n",
            "Epoch 8/10\n",
            "1/1 [==============================] - 0s 313ms/step - loss: 0.7752 - accuracy: 0.1087 - val_loss: 0.7749 - val_accuracy: 0.0833\n",
            "Epoch 9/10\n",
            "1/1 [==============================] - 0s 319ms/step - loss: 0.7735 - accuracy: 0.1087 - val_loss: 0.7732 - val_accuracy: 0.0833\n",
            "Epoch 10/10\n",
            "1/1 [==============================] - 0s 301ms/step - loss: 0.7717 - accuracy: 0.1087 - val_loss: 0.7715 - val_accuracy: 0.0833\n"
          ]
        }
      ]
    },
    {
      "cell_type": "code",
      "source": [
        "plt.figure(figsize=(10, 4))\n",
        "\n",
        "plt.subplot(1, 2, 1)\n",
        "plt.title('Loss')\n",
        "plt.plot(history.epoch, history.history['loss'], label='training')\n",
        "plt.plot(history.epoch, history.history['val_loss'], label='validation')\n",
        "plt.legend(loc='best')\n",
        "\n",
        "plt.subplot(1, 2, 2)\n",
        "plt.title('Accuracy')\n",
        "plt.plot(history.epoch, history.history['accuracy'], label='training')\n",
        "plt.plot(history.epoch, history.history['val_accuracy'], label='validation')\n",
        "plt.legend(loc='best')\n",
        "\n",
        "plt.show()"
      ],
      "metadata": {
        "colab": {
          "base_uri": "https://localhost:8080/",
          "height": 281
        },
        "id": "m2fP2tjCLRiQ",
        "outputId": "3317f7a5-f0f0-4571-d8f6-e11dc69626b3"
      },
      "id": "m2fP2tjCLRiQ",
      "execution_count": 142,
      "outputs": [
        {
          "output_type": "display_data",
          "data": {
            "text/plain": [
              "<Figure size 720x288 with 2 Axes>"
            ],
            "image/png": "[encoded data removed]"
          },
          "metadata": {
            "needs_background": "light"
          }
        }
      ]
    },
    {
      "cell_type": "code",
      "source": [
        "train_scores = model.evaluate(x_train_l_tfidf, y_train)"
      ],
      "metadata": {
        "colab": {
          "base_uri": "https://localhost:8080/"
        },
        "id": "IX-g2mu_LZBH",
        "outputId": "ae490c52-10bd-4b30-b2a1-961ab797416b"
      },
      "id": "IX-g2mu_LZBH",
      "execution_count": 143,
      "outputs": [
        {
          "output_type": "stream",
          "name": "stdout",
          "text": [
            "2/2 [==============================] - 0s 48ms/step - loss: 0.7703 - accuracy: 0.1034\n"
          ]
        }
      ]
    },
    {
      "cell_type": "code",
      "source": [
        "train_scores"
      ],
      "metadata": {
        "colab": {
          "base_uri": "https://localhost:8080/"
        },
        "id": "ER2UAQ81Mzba",
        "outputId": "0eecdafe-f65d-4a20-c8f7-5cb945b27c0a"
      },
      "id": "ER2UAQ81Mzba",
      "execution_count": 144,
      "outputs": [
        {
          "output_type": "execute_result",
          "data": {
            "text/plain": [
              "[0.7702946066856384, 0.1034482792019844]"
            ]
          },
          "metadata": {},
          "execution_count": 144
        }
      ]
    },
    {
      "cell_type": "code",
      "source": [
        "test_scores = model.evaluate(x_test_l_tfidf, y_test)"
      ],
      "metadata": {
        "colab": {
          "base_uri": "https://localhost:8080/"
        },
        "id": "x5zTxjcmM1d6",
        "outputId": "e011d364-5d53-4806-bfce-11fceda2751f"
      },
      "id": "x5zTxjcmM1d6",
      "execution_count": 145,
      "outputs": [
        {
          "output_type": "stream",
          "name": "stdout",
          "text": [
            "1/1 [==============================] - 0s 83ms/step - loss: 0.7726 - accuracy: 0.0769\n"
          ]
        }
      ]
    },
    {
      "cell_type": "code",
      "source": [
        "test_scores"
      ],
      "metadata": {
        "colab": {
          "base_uri": "https://localhost:8080/"
        },
        "id": "tsAC109QM3fJ",
        "outputId": "0b25c2c7-79af-4ed7-f750-a57acdbf8a1f"
      },
      "id": "tsAC109QM3fJ",
      "execution_count": 146,
      "outputs": [
        {
          "output_type": "execute_result",
          "data": {
            "text/plain": [
              "[0.7725589275360107, 0.07692307978868484]"
            ]
          },
          "metadata": {},
          "execution_count": 146
        }
      ]
    },
    {
      "cell_type": "code",
      "source": [],
      "metadata": {
        "id": "m79mRMSyM6Rj"
      },
      "id": "m79mRMSyM6Rj",
      "execution_count": null,
      "outputs": []
    }
  ],
  "metadata": {
    "kernelspec": {
      "display_name": "Python 3",
      "language": "python",
      "name": "python3"
    },
    "language_info": {
      "codemirror_mode": {
        "name": "ipython",
        "version": 3
      },
      "file_extension": ".py",
      "mimetype": "text/x-python",
      "name": "python",
      "nbconvert_exporter": "python",
      "pygments_lexer": "ipython3",
      "version": "3.8.8"
    },
    "colab": {
      "provenance": [],
      "collapsed_sections": []
    }
  },
  "nbformat": 4,
  "nbformat_minor": 5
}