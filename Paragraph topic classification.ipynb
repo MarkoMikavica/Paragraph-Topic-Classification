{
  "cells": [
    {
      "cell_type": "code",
      "source": [
        "!pip install wikipedia"
      ],
      "metadata": {
        "colab": {
          "base_uri": "https://localhost:8080/"
        },
        "id": "qLGIO88pxp_H",
        "outputId": "b5966fb1-3d66-45ea-8a6b-b0fc8df38dd1"
      },
      "id": "qLGIO88pxp_H",
      "execution_count": 92,
      "outputs": [
        {
          "output_type": "stream",
          "name": "stdout",
          "text": [
            "Looking in indexes: https://pypi.org/simple, https://us-python.pkg.dev/colab-wheels/public/simple/\n",
            "Requirement already satisfied: wikipedia in /usr/local/lib/python3.7/dist-packages (1.4.0)\n",
            "Requirement already satisfied: requests<3.0.0,>=2.0.0 in /usr/local/lib/python3.7/dist-packages (from wikipedia) (2.23.0)\n",
            "Requirement already satisfied: beautifulsoup4 in /usr/local/lib/python3.7/dist-packages (from wikipedia) (4.6.3)\n",
            "Requirement already satisfied: chardet<4,>=3.0.2 in /usr/local/lib/python3.7/dist-packages (from requests<3.0.0,>=2.0.0->wikipedia) (3.0.4)\n",
            "Requirement already satisfied: idna<3,>=2.5 in /usr/local/lib/python3.7/dist-packages (from requests<3.0.0,>=2.0.0->wikipedia) (2.10)\n",
            "Requirement already satisfied: urllib3!=1.25.0,!=1.25.1,<1.26,>=1.21.1 in /usr/local/lib/python3.7/dist-packages (from requests<3.0.0,>=2.0.0->wikipedia) (1.24.3)\n",
            "Requirement already satisfied: certifi>=2017.4.17 in /usr/local/lib/python3.7/dist-packages (from requests<3.0.0,>=2.0.0->wikipedia) (2022.6.15)\n"
          ]
        }
      ]
    },
    {
      "cell_type": "code",
      "execution_count": 93,
      "id": "30988ca8",
      "metadata": {
        "id": "30988ca8"
      },
      "outputs": [],
      "source": [
        "import wikipedia\n",
        "# import wikipediaapi \n",
        "import datetime\n",
        "import pandas as pd\n",
        "import numpy as np\n",
        "from sklearn import feature_extraction\n",
        "from sklearn import model_selection\n",
        "import nltk\n",
        "from nltk import tokenize\n",
        "from nltk import word_tokenize, pos_tag\n",
        "import string\n",
        "from keras.preprocessing.text import Tokenizer\n",
        "from sklearn import svm\n",
        "from sklearn import multiclass\n",
        "from sklearn import metrics\n",
        "from tensorflow.keras.datasets import imdb\n",
        "from tensorflow.keras.preprocessing import sequence\n",
        "from tensorflow.keras.models import Sequential\n",
        "from tensorflow.keras.layers import Embedding, Dense, Flatten\n",
        "from tensorflow.keras.layers import Embedding, Conv1D, MaxPool1D, GlobalMaxPool1D, Dense\n",
        "from tensorflow.keras.losses import BinaryCrossentropy\n",
        "from tensorflow.keras.optimizers import Adam\n",
        "import matplotlib.pyplot as plt"
      ]
    },
    {
      "cell_type": "code",
      "execution_count": 94,
      "id": "9dba27a7",
      "metadata": {
        "id": "9dba27a7"
      },
      "outputs": [],
      "source": [
        "classes = ['sport', 'economy', 'politics', 'health', 'tourism', \n",
        "           'entertainment', 'culture', 'music', 'education', \n",
        "           'real estate', 'nutrition', 'science', 'history', 'technology'\n",
        "          ]"
      ]
    },
    {
      "cell_type": "code",
      "execution_count": 95,
      "id": "514ed559",
      "metadata": {
        "id": "514ed559"
      },
      "outputs": [],
      "source": [
        "def generate_data(classes, n):\n",
        "    data = [];\n",
        "    for i in classes:\n",
        "#         topics = wikipedia.search(i, results = n)\n",
        "#         for j in topics:\n",
        "#         print(classes)\n",
        "#         print(\"Class: \", i)\n",
        "        for j in list(wikipedia.search(i,results = n)):\n",
        "            wiki_wiki = wikipediaapi.Wikipedia('en')\n",
        "            page_py = wiki_wiki.page(j)\n",
        "            if(page_py.exists()):\n",
        "#                 print(\"Class: \", i)\n",
        "#                 print(\"Title: \", j)\n",
        "#                     print(\"Section: \", page_py.sections[0].title)\n",
        "#                     print(\"Text: \", page_py.text)\n",
        "                for k in page_py.categories:\n",
        "                    if i in k.lower(): \n",
        "#                         print(\"Class: \", i)\n",
        "                        data.append((i, page_py.summary))\n",
        "                        break\n",
        "            else:\n",
        "                continue\n",
        "    return data"
      ]
    },
    {
      "cell_type": "code",
      "execution_count": 96,
      "id": "1e769b6f",
      "metadata": {
        "id": "1e769b6f"
      },
      "outputs": [],
      "source": [
        "# data = generate_data(classes, 10)"
      ]
    },
    {
      "cell_type": "code",
      "execution_count": 97,
      "id": "de782fcc",
      "metadata": {
        "id": "de782fcc"
      },
      "outputs": [],
      "source": [
        "# for i in classes:\n",
        "#     c = 0\n",
        "#     for j in range(0, len(data)):\n",
        "#         if(data[j][0] == i):\n",
        "#             c = c + 1\n",
        "#     print(\"%s %d\" %(i, c))"
      ]
    },
    {
      "cell_type": "code",
      "execution_count": 98,
      "id": "e0b7afbf",
      "metadata": {
        "id": "e0b7afbf"
      },
      "outputs": [],
      "source": [
        "def create_data_csv_file(name, data):\n",
        "    name = name + '.csv'\n",
        "#         '_' + str(datetime.datetime.now()).replace(' ', '_').replace('.', '-').replace(':', '-') + \n",
        "#         '.csv'\n",
        "    sep = '<>'\n",
        "    cols = 'class' + sep + 'text\\n'\n",
        "    with open(name, 'w+', encoding='utf-8') as file:\n",
        "        file.write(cols)\n",
        "#         YELLOW,SMALL,STRETCH,ADULT,T\n",
        "        for i in range(0, len(data)):\n",
        "            line = data[i][0] + sep + data[i][1].replace('\\n', ' ')\n",
        "\n",
        "            file.write(line)\n",
        "            file.write('\\n')\n",
        "    file.close()\n",
        "            \n",
        "#     print(text)"
      ]
    },
    {
      "cell_type": "code",
      "execution_count": 99,
      "id": "f41f93bc",
      "metadata": {
        "id": "f41f93bc"
      },
      "outputs": [],
      "source": [
        "# create_data_csv_file('data_10', data)"
      ]
    },
    {
      "cell_type": "code",
      "execution_count": 100,
      "id": "d972ed0e",
      "metadata": {
        "colab": {
          "base_uri": "https://localhost:8080/",
          "height": 478
        },
        "id": "d972ed0e",
        "outputId": "84dabb23-745e-40f8-de02-f5a207d99b10"
      },
      "outputs": [
        {
          "output_type": "stream",
          "name": "stderr",
          "text": [
            "/usr/local/lib/python3.7/dist-packages/pandas/util/_decorators.py:311: ParserWarning: Falling back to the 'python' engine because the 'c' engine does not support regex separators (separators > 1 char and different from '\\s+' are interpreted as regex); you can avoid this warning by specifying engine='python'.\n",
            "  return func(*args, **kwargs)\n"
          ]
        },
        {
          "output_type": "execute_result",
          "data": {
            "text/plain": [
              "          class                                               text\n",
              "0         sport  Sport pertains to any form of competitive phys...\n",
              "1         sport  Sport was an American sports magazine. Launche...\n",
              "2         sport  Sport, Sport, Sport (Russian: Спорт, спорт, сп...\n",
              "3         sport  Sport Lisboa e Benfica  (Portuguese pronunciat...\n",
              "4         sport  Sport diving is an underwater sport that uses ...\n",
              "..          ...                                                ...\n",
              "100  technology  Fintech a portmanteau of \"financial technology...\n",
              "101  technology  TCL Technology (originally an abbreviation for...\n",
              "102  technology  Space technology is technology for use in oute...\n",
              "103  technology  A technology company (or tech company) is an e...\n",
              "104  technology  Agricultural technology or agrotechnology (abb...\n",
              "\n",
              "[105 rows x 2 columns]"
            ],
            "text/html": [
              "\n",
              "  <div id=\"df-c09ced05-09aa-4c58-b68a-91881695ac9d\">\n",
              "    <div class=\"colab-df-container\">\n",
              "      <div>\n",
              "<style scoped>\n",
              "    .dataframe tbody tr th:only-of-type {\n",
              "        vertical-align: middle;\n",
              "    }\n",
              "\n",
              "    .dataframe tbody tr th {\n",
              "        vertical-align: top;\n",
              "    }\n",
              "\n",
              "    .dataframe thead th {\n",
              "        text-align: right;\n",
              "    }\n",
              "</style>\n",
              "<table border=\"1\" class=\"dataframe\">\n",
              "  <thead>\n",
              "    <tr style=\"text-align: right;\">\n",
              "      <th></th>\n",
              "      <th>class</th>\n",
              "      <th>text</th>\n",
              "    </tr>\n",
              "  </thead>\n",
              "  <tbody>\n",
              "    <tr>\n",
              "      <th>0</th>\n",
              "      <td>sport</td>\n",
              "      <td>Sport pertains to any form of competitive phys...</td>\n",
              "    </tr>\n",
              "    <tr>\n",
              "      <th>1</th>\n",
              "      <td>sport</td>\n",
              "      <td>Sport was an American sports magazine. Launche...</td>\n",
              "    </tr>\n",
              "    <tr>\n",
              "      <th>2</th>\n",
              "      <td>sport</td>\n",
              "      <td>Sport, Sport, Sport (Russian: Спорт, спорт, сп...</td>\n",
              "    </tr>\n",
              "    <tr>\n",
              "      <th>3</th>\n",
              "      <td>sport</td>\n",
              "      <td>Sport Lisboa e Benfica  (Portuguese pronunciat...</td>\n",
              "    </tr>\n",
              "    <tr>\n",
              "      <th>4</th>\n",
              "      <td>sport</td>\n",
              "      <td>Sport diving is an underwater sport that uses ...</td>\n",
              "    </tr>\n",
              "    <tr>\n",
              "      <th>...</th>\n",
              "      <td>...</td>\n",
              "      <td>...</td>\n",
              "    </tr>\n",
              "    <tr>\n",
              "      <th>100</th>\n",
              "      <td>technology</td>\n",
              "      <td>Fintech a portmanteau of \"financial technology...</td>\n",
              "    </tr>\n",
              "    <tr>\n",
              "      <th>101</th>\n",
              "      <td>technology</td>\n",
              "      <td>TCL Technology (originally an abbreviation for...</td>\n",
              "    </tr>\n",
              "    <tr>\n",
              "      <th>102</th>\n",
              "      <td>technology</td>\n",
              "      <td>Space technology is technology for use in oute...</td>\n",
              "    </tr>\n",
              "    <tr>\n",
              "      <th>103</th>\n",
              "      <td>technology</td>\n",
              "      <td>A technology company (or tech company) is an e...</td>\n",
              "    </tr>\n",
              "    <tr>\n",
              "      <th>104</th>\n",
              "      <td>technology</td>\n",
              "      <td>Agricultural technology or agrotechnology (abb...</td>\n",
              "    </tr>\n",
              "  </tbody>\n",
              "</table>\n",
              "<p>105 rows × 2 columns</p>\n",
              "</div>\n",
              "      <button class=\"colab-df-convert\" onclick=\"convertToInteractive('df-c09ced05-09aa-4c58-b68a-91881695ac9d')\"\n",
              "              title=\"Convert this dataframe to an interactive table.\"\n",
              "              style=\"display:none;\">\n",
              "        \n",
              "  <svg xmlns=\"http://www.w3.org/2000/svg\" height=\"24px\"viewBox=\"0 0 24 24\"\n",
              "       width=\"24px\">\n",
              "    <path d=\"M0 0h24v24H0V0z\" fill=\"none\"/>\n",
              "    <path d=\"M18.56 5.44l.94 2.06.94-2.06 2.06-.94-2.06-.94-.94-2.06-.94 2.06-2.06.94zm-11 1L8.5 8.5l.94-2.06 2.06-.94-2.06-.94L8.5 2.5l-.94 2.06-2.06.94zm10 10l.94 2.06.94-2.06 2.06-.94-2.06-.94-.94-2.06-.94 2.06-2.06.94z\"/><path d=\"M17.41 7.96l-1.37-1.37c-.4-.4-.92-.59-1.43-.59-.52 0-1.04.2-1.43.59L10.3 9.45l-7.72 7.72c-.78.78-.78 2.05 0 2.83L4 21.41c.39.39.9.59 1.41.59.51 0 1.02-.2 1.41-.59l7.78-7.78 2.81-2.81c.8-.78.8-2.07 0-2.86zM5.41 20L4 18.59l7.72-7.72 1.47 1.35L5.41 20z\"/>\n",
              "  </svg>\n",
              "      </button>\n",
              "      \n",
              "  <style>\n",
              "    .colab-df-container {\n",
              "      display:flex;\n",
              "      flex-wrap:wrap;\n",
              "      gap: 12px;\n",
              "    }\n",
              "\n",
              "    .colab-df-convert {\n",
              "      background-color: #E8F0FE;\n",
              "      border: none;\n",
              "      border-radius: 50%;\n",
              "      cursor: pointer;\n",
              "      display: none;\n",
              "      fill: #1967D2;\n",
              "      height: 32px;\n",
              "      padding: 0 0 0 0;\n",
              "      width: 32px;\n",
              "    }\n",
              "\n",
              "    .colab-df-convert:hover {\n",
              "      background-color: #E2EBFA;\n",
              "      box-shadow: 0px 1px 2px rgba(60, 64, 67, 0.3), 0px 1px 3px 1px rgba(60, 64, 67, 0.15);\n",
              "      fill: #174EA6;\n",
              "    }\n",
              "\n",
              "    [theme=dark] .colab-df-convert {\n",
              "      background-color: #3B4455;\n",
              "      fill: #D2E3FC;\n",
              "    }\n",
              "\n",
              "    [theme=dark] .colab-df-convert:hover {\n",
              "      background-color: #434B5C;\n",
              "      box-shadow: 0px 1px 3px 1px rgba(0, 0, 0, 0.15);\n",
              "      filter: drop-shadow(0px 1px 2px rgba(0, 0, 0, 0.3));\n",
              "      fill: #FFFFFF;\n",
              "    }\n",
              "  </style>\n",
              "\n",
              "      <script>\n",
              "        const buttonEl =\n",
              "          document.querySelector('#df-c09ced05-09aa-4c58-b68a-91881695ac9d button.colab-df-convert');\n",
              "        buttonEl.style.display =\n",
              "          google.colab.kernel.accessAllowed ? 'block' : 'none';\n",
              "\n",
              "        async function convertToInteractive(key) {\n",
              "          const element = document.querySelector('#df-c09ced05-09aa-4c58-b68a-91881695ac9d');\n",
              "          const dataTable =\n",
              "            await google.colab.kernel.invokeFunction('convertToInteractive',\n",
              "                                                     [key], {});\n",
              "          if (!dataTable) return;\n",
              "\n",
              "          const docLinkHtml = 'Like what you see? Visit the ' +\n",
              "            '<a target=\"_blank\" href=https://colab.research.google.com/notebooks/data_table.ipynb>data table notebook</a>'\n",
              "            + ' to learn more about interactive tables.';\n",
              "          element.innerHTML = '';\n",
              "          dataTable['output_type'] = 'display_data';\n",
              "          await google.colab.output.renderOutput(dataTable, element);\n",
              "          const docLink = document.createElement('div');\n",
              "          docLink.innerHTML = docLinkHtml;\n",
              "          element.appendChild(docLink);\n",
              "        }\n",
              "      </script>\n",
              "    </div>\n",
              "  </div>\n",
              "  "
            ]
          },
          "metadata": {},
          "execution_count": 100
        }
      ],
      "source": [
        "df = pd.read_csv('data_10.csv', sep = '<>')\n",
        "df"
      ]
    },
    {
      "cell_type": "code",
      "execution_count": 101,
      "id": "ac2514ae",
      "metadata": {
        "colab": {
          "base_uri": "https://localhost:8080/"
        },
        "id": "ac2514ae",
        "outputId": "28278831-f1ca-4f45-bd56-3969127a538c"
      },
      "outputs": [
        {
          "output_type": "execute_result",
          "data": {
            "text/plain": [
              "sport            10\n",
              "tourism           9\n",
              "culture           9\n",
              "education         9\n",
              "real estate       9\n",
              "nutrition         8\n",
              "science           8\n",
              "technology        8\n",
              "health            7\n",
              "music             7\n",
              "politics          6\n",
              "history           6\n",
              "entertainment     5\n",
              "economy           4\n",
              "Name: class, dtype: int64"
            ]
          },
          "metadata": {},
          "execution_count": 101
        }
      ],
      "source": [
        "df['class'].value_counts()"
      ]
    },
    {
      "cell_type": "code",
      "execution_count": 102,
      "id": "c8a998eb",
      "metadata": {
        "colab": {
          "base_uri": "https://localhost:8080/"
        },
        "id": "c8a998eb",
        "outputId": "0dc88418-dee0-4d97-84a8-43942d69dd95"
      },
      "outputs": [
        {
          "output_type": "stream",
          "name": "stderr",
          "text": [
            "[nltk_data] Downloading package punkt to /root/nltk_data...\n",
            "[nltk_data]   Package punkt is already up-to-date!\n"
          ]
        },
        {
          "output_type": "execute_result",
          "data": {
            "text/plain": [
              "True"
            ]
          },
          "metadata": {},
          "execution_count": 102
        }
      ],
      "source": [
        "nltk.download('punkt')"
      ]
    },
    {
      "cell_type": "code",
      "execution_count": 103,
      "id": "c83fe692",
      "metadata": {
        "id": "c83fe692"
      },
      "outputs": [],
      "source": [
        "dict_class_index = {\n",
        "    class_name: i for i, class_name in enumerate(df['class'].unique())\n",
        "}\n",
        "\n",
        "df['class num'] = df['class'].map(dict_class_index)"
      ]
    },
    {
      "cell_type": "code",
      "execution_count": 104,
      "id": "46bf5c29",
      "metadata": {
        "colab": {
          "base_uri": "https://localhost:8080/",
          "height": 424
        },
        "id": "46bf5c29",
        "outputId": "1ab76927-1d26-4cda-b2a3-e3bf6425e793"
      },
      "outputs": [
        {
          "output_type": "execute_result",
          "data": {
            "text/plain": [
              "          class                                               text  class num\n",
              "0         sport  Sport pertains to any form of competitive phys...          0\n",
              "1         sport  Sport was an American sports magazine. Launche...          0\n",
              "2         sport  Sport, Sport, Sport (Russian: Спорт, спорт, сп...          0\n",
              "3         sport  Sport Lisboa e Benfica  (Portuguese pronunciat...          0\n",
              "4         sport  Sport diving is an underwater sport that uses ...          0\n",
              "..          ...                                                ...        ...\n",
              "100  technology  Fintech a portmanteau of \"financial technology...         13\n",
              "101  technology  TCL Technology (originally an abbreviation for...         13\n",
              "102  technology  Space technology is technology for use in oute...         13\n",
              "103  technology  A technology company (or tech company) is an e...         13\n",
              "104  technology  Agricultural technology or agrotechnology (abb...         13\n",
              "\n",
              "[105 rows x 3 columns]"
            ],
            "text/html": [
              "\n",
              "  <div id=\"df-45731fc1-b9b0-45fc-89b2-88207e827669\">\n",
              "    <div class=\"colab-df-container\">\n",
              "      <div>\n",
              "<style scoped>\n",
              "    .dataframe tbody tr th:only-of-type {\n",
              "        vertical-align: middle;\n",
              "    }\n",
              "\n",
              "    .dataframe tbody tr th {\n",
              "        vertical-align: top;\n",
              "    }\n",
              "\n",
              "    .dataframe thead th {\n",
              "        text-align: right;\n",
              "    }\n",
              "</style>\n",
              "<table border=\"1\" class=\"dataframe\">\n",
              "  <thead>\n",
              "    <tr style=\"text-align: right;\">\n",
              "      <th></th>\n",
              "      <th>class</th>\n",
              "      <th>text</th>\n",
              "      <th>class num</th>\n",
              "    </tr>\n",
              "  </thead>\n",
              "  <tbody>\n",
              "    <tr>\n",
              "      <th>0</th>\n",
              "      <td>sport</td>\n",
              "      <td>Sport pertains to any form of competitive phys...</td>\n",
              "      <td>0</td>\n",
              "    </tr>\n",
              "    <tr>\n",
              "      <th>1</th>\n",
              "      <td>sport</td>\n",
              "      <td>Sport was an American sports magazine. Launche...</td>\n",
              "      <td>0</td>\n",
              "    </tr>\n",
              "    <tr>\n",
              "      <th>2</th>\n",
              "      <td>sport</td>\n",
              "      <td>Sport, Sport, Sport (Russian: Спорт, спорт, сп...</td>\n",
              "      <td>0</td>\n",
              "    </tr>\n",
              "    <tr>\n",
              "      <th>3</th>\n",
              "      <td>sport</td>\n",
              "      <td>Sport Lisboa e Benfica  (Portuguese pronunciat...</td>\n",
              "      <td>0</td>\n",
              "    </tr>\n",
              "    <tr>\n",
              "      <th>4</th>\n",
              "      <td>sport</td>\n",
              "      <td>Sport diving is an underwater sport that uses ...</td>\n",
              "      <td>0</td>\n",
              "    </tr>\n",
              "    <tr>\n",
              "      <th>...</th>\n",
              "      <td>...</td>\n",
              "      <td>...</td>\n",
              "      <td>...</td>\n",
              "    </tr>\n",
              "    <tr>\n",
              "      <th>100</th>\n",
              "      <td>technology</td>\n",
              "      <td>Fintech a portmanteau of \"financial technology...</td>\n",
              "      <td>13</td>\n",
              "    </tr>\n",
              "    <tr>\n",
              "      <th>101</th>\n",
              "      <td>technology</td>\n",
              "      <td>TCL Technology (originally an abbreviation for...</td>\n",
              "      <td>13</td>\n",
              "    </tr>\n",
              "    <tr>\n",
              "      <th>102</th>\n",
              "      <td>technology</td>\n",
              "      <td>Space technology is technology for use in oute...</td>\n",
              "      <td>13</td>\n",
              "    </tr>\n",
              "    <tr>\n",
              "      <th>103</th>\n",
              "      <td>technology</td>\n",
              "      <td>A technology company (or tech company) is an e...</td>\n",
              "      <td>13</td>\n",
              "    </tr>\n",
              "    <tr>\n",
              "      <th>104</th>\n",
              "      <td>technology</td>\n",
              "      <td>Agricultural technology or agrotechnology (abb...</td>\n",
              "      <td>13</td>\n",
              "    </tr>\n",
              "  </tbody>\n",
              "</table>\n",
              "<p>105 rows × 3 columns</p>\n",
              "</div>\n",
              "      <button class=\"colab-df-convert\" onclick=\"convertToInteractive('df-45731fc1-b9b0-45fc-89b2-88207e827669')\"\n",
              "              title=\"Convert this dataframe to an interactive table.\"\n",
              "              style=\"display:none;\">\n",
              "        \n",
              "  <svg xmlns=\"http://www.w3.org/2000/svg\" height=\"24px\"viewBox=\"0 0 24 24\"\n",
              "       width=\"24px\">\n",
              "    <path d=\"M0 0h24v24H0V0z\" fill=\"none\"/>\n",
              "    <path d=\"M18.56 5.44l.94 2.06.94-2.06 2.06-.94-2.06-.94-.94-2.06-.94 2.06-2.06.94zm-11 1L8.5 8.5l.94-2.06 2.06-.94-2.06-.94L8.5 2.5l-.94 2.06-2.06.94zm10 10l.94 2.06.94-2.06 2.06-.94-2.06-.94-.94-2.06-.94 2.06-2.06.94z\"/><path d=\"M17.41 7.96l-1.37-1.37c-.4-.4-.92-.59-1.43-.59-.52 0-1.04.2-1.43.59L10.3 9.45l-7.72 7.72c-.78.78-.78 2.05 0 2.83L4 21.41c.39.39.9.59 1.41.59.51 0 1.02-.2 1.41-.59l7.78-7.78 2.81-2.81c.8-.78.8-2.07 0-2.86zM5.41 20L4 18.59l7.72-7.72 1.47 1.35L5.41 20z\"/>\n",
              "  </svg>\n",
              "      </button>\n",
              "      \n",
              "  <style>\n",
              "    .colab-df-container {\n",
              "      display:flex;\n",
              "      flex-wrap:wrap;\n",
              "      gap: 12px;\n",
              "    }\n",
              "\n",
              "    .colab-df-convert {\n",
              "      background-color: #E8F0FE;\n",
              "      border: none;\n",
              "      border-radius: 50%;\n",
              "      cursor: pointer;\n",
              "      display: none;\n",
              "      fill: #1967D2;\n",
              "      height: 32px;\n",
              "      padding: 0 0 0 0;\n",
              "      width: 32px;\n",
              "    }\n",
              "\n",
              "    .colab-df-convert:hover {\n",
              "      background-color: #E2EBFA;\n",
              "      box-shadow: 0px 1px 2px rgba(60, 64, 67, 0.3), 0px 1px 3px 1px rgba(60, 64, 67, 0.15);\n",
              "      fill: #174EA6;\n",
              "    }\n",
              "\n",
              "    [theme=dark] .colab-df-convert {\n",
              "      background-color: #3B4455;\n",
              "      fill: #D2E3FC;\n",
              "    }\n",
              "\n",
              "    [theme=dark] .colab-df-convert:hover {\n",
              "      background-color: #434B5C;\n",
              "      box-shadow: 0px 1px 3px 1px rgba(0, 0, 0, 0.15);\n",
              "      filter: drop-shadow(0px 1px 2px rgba(0, 0, 0, 0.3));\n",
              "      fill: #FFFFFF;\n",
              "    }\n",
              "  </style>\n",
              "\n",
              "      <script>\n",
              "        const buttonEl =\n",
              "          document.querySelector('#df-45731fc1-b9b0-45fc-89b2-88207e827669 button.colab-df-convert');\n",
              "        buttonEl.style.display =\n",
              "          google.colab.kernel.accessAllowed ? 'block' : 'none';\n",
              "\n",
              "        async function convertToInteractive(key) {\n",
              "          const element = document.querySelector('#df-45731fc1-b9b0-45fc-89b2-88207e827669');\n",
              "          const dataTable =\n",
              "            await google.colab.kernel.invokeFunction('convertToInteractive',\n",
              "                                                     [key], {});\n",
              "          if (!dataTable) return;\n",
              "\n",
              "          const docLinkHtml = 'Like what you see? Visit the ' +\n",
              "            '<a target=\"_blank\" href=https://colab.research.google.com/notebooks/data_table.ipynb>data table notebook</a>'\n",
              "            + ' to learn more about interactive tables.';\n",
              "          element.innerHTML = '';\n",
              "          dataTable['output_type'] = 'display_data';\n",
              "          await google.colab.output.renderOutput(dataTable, element);\n",
              "          const docLink = document.createElement('div');\n",
              "          docLink.innerHTML = docLinkHtml;\n",
              "          element.appendChild(docLink);\n",
              "        }\n",
              "      </script>\n",
              "    </div>\n",
              "  </div>\n",
              "  "
            ]
          },
          "metadata": {},
          "execution_count": 104
        }
      ],
      "source": [
        "df"
      ]
    },
    {
      "cell_type": "code",
      "execution_count": 105,
      "id": "7c3b1b06",
      "metadata": {
        "colab": {
          "base_uri": "https://localhost:8080/"
        },
        "id": "7c3b1b06",
        "outputId": "a6a0fa71-ce6d-47e1-aa59-7c54a12fecd0"
      },
      "outputs": [
        {
          "output_type": "execute_result",
          "data": {
            "text/plain": [
              "{'sport': 0,\n",
              " 'economy': 1,\n",
              " 'politics': 2,\n",
              " 'health': 3,\n",
              " 'tourism': 4,\n",
              " 'entertainment': 5,\n",
              " 'culture': 6,\n",
              " 'music': 7,\n",
              " 'education': 8,\n",
              " 'real estate': 9,\n",
              " 'nutrition': 10,\n",
              " 'science': 11,\n",
              " 'history': 12,\n",
              " 'technology': 13}"
            ]
          },
          "metadata": {},
          "execution_count": 105
        }
      ],
      "source": [
        "dict_class_index"
      ]
    },
    {
      "cell_type": "code",
      "source": [
        "!pip install advertools"
      ],
      "metadata": {
        "colab": {
          "base_uri": "https://localhost:8080/"
        },
        "id": "LONqIklFyIqG",
        "outputId": "43f0287f-9247-47af-baf2-c6faa14703f9"
      },
      "id": "LONqIklFyIqG",
      "execution_count": 106,
      "outputs": [
        {
          "output_type": "stream",
          "name": "stdout",
          "text": [
            "Looking in indexes: https://pypi.org/simple, https://us-python.pkg.dev/colab-wheels/public/simple/\n",
            "Requirement already satisfied: advertools in /usr/local/lib/python3.7/dist-packages (0.13.1)\n",
            "Requirement already satisfied: twython in /usr/local/lib/python3.7/dist-packages (from advertools) (3.9.1)\n",
            "Requirement already satisfied: pyasn1 in /usr/local/lib/python3.7/dist-packages (from advertools) (0.4.8)\n",
            "Requirement already satisfied: pyarrow in /usr/local/lib/python3.7/dist-packages (from advertools) (6.0.1)\n",
            "Requirement already satisfied: pandas in /usr/local/lib/python3.7/dist-packages (from advertools) (1.3.5)\n",
            "Requirement already satisfied: scrapy in /usr/local/lib/python3.7/dist-packages (from advertools) (2.6.2)\n",
            "Requirement already satisfied: python-dateutil>=2.7.3 in /usr/local/lib/python3.7/dist-packages (from pandas->advertools) (2.8.2)\n",
            "Requirement already satisfied: numpy>=1.17.3 in /usr/local/lib/python3.7/dist-packages (from pandas->advertools) (1.21.6)\n",
            "Requirement already satisfied: pytz>=2017.3 in /usr/local/lib/python3.7/dist-packages (from pandas->advertools) (2022.2.1)\n",
            "Requirement already satisfied: six>=1.5 in /usr/local/lib/python3.7/dist-packages (from python-dateutil>=2.7.3->pandas->advertools) (1.15.0)\n",
            "Requirement already satisfied: cryptography>=2.0 in /usr/local/lib/python3.7/dist-packages (from scrapy->advertools) (38.0.1)\n",
            "Requirement already satisfied: service-identity>=16.0.0 in /usr/local/lib/python3.7/dist-packages (from scrapy->advertools) (21.1.0)\n",
            "Requirement already satisfied: Twisted>=17.9.0 in /usr/local/lib/python3.7/dist-packages (from scrapy->advertools) (22.8.0)\n",
            "Requirement already satisfied: w3lib>=1.17.0 in /usr/local/lib/python3.7/dist-packages (from scrapy->advertools) (2.0.1)\n",
            "Requirement already satisfied: protego>=0.1.15 in /usr/local/lib/python3.7/dist-packages (from scrapy->advertools) (0.2.1)\n",
            "Requirement already satisfied: tldextract in /usr/local/lib/python3.7/dist-packages (from scrapy->advertools) (3.3.1)\n",
            "Requirement already satisfied: cssselect>=0.9.1 in /usr/local/lib/python3.7/dist-packages (from scrapy->advertools) (1.1.0)\n",
            "Requirement already satisfied: zope.interface>=4.1.3 in /usr/local/lib/python3.7/dist-packages (from scrapy->advertools) (5.4.0)\n",
            "Requirement already satisfied: itemadapter>=0.1.0 in /usr/local/lib/python3.7/dist-packages (from scrapy->advertools) (0.7.0)\n",
            "Requirement already satisfied: parsel>=1.5.0 in /usr/local/lib/python3.7/dist-packages (from scrapy->advertools) (1.6.0)\n",
            "Requirement already satisfied: PyDispatcher>=2.0.5 in /usr/local/lib/python3.7/dist-packages (from scrapy->advertools) (2.0.6)\n",
            "Requirement already satisfied: itemloaders>=1.0.1 in /usr/local/lib/python3.7/dist-packages (from scrapy->advertools) (1.0.6)\n",
            "Requirement already satisfied: lxml>=3.5.0 in /usr/local/lib/python3.7/dist-packages (from scrapy->advertools) (4.9.1)\n",
            "Requirement already satisfied: pyOpenSSL>=16.2.0 in /usr/local/lib/python3.7/dist-packages (from scrapy->advertools) (22.0.0)\n",
            "Requirement already satisfied: setuptools in /usr/local/lib/python3.7/dist-packages (from scrapy->advertools) (57.4.0)\n",
            "Requirement already satisfied: queuelib>=1.4.2 in /usr/local/lib/python3.7/dist-packages (from scrapy->advertools) (1.6.2)\n",
            "Requirement already satisfied: cffi>=1.12 in /usr/local/lib/python3.7/dist-packages (from cryptography>=2.0->scrapy->advertools) (1.15.1)\n",
            "Requirement already satisfied: pycparser in /usr/local/lib/python3.7/dist-packages (from cffi>=1.12->cryptography>=2.0->scrapy->advertools) (2.21)\n",
            "Requirement already satisfied: jmespath>=0.9.5 in /usr/local/lib/python3.7/dist-packages (from itemloaders>=1.0.1->scrapy->advertools) (1.0.1)\n",
            "Requirement already satisfied: attrs>=19.1.0 in /usr/local/lib/python3.7/dist-packages (from service-identity>=16.0.0->scrapy->advertools) (22.1.0)\n",
            "Requirement already satisfied: pyasn1-modules in /usr/local/lib/python3.7/dist-packages (from service-identity>=16.0.0->scrapy->advertools) (0.2.8)\n",
            "Requirement already satisfied: incremental>=21.3.0 in /usr/local/lib/python3.7/dist-packages (from Twisted>=17.9.0->scrapy->advertools) (21.3.0)\n",
            "Requirement already satisfied: Automat>=0.8.0 in /usr/local/lib/python3.7/dist-packages (from Twisted>=17.9.0->scrapy->advertools) (20.2.0)\n",
            "Requirement already satisfied: hyperlink>=17.1.1 in /usr/local/lib/python3.7/dist-packages (from Twisted>=17.9.0->scrapy->advertools) (21.0.0)\n",
            "Requirement already satisfied: typing-extensions>=3.6.5 in /usr/local/lib/python3.7/dist-packages (from Twisted>=17.9.0->scrapy->advertools) (4.1.1)\n",
            "Requirement already satisfied: constantly>=15.1 in /usr/local/lib/python3.7/dist-packages (from Twisted>=17.9.0->scrapy->advertools) (15.1.0)\n",
            "Requirement already satisfied: idna>=2.5 in /usr/local/lib/python3.7/dist-packages (from hyperlink>=17.1.1->Twisted>=17.9.0->scrapy->advertools) (2.10)\n",
            "Requirement already satisfied: requests-file>=1.4 in /usr/local/lib/python3.7/dist-packages (from tldextract->scrapy->advertools) (1.5.1)\n",
            "Requirement already satisfied: requests>=2.1.0 in /usr/local/lib/python3.7/dist-packages (from tldextract->scrapy->advertools) (2.23.0)\n",
            "Requirement already satisfied: filelock>=3.0.8 in /usr/local/lib/python3.7/dist-packages (from tldextract->scrapy->advertools) (3.8.0)\n",
            "Requirement already satisfied: certifi>=2017.4.17 in /usr/local/lib/python3.7/dist-packages (from requests>=2.1.0->tldextract->scrapy->advertools) (2022.6.15)\n",
            "Requirement already satisfied: chardet<4,>=3.0.2 in /usr/local/lib/python3.7/dist-packages (from requests>=2.1.0->tldextract->scrapy->advertools) (3.0.4)\n",
            "Requirement already satisfied: urllib3!=1.25.0,!=1.25.1,<1.26,>=1.21.1 in /usr/local/lib/python3.7/dist-packages (from requests>=2.1.0->tldextract->scrapy->advertools) (1.24.3)\n",
            "Requirement already satisfied: requests-oauthlib>=0.4.0 in /usr/local/lib/python3.7/dist-packages (from twython->advertools) (1.3.1)\n",
            "Requirement already satisfied: oauthlib>=3.0.0 in /usr/local/lib/python3.7/dist-packages (from requests-oauthlib>=0.4.0->twython->advertools) (3.2.0)\n"
          ]
        }
      ]
    },
    {
      "cell_type": "code",
      "execution_count": 107,
      "id": "d882e51b",
      "metadata": {
        "colab": {
          "base_uri": "https://localhost:8080/"
        },
        "id": "d882e51b",
        "outputId": "63eb7694-deb5-47e7-8f77-925a96b9f14e"
      },
      "outputs": [
        {
          "output_type": "stream",
          "name": "stdout",
          "text": [
            "['a', 'about', 'above', 'across', 'after', 'afterwards', 'again', 'against', 'all', 'almost', 'alone', 'along', 'already', 'also', 'although', 'always', 'am', 'among', 'amongst', 'amount', 'an', 'and', 'another', 'any', 'anyhow', 'anyone', 'anything', 'anyway', 'anywhere', 'are', 'around', 'as', 'at', 'back', 'be', 'became', 'because', 'become', 'becomes', 'becoming', 'been', 'before', 'beforehand', 'behind', 'being', 'below', 'beside', 'besides', 'between', 'beyond', 'both', 'bottom', 'but', 'by', 'ca', 'call', 'can', 'cannot', 'could', 'did', 'do', 'does', 'doing', 'done', 'down', 'due', 'during', 'each', 'eight', 'either', 'eleven', 'else', 'elsewhere', 'empty', 'enough', 'even', 'ever', 'every', 'everyone', 'everything', 'everywhere', 'except', 'few', 'fifteen', 'fifty', 'first', 'five', 'for', 'former', 'formerly', 'forty', 'four', 'from', 'front', 'full', 'further', 'get', 'give', 'go', 'had', 'has', 'have', 'he', 'hence', 'her', 'here', 'hereafter', 'hereby', 'herein', 'hereupon', 'hers', 'herself', 'him', 'himself', 'his', 'how', 'however', 'hundred', 'i', 'if', 'in', 'indeed', 'into', 'is', 'it', 'its', 'itself', 'just', 'keep', 'last', 'latter', 'latterly', 'least', 'less', 'made', 'make', 'many', 'may', 'me', 'meanwhile', 'might', 'mine', 'more', 'moreover', 'most', 'mostly', 'move', 'much', 'must', 'my', 'myself', 'name', 'namely', 'neither', 'never', 'nevertheless', 'next', 'nine', 'no', 'nobody', 'none', 'noone', 'nor', 'not', 'nothing', 'now', 'nowhere', 'of', 'off', 'often', 'on', 'once', 'one', 'only', 'onto', 'or', 'other', 'others', 'otherwise', 'our', 'ours', 'ourselves', 'out', 'over', 'own', 'part', 'per', 'perhaps', 'please', 'put', 'quite', 'rather', 're', 'really', 'regarding', 'same', 'say', 'see', 'seem', 'seemed', 'seeming', 'seems', 'serious', 'several', 'she', 'should', 'show', 'side', 'since', 'six', 'sixty', 'so', 'some', 'somehow', 'someone', 'something', 'sometime', 'sometimes', 'somewhere', 'still', 'such', 'take', 'ten', 'than', 'that', 'the', 'their', 'them', 'themselves', 'then', 'thence', 'there', 'thereafter', 'thereby', 'therefore', 'therein', 'thereupon', 'these', 'they', 'third', 'this', 'those', 'though', 'three', 'through', 'throughout', 'thru', 'thus', 'to', 'together', 'too', 'top', 'toward', 'towards', 'twelve', 'twenty', 'two', 'under', 'unless', 'until', 'up', 'upon', 'us', 'used', 'using', 'various', 'very', 'via', 'was', 'we', 'well', 'were', 'what', 'whatever', 'when', 'whence', 'whenever', 'where', 'whereafter', 'whereas', 'whereby', 'wherein', 'whereupon', 'wherever', 'whether', 'which', 'while', 'whither', 'who', 'whoever', 'whole', 'whom', 'whose', 'why', 'will', 'with', 'within', 'without', 'would', 'yet', 'you', 'your', 'yours', 'yourself', 'yourselves']\n"
          ]
        }
      ],
      "source": [
        "import advertools as adv\n",
        "stop_words = sorted(adv.stopwords['english'])\n",
        "print(stop_words)"
      ]
    },
    {
      "cell_type": "code",
      "execution_count": 108,
      "id": "5391e288",
      "metadata": {
        "id": "5391e288"
      },
      "outputs": [],
      "source": [
        "def clear_text(text):\n",
        "    new_text = text.apply(lambda x: ' '.join([word for word in x.split() if word not in stop_words])).str.lower()\n",
        "    new_text = new_text.replace(r'[^\\w\\s]+', '', regex=True)\n",
        "    return new_text"
      ]
    },
    {
      "cell_type": "code",
      "execution_count": 109,
      "id": "1802bb8d",
      "metadata": {
        "id": "1802bb8d"
      },
      "outputs": [],
      "source": [
        "new_text = clear_text(df['text'])"
      ]
    },
    {
      "cell_type": "code",
      "execution_count": 110,
      "id": "946c36f5",
      "metadata": {
        "colab": {
          "base_uri": "https://localhost:8080/",
          "height": 424
        },
        "id": "946c36f5",
        "outputId": "86a9ede7-5072-4038-a36c-345135e23926"
      },
      "outputs": [
        {
          "output_type": "execute_result",
          "data": {
            "text/plain": [
              "          class                                               text  class num  \\\n",
              "0         sport  Sport pertains to any form of competitive phys...          0   \n",
              "1         sport  Sport was an American sports magazine. Launche...          0   \n",
              "2         sport  Sport, Sport, Sport (Russian: Спорт, спорт, сп...          0   \n",
              "3         sport  Sport Lisboa e Benfica  (Portuguese pronunciat...          0   \n",
              "4         sport  Sport diving is an underwater sport that uses ...          0   \n",
              "..          ...                                                ...        ...   \n",
              "100  technology  Fintech a portmanteau of \"financial technology...         13   \n",
              "101  technology  TCL Technology (originally an abbreviation for...         13   \n",
              "102  technology  Space technology is technology for use in oute...         13   \n",
              "103  technology  A technology company (or tech company) is an e...         13   \n",
              "104  technology  Agricultural technology or agrotechnology (abb...         13   \n",
              "\n",
              "                                            clear text  \n",
              "0    sport pertains form competitive physical activ...  \n",
              "1    sport american sports magazine launched septem...  \n",
              "2    sport sport sport russian спорт спорт спорт 19...  \n",
              "3    sport lisboa e benfica portuguese pronunciatio...  \n",
              "4    sport diving underwater sport uses recreationa...  \n",
              "..                                                 ...  \n",
              "100  fintech portmanteau financial technology refer...  \n",
              "101  tcl technology originally abbreviation telepho...  \n",
              "102  space technology technology use outer space tr...  \n",
              "103  a technology company or tech company electroni...  \n",
              "104  agricultural technology agrotechnology abbrevi...  \n",
              "\n",
              "[105 rows x 4 columns]"
            ],
            "text/html": [
              "\n",
              "  <div id=\"df-843b19fa-751f-4b31-b83e-29d4f5011143\">\n",
              "    <div class=\"colab-df-container\">\n",
              "      <div>\n",
              "<style scoped>\n",
              "    .dataframe tbody tr th:only-of-type {\n",
              "        vertical-align: middle;\n",
              "    }\n",
              "\n",
              "    .dataframe tbody tr th {\n",
              "        vertical-align: top;\n",
              "    }\n",
              "\n",
              "    .dataframe thead th {\n",
              "        text-align: right;\n",
              "    }\n",
              "</style>\n",
              "<table border=\"1\" class=\"dataframe\">\n",
              "  <thead>\n",
              "    <tr style=\"text-align: right;\">\n",
              "      <th></th>\n",
              "      <th>class</th>\n",
              "      <th>text</th>\n",
              "      <th>class num</th>\n",
              "      <th>clear text</th>\n",
              "    </tr>\n",
              "  </thead>\n",
              "  <tbody>\n",
              "    <tr>\n",
              "      <th>0</th>\n",
              "      <td>sport</td>\n",
              "      <td>Sport pertains to any form of competitive phys...</td>\n",
              "      <td>0</td>\n",
              "      <td>sport pertains form competitive physical activ...</td>\n",
              "    </tr>\n",
              "    <tr>\n",
              "      <th>1</th>\n",
              "      <td>sport</td>\n",
              "      <td>Sport was an American sports magazine. Launche...</td>\n",
              "      <td>0</td>\n",
              "      <td>sport american sports magazine launched septem...</td>\n",
              "    </tr>\n",
              "    <tr>\n",
              "      <th>2</th>\n",
              "      <td>sport</td>\n",
              "      <td>Sport, Sport, Sport (Russian: Спорт, спорт, сп...</td>\n",
              "      <td>0</td>\n",
              "      <td>sport sport sport russian спорт спорт спорт 19...</td>\n",
              "    </tr>\n",
              "    <tr>\n",
              "      <th>3</th>\n",
              "      <td>sport</td>\n",
              "      <td>Sport Lisboa e Benfica  (Portuguese pronunciat...</td>\n",
              "      <td>0</td>\n",
              "      <td>sport lisboa e benfica portuguese pronunciatio...</td>\n",
              "    </tr>\n",
              "    <tr>\n",
              "      <th>4</th>\n",
              "      <td>sport</td>\n",
              "      <td>Sport diving is an underwater sport that uses ...</td>\n",
              "      <td>0</td>\n",
              "      <td>sport diving underwater sport uses recreationa...</td>\n",
              "    </tr>\n",
              "    <tr>\n",
              "      <th>...</th>\n",
              "      <td>...</td>\n",
              "      <td>...</td>\n",
              "      <td>...</td>\n",
              "      <td>...</td>\n",
              "    </tr>\n",
              "    <tr>\n",
              "      <th>100</th>\n",
              "      <td>technology</td>\n",
              "      <td>Fintech a portmanteau of \"financial technology...</td>\n",
              "      <td>13</td>\n",
              "      <td>fintech portmanteau financial technology refer...</td>\n",
              "    </tr>\n",
              "    <tr>\n",
              "      <th>101</th>\n",
              "      <td>technology</td>\n",
              "      <td>TCL Technology (originally an abbreviation for...</td>\n",
              "      <td>13</td>\n",
              "      <td>tcl technology originally abbreviation telepho...</td>\n",
              "    </tr>\n",
              "    <tr>\n",
              "      <th>102</th>\n",
              "      <td>technology</td>\n",
              "      <td>Space technology is technology for use in oute...</td>\n",
              "      <td>13</td>\n",
              "      <td>space technology technology use outer space tr...</td>\n",
              "    </tr>\n",
              "    <tr>\n",
              "      <th>103</th>\n",
              "      <td>technology</td>\n",
              "      <td>A technology company (or tech company) is an e...</td>\n",
              "      <td>13</td>\n",
              "      <td>a technology company or tech company electroni...</td>\n",
              "    </tr>\n",
              "    <tr>\n",
              "      <th>104</th>\n",
              "      <td>technology</td>\n",
              "      <td>Agricultural technology or agrotechnology (abb...</td>\n",
              "      <td>13</td>\n",
              "      <td>agricultural technology agrotechnology abbrevi...</td>\n",
              "    </tr>\n",
              "  </tbody>\n",
              "</table>\n",
              "<p>105 rows × 4 columns</p>\n",
              "</div>\n",
              "      <button class=\"colab-df-convert\" onclick=\"convertToInteractive('df-843b19fa-751f-4b31-b83e-29d4f5011143')\"\n",
              "              title=\"Convert this dataframe to an interactive table.\"\n",
              "              style=\"display:none;\">\n",
              "        \n",
              "  <svg xmlns=\"http://www.w3.org/2000/svg\" height=\"24px\"viewBox=\"0 0 24 24\"\n",
              "       width=\"24px\">\n",
              "    <path d=\"M0 0h24v24H0V0z\" fill=\"none\"/>\n",
              "    <path d=\"M18.56 5.44l.94 2.06.94-2.06 2.06-.94-2.06-.94-.94-2.06-.94 2.06-2.06.94zm-11 1L8.5 8.5l.94-2.06 2.06-.94-2.06-.94L8.5 2.5l-.94 2.06-2.06.94zm10 10l.94 2.06.94-2.06 2.06-.94-2.06-.94-.94-2.06-.94 2.06-2.06.94z\"/><path d=\"M17.41 7.96l-1.37-1.37c-.4-.4-.92-.59-1.43-.59-.52 0-1.04.2-1.43.59L10.3 9.45l-7.72 7.72c-.78.78-.78 2.05 0 2.83L4 21.41c.39.39.9.59 1.41.59.51 0 1.02-.2 1.41-.59l7.78-7.78 2.81-2.81c.8-.78.8-2.07 0-2.86zM5.41 20L4 18.59l7.72-7.72 1.47 1.35L5.41 20z\"/>\n",
              "  </svg>\n",
              "      </button>\n",
              "      \n",
              "  <style>\n",
              "    .colab-df-container {\n",
              "      display:flex;\n",
              "      flex-wrap:wrap;\n",
              "      gap: 12px;\n",
              "    }\n",
              "\n",
              "    .colab-df-convert {\n",
              "      background-color: #E8F0FE;\n",
              "      border: none;\n",
              "      border-radius: 50%;\n",
              "      cursor: pointer;\n",
              "      display: none;\n",
              "      fill: #1967D2;\n",
              "      height: 32px;\n",
              "      padding: 0 0 0 0;\n",
              "      width: 32px;\n",
              "    }\n",
              "\n",
              "    .colab-df-convert:hover {\n",
              "      background-color: #E2EBFA;\n",
              "      box-shadow: 0px 1px 2px rgba(60, 64, 67, 0.3), 0px 1px 3px 1px rgba(60, 64, 67, 0.15);\n",
              "      fill: #174EA6;\n",
              "    }\n",
              "\n",
              "    [theme=dark] .colab-df-convert {\n",
              "      background-color: #3B4455;\n",
              "      fill: #D2E3FC;\n",
              "    }\n",
              "\n",
              "    [theme=dark] .colab-df-convert:hover {\n",
              "      background-color: #434B5C;\n",
              "      box-shadow: 0px 1px 3px 1px rgba(0, 0, 0, 0.15);\n",
              "      filter: drop-shadow(0px 1px 2px rgba(0, 0, 0, 0.3));\n",
              "      fill: #FFFFFF;\n",
              "    }\n",
              "  </style>\n",
              "\n",
              "      <script>\n",
              "        const buttonEl =\n",
              "          document.querySelector('#df-843b19fa-751f-4b31-b83e-29d4f5011143 button.colab-df-convert');\n",
              "        buttonEl.style.display =\n",
              "          google.colab.kernel.accessAllowed ? 'block' : 'none';\n",
              "\n",
              "        async function convertToInteractive(key) {\n",
              "          const element = document.querySelector('#df-843b19fa-751f-4b31-b83e-29d4f5011143');\n",
              "          const dataTable =\n",
              "            await google.colab.kernel.invokeFunction('convertToInteractive',\n",
              "                                                     [key], {});\n",
              "          if (!dataTable) return;\n",
              "\n",
              "          const docLinkHtml = 'Like what you see? Visit the ' +\n",
              "            '<a target=\"_blank\" href=https://colab.research.google.com/notebooks/data_table.ipynb>data table notebook</a>'\n",
              "            + ' to learn more about interactive tables.';\n",
              "          element.innerHTML = '';\n",
              "          dataTable['output_type'] = 'display_data';\n",
              "          await google.colab.output.renderOutput(dataTable, element);\n",
              "          const docLink = document.createElement('div');\n",
              "          docLink.innerHTML = docLinkHtml;\n",
              "          element.appendChild(docLink);\n",
              "        }\n",
              "      </script>\n",
              "    </div>\n",
              "  </div>\n",
              "  "
            ]
          },
          "metadata": {},
          "execution_count": 110
        }
      ],
      "source": [
        "df['clear text'] = new_text\n",
        "df"
      ]
    },
    {
      "cell_type": "code",
      "execution_count": 111,
      "id": "125b305d",
      "metadata": {
        "id": "125b305d"
      },
      "outputs": [],
      "source": [
        "newest_text = []\n",
        "for i in range(0, len(df)):\n",
        "    newest_text.append(word_tokenize(df['clear text'][i]))"
      ]
    },
    {
      "cell_type": "code",
      "execution_count": 112,
      "id": "777d5e01",
      "metadata": {
        "colab": {
          "base_uri": "https://localhost:8080/"
        },
        "id": "777d5e01",
        "outputId": "e8ba5adc-3f12-402d-8f30-8a9d2ce6786c"
      },
      "outputs": [
        {
          "output_type": "stream",
          "name": "stderr",
          "text": [
            "[nltk_data] Downloading package averaged_perceptron_tagger to\n",
            "[nltk_data]     /root/nltk_data...\n",
            "[nltk_data]   Package averaged_perceptron_tagger is already up-to-\n",
            "[nltk_data]       date!\n"
          ]
        },
        {
          "output_type": "execute_result",
          "data": {
            "text/plain": [
              "True"
            ]
          },
          "metadata": {},
          "execution_count": 112
        }
      ],
      "source": [
        "nltk.download('averaged_perceptron_tagger')"
      ]
    },
    {
      "cell_type": "code",
      "execution_count": 113,
      "id": "5656e48a",
      "metadata": {
        "colab": {
          "base_uri": "https://localhost:8080/"
        },
        "id": "5656e48a",
        "outputId": "55b9fd67-b91a-4c1b-a510-d344e7617d6e"
      },
      "outputs": [
        {
          "output_type": "stream",
          "name": "stderr",
          "text": [
            "[nltk_data] Downloading package wordnet to /root/nltk_data...\n",
            "[nltk_data]   Package wordnet is already up-to-date!\n"
          ]
        },
        {
          "output_type": "execute_result",
          "data": {
            "text/plain": [
              "True"
            ]
          },
          "metadata": {},
          "execution_count": 113
        }
      ],
      "source": [
        "nltk.download('wordnet')"
      ]
    },
    {
      "cell_type": "code",
      "execution_count": 114,
      "id": "6c3e3a28",
      "metadata": {
        "id": "6c3e3a28"
      },
      "outputs": [],
      "source": [
        "def my_lemmitezer(text):\n",
        "    return pos_tag(word_tokenize(text))"
      ]
    },
    {
      "cell_type": "code",
      "execution_count": 115,
      "id": "77b18f68",
      "metadata": {
        "id": "77b18f68"
      },
      "outputs": [],
      "source": [
        "tokenized_lemmitzed_text = []\n",
        "for i in range(0, len(df)):\n",
        "    tokenized_lemmitzed_text.append(my_lemmitezer(df['clear text'][i]))"
      ]
    },
    {
      "cell_type": "code",
      "execution_count": 116,
      "id": "efd359f8",
      "metadata": {
        "id": "efd359f8"
      },
      "outputs": [],
      "source": [
        "df['tokenized lemmitzed text'] = tokenized_lemmitzed_text"
      ]
    },
    {
      "cell_type": "code",
      "execution_count": 117,
      "id": "467087ce",
      "metadata": {
        "id": "467087ce"
      },
      "outputs": [],
      "source": [
        "stemmer = nltk.stem.PorterStemmer()"
      ]
    },
    {
      "cell_type": "code",
      "execution_count": 118,
      "id": "c55a27a3",
      "metadata": {
        "id": "c55a27a3"
      },
      "outputs": [],
      "source": [
        "def my_stemmer(text):\n",
        "    tokenized_stemmed_text = []\n",
        "    tokens = word_tokenize(text)\n",
        "    for token in tokens:\n",
        "        tokenized_stemmed_text.append(stemmer.stem(token))\n",
        "    return tokenized_stemmed_text"
      ]
    },
    {
      "cell_type": "code",
      "execution_count": 119,
      "id": "705facbe",
      "metadata": {
        "id": "705facbe"
      },
      "outputs": [],
      "source": [
        "tokenized_stemmed_text = []\n",
        "for i in range(0, len(df)):\n",
        "    tokenized_stemmed_text.append(my_stemmer(df['clear text'][i]))"
      ]
    },
    {
      "cell_type": "code",
      "execution_count": 120,
      "id": "f89793fd",
      "metadata": {
        "id": "f89793fd"
      },
      "outputs": [],
      "source": [
        "df['tokenized stemmed text'] = tokenized_stemmed_text\n",
        "# df['tokenized stemmed text'] = df['tokenized stemmed text'].str.join(' ')"
      ]
    },
    {
      "cell_type": "code",
      "execution_count": 121,
      "id": "eb33fad8",
      "metadata": {
        "colab": {
          "base_uri": "https://localhost:8080/"
        },
        "id": "eb33fad8",
        "outputId": "70e01cbc-fa66-41e4-fe96-c78a4bccc9fe"
      },
      "outputs": [
        {
          "output_type": "execute_result",
          "data": {
            "text/plain": [
              "0      sport pertains form competitive physical activ...\n",
              "1      sport american sports magazine launched septem...\n",
              "2      sport sport sport russian спорт спорт спорт 19...\n",
              "3      sport lisboa e benfica portuguese pronunciatio...\n",
              "4      sport diving underwater sport uses recreationa...\n",
              "                             ...                        \n",
              "100    fintech portmanteau financial technology refer...\n",
              "101    tcl technology originally abbreviation telepho...\n",
              "102    space technology technology use outer space tr...\n",
              "103    a technology company or tech company electroni...\n",
              "104    agricultural technology agrotechnology abbrevi...\n",
              "Name: clear text, Length: 105, dtype: object"
            ]
          },
          "metadata": {},
          "execution_count": 121
        }
      ],
      "source": [
        "x = df['clear text']\n",
        "x"
      ]
    },
    {
      "cell_type": "code",
      "execution_count": 122,
      "id": "b7173f11",
      "metadata": {
        "colab": {
          "base_uri": "https://localhost:8080/"
        },
        "id": "b7173f11",
        "outputId": "520a4277-82bf-414e-aab6-0db0bb80b5da"
      },
      "outputs": [
        {
          "output_type": "execute_result",
          "data": {
            "text/plain": [
              "0       0\n",
              "1       0\n",
              "2       0\n",
              "3       0\n",
              "4       0\n",
              "       ..\n",
              "100    13\n",
              "101    13\n",
              "102    13\n",
              "103    13\n",
              "104    13\n",
              "Name: class num, Length: 105, dtype: int64"
            ]
          },
          "metadata": {},
          "execution_count": 122
        }
      ],
      "source": [
        "y = df['class num']\n",
        "y"
      ]
    },
    {
      "cell_type": "code",
      "execution_count": 123,
      "id": "18fe4ba3",
      "metadata": {
        "id": "18fe4ba3"
      },
      "outputs": [],
      "source": [
        "x_tr, x_ft, y_tr, y_ft = model_selection.train_test_split(x, y, test_size=0.2, stratify=y)"
      ]
    },
    {
      "cell_type": "code",
      "execution_count": 124,
      "id": "25831cf4",
      "metadata": {
        "colab": {
          "base_uri": "https://localhost:8080/"
        },
        "id": "25831cf4",
        "outputId": "dd17a394-15d4-416f-bdc2-88a4e4afb37d"
      },
      "outputs": [
        {
          "output_type": "execute_result",
          "data": {
            "text/plain": [
              "22     mental health encompasses emotional psychologi...\n",
              "21     health care healthcare improvement health prev...\n",
              "42     popular culture also called mass culture pop c...\n",
              "38     sony interactive entertainment sie known sony ...\n",
              "28     sex tourism refers practice traveling foreign ...\n",
              "                             ...                        \n",
              "65     the montessori method education system educati...\n",
              "100    fintech portmanteau financial technology refer...\n",
              "63     physical education abbreviated phys ed pe subj...\n",
              "16     a political party organization coordinates can...\n",
              "96     the history christianity concerns christian re...\n",
              "Name: clear text, Length: 84, dtype: object"
            ]
          },
          "metadata": {},
          "execution_count": 124
        }
      ],
      "source": [
        "x_tr"
      ]
    },
    {
      "cell_type": "code",
      "execution_count": 125,
      "id": "0866a004",
      "metadata": {
        "id": "0866a004"
      },
      "outputs": [],
      "source": [
        "x_train, x_test, y_train, y_test = model_selection.train_test_split(x_tr, y_tr, test_size=0.3, stratify=y_tr, random_state=5)"
      ]
    },
    {
      "cell_type": "code",
      "execution_count": 126,
      "id": "39e8c86f",
      "metadata": {
        "id": "39e8c86f"
      },
      "outputs": [],
      "source": [
        "count_vectorizer_t = feature_extraction.text.TfidfVectorizer()"
      ]
    },
    {
      "cell_type": "code",
      "execution_count": 127,
      "id": "182664c2",
      "metadata": {
        "colab": {
          "base_uri": "https://localhost:8080/"
        },
        "id": "182664c2",
        "outputId": "93f2e7f0-55ab-43ba-86a0-e95c8e46bfd3"
      },
      "outputs": [
        {
          "output_type": "execute_result",
          "data": {
            "text/plain": [
              "TfidfVectorizer()"
            ]
          },
          "metadata": {},
          "execution_count": 127
        }
      ],
      "source": [
        "count_vectorizer_t.fit(x_train)"
      ]
    },
    {
      "cell_type": "code",
      "execution_count": 128,
      "id": "ba9d5ba3",
      "metadata": {
        "id": "ba9d5ba3"
      },
      "outputs": [],
      "source": [
        "x_train_t_tfidf = count_vectorizer_t.transform(x_train)\n",
        "x_test_t_tfidf = count_vectorizer_t.transform(x_test)"
      ]
    },
    {
      "cell_type": "code",
      "execution_count": 129,
      "id": "34c098b6",
      "metadata": {
        "id": "34c098b6"
      },
      "outputs": [],
      "source": [
        "model = svm.LinearSVC(max_iter=100000)"
      ]
    },
    {
      "cell_type": "code",
      "execution_count": 130,
      "id": "a63254d0",
      "metadata": {
        "id": "a63254d0"
      },
      "outputs": [],
      "source": [
        "model_t = multiclass.OneVsRestClassifier(model)"
      ]
    },
    {
      "cell_type": "code",
      "execution_count": 131,
      "id": "49e36d71",
      "metadata": {
        "colab": {
          "base_uri": "https://localhost:8080/"
        },
        "id": "49e36d71",
        "outputId": "dde8fc69-81bc-4339-dacc-a6f2241abf9e"
      },
      "outputs": [
        {
          "output_type": "execute_result",
          "data": {
            "text/plain": [
              "OneVsRestClassifier(estimator=LinearSVC(max_iter=100000))"
            ]
          },
          "metadata": {},
          "execution_count": 131
        }
      ],
      "source": [
        "model_t.fit(x_train_t_tfidf, y_train)"
      ]
    },
    {
      "cell_type": "code",
      "execution_count": 132,
      "id": "ee8ca6c4",
      "metadata": {
        "id": "ee8ca6c4"
      },
      "outputs": [],
      "source": [
        "y_test_predicted_t = model_t.predict(x_test_t_tfidf)"
      ]
    },
    {
      "cell_type": "code",
      "execution_count": 133,
      "id": "c8d48629",
      "metadata": {
        "colab": {
          "base_uri": "https://localhost:8080/",
          "height": 532
        },
        "id": "c8d48629",
        "outputId": "a5177a4b-d809-4f6f-bd6d-ce49f06e3836"
      },
      "outputs": [
        {
          "output_type": "execute_result",
          "data": {
            "text/plain": [
              "               sport  economy  politics  health  tourism  entertainment  \\\n",
              "sport              2        0         0       0        0              0   \n",
              "economy            0        1         0       0        0              0   \n",
              "politics           0        0         2       0        0              0   \n",
              "health             0        0         0       2        0              0   \n",
              "tourism            0        0         0       0        2              0   \n",
              "entertainment      0        0         0       0        0              1   \n",
              "culture            0        0         0       0        0              0   \n",
              "music              0        0         0       0        0              0   \n",
              "education          0        0         0       0        0              0   \n",
              "real estate        0        0         0       0        0              0   \n",
              "nutrition          0        0         0       0        0              0   \n",
              "science            0        0         0       0        0              0   \n",
              "history            0        0         0       0        0              0   \n",
              "technology         0        0         0       0        0              0   \n",
              "\n",
              "               culture  music  education  real estate  nutrition  science  \\\n",
              "sport                0      0          0            0          0        0   \n",
              "economy              0      0          0            0          0        0   \n",
              "politics             0      0          0            0          0        0   \n",
              "health               0      0          0            0          0        0   \n",
              "tourism              0      0          0            0          0        0   \n",
              "entertainment        0      0          0            0          0        0   \n",
              "culture              2      0          0            0          0        0   \n",
              "music                0      2          0            0          0        0   \n",
              "education            0      0          2            0          0        0   \n",
              "real estate          0      0          0            2          0        0   \n",
              "nutrition            0      0          0            0          2        0   \n",
              "science              0      0          0            0          0        2   \n",
              "history              1      0          0            1          0        0   \n",
              "technology           0      0          0            0          0        0   \n",
              "\n",
              "               history  technology  \n",
              "sport                0           0  \n",
              "economy              0           0  \n",
              "politics             0           0  \n",
              "health               0           0  \n",
              "tourism              0           0  \n",
              "entertainment        0           0  \n",
              "culture              0           0  \n",
              "music                0           0  \n",
              "education            0           0  \n",
              "real estate          0           0  \n",
              "nutrition            0           0  \n",
              "science              0           0  \n",
              "history              0           0  \n",
              "technology           0           2  "
            ],
            "text/html": [
              "\n",
              "  <div id=\"df-ba002262-5fb4-4310-99de-ce16ab42f2ca\">\n",
              "    <div class=\"colab-df-container\">\n",
              "      <div>\n",
              "<style scoped>\n",
              "    .dataframe tbody tr th:only-of-type {\n",
              "        vertical-align: middle;\n",
              "    }\n",
              "\n",
              "    .dataframe tbody tr th {\n",
              "        vertical-align: top;\n",
              "    }\n",
              "\n",
              "    .dataframe thead th {\n",
              "        text-align: right;\n",
              "    }\n",
              "</style>\n",
              "<table border=\"1\" class=\"dataframe\">\n",
              "  <thead>\n",
              "    <tr style=\"text-align: right;\">\n",
              "      <th></th>\n",
              "      <th>sport</th>\n",
              "      <th>economy</th>\n",
              "      <th>politics</th>\n",
              "      <th>health</th>\n",
              "      <th>tourism</th>\n",
              "      <th>entertainment</th>\n",
              "      <th>culture</th>\n",
              "      <th>music</th>\n",
              "      <th>education</th>\n",
              "      <th>real estate</th>\n",
              "      <th>nutrition</th>\n",
              "      <th>science</th>\n",
              "      <th>history</th>\n",
              "      <th>technology</th>\n",
              "    </tr>\n",
              "  </thead>\n",
              "  <tbody>\n",
              "    <tr>\n",
              "      <th>sport</th>\n",
              "      <td>2</td>\n",
              "      <td>0</td>\n",
              "      <td>0</td>\n",
              "      <td>0</td>\n",
              "      <td>0</td>\n",
              "      <td>0</td>\n",
              "      <td>0</td>\n",
              "      <td>0</td>\n",
              "      <td>0</td>\n",
              "      <td>0</td>\n",
              "      <td>0</td>\n",
              "      <td>0</td>\n",
              "      <td>0</td>\n",
              "      <td>0</td>\n",
              "    </tr>\n",
              "    <tr>\n",
              "      <th>economy</th>\n",
              "      <td>0</td>\n",
              "      <td>1</td>\n",
              "      <td>0</td>\n",
              "      <td>0</td>\n",
              "      <td>0</td>\n",
              "      <td>0</td>\n",
              "      <td>0</td>\n",
              "      <td>0</td>\n",
              "      <td>0</td>\n",
              "      <td>0</td>\n",
              "      <td>0</td>\n",
              "      <td>0</td>\n",
              "      <td>0</td>\n",
              "      <td>0</td>\n",
              "    </tr>\n",
              "    <tr>\n",
              "      <th>politics</th>\n",
              "      <td>0</td>\n",
              "      <td>0</td>\n",
              "      <td>2</td>\n",
              "      <td>0</td>\n",
              "      <td>0</td>\n",
              "      <td>0</td>\n",
              "      <td>0</td>\n",
              "      <td>0</td>\n",
              "      <td>0</td>\n",
              "      <td>0</td>\n",
              "      <td>0</td>\n",
              "      <td>0</td>\n",
              "      <td>0</td>\n",
              "      <td>0</td>\n",
              "    </tr>\n",
              "    <tr>\n",
              "      <th>health</th>\n",
              "      <td>0</td>\n",
              "      <td>0</td>\n",
              "      <td>0</td>\n",
              "      <td>2</td>\n",
              "      <td>0</td>\n",
              "      <td>0</td>\n",
              "      <td>0</td>\n",
              "      <td>0</td>\n",
              "      <td>0</td>\n",
              "      <td>0</td>\n",
              "      <td>0</td>\n",
              "      <td>0</td>\n",
              "      <td>0</td>\n",
              "      <td>0</td>\n",
              "    </tr>\n",
              "    <tr>\n",
              "      <th>tourism</th>\n",
              "      <td>0</td>\n",
              "      <td>0</td>\n",
              "      <td>0</td>\n",
              "      <td>0</td>\n",
              "      <td>2</td>\n",
              "      <td>0</td>\n",
              "      <td>0</td>\n",
              "      <td>0</td>\n",
              "      <td>0</td>\n",
              "      <td>0</td>\n",
              "      <td>0</td>\n",
              "      <td>0</td>\n",
              "      <td>0</td>\n",
              "      <td>0</td>\n",
              "    </tr>\n",
              "    <tr>\n",
              "      <th>entertainment</th>\n",
              "      <td>0</td>\n",
              "      <td>0</td>\n",
              "      <td>0</td>\n",
              "      <td>0</td>\n",
              "      <td>0</td>\n",
              "      <td>1</td>\n",
              "      <td>0</td>\n",
              "      <td>0</td>\n",
              "      <td>0</td>\n",
              "      <td>0</td>\n",
              "      <td>0</td>\n",
              "      <td>0</td>\n",
              "      <td>0</td>\n",
              "      <td>0</td>\n",
              "    </tr>\n",
              "    <tr>\n",
              "      <th>culture</th>\n",
              "      <td>0</td>\n",
              "      <td>0</td>\n",
              "      <td>0</td>\n",
              "      <td>0</td>\n",
              "      <td>0</td>\n",
              "      <td>0</td>\n",
              "      <td>2</td>\n",
              "      <td>0</td>\n",
              "      <td>0</td>\n",
              "      <td>0</td>\n",
              "      <td>0</td>\n",
              "      <td>0</td>\n",
              "      <td>0</td>\n",
              "      <td>0</td>\n",
              "    </tr>\n",
              "    <tr>\n",
              "      <th>music</th>\n",
              "      <td>0</td>\n",
              "      <td>0</td>\n",
              "      <td>0</td>\n",
              "      <td>0</td>\n",
              "      <td>0</td>\n",
              "      <td>0</td>\n",
              "      <td>0</td>\n",
              "      <td>2</td>\n",
              "      <td>0</td>\n",
              "      <td>0</td>\n",
              "      <td>0</td>\n",
              "      <td>0</td>\n",
              "      <td>0</td>\n",
              "      <td>0</td>\n",
              "    </tr>\n",
              "    <tr>\n",
              "      <th>education</th>\n",
              "      <td>0</td>\n",
              "      <td>0</td>\n",
              "      <td>0</td>\n",
              "      <td>0</td>\n",
              "      <td>0</td>\n",
              "      <td>0</td>\n",
              "      <td>0</td>\n",
              "      <td>0</td>\n",
              "      <td>2</td>\n",
              "      <td>0</td>\n",
              "      <td>0</td>\n",
              "      <td>0</td>\n",
              "      <td>0</td>\n",
              "      <td>0</td>\n",
              "    </tr>\n",
              "    <tr>\n",
              "      <th>real estate</th>\n",
              "      <td>0</td>\n",
              "      <td>0</td>\n",
              "      <td>0</td>\n",
              "      <td>0</td>\n",
              "      <td>0</td>\n",
              "      <td>0</td>\n",
              "      <td>0</td>\n",
              "      <td>0</td>\n",
              "      <td>0</td>\n",
              "      <td>2</td>\n",
              "      <td>0</td>\n",
              "      <td>0</td>\n",
              "      <td>0</td>\n",
              "      <td>0</td>\n",
              "    </tr>\n",
              "    <tr>\n",
              "      <th>nutrition</th>\n",
              "      <td>0</td>\n",
              "      <td>0</td>\n",
              "      <td>0</td>\n",
              "      <td>0</td>\n",
              "      <td>0</td>\n",
              "      <td>0</td>\n",
              "      <td>0</td>\n",
              "      <td>0</td>\n",
              "      <td>0</td>\n",
              "      <td>0</td>\n",
              "      <td>2</td>\n",
              "      <td>0</td>\n",
              "      <td>0</td>\n",
              "      <td>0</td>\n",
              "    </tr>\n",
              "    <tr>\n",
              "      <th>science</th>\n",
              "      <td>0</td>\n",
              "      <td>0</td>\n",
              "      <td>0</td>\n",
              "      <td>0</td>\n",
              "      <td>0</td>\n",
              "      <td>0</td>\n",
              "      <td>0</td>\n",
              "      <td>0</td>\n",
              "      <td>0</td>\n",
              "      <td>0</td>\n",
              "      <td>0</td>\n",
              "      <td>2</td>\n",
              "      <td>0</td>\n",
              "      <td>0</td>\n",
              "    </tr>\n",
              "    <tr>\n",
              "      <th>history</th>\n",
              "      <td>0</td>\n",
              "      <td>0</td>\n",
              "      <td>0</td>\n",
              "      <td>0</td>\n",
              "      <td>0</td>\n",
              "      <td>0</td>\n",
              "      <td>1</td>\n",
              "      <td>0</td>\n",
              "      <td>0</td>\n",
              "      <td>1</td>\n",
              "      <td>0</td>\n",
              "      <td>0</td>\n",
              "      <td>0</td>\n",
              "      <td>0</td>\n",
              "    </tr>\n",
              "    <tr>\n",
              "      <th>technology</th>\n",
              "      <td>0</td>\n",
              "      <td>0</td>\n",
              "      <td>0</td>\n",
              "      <td>0</td>\n",
              "      <td>0</td>\n",
              "      <td>0</td>\n",
              "      <td>0</td>\n",
              "      <td>0</td>\n",
              "      <td>0</td>\n",
              "      <td>0</td>\n",
              "      <td>0</td>\n",
              "      <td>0</td>\n",
              "      <td>0</td>\n",
              "      <td>2</td>\n",
              "    </tr>\n",
              "  </tbody>\n",
              "</table>\n",
              "</div>\n",
              "      <button class=\"colab-df-convert\" onclick=\"convertToInteractive('df-ba002262-5fb4-4310-99de-ce16ab42f2ca')\"\n",
              "              title=\"Convert this dataframe to an interactive table.\"\n",
              "              style=\"display:none;\">\n",
              "        \n",
              "  <svg xmlns=\"http://www.w3.org/2000/svg\" height=\"24px\"viewBox=\"0 0 24 24\"\n",
              "       width=\"24px\">\n",
              "    <path d=\"M0 0h24v24H0V0z\" fill=\"none\"/>\n",
              "    <path d=\"M18.56 5.44l.94 2.06.94-2.06 2.06-.94-2.06-.94-.94-2.06-.94 2.06-2.06.94zm-11 1L8.5 8.5l.94-2.06 2.06-.94-2.06-.94L8.5 2.5l-.94 2.06-2.06.94zm10 10l.94 2.06.94-2.06 2.06-.94-2.06-.94-.94-2.06-.94 2.06-2.06.94z\"/><path d=\"M17.41 7.96l-1.37-1.37c-.4-.4-.92-.59-1.43-.59-.52 0-1.04.2-1.43.59L10.3 9.45l-7.72 7.72c-.78.78-.78 2.05 0 2.83L4 21.41c.39.39.9.59 1.41.59.51 0 1.02-.2 1.41-.59l7.78-7.78 2.81-2.81c.8-.78.8-2.07 0-2.86zM5.41 20L4 18.59l7.72-7.72 1.47 1.35L5.41 20z\"/>\n",
              "  </svg>\n",
              "      </button>\n",
              "      \n",
              "  <style>\n",
              "    .colab-df-container {\n",
              "      display:flex;\n",
              "      flex-wrap:wrap;\n",
              "      gap: 12px;\n",
              "    }\n",
              "\n",
              "    .colab-df-convert {\n",
              "      background-color: #E8F0FE;\n",
              "      border: none;\n",
              "      border-radius: 50%;\n",
              "      cursor: pointer;\n",
              "      display: none;\n",
              "      fill: #1967D2;\n",
              "      height: 32px;\n",
              "      padding: 0 0 0 0;\n",
              "      width: 32px;\n",
              "    }\n",
              "\n",
              "    .colab-df-convert:hover {\n",
              "      background-color: #E2EBFA;\n",
              "      box-shadow: 0px 1px 2px rgba(60, 64, 67, 0.3), 0px 1px 3px 1px rgba(60, 64, 67, 0.15);\n",
              "      fill: #174EA6;\n",
              "    }\n",
              "\n",
              "    [theme=dark] .colab-df-convert {\n",
              "      background-color: #3B4455;\n",
              "      fill: #D2E3FC;\n",
              "    }\n",
              "\n",
              "    [theme=dark] .colab-df-convert:hover {\n",
              "      background-color: #434B5C;\n",
              "      box-shadow: 0px 1px 3px 1px rgba(0, 0, 0, 0.15);\n",
              "      filter: drop-shadow(0px 1px 2px rgba(0, 0, 0, 0.3));\n",
              "      fill: #FFFFFF;\n",
              "    }\n",
              "  </style>\n",
              "\n",
              "      <script>\n",
              "        const buttonEl =\n",
              "          document.querySelector('#df-ba002262-5fb4-4310-99de-ce16ab42f2ca button.colab-df-convert');\n",
              "        buttonEl.style.display =\n",
              "          google.colab.kernel.accessAllowed ? 'block' : 'none';\n",
              "\n",
              "        async function convertToInteractive(key) {\n",
              "          const element = document.querySelector('#df-ba002262-5fb4-4310-99de-ce16ab42f2ca');\n",
              "          const dataTable =\n",
              "            await google.colab.kernel.invokeFunction('convertToInteractive',\n",
              "                                                     [key], {});\n",
              "          if (!dataTable) return;\n",
              "\n",
              "          const docLinkHtml = 'Like what you see? Visit the ' +\n",
              "            '<a target=\"_blank\" href=https://colab.research.google.com/notebooks/data_table.ipynb>data table notebook</a>'\n",
              "            + ' to learn more about interactive tables.';\n",
              "          element.innerHTML = '';\n",
              "          dataTable['output_type'] = 'display_data';\n",
              "          await google.colab.output.renderOutput(dataTable, element);\n",
              "          const docLink = document.createElement('div');\n",
              "          docLink.innerHTML = docLinkHtml;\n",
              "          element.appendChild(docLink);\n",
              "        }\n",
              "      </script>\n",
              "    </div>\n",
              "  </div>\n",
              "  "
            ]
          },
          "metadata": {},
          "execution_count": 133
        }
      ],
      "source": [
        "cm = pd.DataFrame(metrics.confusion_matrix(y_test, y_test_predicted_t), columns=df['class'].unique(), index=df['class'].unique())\n",
        "cm"
      ]
    },
    {
      "cell_type": "code",
      "execution_count": 134,
      "id": "b97a3c5f",
      "metadata": {
        "colab": {
          "base_uri": "https://localhost:8080/"
        },
        "id": "b97a3c5f",
        "outputId": "dbd07a98-7ef7-42cf-c703-eb603c2f313a"
      },
      "outputs": [
        {
          "output_type": "stream",
          "name": "stdout",
          "text": [
            "              precision    recall  f1-score   support\n",
            "\n",
            "           0       1.00      1.00      1.00         2\n",
            "           1       1.00      1.00      1.00         1\n",
            "           2       1.00      1.00      1.00         2\n",
            "           3       1.00      1.00      1.00         2\n",
            "           4       1.00      1.00      1.00         2\n",
            "           5       1.00      1.00      1.00         1\n",
            "           6       0.67      1.00      0.80         2\n",
            "           7       1.00      1.00      1.00         2\n",
            "           8       1.00      1.00      1.00         2\n",
            "           9       0.67      1.00      0.80         2\n",
            "          10       1.00      1.00      1.00         2\n",
            "          11       1.00      1.00      1.00         2\n",
            "          12       0.00      0.00      0.00         2\n",
            "          13       1.00      1.00      1.00         2\n",
            "\n",
            "    accuracy                           0.92        26\n",
            "   macro avg       0.88      0.93      0.90        26\n",
            "weighted avg       0.87      0.92      0.89        26\n",
            "\n"
          ]
        },
        {
          "output_type": "stream",
          "name": "stderr",
          "text": [
            "/usr/local/lib/python3.7/dist-packages/sklearn/metrics/_classification.py:1318: UndefinedMetricWarning: Precision and F-score are ill-defined and being set to 0.0 in labels with no predicted samples. Use `zero_division` parameter to control this behavior.\n",
            "  _warn_prf(average, modifier, msg_start, len(result))\n",
            "/usr/local/lib/python3.7/dist-packages/sklearn/metrics/_classification.py:1318: UndefinedMetricWarning: Precision and F-score are ill-defined and being set to 0.0 in labels with no predicted samples. Use `zero_division` parameter to control this behavior.\n",
            "  _warn_prf(average, modifier, msg_start, len(result))\n",
            "/usr/local/lib/python3.7/dist-packages/sklearn/metrics/_classification.py:1318: UndefinedMetricWarning: Precision and F-score are ill-defined and being set to 0.0 in labels with no predicted samples. Use `zero_division` parameter to control this behavior.\n",
            "  _warn_prf(average, modifier, msg_start, len(result))\n"
          ]
        }
      ],
      "source": [
        "print(metrics.classification_report(y_test, y_test_predicted_t))"
      ]
    },
    {
      "cell_type": "code",
      "execution_count": 135,
      "id": "54d53ab7",
      "metadata": {
        "colab": {
          "base_uri": "https://localhost:8080/"
        },
        "id": "54d53ab7",
        "outputId": "05dca638-24e0-47ac-ca94-62731ea9ee21"
      },
      "outputs": [
        {
          "output_type": "execute_result",
          "data": {
            "text/plain": [
              "0.9000000000000001"
            ]
          },
          "metadata": {},
          "execution_count": 135
        }
      ],
      "source": [
        "metrics.f1_score(y_test, y_test_predicted_t, average='macro')"
      ]
    },
    {
      "cell_type": "code",
      "execution_count": 136,
      "id": "4c8a16e7",
      "metadata": {
        "id": "4c8a16e7"
      },
      "outputs": [],
      "source": [
        "count_vectorizer_l = feature_extraction.text.TfidfVectorizer(tokenizer=my_lemmitezer)"
      ]
    },
    {
      "cell_type": "code",
      "execution_count": 137,
      "id": "0ce8acb3",
      "metadata": {
        "colab": {
          "base_uri": "https://localhost:8080/"
        },
        "id": "0ce8acb3",
        "outputId": "514ee8a1-3f17-4fd4-eddf-978f3c221f12"
      },
      "outputs": [
        {
          "output_type": "stream",
          "name": "stderr",
          "text": [
            "/usr/local/lib/python3.7/dist-packages/sklearn/feature_extraction/text.py:517: UserWarning: The parameter 'token_pattern' will not be used since 'tokenizer' is not None'\n",
            "  \"The parameter 'token_pattern' will not be used\"\n"
          ]
        },
        {
          "output_type": "execute_result",
          "data": {
            "text/plain": [
              "TfidfVectorizer(tokenizer=<function my_lemmitezer at 0x7f0031ce7a70>)"
            ]
          },
          "metadata": {},
          "execution_count": 137
        }
      ],
      "source": [
        "count_vectorizer_l.fit(x_train)"
      ]
    },
    {
      "cell_type": "code",
      "execution_count": 138,
      "id": "55688fe0",
      "metadata": {
        "id": "55688fe0"
      },
      "outputs": [],
      "source": [
        "x_train_l_tfidf = count_vectorizer_l.transform(x_train)\n",
        "x_test_l_tfidf = count_vectorizer_l.transform(x_test)"
      ]
    },
    {
      "cell_type": "code",
      "execution_count": 139,
      "id": "4594c7f8",
      "metadata": {
        "id": "4594c7f8"
      },
      "outputs": [],
      "source": [
        "model = svm.LinearSVC(max_iter=100000)"
      ]
    },
    {
      "cell_type": "code",
      "execution_count": 140,
      "id": "57a0a1c0",
      "metadata": {
        "id": "57a0a1c0"
      },
      "outputs": [],
      "source": [
        "model_l = multiclass.OneVsRestClassifier(model)"
      ]
    },
    {
      "cell_type": "code",
      "execution_count": 141,
      "id": "26b6ef7c",
      "metadata": {
        "colab": {
          "base_uri": "https://localhost:8080/"
        },
        "id": "26b6ef7c",
        "outputId": "6e31acd9-ea98-42d5-819d-00e82bfee92b"
      },
      "outputs": [
        {
          "output_type": "execute_result",
          "data": {
            "text/plain": [
              "OneVsRestClassifier(estimator=LinearSVC(max_iter=100000))"
            ]
          },
          "metadata": {},
          "execution_count": 141
        }
      ],
      "source": [
        "model_l.fit(x_train_l_tfidf, y_train)"
      ]
    },
    {
      "cell_type": "code",
      "execution_count": 142,
      "id": "a24e474e",
      "metadata": {
        "id": "a24e474e"
      },
      "outputs": [],
      "source": [
        "y_test_predicted_l = model_l.predict(x_test_l_tfidf)"
      ]
    },
    {
      "cell_type": "code",
      "execution_count": 143,
      "id": "c00988ce",
      "metadata": {
        "colab": {
          "base_uri": "https://localhost:8080/",
          "height": 532
        },
        "id": "c00988ce",
        "outputId": "11a7adab-573f-4b08-9531-a620376c7113"
      },
      "outputs": [
        {
          "output_type": "execute_result",
          "data": {
            "text/plain": [
              "               sport  economy  politics  health  tourism  entertainment  \\\n",
              "sport              2        0         0       0        0              0   \n",
              "economy            0        1         0       0        0              0   \n",
              "politics           0        0         2       0        0              0   \n",
              "health             0        0         0       2        0              0   \n",
              "tourism            0        0         0       0        2              0   \n",
              "entertainment      0        0         0       0        0              1   \n",
              "culture            0        0         0       0        0              0   \n",
              "music              0        0         0       0        0              0   \n",
              "education          0        0         0       0        0              0   \n",
              "real estate        0        0         0       0        0              0   \n",
              "nutrition          0        0         0       0        0              0   \n",
              "science            0        0         0       0        0              0   \n",
              "history            0        0         0       0        0              0   \n",
              "technology         0        0         0       0        0              0   \n",
              "\n",
              "               culture  music  education  real estate  nutrition  science  \\\n",
              "sport                0      0          0            0          0        0   \n",
              "economy              0      0          0            0          0        0   \n",
              "politics             0      0          0            0          0        0   \n",
              "health               0      0          0            0          0        0   \n",
              "tourism              0      0          0            0          0        0   \n",
              "entertainment        0      0          0            0          0        0   \n",
              "culture              2      0          0            0          0        0   \n",
              "music                0      2          0            0          0        0   \n",
              "education            0      0          2            0          0        0   \n",
              "real estate          0      0          0            2          0        0   \n",
              "nutrition            0      0          0            0          2        0   \n",
              "science              0      0          0            0          0        2   \n",
              "history              1      0          0            1          0        0   \n",
              "technology           0      0          0            0          0        0   \n",
              "\n",
              "               history  technology  \n",
              "sport                0           0  \n",
              "economy              0           0  \n",
              "politics             0           0  \n",
              "health               0           0  \n",
              "tourism              0           0  \n",
              "entertainment        0           0  \n",
              "culture              0           0  \n",
              "music                0           0  \n",
              "education            0           0  \n",
              "real estate          0           0  \n",
              "nutrition            0           0  \n",
              "science              0           0  \n",
              "history              0           0  \n",
              "technology           0           2  "
            ],
            "text/html": [
              "\n",
              "  <div id=\"df-fae21e8d-5fef-4868-9cc6-c50de47b625c\">\n",
              "    <div class=\"colab-df-container\">\n",
              "      <div>\n",
              "<style scoped>\n",
              "    .dataframe tbody tr th:only-of-type {\n",
              "        vertical-align: middle;\n",
              "    }\n",
              "\n",
              "    .dataframe tbody tr th {\n",
              "        vertical-align: top;\n",
              "    }\n",
              "\n",
              "    .dataframe thead th {\n",
              "        text-align: right;\n",
              "    }\n",
              "</style>\n",
              "<table border=\"1\" class=\"dataframe\">\n",
              "  <thead>\n",
              "    <tr style=\"text-align: right;\">\n",
              "      <th></th>\n",
              "      <th>sport</th>\n",
              "      <th>economy</th>\n",
              "      <th>politics</th>\n",
              "      <th>health</th>\n",
              "      <th>tourism</th>\n",
              "      <th>entertainment</th>\n",
              "      <th>culture</th>\n",
              "      <th>music</th>\n",
              "      <th>education</th>\n",
              "      <th>real estate</th>\n",
              "      <th>nutrition</th>\n",
              "      <th>science</th>\n",
              "      <th>history</th>\n",
              "      <th>technology</th>\n",
              "    </tr>\n",
              "  </thead>\n",
              "  <tbody>\n",
              "    <tr>\n",
              "      <th>sport</th>\n",
              "      <td>2</td>\n",
              "      <td>0</td>\n",
              "      <td>0</td>\n",
              "      <td>0</td>\n",
              "      <td>0</td>\n",
              "      <td>0</td>\n",
              "      <td>0</td>\n",
              "      <td>0</td>\n",
              "      <td>0</td>\n",
              "      <td>0</td>\n",
              "      <td>0</td>\n",
              "      <td>0</td>\n",
              "      <td>0</td>\n",
              "      <td>0</td>\n",
              "    </tr>\n",
              "    <tr>\n",
              "      <th>economy</th>\n",
              "      <td>0</td>\n",
              "      <td>1</td>\n",
              "      <td>0</td>\n",
              "      <td>0</td>\n",
              "      <td>0</td>\n",
              "      <td>0</td>\n",
              "      <td>0</td>\n",
              "      <td>0</td>\n",
              "      <td>0</td>\n",
              "      <td>0</td>\n",
              "      <td>0</td>\n",
              "      <td>0</td>\n",
              "      <td>0</td>\n",
              "      <td>0</td>\n",
              "    </tr>\n",
              "    <tr>\n",
              "      <th>politics</th>\n",
              "      <td>0</td>\n",
              "      <td>0</td>\n",
              "      <td>2</td>\n",
              "      <td>0</td>\n",
              "      <td>0</td>\n",
              "      <td>0</td>\n",
              "      <td>0</td>\n",
              "      <td>0</td>\n",
              "      <td>0</td>\n",
              "      <td>0</td>\n",
              "      <td>0</td>\n",
              "      <td>0</td>\n",
              "      <td>0</td>\n",
              "      <td>0</td>\n",
              "    </tr>\n",
              "    <tr>\n",
              "      <th>health</th>\n",
              "      <td>0</td>\n",
              "      <td>0</td>\n",
              "      <td>0</td>\n",
              "      <td>2</td>\n",
              "      <td>0</td>\n",
              "      <td>0</td>\n",
              "      <td>0</td>\n",
              "      <td>0</td>\n",
              "      <td>0</td>\n",
              "      <td>0</td>\n",
              "      <td>0</td>\n",
              "      <td>0</td>\n",
              "      <td>0</td>\n",
              "      <td>0</td>\n",
              "    </tr>\n",
              "    <tr>\n",
              "      <th>tourism</th>\n",
              "      <td>0</td>\n",
              "      <td>0</td>\n",
              "      <td>0</td>\n",
              "      <td>0</td>\n",
              "      <td>2</td>\n",
              "      <td>0</td>\n",
              "      <td>0</td>\n",
              "      <td>0</td>\n",
              "      <td>0</td>\n",
              "      <td>0</td>\n",
              "      <td>0</td>\n",
              "      <td>0</td>\n",
              "      <td>0</td>\n",
              "      <td>0</td>\n",
              "    </tr>\n",
              "    <tr>\n",
              "      <th>entertainment</th>\n",
              "      <td>0</td>\n",
              "      <td>0</td>\n",
              "      <td>0</td>\n",
              "      <td>0</td>\n",
              "      <td>0</td>\n",
              "      <td>1</td>\n",
              "      <td>0</td>\n",
              "      <td>0</td>\n",
              "      <td>0</td>\n",
              "      <td>0</td>\n",
              "      <td>0</td>\n",
              "      <td>0</td>\n",
              "      <td>0</td>\n",
              "      <td>0</td>\n",
              "    </tr>\n",
              "    <tr>\n",
              "      <th>culture</th>\n",
              "      <td>0</td>\n",
              "      <td>0</td>\n",
              "      <td>0</td>\n",
              "      <td>0</td>\n",
              "      <td>0</td>\n",
              "      <td>0</td>\n",
              "      <td>2</td>\n",
              "      <td>0</td>\n",
              "      <td>0</td>\n",
              "      <td>0</td>\n",
              "      <td>0</td>\n",
              "      <td>0</td>\n",
              "      <td>0</td>\n",
              "      <td>0</td>\n",
              "    </tr>\n",
              "    <tr>\n",
              "      <th>music</th>\n",
              "      <td>0</td>\n",
              "      <td>0</td>\n",
              "      <td>0</td>\n",
              "      <td>0</td>\n",
              "      <td>0</td>\n",
              "      <td>0</td>\n",
              "      <td>0</td>\n",
              "      <td>2</td>\n",
              "      <td>0</td>\n",
              "      <td>0</td>\n",
              "      <td>0</td>\n",
              "      <td>0</td>\n",
              "      <td>0</td>\n",
              "      <td>0</td>\n",
              "    </tr>\n",
              "    <tr>\n",
              "      <th>education</th>\n",
              "      <td>0</td>\n",
              "      <td>0</td>\n",
              "      <td>0</td>\n",
              "      <td>0</td>\n",
              "      <td>0</td>\n",
              "      <td>0</td>\n",
              "      <td>0</td>\n",
              "      <td>0</td>\n",
              "      <td>2</td>\n",
              "      <td>0</td>\n",
              "      <td>0</td>\n",
              "      <td>0</td>\n",
              "      <td>0</td>\n",
              "      <td>0</td>\n",
              "    </tr>\n",
              "    <tr>\n",
              "      <th>real estate</th>\n",
              "      <td>0</td>\n",
              "      <td>0</td>\n",
              "      <td>0</td>\n",
              "      <td>0</td>\n",
              "      <td>0</td>\n",
              "      <td>0</td>\n",
              "      <td>0</td>\n",
              "      <td>0</td>\n",
              "      <td>0</td>\n",
              "      <td>2</td>\n",
              "      <td>0</td>\n",
              "      <td>0</td>\n",
              "      <td>0</td>\n",
              "      <td>0</td>\n",
              "    </tr>\n",
              "    <tr>\n",
              "      <th>nutrition</th>\n",
              "      <td>0</td>\n",
              "      <td>0</td>\n",
              "      <td>0</td>\n",
              "      <td>0</td>\n",
              "      <td>0</td>\n",
              "      <td>0</td>\n",
              "      <td>0</td>\n",
              "      <td>0</td>\n",
              "      <td>0</td>\n",
              "      <td>0</td>\n",
              "      <td>2</td>\n",
              "      <td>0</td>\n",
              "      <td>0</td>\n",
              "      <td>0</td>\n",
              "    </tr>\n",
              "    <tr>\n",
              "      <th>science</th>\n",
              "      <td>0</td>\n",
              "      <td>0</td>\n",
              "      <td>0</td>\n",
              "      <td>0</td>\n",
              "      <td>0</td>\n",
              "      <td>0</td>\n",
              "      <td>0</td>\n",
              "      <td>0</td>\n",
              "      <td>0</td>\n",
              "      <td>0</td>\n",
              "      <td>0</td>\n",
              "      <td>2</td>\n",
              "      <td>0</td>\n",
              "      <td>0</td>\n",
              "    </tr>\n",
              "    <tr>\n",
              "      <th>history</th>\n",
              "      <td>0</td>\n",
              "      <td>0</td>\n",
              "      <td>0</td>\n",
              "      <td>0</td>\n",
              "      <td>0</td>\n",
              "      <td>0</td>\n",
              "      <td>1</td>\n",
              "      <td>0</td>\n",
              "      <td>0</td>\n",
              "      <td>1</td>\n",
              "      <td>0</td>\n",
              "      <td>0</td>\n",
              "      <td>0</td>\n",
              "      <td>0</td>\n",
              "    </tr>\n",
              "    <tr>\n",
              "      <th>technology</th>\n",
              "      <td>0</td>\n",
              "      <td>0</td>\n",
              "      <td>0</td>\n",
              "      <td>0</td>\n",
              "      <td>0</td>\n",
              "      <td>0</td>\n",
              "      <td>0</td>\n",
              "      <td>0</td>\n",
              "      <td>0</td>\n",
              "      <td>0</td>\n",
              "      <td>0</td>\n",
              "      <td>0</td>\n",
              "      <td>0</td>\n",
              "      <td>2</td>\n",
              "    </tr>\n",
              "  </tbody>\n",
              "</table>\n",
              "</div>\n",
              "      <button class=\"colab-df-convert\" onclick=\"convertToInteractive('df-fae21e8d-5fef-4868-9cc6-c50de47b625c')\"\n",
              "              title=\"Convert this dataframe to an interactive table.\"\n",
              "              style=\"display:none;\">\n",
              "        \n",
              "  <svg xmlns=\"http://www.w3.org/2000/svg\" height=\"24px\"viewBox=\"0 0 24 24\"\n",
              "       width=\"24px\">\n",
              "    <path d=\"M0 0h24v24H0V0z\" fill=\"none\"/>\n",
              "    <path d=\"M18.56 5.44l.94 2.06.94-2.06 2.06-.94-2.06-.94-.94-2.06-.94 2.06-2.06.94zm-11 1L8.5 8.5l.94-2.06 2.06-.94-2.06-.94L8.5 2.5l-.94 2.06-2.06.94zm10 10l.94 2.06.94-2.06 2.06-.94-2.06-.94-.94-2.06-.94 2.06-2.06.94z\"/><path d=\"M17.41 7.96l-1.37-1.37c-.4-.4-.92-.59-1.43-.59-.52 0-1.04.2-1.43.59L10.3 9.45l-7.72 7.72c-.78.78-.78 2.05 0 2.83L4 21.41c.39.39.9.59 1.41.59.51 0 1.02-.2 1.41-.59l7.78-7.78 2.81-2.81c.8-.78.8-2.07 0-2.86zM5.41 20L4 18.59l7.72-7.72 1.47 1.35L5.41 20z\"/>\n",
              "  </svg>\n",
              "      </button>\n",
              "      \n",
              "  <style>\n",
              "    .colab-df-container {\n",
              "      display:flex;\n",
              "      flex-wrap:wrap;\n",
              "      gap: 12px;\n",
              "    }\n",
              "\n",
              "    .colab-df-convert {\n",
              "      background-color: #E8F0FE;\n",
              "      border: none;\n",
              "      border-radius: 50%;\n",
              "      cursor: pointer;\n",
              "      display: none;\n",
              "      fill: #1967D2;\n",
              "      height: 32px;\n",
              "      padding: 0 0 0 0;\n",
              "      width: 32px;\n",
              "    }\n",
              "\n",
              "    .colab-df-convert:hover {\n",
              "      background-color: #E2EBFA;\n",
              "      box-shadow: 0px 1px 2px rgba(60, 64, 67, 0.3), 0px 1px 3px 1px rgba(60, 64, 67, 0.15);\n",
              "      fill: #174EA6;\n",
              "    }\n",
              "\n",
              "    [theme=dark] .colab-df-convert {\n",
              "      background-color: #3B4455;\n",
              "      fill: #D2E3FC;\n",
              "    }\n",
              "\n",
              "    [theme=dark] .colab-df-convert:hover {\n",
              "      background-color: #434B5C;\n",
              "      box-shadow: 0px 1px 3px 1px rgba(0, 0, 0, 0.15);\n",
              "      filter: drop-shadow(0px 1px 2px rgba(0, 0, 0, 0.3));\n",
              "      fill: #FFFFFF;\n",
              "    }\n",
              "  </style>\n",
              "\n",
              "      <script>\n",
              "        const buttonEl =\n",
              "          document.querySelector('#df-fae21e8d-5fef-4868-9cc6-c50de47b625c button.colab-df-convert');\n",
              "        buttonEl.style.display =\n",
              "          google.colab.kernel.accessAllowed ? 'block' : 'none';\n",
              "\n",
              "        async function convertToInteractive(key) {\n",
              "          const element = document.querySelector('#df-fae21e8d-5fef-4868-9cc6-c50de47b625c');\n",
              "          const dataTable =\n",
              "            await google.colab.kernel.invokeFunction('convertToInteractive',\n",
              "                                                     [key], {});\n",
              "          if (!dataTable) return;\n",
              "\n",
              "          const docLinkHtml = 'Like what you see? Visit the ' +\n",
              "            '<a target=\"_blank\" href=https://colab.research.google.com/notebooks/data_table.ipynb>data table notebook</a>'\n",
              "            + ' to learn more about interactive tables.';\n",
              "          element.innerHTML = '';\n",
              "          dataTable['output_type'] = 'display_data';\n",
              "          await google.colab.output.renderOutput(dataTable, element);\n",
              "          const docLink = document.createElement('div');\n",
              "          docLink.innerHTML = docLinkHtml;\n",
              "          element.appendChild(docLink);\n",
              "        }\n",
              "      </script>\n",
              "    </div>\n",
              "  </div>\n",
              "  "
            ]
          },
          "metadata": {},
          "execution_count": 143
        }
      ],
      "source": [
        "cm = pd.DataFrame(metrics.confusion_matrix(y_test, y_test_predicted_l), columns=df['class'].unique(), index=df['class'].unique())\n",
        "cm"
      ]
    },
    {
      "cell_type": "code",
      "execution_count": 144,
      "id": "3bce5577",
      "metadata": {
        "colab": {
          "base_uri": "https://localhost:8080/"
        },
        "id": "3bce5577",
        "outputId": "29c56428-9199-484b-8c10-2a941a0e7547"
      },
      "outputs": [
        {
          "output_type": "stream",
          "name": "stdout",
          "text": [
            "              precision    recall  f1-score   support\n",
            "\n",
            "           0       1.00      1.00      1.00         2\n",
            "           1       1.00      1.00      1.00         1\n",
            "           2       1.00      1.00      1.00         2\n",
            "           3       1.00      1.00      1.00         2\n",
            "           4       1.00      1.00      1.00         2\n",
            "           5       1.00      1.00      1.00         1\n",
            "           6       0.67      1.00      0.80         2\n",
            "           7       1.00      1.00      1.00         2\n",
            "           8       1.00      1.00      1.00         2\n",
            "           9       0.67      1.00      0.80         2\n",
            "          10       1.00      1.00      1.00         2\n",
            "          11       1.00      1.00      1.00         2\n",
            "          12       0.00      0.00      0.00         2\n",
            "          13       1.00      1.00      1.00         2\n",
            "\n",
            "    accuracy                           0.92        26\n",
            "   macro avg       0.88      0.93      0.90        26\n",
            "weighted avg       0.87      0.92      0.89        26\n",
            "\n"
          ]
        },
        {
          "output_type": "stream",
          "name": "stderr",
          "text": [
            "/usr/local/lib/python3.7/dist-packages/sklearn/metrics/_classification.py:1318: UndefinedMetricWarning: Precision and F-score are ill-defined and being set to 0.0 in labels with no predicted samples. Use `zero_division` parameter to control this behavior.\n",
            "  _warn_prf(average, modifier, msg_start, len(result))\n",
            "/usr/local/lib/python3.7/dist-packages/sklearn/metrics/_classification.py:1318: UndefinedMetricWarning: Precision and F-score are ill-defined and being set to 0.0 in labels with no predicted samples. Use `zero_division` parameter to control this behavior.\n",
            "  _warn_prf(average, modifier, msg_start, len(result))\n",
            "/usr/local/lib/python3.7/dist-packages/sklearn/metrics/_classification.py:1318: UndefinedMetricWarning: Precision and F-score are ill-defined and being set to 0.0 in labels with no predicted samples. Use `zero_division` parameter to control this behavior.\n",
            "  _warn_prf(average, modifier, msg_start, len(result))\n"
          ]
        }
      ],
      "source": [
        "print(metrics.classification_report(y_test, y_test_predicted_l))"
      ]
    },
    {
      "cell_type": "code",
      "execution_count": 145,
      "id": "a04fe762",
      "metadata": {
        "colab": {
          "base_uri": "https://localhost:8080/"
        },
        "id": "a04fe762",
        "outputId": "3c85b1df-46a1-4f26-f23f-cd87c73f2842"
      },
      "outputs": [
        {
          "output_type": "execute_result",
          "data": {
            "text/plain": [
              "0.9000000000000001"
            ]
          },
          "metadata": {},
          "execution_count": 145
        }
      ],
      "source": [
        "metrics.f1_score(y_test, y_test_predicted_l, average='macro')"
      ]
    },
    {
      "cell_type": "code",
      "execution_count": 146,
      "id": "1a54f918",
      "metadata": {
        "id": "1a54f918"
      },
      "outputs": [],
      "source": [
        "count_vectorizer_s = feature_extraction.text.TfidfVectorizer(tokenizer=my_stemmer)"
      ]
    },
    {
      "cell_type": "code",
      "execution_count": 147,
      "id": "86a190e9",
      "metadata": {
        "colab": {
          "base_uri": "https://localhost:8080/"
        },
        "id": "86a190e9",
        "outputId": "608b40ff-90aa-40ff-9b67-9014b4cf8a82"
      },
      "outputs": [
        {
          "output_type": "stream",
          "name": "stderr",
          "text": [
            "/usr/local/lib/python3.7/dist-packages/sklearn/feature_extraction/text.py:517: UserWarning: The parameter 'token_pattern' will not be used since 'tokenizer' is not None'\n",
            "  \"The parameter 'token_pattern' will not be used\"\n"
          ]
        },
        {
          "output_type": "execute_result",
          "data": {
            "text/plain": [
              "TfidfVectorizer(tokenizer=<function my_stemmer at 0x7f0031cebe60>)"
            ]
          },
          "metadata": {},
          "execution_count": 147
        }
      ],
      "source": [
        "count_vectorizer_s.fit(x_train)"
      ]
    },
    {
      "cell_type": "code",
      "execution_count": 148,
      "id": "a8c86caa",
      "metadata": {
        "id": "a8c86caa"
      },
      "outputs": [],
      "source": [
        "x_train_s_tfidf = count_vectorizer_s.transform(x_train)\n",
        "x_test_s_tfidf = count_vectorizer_s.transform(x_test)"
      ]
    },
    {
      "cell_type": "code",
      "execution_count": 149,
      "id": "cd743b19",
      "metadata": {
        "id": "cd743b19"
      },
      "outputs": [],
      "source": [
        "model = svm.LinearSVC(max_iter=100000)"
      ]
    },
    {
      "cell_type": "code",
      "execution_count": 150,
      "id": "daf761f6",
      "metadata": {
        "id": "daf761f6"
      },
      "outputs": [],
      "source": [
        "model_s = multiclass.OneVsRestClassifier(model)"
      ]
    },
    {
      "cell_type": "code",
      "execution_count": 151,
      "id": "7a426645",
      "metadata": {
        "colab": {
          "base_uri": "https://localhost:8080/"
        },
        "id": "7a426645",
        "outputId": "a97790dc-8881-4672-9a12-3cf01cf6fd5d"
      },
      "outputs": [
        {
          "output_type": "execute_result",
          "data": {
            "text/plain": [
              "OneVsRestClassifier(estimator=LinearSVC(max_iter=100000))"
            ]
          },
          "metadata": {},
          "execution_count": 151
        }
      ],
      "source": [
        "model_s.fit(x_train_s_tfidf, y_train)"
      ]
    },
    {
      "cell_type": "code",
      "execution_count": 152,
      "id": "21add4a0",
      "metadata": {
        "id": "21add4a0"
      },
      "outputs": [],
      "source": [
        "y_test_predicted_s = model_s.predict(x_test_s_tfidf)"
      ]
    },
    {
      "cell_type": "code",
      "execution_count": 153,
      "id": "b712c4bf",
      "metadata": {
        "colab": {
          "base_uri": "https://localhost:8080/",
          "height": 532
        },
        "id": "b712c4bf",
        "outputId": "b971cc87-a48f-4f80-a4a4-16fa6ae0da49"
      },
      "outputs": [
        {
          "output_type": "execute_result",
          "data": {
            "text/plain": [
              "               sport  economy  politics  health  tourism  entertainment  \\\n",
              "sport              2        0         0       0        0              0   \n",
              "economy            0        1         0       0        0              0   \n",
              "politics           0        0         2       0        0              0   \n",
              "health             0        0         0       2        0              0   \n",
              "tourism            0        0         0       0        2              0   \n",
              "entertainment      0        0         0       0        0              1   \n",
              "culture            0        0         0       0        0              0   \n",
              "music              0        0         0       0        0              0   \n",
              "education          0        0         0       0        0              0   \n",
              "real estate        0        0         0       0        0              0   \n",
              "nutrition          0        0         0       0        0              0   \n",
              "science            0        0         0       0        0              0   \n",
              "history            0        0         0       0        0              0   \n",
              "technology         0        0         0       0        0              0   \n",
              "\n",
              "               culture  music  education  real estate  nutrition  science  \\\n",
              "sport                0      0          0            0          0        0   \n",
              "economy              0      0          0            0          0        0   \n",
              "politics             0      0          0            0          0        0   \n",
              "health               0      0          0            0          0        0   \n",
              "tourism              0      0          0            0          0        0   \n",
              "entertainment        0      0          0            0          0        0   \n",
              "culture              2      0          0            0          0        0   \n",
              "music                0      2          0            0          0        0   \n",
              "education            0      0          2            0          0        0   \n",
              "real estate          0      0          0            2          0        0   \n",
              "nutrition            0      0          0            0          2        0   \n",
              "science              0      0          0            0          0        2   \n",
              "history              1      0          0            1          0        0   \n",
              "technology           0      0          0            0          0        0   \n",
              "\n",
              "               history  technology  \n",
              "sport                0           0  \n",
              "economy              0           0  \n",
              "politics             0           0  \n",
              "health               0           0  \n",
              "tourism              0           0  \n",
              "entertainment        0           0  \n",
              "culture              0           0  \n",
              "music                0           0  \n",
              "education            0           0  \n",
              "real estate          0           0  \n",
              "nutrition            0           0  \n",
              "science              0           0  \n",
              "history              0           0  \n",
              "technology           0           2  "
            ],
            "text/html": [
              "\n",
              "  <div id=\"df-ff756ad5-bfb4-4126-9047-a1e4fddedfc4\">\n",
              "    <div class=\"colab-df-container\">\n",
              "      <div>\n",
              "<style scoped>\n",
              "    .dataframe tbody tr th:only-of-type {\n",
              "        vertical-align: middle;\n",
              "    }\n",
              "\n",
              "    .dataframe tbody tr th {\n",
              "        vertical-align: top;\n",
              "    }\n",
              "\n",
              "    .dataframe thead th {\n",
              "        text-align: right;\n",
              "    }\n",
              "</style>\n",
              "<table border=\"1\" class=\"dataframe\">\n",
              "  <thead>\n",
              "    <tr style=\"text-align: right;\">\n",
              "      <th></th>\n",
              "      <th>sport</th>\n",
              "      <th>economy</th>\n",
              "      <th>politics</th>\n",
              "      <th>health</th>\n",
              "      <th>tourism</th>\n",
              "      <th>entertainment</th>\n",
              "      <th>culture</th>\n",
              "      <th>music</th>\n",
              "      <th>education</th>\n",
              "      <th>real estate</th>\n",
              "      <th>nutrition</th>\n",
              "      <th>science</th>\n",
              "      <th>history</th>\n",
              "      <th>technology</th>\n",
              "    </tr>\n",
              "  </thead>\n",
              "  <tbody>\n",
              "    <tr>\n",
              "      <th>sport</th>\n",
              "      <td>2</td>\n",
              "      <td>0</td>\n",
              "      <td>0</td>\n",
              "      <td>0</td>\n",
              "      <td>0</td>\n",
              "      <td>0</td>\n",
              "      <td>0</td>\n",
              "      <td>0</td>\n",
              "      <td>0</td>\n",
              "      <td>0</td>\n",
              "      <td>0</td>\n",
              "      <td>0</td>\n",
              "      <td>0</td>\n",
              "      <td>0</td>\n",
              "    </tr>\n",
              "    <tr>\n",
              "      <th>economy</th>\n",
              "      <td>0</td>\n",
              "      <td>1</td>\n",
              "      <td>0</td>\n",
              "      <td>0</td>\n",
              "      <td>0</td>\n",
              "      <td>0</td>\n",
              "      <td>0</td>\n",
              "      <td>0</td>\n",
              "      <td>0</td>\n",
              "      <td>0</td>\n",
              "      <td>0</td>\n",
              "      <td>0</td>\n",
              "      <td>0</td>\n",
              "      <td>0</td>\n",
              "    </tr>\n",
              "    <tr>\n",
              "      <th>politics</th>\n",
              "      <td>0</td>\n",
              "      <td>0</td>\n",
              "      <td>2</td>\n",
              "      <td>0</td>\n",
              "      <td>0</td>\n",
              "      <td>0</td>\n",
              "      <td>0</td>\n",
              "      <td>0</td>\n",
              "      <td>0</td>\n",
              "      <td>0</td>\n",
              "      <td>0</td>\n",
              "      <td>0</td>\n",
              "      <td>0</td>\n",
              "      <td>0</td>\n",
              "    </tr>\n",
              "    <tr>\n",
              "      <th>health</th>\n",
              "      <td>0</td>\n",
              "      <td>0</td>\n",
              "      <td>0</td>\n",
              "      <td>2</td>\n",
              "      <td>0</td>\n",
              "      <td>0</td>\n",
              "      <td>0</td>\n",
              "      <td>0</td>\n",
              "      <td>0</td>\n",
              "      <td>0</td>\n",
              "      <td>0</td>\n",
              "      <td>0</td>\n",
              "      <td>0</td>\n",
              "      <td>0</td>\n",
              "    </tr>\n",
              "    <tr>\n",
              "      <th>tourism</th>\n",
              "      <td>0</td>\n",
              "      <td>0</td>\n",
              "      <td>0</td>\n",
              "      <td>0</td>\n",
              "      <td>2</td>\n",
              "      <td>0</td>\n",
              "      <td>0</td>\n",
              "      <td>0</td>\n",
              "      <td>0</td>\n",
              "      <td>0</td>\n",
              "      <td>0</td>\n",
              "      <td>0</td>\n",
              "      <td>0</td>\n",
              "      <td>0</td>\n",
              "    </tr>\n",
              "    <tr>\n",
              "      <th>entertainment</th>\n",
              "      <td>0</td>\n",
              "      <td>0</td>\n",
              "      <td>0</td>\n",
              "      <td>0</td>\n",
              "      <td>0</td>\n",
              "      <td>1</td>\n",
              "      <td>0</td>\n",
              "      <td>0</td>\n",
              "      <td>0</td>\n",
              "      <td>0</td>\n",
              "      <td>0</td>\n",
              "      <td>0</td>\n",
              "      <td>0</td>\n",
              "      <td>0</td>\n",
              "    </tr>\n",
              "    <tr>\n",
              "      <th>culture</th>\n",
              "      <td>0</td>\n",
              "      <td>0</td>\n",
              "      <td>0</td>\n",
              "      <td>0</td>\n",
              "      <td>0</td>\n",
              "      <td>0</td>\n",
              "      <td>2</td>\n",
              "      <td>0</td>\n",
              "      <td>0</td>\n",
              "      <td>0</td>\n",
              "      <td>0</td>\n",
              "      <td>0</td>\n",
              "      <td>0</td>\n",
              "      <td>0</td>\n",
              "    </tr>\n",
              "    <tr>\n",
              "      <th>music</th>\n",
              "      <td>0</td>\n",
              "      <td>0</td>\n",
              "      <td>0</td>\n",
              "      <td>0</td>\n",
              "      <td>0</td>\n",
              "      <td>0</td>\n",
              "      <td>0</td>\n",
              "      <td>2</td>\n",
              "      <td>0</td>\n",
              "      <td>0</td>\n",
              "      <td>0</td>\n",
              "      <td>0</td>\n",
              "      <td>0</td>\n",
              "      <td>0</td>\n",
              "    </tr>\n",
              "    <tr>\n",
              "      <th>education</th>\n",
              "      <td>0</td>\n",
              "      <td>0</td>\n",
              "      <td>0</td>\n",
              "      <td>0</td>\n",
              "      <td>0</td>\n",
              "      <td>0</td>\n",
              "      <td>0</td>\n",
              "      <td>0</td>\n",
              "      <td>2</td>\n",
              "      <td>0</td>\n",
              "      <td>0</td>\n",
              "      <td>0</td>\n",
              "      <td>0</td>\n",
              "      <td>0</td>\n",
              "    </tr>\n",
              "    <tr>\n",
              "      <th>real estate</th>\n",
              "      <td>0</td>\n",
              "      <td>0</td>\n",
              "      <td>0</td>\n",
              "      <td>0</td>\n",
              "      <td>0</td>\n",
              "      <td>0</td>\n",
              "      <td>0</td>\n",
              "      <td>0</td>\n",
              "      <td>0</td>\n",
              "      <td>2</td>\n",
              "      <td>0</td>\n",
              "      <td>0</td>\n",
              "      <td>0</td>\n",
              "      <td>0</td>\n",
              "    </tr>\n",
              "    <tr>\n",
              "      <th>nutrition</th>\n",
              "      <td>0</td>\n",
              "      <td>0</td>\n",
              "      <td>0</td>\n",
              "      <td>0</td>\n",
              "      <td>0</td>\n",
              "      <td>0</td>\n",
              "      <td>0</td>\n",
              "      <td>0</td>\n",
              "      <td>0</td>\n",
              "      <td>0</td>\n",
              "      <td>2</td>\n",
              "      <td>0</td>\n",
              "      <td>0</td>\n",
              "      <td>0</td>\n",
              "    </tr>\n",
              "    <tr>\n",
              "      <th>science</th>\n",
              "      <td>0</td>\n",
              "      <td>0</td>\n",
              "      <td>0</td>\n",
              "      <td>0</td>\n",
              "      <td>0</td>\n",
              "      <td>0</td>\n",
              "      <td>0</td>\n",
              "      <td>0</td>\n",
              "      <td>0</td>\n",
              "      <td>0</td>\n",
              "      <td>0</td>\n",
              "      <td>2</td>\n",
              "      <td>0</td>\n",
              "      <td>0</td>\n",
              "    </tr>\n",
              "    <tr>\n",
              "      <th>history</th>\n",
              "      <td>0</td>\n",
              "      <td>0</td>\n",
              "      <td>0</td>\n",
              "      <td>0</td>\n",
              "      <td>0</td>\n",
              "      <td>0</td>\n",
              "      <td>1</td>\n",
              "      <td>0</td>\n",
              "      <td>0</td>\n",
              "      <td>1</td>\n",
              "      <td>0</td>\n",
              "      <td>0</td>\n",
              "      <td>0</td>\n",
              "      <td>0</td>\n",
              "    </tr>\n",
              "    <tr>\n",
              "      <th>technology</th>\n",
              "      <td>0</td>\n",
              "      <td>0</td>\n",
              "      <td>0</td>\n",
              "      <td>0</td>\n",
              "      <td>0</td>\n",
              "      <td>0</td>\n",
              "      <td>0</td>\n",
              "      <td>0</td>\n",
              "      <td>0</td>\n",
              "      <td>0</td>\n",
              "      <td>0</td>\n",
              "      <td>0</td>\n",
              "      <td>0</td>\n",
              "      <td>2</td>\n",
              "    </tr>\n",
              "  </tbody>\n",
              "</table>\n",
              "</div>\n",
              "      <button class=\"colab-df-convert\" onclick=\"convertToInteractive('df-ff756ad5-bfb4-4126-9047-a1e4fddedfc4')\"\n",
              "              title=\"Convert this dataframe to an interactive table.\"\n",
              "              style=\"display:none;\">\n",
              "        \n",
              "  <svg xmlns=\"http://www.w3.org/2000/svg\" height=\"24px\"viewBox=\"0 0 24 24\"\n",
              "       width=\"24px\">\n",
              "    <path d=\"M0 0h24v24H0V0z\" fill=\"none\"/>\n",
              "    <path d=\"M18.56 5.44l.94 2.06.94-2.06 2.06-.94-2.06-.94-.94-2.06-.94 2.06-2.06.94zm-11 1L8.5 8.5l.94-2.06 2.06-.94-2.06-.94L8.5 2.5l-.94 2.06-2.06.94zm10 10l.94 2.06.94-2.06 2.06-.94-2.06-.94-.94-2.06-.94 2.06-2.06.94z\"/><path d=\"M17.41 7.96l-1.37-1.37c-.4-.4-.92-.59-1.43-.59-.52 0-1.04.2-1.43.59L10.3 9.45l-7.72 7.72c-.78.78-.78 2.05 0 2.83L4 21.41c.39.39.9.59 1.41.59.51 0 1.02-.2 1.41-.59l7.78-7.78 2.81-2.81c.8-.78.8-2.07 0-2.86zM5.41 20L4 18.59l7.72-7.72 1.47 1.35L5.41 20z\"/>\n",
              "  </svg>\n",
              "      </button>\n",
              "      \n",
              "  <style>\n",
              "    .colab-df-container {\n",
              "      display:flex;\n",
              "      flex-wrap:wrap;\n",
              "      gap: 12px;\n",
              "    }\n",
              "\n",
              "    .colab-df-convert {\n",
              "      background-color: #E8F0FE;\n",
              "      border: none;\n",
              "      border-radius: 50%;\n",
              "      cursor: pointer;\n",
              "      display: none;\n",
              "      fill: #1967D2;\n",
              "      height: 32px;\n",
              "      padding: 0 0 0 0;\n",
              "      width: 32px;\n",
              "    }\n",
              "\n",
              "    .colab-df-convert:hover {\n",
              "      background-color: #E2EBFA;\n",
              "      box-shadow: 0px 1px 2px rgba(60, 64, 67, 0.3), 0px 1px 3px 1px rgba(60, 64, 67, 0.15);\n",
              "      fill: #174EA6;\n",
              "    }\n",
              "\n",
              "    [theme=dark] .colab-df-convert {\n",
              "      background-color: #3B4455;\n",
              "      fill: #D2E3FC;\n",
              "    }\n",
              "\n",
              "    [theme=dark] .colab-df-convert:hover {\n",
              "      background-color: #434B5C;\n",
              "      box-shadow: 0px 1px 3px 1px rgba(0, 0, 0, 0.15);\n",
              "      filter: drop-shadow(0px 1px 2px rgba(0, 0, 0, 0.3));\n",
              "      fill: #FFFFFF;\n",
              "    }\n",
              "  </style>\n",
              "\n",
              "      <script>\n",
              "        const buttonEl =\n",
              "          document.querySelector('#df-ff756ad5-bfb4-4126-9047-a1e4fddedfc4 button.colab-df-convert');\n",
              "        buttonEl.style.display =\n",
              "          google.colab.kernel.accessAllowed ? 'block' : 'none';\n",
              "\n",
              "        async function convertToInteractive(key) {\n",
              "          const element = document.querySelector('#df-ff756ad5-bfb4-4126-9047-a1e4fddedfc4');\n",
              "          const dataTable =\n",
              "            await google.colab.kernel.invokeFunction('convertToInteractive',\n",
              "                                                     [key], {});\n",
              "          if (!dataTable) return;\n",
              "\n",
              "          const docLinkHtml = 'Like what you see? Visit the ' +\n",
              "            '<a target=\"_blank\" href=https://colab.research.google.com/notebooks/data_table.ipynb>data table notebook</a>'\n",
              "            + ' to learn more about interactive tables.';\n",
              "          element.innerHTML = '';\n",
              "          dataTable['output_type'] = 'display_data';\n",
              "          await google.colab.output.renderOutput(dataTable, element);\n",
              "          const docLink = document.createElement('div');\n",
              "          docLink.innerHTML = docLinkHtml;\n",
              "          element.appendChild(docLink);\n",
              "        }\n",
              "      </script>\n",
              "    </div>\n",
              "  </div>\n",
              "  "
            ]
          },
          "metadata": {},
          "execution_count": 153
        }
      ],
      "source": [
        "cm = pd.DataFrame(metrics.confusion_matrix(y_test, y_test_predicted_s), columns=df['class'].unique(), index=df['class'].unique())\n",
        "cm"
      ]
    },
    {
      "cell_type": "code",
      "execution_count": 154,
      "id": "a0d3df4c",
      "metadata": {
        "colab": {
          "base_uri": "https://localhost:8080/"
        },
        "id": "a0d3df4c",
        "outputId": "bda828a6-9ea2-40dc-c702-7a69cd55c9c7"
      },
      "outputs": [
        {
          "output_type": "stream",
          "name": "stdout",
          "text": [
            "              precision    recall  f1-score   support\n",
            "\n",
            "           0       1.00      1.00      1.00         2\n",
            "           1       1.00      1.00      1.00         1\n",
            "           2       1.00      1.00      1.00         2\n",
            "           3       1.00      1.00      1.00         2\n",
            "           4       1.00      1.00      1.00         2\n",
            "           5       1.00      1.00      1.00         1\n",
            "           6       0.67      1.00      0.80         2\n",
            "           7       1.00      1.00      1.00         2\n",
            "           8       1.00      1.00      1.00         2\n",
            "           9       0.67      1.00      0.80         2\n",
            "          10       1.00      1.00      1.00         2\n",
            "          11       1.00      1.00      1.00         2\n",
            "          12       0.00      0.00      0.00         2\n",
            "          13       1.00      1.00      1.00         2\n",
            "\n",
            "    accuracy                           0.92        26\n",
            "   macro avg       0.88      0.93      0.90        26\n",
            "weighted avg       0.87      0.92      0.89        26\n",
            "\n"
          ]
        },
        {
          "output_type": "stream",
          "name": "stderr",
          "text": [
            "/usr/local/lib/python3.7/dist-packages/sklearn/metrics/_classification.py:1318: UndefinedMetricWarning: Precision and F-score are ill-defined and being set to 0.0 in labels with no predicted samples. Use `zero_division` parameter to control this behavior.\n",
            "  _warn_prf(average, modifier, msg_start, len(result))\n",
            "/usr/local/lib/python3.7/dist-packages/sklearn/metrics/_classification.py:1318: UndefinedMetricWarning: Precision and F-score are ill-defined and being set to 0.0 in labels with no predicted samples. Use `zero_division` parameter to control this behavior.\n",
            "  _warn_prf(average, modifier, msg_start, len(result))\n",
            "/usr/local/lib/python3.7/dist-packages/sklearn/metrics/_classification.py:1318: UndefinedMetricWarning: Precision and F-score are ill-defined and being set to 0.0 in labels with no predicted samples. Use `zero_division` parameter to control this behavior.\n",
            "  _warn_prf(average, modifier, msg_start, len(result))\n"
          ]
        }
      ],
      "source": [
        "print(metrics.classification_report(y_test, y_test_predicted_s))"
      ]
    },
    {
      "cell_type": "code",
      "execution_count": 155,
      "id": "44d6961b",
      "metadata": {
        "colab": {
          "base_uri": "https://localhost:8080/"
        },
        "id": "44d6961b",
        "outputId": "0ebeb692-f9cd-44b4-f4cd-4403b9091655"
      },
      "outputs": [
        {
          "output_type": "execute_result",
          "data": {
            "text/plain": [
              "0.9000000000000001"
            ]
          },
          "metadata": {},
          "execution_count": 155
        }
      ],
      "source": [
        "metrics.f1_score(y_test, y_test_predicted_s, average='macro')"
      ]
    },
    {
      "cell_type": "code",
      "execution_count": 156,
      "id": "196afb55",
      "metadata": {
        "id": "196afb55"
      },
      "outputs": [],
      "source": [
        "# !wget https://nlp.stanford.edu/data/glove.6B.zip\n",
        "# !unzip glove.6B.zip"
      ]
    },
    {
      "cell_type": "code",
      "source": [
        "file = open('glove.6B.100d.txt', 'r', encoding='utf-8')\n",
        "lines  = file.readlines()\n",
        "file.close()"
      ],
      "metadata": {
        "id": "QcR9DqzDzWHU"
      },
      "id": "QcR9DqzDzWHU",
      "execution_count": 157,
      "outputs": []
    },
    {
      "cell_type": "code",
      "source": [
        "word_embeddings = {}\n",
        "\n",
        "for line in lines:\n",
        "    strs = line.split()\n",
        "    word = strs[0]\n",
        "    coefs = np.array(strs[1:], dtype='float32')\n",
        "    \n",
        "    word_embeddings[word] = coefs"
      ],
      "metadata": {
        "id": "j41zUv2ZzYiQ"
      },
      "id": "j41zUv2ZzYiQ",
      "execution_count": 158,
      "outputs": []
    },
    {
      "cell_type": "code",
      "source": [
        "x_train"
      ],
      "metadata": {
        "colab": {
          "base_uri": "https://localhost:8080/"
        },
        "id": "AvEFA0Nq3-Az",
        "outputId": "3f482c45-2507-4540-bfbb-3aef03cb2758"
      },
      "id": "AvEFA0Nq3-Az",
      "execution_count": 159,
      "outputs": [
        {
          "output_type": "execute_result",
          "data": {
            "text/plain": [
              "40     caesars entertainment inc eldorado resorts inc...\n",
              "58     postgraduate education graduate education nort...\n",
              "68     real estate development property development b...\n",
              "81     clinical nutrition centers prevention diagnosi...\n",
              "31     the minister tourism head governmental departm...\n",
              "75     nutrition biochemical physiological process or...\n",
              "64     sex education known sexual education sexuality...\n",
              "78     saprotrophic nutrition lysotrophic nutrition p...\n",
              "72     real estate appraisal property valuation land ...\n",
              "16     a political party organization coordinates can...\n",
              "1      sport american sports magazine launched septem...\n",
              "52     country also called country western genre popu...\n",
              "51     music music music put another nickel in popula...\n",
              "35     urban tourism called city tourism form tourism...\n",
              "5      athletics group sporting events involves compe...\n",
              "7      squash racket ball sport played players fourwa...\n",
              "12     the peoples republic china high income develop...\n",
              "29     space tourism human space travel recreational ...\n",
              "6      swimming individual team racing sport requires...\n",
              "59     higher education tertiary education leading aw...\n",
              "43     western culture known western civilization occ...\n",
              "38     sony interactive entertainment sie known sony ...\n",
              "92     human history called world history narrative h...\n",
              "48     culture club english new wave band formed lond...\n",
              "25     a health professional healthcare professional ...\n",
              "94     ancient history aggregate past events beginnin...\n",
              "71     a realestate bubble property bubble or housing...\n",
              "97     technologies artifacts systematic application ...\n",
              "14     politics from greek πολιτικά politiká affairs ...\n",
              "88     natural science branches science concerned des...\n",
              "85     computer science study computation automation ...\n",
              "49     a culture minister heritage minister common ca...\n",
              "37     blizzard entertainment inc american video game...\n",
              "10     an economy area production distribution trade ...\n",
              "2      sport sport sport russian спорт спорт спорт 19...\n",
              "30     domestic tourism tourism involving residents c...\n",
              "104    agricultural technology agrotechnology abbrevi...\n",
              "98     information technology it use computers create...\n",
              "86     social science branches science devoted study ...\n",
              "24     the world health organization who specialized ...\n",
              "65     the montessori method education system educati...\n",
              "95     the history europe traditionally divided time ...\n",
              "73     a real estate investment trust reit company ow...\n",
              "79     malnutrition occurs organism gets nutrients re...\n",
              "23     public health defined the science art preventi...\n",
              "42     popular culture also called mass culture pop c...\n",
              "76     human nutrition deals provision essential nutr...\n",
              "60     secondary education postprimary education cove...\n",
              "4      sport diving underwater sport uses recreationa...\n",
              "102    space technology technology use outer space tr...\n",
              "89     data science interdisciplinary field uses scie...\n",
              "74     real estate business profession buying selling...\n",
              "18     leftwing politics describes range political id...\n",
              "50     music generally defined art arranging sound cr...\n",
              "47     internet culture cyberculture culture based ma...\n",
              "26     health education profession educating people h...\n",
              "56     sony music entertainment sme known simply sony...\n",
              "28     sex tourism refers practice traveling foreign ...\n",
              "Name: clear text, dtype: object"
            ]
          },
          "metadata": {},
          "execution_count": 159
        }
      ]
    },
    {
      "cell_type": "code",
      "source": [
        "dimension = 100\n",
        "# voc_size = 15000 #voditi racuna ovo mora da se povecava kada se poveca broj tekstova\n",
        "voc_size = len(word_embeddings)\n",
        "tokenizer = Tokenizer(num_words=voc_size)\n",
        "tokenizer.fit_on_texts(x_train)\n",
        "word_index = tokenizer.word_index"
      ],
      "metadata": {
        "id": "GQ7ybm7fzaI-"
      },
      "id": "GQ7ybm7fzaI-",
      "execution_count": 160,
      "outputs": []
    },
    {
      "cell_type": "code",
      "source": [
        "num_of_words = min(voc_size, len(word_index))"
      ],
      "metadata": {
        "id": "PNkuS1lfzgB3"
      },
      "id": "PNkuS1lfzgB3",
      "execution_count": 161,
      "outputs": []
    },
    {
      "cell_type": "code",
      "source": [
        "coef_matrix = np.zeros((num_of_words, dimension))\n",
        "\n",
        "for word, ord_num in word_index.items():\n",
        "    if ord_num >= num_of_words:\n",
        "        continue\n",
        "    \n",
        "    embedding_vector = word_embeddings.get(word)\n",
        "    if embedding_vector is not None:\n",
        "        coef_matrix[ord_num] = embedding_vector"
      ],
      "metadata": {
        "id": "eYNpdRmzzicX"
      },
      "id": "eYNpdRmzzicX",
      "execution_count": 162,
      "outputs": []
    },
    {
      "cell_type": "code",
      "source": [
        "# max_len = max([len(i) for i in x_train])\n",
        "max_len = 100"
      ],
      "metadata": {
        "id": "P6mcAAuGzkde"
      },
      "id": "P6mcAAuGzkde",
      "execution_count": 163,
      "outputs": []
    },
    {
      "cell_type": "code",
      "source": [
        "data_len = len(x_train)\n",
        "x_train = x_train.apply(lambda x: [coef_matrix[word_index[word] - 1] for word in x.split(' ') if word in word_index])\n",
        "x_train_glove = sequence.pad_sequences([x for x in x_train], maxlen=max_len, dtype='float16')\n",
        "x_train_glove = x_train_glove.reshape(data_len, max_len * 100).astype('float16')"
      ],
      "metadata": {
        "id": "-O0YRuvTzzT_"
      },
      "id": "-O0YRuvTzzT_",
      "execution_count": 164,
      "outputs": []
    },
    {
      "cell_type": "code",
      "source": [
        "x_train_glove"
      ],
      "metadata": {
        "colab": {
          "base_uri": "https://localhost:8080/"
        },
        "id": "O6EUn8mxz1WP",
        "outputId": "ebf0c701-a6e8-4ab0-8d19-960033e8f9c3"
      },
      "id": "O6EUn8mxz1WP",
      "execution_count": 165,
      "outputs": [
        {
          "output_type": "execute_result",
          "data": {
            "text/plain": [
              "array([[ 0.     ,  0.     ,  0.     , ..., -0.03128, -0.0627 ,  0.1418 ],\n",
              "       [ 0.     ,  0.     ,  0.     , ..., -0.966  ,  0.7915 ,  0.12445],\n",
              "       [-0.1913 ,  0.2834 ,  0.6074 , ...,  0.4731 ,  0.11115, -1.206  ],\n",
              "       ...,\n",
              "       [-0.2974 ,  0.663  ,  0.0799 , ..., -0.1459 ,  0.8276 ,  0.2705 ],\n",
              "       [-0.7764 , -0.647  ,  0.09607, ..., -0.4229 ,  0.586  , -0.424  ],\n",
              "       [ 0.09863,  0.01614, -0.6143 , ..., -0.1508 , -0.4663 , -0.662  ]],\n",
              "      dtype=float16)"
            ]
          },
          "metadata": {},
          "execution_count": 165
        }
      ]
    },
    {
      "cell_type": "code",
      "source": [
        "data_len = len(x_test)\n",
        "x_test = x_test.apply(lambda x: [coef_matrix[word_index[word] - 1] for word in x.split(' ') if word in word_index])\n",
        "x_test_glove = sequence.pad_sequences([x for x in x_test], maxlen=max_len, dtype='float16')\n",
        "x_test_glove = x_test_glove.reshape(data_len, max_len * 100).astype('float16')"
      ],
      "metadata": {
        "id": "EEvnJMlZ40CE"
      },
      "id": "EEvnJMlZ40CE",
      "execution_count": 166,
      "outputs": []
    },
    {
      "cell_type": "code",
      "source": [
        "# def convert_to_svm_fromat(text, max_len):\n",
        "#     text = text.apply(lambda x: [coef_matrix[word_index[word] - 1] for word in x.split(' ') if word in word_index])\n",
        "\n",
        "#     x_train_glove = []\n",
        "\n",
        "#     for i in text:\n",
        "#         glove = []\n",
        "#         for j in i:\n",
        "#             glove.extend(j)\n",
        "#         if len(i) < max_len:\n",
        "#             glove.extend(np.zeros((max_len - len(i))*100))\n",
        "#         x_train_glove.append(glove)\n",
        "#     return x_train_glove"
      ],
      "metadata": {
        "id": "mlLSdZ5q43KF"
      },
      "id": "mlLSdZ5q43KF",
      "execution_count": 167,
      "outputs": []
    },
    {
      "cell_type": "code",
      "source": [
        "model = svm.LinearSVC(max_iter=100000)"
      ],
      "metadata": {
        "id": "sA051mpB5CW1"
      },
      "id": "sA051mpB5CW1",
      "execution_count": 168,
      "outputs": []
    },
    {
      "cell_type": "code",
      "source": [
        "model_g = multiclass.OneVsRestClassifier(model)"
      ],
      "metadata": {
        "id": "HiCnL3SM5Slt"
      },
      "id": "HiCnL3SM5Slt",
      "execution_count": 169,
      "outputs": []
    },
    {
      "cell_type": "code",
      "source": [
        "model_g.fit(x_train_glove, y_train)"
      ],
      "metadata": {
        "colab": {
          "base_uri": "https://localhost:8080/"
        },
        "id": "q4TyKYYN5W5E",
        "outputId": "83dbf5fe-2f31-497f-dbc3-daa472b8180a"
      },
      "id": "q4TyKYYN5W5E",
      "execution_count": 170,
      "outputs": [
        {
          "output_type": "execute_result",
          "data": {
            "text/plain": [
              "OneVsRestClassifier(estimator=LinearSVC(max_iter=100000))"
            ]
          },
          "metadata": {},
          "execution_count": 170
        }
      ]
    },
    {
      "cell_type": "code",
      "source": [
        "y_test_predicted_g = model_g.predict(x_test_glove)"
      ],
      "metadata": {
        "id": "CnoxjV0X5Zhk"
      },
      "id": "CnoxjV0X5Zhk",
      "execution_count": 171,
      "outputs": []
    },
    {
      "cell_type": "code",
      "source": [
        "cm = pd.DataFrame(metrics.confusion_matrix(y_test, y_test_predicted_g), columns=df['class'].unique(), index=df['class'].unique())\n",
        "cm"
      ],
      "metadata": {
        "colab": {
          "base_uri": "https://localhost:8080/",
          "height": 532
        },
        "id": "mzCUhi-s5d99",
        "outputId": "e82cd5db-d86f-430b-a7ec-2f1ff5de3fad"
      },
      "id": "mzCUhi-s5d99",
      "execution_count": 172,
      "outputs": [
        {
          "output_type": "execute_result",
          "data": {
            "text/plain": [
              "               sport  economy  politics  health  tourism  entertainment  \\\n",
              "sport              1        0         0       0        0              0   \n",
              "economy            1        0         0       0        0              0   \n",
              "politics           0        0         0       0        0              0   \n",
              "health             0        0         0       0        0              0   \n",
              "tourism            0        0         0       0        0              0   \n",
              "entertainment      1        0         0       0        0              0   \n",
              "culture            0        0         0       0        1              0   \n",
              "music              0        0         0       0        1              0   \n",
              "education          0        0         0       0        0              0   \n",
              "real estate        0        0         0       0        0              0   \n",
              "nutrition          0        0         0       0        1              0   \n",
              "science            1        0         0       0        0              0   \n",
              "history            0        0         0       0        1              0   \n",
              "technology         0        0         0       0        1              0   \n",
              "\n",
              "               culture  music  education  real estate  nutrition  science  \\\n",
              "sport                1      0          0            0          0        0   \n",
              "economy              0      0          0            0          0        0   \n",
              "politics             0      0          2            0          0        0   \n",
              "health               0      0          0            0          2        0   \n",
              "tourism              0      0          1            0          0        0   \n",
              "entertainment        0      0          0            0          0        0   \n",
              "culture              0      0          0            1          0        0   \n",
              "music                0      0          1            0          0        0   \n",
              "education            0      0          1            0          0        0   \n",
              "real estate          0      0          1            1          0        0   \n",
              "nutrition            0      0          0            0          1        0   \n",
              "science              0      0          1            0          0        0   \n",
              "history              0      0          0            0          0        0   \n",
              "technology           0      0          1            0          0        0   \n",
              "\n",
              "               history  technology  \n",
              "sport                0           0  \n",
              "economy              0           0  \n",
              "politics             0           0  \n",
              "health               0           0  \n",
              "tourism              0           1  \n",
              "entertainment        0           0  \n",
              "culture              0           0  \n",
              "music                0           0  \n",
              "education            0           1  \n",
              "real estate          0           0  \n",
              "nutrition            0           0  \n",
              "science              0           0  \n",
              "history              0           1  \n",
              "technology           0           0  "
            ],
            "text/html": [
              "\n",
              "  <div id=\"df-b47f614e-cec9-4467-9f7d-f71563a28db5\">\n",
              "    <div class=\"colab-df-container\">\n",
              "      <div>\n",
              "<style scoped>\n",
              "    .dataframe tbody tr th:only-of-type {\n",
              "        vertical-align: middle;\n",
              "    }\n",
              "\n",
              "    .dataframe tbody tr th {\n",
              "        vertical-align: top;\n",
              "    }\n",
              "\n",
              "    .dataframe thead th {\n",
              "        text-align: right;\n",
              "    }\n",
              "</style>\n",
              "<table border=\"1\" class=\"dataframe\">\n",
              "  <thead>\n",
              "    <tr style=\"text-align: right;\">\n",
              "      <th></th>\n",
              "      <th>sport</th>\n",
              "      <th>economy</th>\n",
              "      <th>politics</th>\n",
              "      <th>health</th>\n",
              "      <th>tourism</th>\n",
              "      <th>entertainment</th>\n",
              "      <th>culture</th>\n",
              "      <th>music</th>\n",
              "      <th>education</th>\n",
              "      <th>real estate</th>\n",
              "      <th>nutrition</th>\n",
              "      <th>science</th>\n",
              "      <th>history</th>\n",
              "      <th>technology</th>\n",
              "    </tr>\n",
              "  </thead>\n",
              "  <tbody>\n",
              "    <tr>\n",
              "      <th>sport</th>\n",
              "      <td>1</td>\n",
              "      <td>0</td>\n",
              "      <td>0</td>\n",
              "      <td>0</td>\n",
              "      <td>0</td>\n",
              "      <td>0</td>\n",
              "      <td>1</td>\n",
              "      <td>0</td>\n",
              "      <td>0</td>\n",
              "      <td>0</td>\n",
              "      <td>0</td>\n",
              "      <td>0</td>\n",
              "      <td>0</td>\n",
              "      <td>0</td>\n",
              "    </tr>\n",
              "    <tr>\n",
              "      <th>economy</th>\n",
              "      <td>1</td>\n",
              "      <td>0</td>\n",
              "      <td>0</td>\n",
              "      <td>0</td>\n",
              "      <td>0</td>\n",
              "      <td>0</td>\n",
              "      <td>0</td>\n",
              "      <td>0</td>\n",
              "      <td>0</td>\n",
              "      <td>0</td>\n",
              "      <td>0</td>\n",
              "      <td>0</td>\n",
              "      <td>0</td>\n",
              "      <td>0</td>\n",
              "    </tr>\n",
              "    <tr>\n",
              "      <th>politics</th>\n",
              "      <td>0</td>\n",
              "      <td>0</td>\n",
              "      <td>0</td>\n",
              "      <td>0</td>\n",
              "      <td>0</td>\n",
              "      <td>0</td>\n",
              "      <td>0</td>\n",
              "      <td>0</td>\n",
              "      <td>2</td>\n",
              "      <td>0</td>\n",
              "      <td>0</td>\n",
              "      <td>0</td>\n",
              "      <td>0</td>\n",
              "      <td>0</td>\n",
              "    </tr>\n",
              "    <tr>\n",
              "      <th>health</th>\n",
              "      <td>0</td>\n",
              "      <td>0</td>\n",
              "      <td>0</td>\n",
              "      <td>0</td>\n",
              "      <td>0</td>\n",
              "      <td>0</td>\n",
              "      <td>0</td>\n",
              "      <td>0</td>\n",
              "      <td>0</td>\n",
              "      <td>0</td>\n",
              "      <td>2</td>\n",
              "      <td>0</td>\n",
              "      <td>0</td>\n",
              "      <td>0</td>\n",
              "    </tr>\n",
              "    <tr>\n",
              "      <th>tourism</th>\n",
              "      <td>0</td>\n",
              "      <td>0</td>\n",
              "      <td>0</td>\n",
              "      <td>0</td>\n",
              "      <td>0</td>\n",
              "      <td>0</td>\n",
              "      <td>0</td>\n",
              "      <td>0</td>\n",
              "      <td>1</td>\n",
              "      <td>0</td>\n",
              "      <td>0</td>\n",
              "      <td>0</td>\n",
              "      <td>0</td>\n",
              "      <td>1</td>\n",
              "    </tr>\n",
              "    <tr>\n",
              "      <th>entertainment</th>\n",
              "      <td>1</td>\n",
              "      <td>0</td>\n",
              "      <td>0</td>\n",
              "      <td>0</td>\n",
              "      <td>0</td>\n",
              "      <td>0</td>\n",
              "      <td>0</td>\n",
              "      <td>0</td>\n",
              "      <td>0</td>\n",
              "      <td>0</td>\n",
              "      <td>0</td>\n",
              "      <td>0</td>\n",
              "      <td>0</td>\n",
              "      <td>0</td>\n",
              "    </tr>\n",
              "    <tr>\n",
              "      <th>culture</th>\n",
              "      <td>0</td>\n",
              "      <td>0</td>\n",
              "      <td>0</td>\n",
              "      <td>0</td>\n",
              "      <td>1</td>\n",
              "      <td>0</td>\n",
              "      <td>0</td>\n",
              "      <td>0</td>\n",
              "      <td>0</td>\n",
              "      <td>1</td>\n",
              "      <td>0</td>\n",
              "      <td>0</td>\n",
              "      <td>0</td>\n",
              "      <td>0</td>\n",
              "    </tr>\n",
              "    <tr>\n",
              "      <th>music</th>\n",
              "      <td>0</td>\n",
              "      <td>0</td>\n",
              "      <td>0</td>\n",
              "      <td>0</td>\n",
              "      <td>1</td>\n",
              "      <td>0</td>\n",
              "      <td>0</td>\n",
              "      <td>0</td>\n",
              "      <td>1</td>\n",
              "      <td>0</td>\n",
              "      <td>0</td>\n",
              "      <td>0</td>\n",
              "      <td>0</td>\n",
              "      <td>0</td>\n",
              "    </tr>\n",
              "    <tr>\n",
              "      <th>education</th>\n",
              "      <td>0</td>\n",
              "      <td>0</td>\n",
              "      <td>0</td>\n",
              "      <td>0</td>\n",
              "      <td>0</td>\n",
              "      <td>0</td>\n",
              "      <td>0</td>\n",
              "      <td>0</td>\n",
              "      <td>1</td>\n",
              "      <td>0</td>\n",
              "      <td>0</td>\n",
              "      <td>0</td>\n",
              "      <td>0</td>\n",
              "      <td>1</td>\n",
              "    </tr>\n",
              "    <tr>\n",
              "      <th>real estate</th>\n",
              "      <td>0</td>\n",
              "      <td>0</td>\n",
              "      <td>0</td>\n",
              "      <td>0</td>\n",
              "      <td>0</td>\n",
              "      <td>0</td>\n",
              "      <td>0</td>\n",
              "      <td>0</td>\n",
              "      <td>1</td>\n",
              "      <td>1</td>\n",
              "      <td>0</td>\n",
              "      <td>0</td>\n",
              "      <td>0</td>\n",
              "      <td>0</td>\n",
              "    </tr>\n",
              "    <tr>\n",
              "      <th>nutrition</th>\n",
              "      <td>0</td>\n",
              "      <td>0</td>\n",
              "      <td>0</td>\n",
              "      <td>0</td>\n",
              "      <td>1</td>\n",
              "      <td>0</td>\n",
              "      <td>0</td>\n",
              "      <td>0</td>\n",
              "      <td>0</td>\n",
              "      <td>0</td>\n",
              "      <td>1</td>\n",
              "      <td>0</td>\n",
              "      <td>0</td>\n",
              "      <td>0</td>\n",
              "    </tr>\n",
              "    <tr>\n",
              "      <th>science</th>\n",
              "      <td>1</td>\n",
              "      <td>0</td>\n",
              "      <td>0</td>\n",
              "      <td>0</td>\n",
              "      <td>0</td>\n",
              "      <td>0</td>\n",
              "      <td>0</td>\n",
              "      <td>0</td>\n",
              "      <td>1</td>\n",
              "      <td>0</td>\n",
              "      <td>0</td>\n",
              "      <td>0</td>\n",
              "      <td>0</td>\n",
              "      <td>0</td>\n",
              "    </tr>\n",
              "    <tr>\n",
              "      <th>history</th>\n",
              "      <td>0</td>\n",
              "      <td>0</td>\n",
              "      <td>0</td>\n",
              "      <td>0</td>\n",
              "      <td>1</td>\n",
              "      <td>0</td>\n",
              "      <td>0</td>\n",
              "      <td>0</td>\n",
              "      <td>0</td>\n",
              "      <td>0</td>\n",
              "      <td>0</td>\n",
              "      <td>0</td>\n",
              "      <td>0</td>\n",
              "      <td>1</td>\n",
              "    </tr>\n",
              "    <tr>\n",
              "      <th>technology</th>\n",
              "      <td>0</td>\n",
              "      <td>0</td>\n",
              "      <td>0</td>\n",
              "      <td>0</td>\n",
              "      <td>1</td>\n",
              "      <td>0</td>\n",
              "      <td>0</td>\n",
              "      <td>0</td>\n",
              "      <td>1</td>\n",
              "      <td>0</td>\n",
              "      <td>0</td>\n",
              "      <td>0</td>\n",
              "      <td>0</td>\n",
              "      <td>0</td>\n",
              "    </tr>\n",
              "  </tbody>\n",
              "</table>\n",
              "</div>\n",
              "      <button class=\"colab-df-convert\" onclick=\"convertToInteractive('df-b47f614e-cec9-4467-9f7d-f71563a28db5')\"\n",
              "              title=\"Convert this dataframe to an interactive table.\"\n",
              "              style=\"display:none;\">\n",
              "        \n",
              "  <svg xmlns=\"http://www.w3.org/2000/svg\" height=\"24px\"viewBox=\"0 0 24 24\"\n",
              "       width=\"24px\">\n",
              "    <path d=\"M0 0h24v24H0V0z\" fill=\"none\"/>\n",
              "    <path d=\"M18.56 5.44l.94 2.06.94-2.06 2.06-.94-2.06-.94-.94-2.06-.94 2.06-2.06.94zm-11 1L8.5 8.5l.94-2.06 2.06-.94-2.06-.94L8.5 2.5l-.94 2.06-2.06.94zm10 10l.94 2.06.94-2.06 2.06-.94-2.06-.94-.94-2.06-.94 2.06-2.06.94z\"/><path d=\"M17.41 7.96l-1.37-1.37c-.4-.4-.92-.59-1.43-.59-.52 0-1.04.2-1.43.59L10.3 9.45l-7.72 7.72c-.78.78-.78 2.05 0 2.83L4 21.41c.39.39.9.59 1.41.59.51 0 1.02-.2 1.41-.59l7.78-7.78 2.81-2.81c.8-.78.8-2.07 0-2.86zM5.41 20L4 18.59l7.72-7.72 1.47 1.35L5.41 20z\"/>\n",
              "  </svg>\n",
              "      </button>\n",
              "      \n",
              "  <style>\n",
              "    .colab-df-container {\n",
              "      display:flex;\n",
              "      flex-wrap:wrap;\n",
              "      gap: 12px;\n",
              "    }\n",
              "\n",
              "    .colab-df-convert {\n",
              "      background-color: #E8F0FE;\n",
              "      border: none;\n",
              "      border-radius: 50%;\n",
              "      cursor: pointer;\n",
              "      display: none;\n",
              "      fill: #1967D2;\n",
              "      height: 32px;\n",
              "      padding: 0 0 0 0;\n",
              "      width: 32px;\n",
              "    }\n",
              "\n",
              "    .colab-df-convert:hover {\n",
              "      background-color: #E2EBFA;\n",
              "      box-shadow: 0px 1px 2px rgba(60, 64, 67, 0.3), 0px 1px 3px 1px rgba(60, 64, 67, 0.15);\n",
              "      fill: #174EA6;\n",
              "    }\n",
              "\n",
              "    [theme=dark] .colab-df-convert {\n",
              "      background-color: #3B4455;\n",
              "      fill: #D2E3FC;\n",
              "    }\n",
              "\n",
              "    [theme=dark] .colab-df-convert:hover {\n",
              "      background-color: #434B5C;\n",
              "      box-shadow: 0px 1px 3px 1px rgba(0, 0, 0, 0.15);\n",
              "      filter: drop-shadow(0px 1px 2px rgba(0, 0, 0, 0.3));\n",
              "      fill: #FFFFFF;\n",
              "    }\n",
              "  </style>\n",
              "\n",
              "      <script>\n",
              "        const buttonEl =\n",
              "          document.querySelector('#df-b47f614e-cec9-4467-9f7d-f71563a28db5 button.colab-df-convert');\n",
              "        buttonEl.style.display =\n",
              "          google.colab.kernel.accessAllowed ? 'block' : 'none';\n",
              "\n",
              "        async function convertToInteractive(key) {\n",
              "          const element = document.querySelector('#df-b47f614e-cec9-4467-9f7d-f71563a28db5');\n",
              "          const dataTable =\n",
              "            await google.colab.kernel.invokeFunction('convertToInteractive',\n",
              "                                                     [key], {});\n",
              "          if (!dataTable) return;\n",
              "\n",
              "          const docLinkHtml = 'Like what you see? Visit the ' +\n",
              "            '<a target=\"_blank\" href=https://colab.research.google.com/notebooks/data_table.ipynb>data table notebook</a>'\n",
              "            + ' to learn more about interactive tables.';\n",
              "          element.innerHTML = '';\n",
              "          dataTable['output_type'] = 'display_data';\n",
              "          await google.colab.output.renderOutput(dataTable, element);\n",
              "          const docLink = document.createElement('div');\n",
              "          docLink.innerHTML = docLinkHtml;\n",
              "          element.appendChild(docLink);\n",
              "        }\n",
              "      </script>\n",
              "    </div>\n",
              "  </div>\n",
              "  "
            ]
          },
          "metadata": {},
          "execution_count": 172
        }
      ]
    },
    {
      "cell_type": "code",
      "source": [
        "print(metrics.classification_report(y_test, y_test_predicted_g))"
      ],
      "metadata": {
        "colab": {
          "base_uri": "https://localhost:8080/"
        },
        "id": "76dZZ6Y75hhc",
        "outputId": "ed48c5ca-eae6-4cb0-b3b1-567dde3894b9"
      },
      "id": "76dZZ6Y75hhc",
      "execution_count": 174,
      "outputs": [
        {
          "output_type": "stream",
          "name": "stdout",
          "text": [
            "              precision    recall  f1-score   support\n",
            "\n",
            "           0       0.25      0.50      0.33         2\n",
            "           1       0.00      0.00      0.00         1\n",
            "           2       0.00      0.00      0.00         2\n",
            "           3       0.00      0.00      0.00         2\n",
            "           4       0.00      0.00      0.00         2\n",
            "           5       0.00      0.00      0.00         1\n",
            "           6       0.00      0.00      0.00         2\n",
            "           7       0.00      0.00      0.00         2\n",
            "           8       0.12      0.50      0.20         2\n",
            "           9       0.50      0.50      0.50         2\n",
            "          10       0.33      0.50      0.40         2\n",
            "          11       0.00      0.00      0.00         2\n",
            "          12       0.00      0.00      0.00         2\n",
            "          13       0.00      0.00      0.00         2\n",
            "\n",
            "    accuracy                           0.15        26\n",
            "   macro avg       0.09      0.14      0.10        26\n",
            "weighted avg       0.09      0.15      0.11        26\n",
            "\n"
          ]
        },
        {
          "output_type": "stream",
          "name": "stderr",
          "text": [
            "/usr/local/lib/python3.7/dist-packages/sklearn/metrics/_classification.py:1318: UndefinedMetricWarning: Precision and F-score are ill-defined and being set to 0.0 in labels with no predicted samples. Use `zero_division` parameter to control this behavior.\n",
            "  _warn_prf(average, modifier, msg_start, len(result))\n",
            "/usr/local/lib/python3.7/dist-packages/sklearn/metrics/_classification.py:1318: UndefinedMetricWarning: Precision and F-score are ill-defined and being set to 0.0 in labels with no predicted samples. Use `zero_division` parameter to control this behavior.\n",
            "  _warn_prf(average, modifier, msg_start, len(result))\n",
            "/usr/local/lib/python3.7/dist-packages/sklearn/metrics/_classification.py:1318: UndefinedMetricWarning: Precision and F-score are ill-defined and being set to 0.0 in labels with no predicted samples. Use `zero_division` parameter to control this behavior.\n",
            "  _warn_prf(average, modifier, msg_start, len(result))\n"
          ]
        }
      ]
    },
    {
      "cell_type": "code",
      "source": [
        "metrics.f1_score(y_test, y_test_predicted_g, average='macro')"
      ],
      "metadata": {
        "colab": {
          "base_uri": "https://localhost:8080/"
        },
        "id": "UOWaB1Q75mRc",
        "outputId": "120e336b-3f3a-4d5c-9b2e-ec82225926a3"
      },
      "id": "UOWaB1Q75mRc",
      "execution_count": 175,
      "outputs": [
        {
          "output_type": "execute_result",
          "data": {
            "text/plain": [
              "0.10238095238095236"
            ]
          },
          "metadata": {},
          "execution_count": 175
        }
      ]
    },
    {
      "cell_type": "code",
      "source": [],
      "metadata": {
        "id": "HTxxC1BR5tyk"
      },
      "id": "HTxxC1BR5tyk",
      "execution_count": null,
      "outputs": []
    }
  ],
  "metadata": {
    "kernelspec": {
      "display_name": "Python 3",
      "language": "python",
      "name": "python3"
    },
    "language_info": {
      "codemirror_mode": {
        "name": "ipython",
        "version": 3
      },
      "file_extension": ".py",
      "mimetype": "text/x-python",
      "name": "python",
      "nbconvert_exporter": "python",
      "pygments_lexer": "ipython3",
      "version": "3.8.8"
    },
    "colab": {
      "provenance": []
    }
  },
  "nbformat": 4,
  "nbformat_minor": 5
}