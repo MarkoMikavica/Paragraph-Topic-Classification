{
  "cells": [
    {
      "cell_type": "code",
      "source": [
        "!pip install wikipedia"
      ],
      "metadata": {
        "colab": {
          "base_uri": "https://localhost:8080/"
        },
        "id": "qLGIO88pxp_H",
        "outputId": "73366a29-690e-4607-a208-d41388dc1c4b"
      },
      "id": "qLGIO88pxp_H",
      "execution_count": 67,
      "outputs": [
        {
          "output_type": "stream",
          "name": "stdout",
          "text": [
            "Looking in indexes: https://pypi.org/simple, https://us-python.pkg.dev/colab-wheels/public/simple/\n",
            "Requirement already satisfied: wikipedia in /usr/local/lib/python3.7/dist-packages (1.4.0)\n",
            "Requirement already satisfied: beautifulsoup4 in /usr/local/lib/python3.7/dist-packages (from wikipedia) (4.6.3)\n",
            "Requirement already satisfied: requests<3.0.0,>=2.0.0 in /usr/local/lib/python3.7/dist-packages (from wikipedia) (2.23.0)\n",
            "Requirement already satisfied: certifi>=2017.4.17 in /usr/local/lib/python3.7/dist-packages (from requests<3.0.0,>=2.0.0->wikipedia) (2022.6.15)\n",
            "Requirement already satisfied: chardet<4,>=3.0.2 in /usr/local/lib/python3.7/dist-packages (from requests<3.0.0,>=2.0.0->wikipedia) (3.0.4)\n",
            "Requirement already satisfied: urllib3!=1.25.0,!=1.25.1,<1.26,>=1.21.1 in /usr/local/lib/python3.7/dist-packages (from requests<3.0.0,>=2.0.0->wikipedia) (1.24.3)\n",
            "Requirement already satisfied: idna<3,>=2.5 in /usr/local/lib/python3.7/dist-packages (from requests<3.0.0,>=2.0.0->wikipedia) (2.10)\n"
          ]
        }
      ]
    },
    {
      "cell_type": "code",
      "execution_count": 68,
      "id": "30988ca8",
      "metadata": {
        "id": "30988ca8"
      },
      "outputs": [],
      "source": [
        "import wikipedia\n",
        "# import wikipediaapi \n",
        "import datetime\n",
        "import pandas as pd\n",
        "import numpy as np\n",
        "from sklearn import feature_extraction\n",
        "from sklearn import model_selection\n",
        "import nltk\n",
        "from nltk import tokenize\n",
        "from nltk import word_tokenize, pos_tag\n",
        "import string\n",
        "from keras.preprocessing.text import Tokenizer\n",
        "from sklearn import svm\n",
        "from sklearn import multiclass\n",
        "from sklearn import metrics\n",
        "from tensorflow.keras.datasets import imdb\n",
        "from tensorflow.keras.preprocessing import sequence\n",
        "from tensorflow.keras.models import Sequential\n",
        "from tensorflow.keras.layers import Embedding, Dense, Flatten\n",
        "from tensorflow.keras.layers import Embedding, Conv1D, MaxPool1D, GlobalMaxPool1D, Dense\n",
        "from tensorflow.keras.losses import BinaryCrossentropy\n",
        "from tensorflow.keras.optimizers import Adam\n",
        "import matplotlib.pyplot as plt\n",
        "from tensorflow.keras import utils"
      ]
    },
    {
      "cell_type": "code",
      "execution_count": 69,
      "id": "9dba27a7",
      "metadata": {
        "id": "9dba27a7"
      },
      "outputs": [],
      "source": [
        "classes = ['sport', 'economy', 'politics', 'health', 'tourism', \n",
        "           'entertainment', 'culture', 'music', 'education', \n",
        "           'real estate', 'nutrition', 'science', 'history', 'technology'\n",
        "          ]"
      ]
    },
    {
      "cell_type": "code",
      "execution_count": 70,
      "id": "514ed559",
      "metadata": {
        "id": "514ed559"
      },
      "outputs": [],
      "source": [
        "def generate_data(classes, n):\n",
        "    data = [];\n",
        "    for i in classes:\n",
        "#         topics = wikipedia.search(i, results = n)\n",
        "#         for j in topics:\n",
        "#         print(classes)\n",
        "#         print(\"Class: \", i)\n",
        "        for j in list(wikipedia.search(i,results = n)):\n",
        "            wiki_wiki = wikipediaapi.Wikipedia('en')\n",
        "            page_py = wiki_wiki.page(j)\n",
        "            if(page_py.exists()):\n",
        "#                 print(\"Class: \", i)\n",
        "#                 print(\"Title: \", j)\n",
        "#                     print(\"Section: \", page_py.sections[0].title)\n",
        "#                     print(\"Text: \", page_py.text)\n",
        "                for k in page_py.categories:\n",
        "                    if i in k.lower(): \n",
        "#                         print(\"Class: \", i)\n",
        "                        data.append((i, page_py.summary))\n",
        "                        break\n",
        "            else:\n",
        "                continue\n",
        "    return data"
      ]
    },
    {
      "cell_type": "code",
      "execution_count": 71,
      "id": "1e769b6f",
      "metadata": {
        "id": "1e769b6f"
      },
      "outputs": [],
      "source": [
        "# data = generate_data(classes, 10)"
      ]
    },
    {
      "cell_type": "code",
      "execution_count": 72,
      "id": "de782fcc",
      "metadata": {
        "id": "de782fcc"
      },
      "outputs": [],
      "source": [
        "# for i in classes:\n",
        "#     c = 0\n",
        "#     for j in range(0, len(data)):\n",
        "#         if(data[j][0] == i):\n",
        "#             c = c + 1\n",
        "#     print(\"%s %d\" %(i, c))"
      ]
    },
    {
      "cell_type": "code",
      "execution_count": 73,
      "id": "e0b7afbf",
      "metadata": {
        "id": "e0b7afbf"
      },
      "outputs": [],
      "source": [
        "def create_data_csv_file(name, data):\n",
        "    name = name + '.csv'\n",
        "#         '_' + str(datetime.datetime.now()).replace(' ', '_').replace('.', '-').replace(':', '-') + \n",
        "#         '.csv'\n",
        "    sep = '<>'\n",
        "    cols = 'class' + sep + 'text\\n'\n",
        "    with open(name, 'w+', encoding='utf-8') as file:\n",
        "        file.write(cols)\n",
        "#         YELLOW,SMALL,STRETCH,ADULT,T\n",
        "        for i in range(0, len(data)):\n",
        "            line = data[i][0] + sep + data[i][1].replace('\\n', ' ')\n",
        "\n",
        "            file.write(line)\n",
        "            file.write('\\n')\n",
        "    file.close()\n",
        "            \n",
        "#     print(text)"
      ]
    },
    {
      "cell_type": "code",
      "execution_count": 74,
      "id": "f41f93bc",
      "metadata": {
        "id": "f41f93bc"
      },
      "outputs": [],
      "source": [
        "# create_data_csv_file('data_10', data)"
      ]
    },
    {
      "cell_type": "code",
      "execution_count": 75,
      "id": "d972ed0e",
      "metadata": {
        "colab": {
          "base_uri": "https://localhost:8080/",
          "height": 478
        },
        "id": "d972ed0e",
        "outputId": "3e07317b-8d97-47b8-b5d5-c9a910ebf3ce"
      },
      "outputs": [
        {
          "output_type": "stream",
          "name": "stderr",
          "text": [
            "/usr/local/lib/python3.7/dist-packages/pandas/util/_decorators.py:311: ParserWarning: Falling back to the 'python' engine because the 'c' engine does not support regex separators (separators > 1 char and different from '\\s+' are interpreted as regex); you can avoid this warning by specifying engine='python'.\n",
            "  return func(*args, **kwargs)\n"
          ]
        },
        {
          "output_type": "execute_result",
          "data": {
            "text/plain": [
              "          class                                               text\n",
              "0         sport  Sport pertains to any form of competitive phys...\n",
              "1         sport  Sport was an American sports magazine. Launche...\n",
              "2         sport  Sport, Sport, Sport (Russian: Спорт, спорт, сп...\n",
              "3         sport  Sport Lisboa e Benfica  (Portuguese pronunciat...\n",
              "4         sport  Sport diving is an underwater sport that uses ...\n",
              "..          ...                                                ...\n",
              "100  technology  Fintech a portmanteau of \"financial technology...\n",
              "101  technology  TCL Technology (originally an abbreviation for...\n",
              "102  technology  Space technology is technology for use in oute...\n",
              "103  technology  A technology company (or tech company) is an e...\n",
              "104  technology  Agricultural technology or agrotechnology (abb...\n",
              "\n",
              "[105 rows x 2 columns]"
            ],
            "text/html": [
              "\n",
              "  <div id=\"df-a8f73233-8804-4486-9d24-d6a82bb618b8\">\n",
              "    <div class=\"colab-df-container\">\n",
              "      <div>\n",
              "<style scoped>\n",
              "    .dataframe tbody tr th:only-of-type {\n",
              "        vertical-align: middle;\n",
              "    }\n",
              "\n",
              "    .dataframe tbody tr th {\n",
              "        vertical-align: top;\n",
              "    }\n",
              "\n",
              "    .dataframe thead th {\n",
              "        text-align: right;\n",
              "    }\n",
              "</style>\n",
              "<table border=\"1\" class=\"dataframe\">\n",
              "  <thead>\n",
              "    <tr style=\"text-align: right;\">\n",
              "      <th></th>\n",
              "      <th>class</th>\n",
              "      <th>text</th>\n",
              "    </tr>\n",
              "  </thead>\n",
              "  <tbody>\n",
              "    <tr>\n",
              "      <th>0</th>\n",
              "      <td>sport</td>\n",
              "      <td>Sport pertains to any form of competitive phys...</td>\n",
              "    </tr>\n",
              "    <tr>\n",
              "      <th>1</th>\n",
              "      <td>sport</td>\n",
              "      <td>Sport was an American sports magazine. Launche...</td>\n",
              "    </tr>\n",
              "    <tr>\n",
              "      <th>2</th>\n",
              "      <td>sport</td>\n",
              "      <td>Sport, Sport, Sport (Russian: Спорт, спорт, сп...</td>\n",
              "    </tr>\n",
              "    <tr>\n",
              "      <th>3</th>\n",
              "      <td>sport</td>\n",
              "      <td>Sport Lisboa e Benfica  (Portuguese pronunciat...</td>\n",
              "    </tr>\n",
              "    <tr>\n",
              "      <th>4</th>\n",
              "      <td>sport</td>\n",
              "      <td>Sport diving is an underwater sport that uses ...</td>\n",
              "    </tr>\n",
              "    <tr>\n",
              "      <th>...</th>\n",
              "      <td>...</td>\n",
              "      <td>...</td>\n",
              "    </tr>\n",
              "    <tr>\n",
              "      <th>100</th>\n",
              "      <td>technology</td>\n",
              "      <td>Fintech a portmanteau of \"financial technology...</td>\n",
              "    </tr>\n",
              "    <tr>\n",
              "      <th>101</th>\n",
              "      <td>technology</td>\n",
              "      <td>TCL Technology (originally an abbreviation for...</td>\n",
              "    </tr>\n",
              "    <tr>\n",
              "      <th>102</th>\n",
              "      <td>technology</td>\n",
              "      <td>Space technology is technology for use in oute...</td>\n",
              "    </tr>\n",
              "    <tr>\n",
              "      <th>103</th>\n",
              "      <td>technology</td>\n",
              "      <td>A technology company (or tech company) is an e...</td>\n",
              "    </tr>\n",
              "    <tr>\n",
              "      <th>104</th>\n",
              "      <td>technology</td>\n",
              "      <td>Agricultural technology or agrotechnology (abb...</td>\n",
              "    </tr>\n",
              "  </tbody>\n",
              "</table>\n",
              "<p>105 rows × 2 columns</p>\n",
              "</div>\n",
              "      <button class=\"colab-df-convert\" onclick=\"convertToInteractive('df-a8f73233-8804-4486-9d24-d6a82bb618b8')\"\n",
              "              title=\"Convert this dataframe to an interactive table.\"\n",
              "              style=\"display:none;\">\n",
              "        \n",
              "  <svg xmlns=\"http://www.w3.org/2000/svg\" height=\"24px\"viewBox=\"0 0 24 24\"\n",
              "       width=\"24px\">\n",
              "    <path d=\"M0 0h24v24H0V0z\" fill=\"none\"/>\n",
              "    <path d=\"M18.56 5.44l.94 2.06.94-2.06 2.06-.94-2.06-.94-.94-2.06-.94 2.06-2.06.94zm-11 1L8.5 8.5l.94-2.06 2.06-.94-2.06-.94L8.5 2.5l-.94 2.06-2.06.94zm10 10l.94 2.06.94-2.06 2.06-.94-2.06-.94-.94-2.06-.94 2.06-2.06.94z\"/><path d=\"M17.41 7.96l-1.37-1.37c-.4-.4-.92-.59-1.43-.59-.52 0-1.04.2-1.43.59L10.3 9.45l-7.72 7.72c-.78.78-.78 2.05 0 2.83L4 21.41c.39.39.9.59 1.41.59.51 0 1.02-.2 1.41-.59l7.78-7.78 2.81-2.81c.8-.78.8-2.07 0-2.86zM5.41 20L4 18.59l7.72-7.72 1.47 1.35L5.41 20z\"/>\n",
              "  </svg>\n",
              "      </button>\n",
              "      \n",
              "  <style>\n",
              "    .colab-df-container {\n",
              "      display:flex;\n",
              "      flex-wrap:wrap;\n",
              "      gap: 12px;\n",
              "    }\n",
              "\n",
              "    .colab-df-convert {\n",
              "      background-color: #E8F0FE;\n",
              "      border: none;\n",
              "      border-radius: 50%;\n",
              "      cursor: pointer;\n",
              "      display: none;\n",
              "      fill: #1967D2;\n",
              "      height: 32px;\n",
              "      padding: 0 0 0 0;\n",
              "      width: 32px;\n",
              "    }\n",
              "\n",
              "    .colab-df-convert:hover {\n",
              "      background-color: #E2EBFA;\n",
              "      box-shadow: 0px 1px 2px rgba(60, 64, 67, 0.3), 0px 1px 3px 1px rgba(60, 64, 67, 0.15);\n",
              "      fill: #174EA6;\n",
              "    }\n",
              "\n",
              "    [theme=dark] .colab-df-convert {\n",
              "      background-color: #3B4455;\n",
              "      fill: #D2E3FC;\n",
              "    }\n",
              "\n",
              "    [theme=dark] .colab-df-convert:hover {\n",
              "      background-color: #434B5C;\n",
              "      box-shadow: 0px 1px 3px 1px rgba(0, 0, 0, 0.15);\n",
              "      filter: drop-shadow(0px 1px 2px rgba(0, 0, 0, 0.3));\n",
              "      fill: #FFFFFF;\n",
              "    }\n",
              "  </style>\n",
              "\n",
              "      <script>\n",
              "        const buttonEl =\n",
              "          document.querySelector('#df-a8f73233-8804-4486-9d24-d6a82bb618b8 button.colab-df-convert');\n",
              "        buttonEl.style.display =\n",
              "          google.colab.kernel.accessAllowed ? 'block' : 'none';\n",
              "\n",
              "        async function convertToInteractive(key) {\n",
              "          const element = document.querySelector('#df-a8f73233-8804-4486-9d24-d6a82bb618b8');\n",
              "          const dataTable =\n",
              "            await google.colab.kernel.invokeFunction('convertToInteractive',\n",
              "                                                     [key], {});\n",
              "          if (!dataTable) return;\n",
              "\n",
              "          const docLinkHtml = 'Like what you see? Visit the ' +\n",
              "            '<a target=\"_blank\" href=https://colab.research.google.com/notebooks/data_table.ipynb>data table notebook</a>'\n",
              "            + ' to learn more about interactive tables.';\n",
              "          element.innerHTML = '';\n",
              "          dataTable['output_type'] = 'display_data';\n",
              "          await google.colab.output.renderOutput(dataTable, element);\n",
              "          const docLink = document.createElement('div');\n",
              "          docLink.innerHTML = docLinkHtml;\n",
              "          element.appendChild(docLink);\n",
              "        }\n",
              "      </script>\n",
              "    </div>\n",
              "  </div>\n",
              "  "
            ]
          },
          "metadata": {},
          "execution_count": 75
        }
      ],
      "source": [
        "df = pd.read_csv('data_10.csv', sep = '<>')\n",
        "df"
      ]
    },
    {
      "cell_type": "code",
      "execution_count": 76,
      "id": "ac2514ae",
      "metadata": {
        "colab": {
          "base_uri": "https://localhost:8080/"
        },
        "id": "ac2514ae",
        "outputId": "3ccebd33-167a-4f4c-f5e1-ddf6e29c102d"
      },
      "outputs": [
        {
          "output_type": "execute_result",
          "data": {
            "text/plain": [
              "sport            10\n",
              "tourism           9\n",
              "culture           9\n",
              "education         9\n",
              "real estate       9\n",
              "nutrition         8\n",
              "science           8\n",
              "technology        8\n",
              "health            7\n",
              "music             7\n",
              "politics          6\n",
              "history           6\n",
              "entertainment     5\n",
              "economy           4\n",
              "Name: class, dtype: int64"
            ]
          },
          "metadata": {},
          "execution_count": 76
        }
      ],
      "source": [
        "df['class'].value_counts()"
      ]
    },
    {
      "cell_type": "code",
      "execution_count": 77,
      "id": "c8a998eb",
      "metadata": {
        "colab": {
          "base_uri": "https://localhost:8080/"
        },
        "id": "c8a998eb",
        "outputId": "ac26381d-5741-4b28-82d8-3090ec39e234"
      },
      "outputs": [
        {
          "output_type": "stream",
          "name": "stderr",
          "text": [
            "[nltk_data] Downloading package punkt to /root/nltk_data...\n",
            "[nltk_data]   Package punkt is already up-to-date!\n"
          ]
        },
        {
          "output_type": "execute_result",
          "data": {
            "text/plain": [
              "True"
            ]
          },
          "metadata": {},
          "execution_count": 77
        }
      ],
      "source": [
        "nltk.download('punkt')"
      ]
    },
    {
      "cell_type": "code",
      "execution_count": 78,
      "id": "c83fe692",
      "metadata": {
        "id": "c83fe692"
      },
      "outputs": [],
      "source": [
        "dict_class_index = {\n",
        "    class_name: i for i, class_name in enumerate(df['class'].unique())\n",
        "}\n",
        "\n",
        "df['class num'] = df['class'].map(dict_class_index)"
      ]
    },
    {
      "cell_type": "code",
      "execution_count": 79,
      "id": "46bf5c29",
      "metadata": {
        "colab": {
          "base_uri": "https://localhost:8080/",
          "height": 424
        },
        "id": "46bf5c29",
        "outputId": "368ce8a5-d8e8-4099-b24e-ff3ee02b88b9"
      },
      "outputs": [
        {
          "output_type": "execute_result",
          "data": {
            "text/plain": [
              "          class                                               text  class num\n",
              "0         sport  Sport pertains to any form of competitive phys...          0\n",
              "1         sport  Sport was an American sports magazine. Launche...          0\n",
              "2         sport  Sport, Sport, Sport (Russian: Спорт, спорт, сп...          0\n",
              "3         sport  Sport Lisboa e Benfica  (Portuguese pronunciat...          0\n",
              "4         sport  Sport diving is an underwater sport that uses ...          0\n",
              "..          ...                                                ...        ...\n",
              "100  technology  Fintech a portmanteau of \"financial technology...         13\n",
              "101  technology  TCL Technology (originally an abbreviation for...         13\n",
              "102  technology  Space technology is technology for use in oute...         13\n",
              "103  technology  A technology company (or tech company) is an e...         13\n",
              "104  technology  Agricultural technology or agrotechnology (abb...         13\n",
              "\n",
              "[105 rows x 3 columns]"
            ],
            "text/html": [
              "\n",
              "  <div id=\"df-4a656fc4-72ae-411a-b873-153b6bd9d847\">\n",
              "    <div class=\"colab-df-container\">\n",
              "      <div>\n",
              "<style scoped>\n",
              "    .dataframe tbody tr th:only-of-type {\n",
              "        vertical-align: middle;\n",
              "    }\n",
              "\n",
              "    .dataframe tbody tr th {\n",
              "        vertical-align: top;\n",
              "    }\n",
              "\n",
              "    .dataframe thead th {\n",
              "        text-align: right;\n",
              "    }\n",
              "</style>\n",
              "<table border=\"1\" class=\"dataframe\">\n",
              "  <thead>\n",
              "    <tr style=\"text-align: right;\">\n",
              "      <th></th>\n",
              "      <th>class</th>\n",
              "      <th>text</th>\n",
              "      <th>class num</th>\n",
              "    </tr>\n",
              "  </thead>\n",
              "  <tbody>\n",
              "    <tr>\n",
              "      <th>0</th>\n",
              "      <td>sport</td>\n",
              "      <td>Sport pertains to any form of competitive phys...</td>\n",
              "      <td>0</td>\n",
              "    </tr>\n",
              "    <tr>\n",
              "      <th>1</th>\n",
              "      <td>sport</td>\n",
              "      <td>Sport was an American sports magazine. Launche...</td>\n",
              "      <td>0</td>\n",
              "    </tr>\n",
              "    <tr>\n",
              "      <th>2</th>\n",
              "      <td>sport</td>\n",
              "      <td>Sport, Sport, Sport (Russian: Спорт, спорт, сп...</td>\n",
              "      <td>0</td>\n",
              "    </tr>\n",
              "    <tr>\n",
              "      <th>3</th>\n",
              "      <td>sport</td>\n",
              "      <td>Sport Lisboa e Benfica  (Portuguese pronunciat...</td>\n",
              "      <td>0</td>\n",
              "    </tr>\n",
              "    <tr>\n",
              "      <th>4</th>\n",
              "      <td>sport</td>\n",
              "      <td>Sport diving is an underwater sport that uses ...</td>\n",
              "      <td>0</td>\n",
              "    </tr>\n",
              "    <tr>\n",
              "      <th>...</th>\n",
              "      <td>...</td>\n",
              "      <td>...</td>\n",
              "      <td>...</td>\n",
              "    </tr>\n",
              "    <tr>\n",
              "      <th>100</th>\n",
              "      <td>technology</td>\n",
              "      <td>Fintech a portmanteau of \"financial technology...</td>\n",
              "      <td>13</td>\n",
              "    </tr>\n",
              "    <tr>\n",
              "      <th>101</th>\n",
              "      <td>technology</td>\n",
              "      <td>TCL Technology (originally an abbreviation for...</td>\n",
              "      <td>13</td>\n",
              "    </tr>\n",
              "    <tr>\n",
              "      <th>102</th>\n",
              "      <td>technology</td>\n",
              "      <td>Space technology is technology for use in oute...</td>\n",
              "      <td>13</td>\n",
              "    </tr>\n",
              "    <tr>\n",
              "      <th>103</th>\n",
              "      <td>technology</td>\n",
              "      <td>A technology company (or tech company) is an e...</td>\n",
              "      <td>13</td>\n",
              "    </tr>\n",
              "    <tr>\n",
              "      <th>104</th>\n",
              "      <td>technology</td>\n",
              "      <td>Agricultural technology or agrotechnology (abb...</td>\n",
              "      <td>13</td>\n",
              "    </tr>\n",
              "  </tbody>\n",
              "</table>\n",
              "<p>105 rows × 3 columns</p>\n",
              "</div>\n",
              "      <button class=\"colab-df-convert\" onclick=\"convertToInteractive('df-4a656fc4-72ae-411a-b873-153b6bd9d847')\"\n",
              "              title=\"Convert this dataframe to an interactive table.\"\n",
              "              style=\"display:none;\">\n",
              "        \n",
              "  <svg xmlns=\"http://www.w3.org/2000/svg\" height=\"24px\"viewBox=\"0 0 24 24\"\n",
              "       width=\"24px\">\n",
              "    <path d=\"M0 0h24v24H0V0z\" fill=\"none\"/>\n",
              "    <path d=\"M18.56 5.44l.94 2.06.94-2.06 2.06-.94-2.06-.94-.94-2.06-.94 2.06-2.06.94zm-11 1L8.5 8.5l.94-2.06 2.06-.94-2.06-.94L8.5 2.5l-.94 2.06-2.06.94zm10 10l.94 2.06.94-2.06 2.06-.94-2.06-.94-.94-2.06-.94 2.06-2.06.94z\"/><path d=\"M17.41 7.96l-1.37-1.37c-.4-.4-.92-.59-1.43-.59-.52 0-1.04.2-1.43.59L10.3 9.45l-7.72 7.72c-.78.78-.78 2.05 0 2.83L4 21.41c.39.39.9.59 1.41.59.51 0 1.02-.2 1.41-.59l7.78-7.78 2.81-2.81c.8-.78.8-2.07 0-2.86zM5.41 20L4 18.59l7.72-7.72 1.47 1.35L5.41 20z\"/>\n",
              "  </svg>\n",
              "      </button>\n",
              "      \n",
              "  <style>\n",
              "    .colab-df-container {\n",
              "      display:flex;\n",
              "      flex-wrap:wrap;\n",
              "      gap: 12px;\n",
              "    }\n",
              "\n",
              "    .colab-df-convert {\n",
              "      background-color: #E8F0FE;\n",
              "      border: none;\n",
              "      border-radius: 50%;\n",
              "      cursor: pointer;\n",
              "      display: none;\n",
              "      fill: #1967D2;\n",
              "      height: 32px;\n",
              "      padding: 0 0 0 0;\n",
              "      width: 32px;\n",
              "    }\n",
              "\n",
              "    .colab-df-convert:hover {\n",
              "      background-color: #E2EBFA;\n",
              "      box-shadow: 0px 1px 2px rgba(60, 64, 67, 0.3), 0px 1px 3px 1px rgba(60, 64, 67, 0.15);\n",
              "      fill: #174EA6;\n",
              "    }\n",
              "\n",
              "    [theme=dark] .colab-df-convert {\n",
              "      background-color: #3B4455;\n",
              "      fill: #D2E3FC;\n",
              "    }\n",
              "\n",
              "    [theme=dark] .colab-df-convert:hover {\n",
              "      background-color: #434B5C;\n",
              "      box-shadow: 0px 1px 3px 1px rgba(0, 0, 0, 0.15);\n",
              "      filter: drop-shadow(0px 1px 2px rgba(0, 0, 0, 0.3));\n",
              "      fill: #FFFFFF;\n",
              "    }\n",
              "  </style>\n",
              "\n",
              "      <script>\n",
              "        const buttonEl =\n",
              "          document.querySelector('#df-4a656fc4-72ae-411a-b873-153b6bd9d847 button.colab-df-convert');\n",
              "        buttonEl.style.display =\n",
              "          google.colab.kernel.accessAllowed ? 'block' : 'none';\n",
              "\n",
              "        async function convertToInteractive(key) {\n",
              "          const element = document.querySelector('#df-4a656fc4-72ae-411a-b873-153b6bd9d847');\n",
              "          const dataTable =\n",
              "            await google.colab.kernel.invokeFunction('convertToInteractive',\n",
              "                                                     [key], {});\n",
              "          if (!dataTable) return;\n",
              "\n",
              "          const docLinkHtml = 'Like what you see? Visit the ' +\n",
              "            '<a target=\"_blank\" href=https://colab.research.google.com/notebooks/data_table.ipynb>data table notebook</a>'\n",
              "            + ' to learn more about interactive tables.';\n",
              "          element.innerHTML = '';\n",
              "          dataTable['output_type'] = 'display_data';\n",
              "          await google.colab.output.renderOutput(dataTable, element);\n",
              "          const docLink = document.createElement('div');\n",
              "          docLink.innerHTML = docLinkHtml;\n",
              "          element.appendChild(docLink);\n",
              "        }\n",
              "      </script>\n",
              "    </div>\n",
              "  </div>\n",
              "  "
            ]
          },
          "metadata": {},
          "execution_count": 79
        }
      ],
      "source": [
        "df"
      ]
    },
    {
      "cell_type": "code",
      "execution_count": 80,
      "id": "7c3b1b06",
      "metadata": {
        "colab": {
          "base_uri": "https://localhost:8080/"
        },
        "id": "7c3b1b06",
        "outputId": "59281575-6892-45d6-c22b-ef5035717ab1"
      },
      "outputs": [
        {
          "output_type": "execute_result",
          "data": {
            "text/plain": [
              "{'sport': 0,\n",
              " 'economy': 1,\n",
              " 'politics': 2,\n",
              " 'health': 3,\n",
              " 'tourism': 4,\n",
              " 'entertainment': 5,\n",
              " 'culture': 6,\n",
              " 'music': 7,\n",
              " 'education': 8,\n",
              " 'real estate': 9,\n",
              " 'nutrition': 10,\n",
              " 'science': 11,\n",
              " 'history': 12,\n",
              " 'technology': 13}"
            ]
          },
          "metadata": {},
          "execution_count": 80
        }
      ],
      "source": [
        "dict_class_index"
      ]
    },
    {
      "cell_type": "code",
      "source": [
        "!pip install advertools"
      ],
      "metadata": {
        "colab": {
          "base_uri": "https://localhost:8080/"
        },
        "id": "LONqIklFyIqG",
        "outputId": "afc22dd9-5f5a-4040-8fde-db65effb2390"
      },
      "id": "LONqIklFyIqG",
      "execution_count": 81,
      "outputs": [
        {
          "output_type": "stream",
          "name": "stdout",
          "text": [
            "Looking in indexes: https://pypi.org/simple, https://us-python.pkg.dev/colab-wheels/public/simple/\n",
            "Requirement already satisfied: advertools in /usr/local/lib/python3.7/dist-packages (0.13.1)\n",
            "Requirement already satisfied: pandas in /usr/local/lib/python3.7/dist-packages (from advertools) (1.3.5)\n",
            "Requirement already satisfied: twython in /usr/local/lib/python3.7/dist-packages (from advertools) (3.9.1)\n",
            "Requirement already satisfied: pyarrow in /usr/local/lib/python3.7/dist-packages (from advertools) (6.0.1)\n",
            "Requirement already satisfied: pyasn1 in /usr/local/lib/python3.7/dist-packages (from advertools) (0.4.8)\n",
            "Requirement already satisfied: scrapy in /usr/local/lib/python3.7/dist-packages (from advertools) (2.6.2)\n",
            "Requirement already satisfied: numpy>=1.17.3 in /usr/local/lib/python3.7/dist-packages (from pandas->advertools) (1.21.6)\n",
            "Requirement already satisfied: python-dateutil>=2.7.3 in /usr/local/lib/python3.7/dist-packages (from pandas->advertools) (2.8.2)\n",
            "Requirement already satisfied: pytz>=2017.3 in /usr/local/lib/python3.7/dist-packages (from pandas->advertools) (2022.2.1)\n",
            "Requirement already satisfied: six>=1.5 in /usr/local/lib/python3.7/dist-packages (from python-dateutil>=2.7.3->pandas->advertools) (1.15.0)\n",
            "Requirement already satisfied: w3lib>=1.17.0 in /usr/local/lib/python3.7/dist-packages (from scrapy->advertools) (2.0.1)\n",
            "Requirement already satisfied: queuelib>=1.4.2 in /usr/local/lib/python3.7/dist-packages (from scrapy->advertools) (1.6.2)\n",
            "Requirement already satisfied: service-identity>=16.0.0 in /usr/local/lib/python3.7/dist-packages (from scrapy->advertools) (21.1.0)\n",
            "Requirement already satisfied: zope.interface>=4.1.3 in /usr/local/lib/python3.7/dist-packages (from scrapy->advertools) (5.4.0)\n",
            "Requirement already satisfied: itemadapter>=0.1.0 in /usr/local/lib/python3.7/dist-packages (from scrapy->advertools) (0.7.0)\n",
            "Requirement already satisfied: parsel>=1.5.0 in /usr/local/lib/python3.7/dist-packages (from scrapy->advertools) (1.6.0)\n",
            "Requirement already satisfied: Twisted>=17.9.0 in /usr/local/lib/python3.7/dist-packages (from scrapy->advertools) (22.8.0)\n",
            "Requirement already satisfied: pyOpenSSL>=16.2.0 in /usr/local/lib/python3.7/dist-packages (from scrapy->advertools) (22.0.0)\n",
            "Requirement already satisfied: itemloaders>=1.0.1 in /usr/local/lib/python3.7/dist-packages (from scrapy->advertools) (1.0.6)\n",
            "Requirement already satisfied: protego>=0.1.15 in /usr/local/lib/python3.7/dist-packages (from scrapy->advertools) (0.2.1)\n",
            "Requirement already satisfied: setuptools in /usr/local/lib/python3.7/dist-packages (from scrapy->advertools) (57.4.0)\n",
            "Requirement already satisfied: cssselect>=0.9.1 in /usr/local/lib/python3.7/dist-packages (from scrapy->advertools) (1.1.0)\n",
            "Requirement already satisfied: tldextract in /usr/local/lib/python3.7/dist-packages (from scrapy->advertools) (3.3.1)\n",
            "Requirement already satisfied: lxml>=3.5.0 in /usr/local/lib/python3.7/dist-packages (from scrapy->advertools) (4.9.1)\n",
            "Requirement already satisfied: PyDispatcher>=2.0.5 in /usr/local/lib/python3.7/dist-packages (from scrapy->advertools) (2.0.6)\n",
            "Requirement already satisfied: cryptography>=2.0 in /usr/local/lib/python3.7/dist-packages (from scrapy->advertools) (38.0.1)\n",
            "Requirement already satisfied: cffi>=1.12 in /usr/local/lib/python3.7/dist-packages (from cryptography>=2.0->scrapy->advertools) (1.15.1)\n",
            "Requirement already satisfied: pycparser in /usr/local/lib/python3.7/dist-packages (from cffi>=1.12->cryptography>=2.0->scrapy->advertools) (2.21)\n",
            "Requirement already satisfied: jmespath>=0.9.5 in /usr/local/lib/python3.7/dist-packages (from itemloaders>=1.0.1->scrapy->advertools) (1.0.1)\n",
            "Requirement already satisfied: attrs>=19.1.0 in /usr/local/lib/python3.7/dist-packages (from service-identity>=16.0.0->scrapy->advertools) (22.1.0)\n",
            "Requirement already satisfied: pyasn1-modules in /usr/local/lib/python3.7/dist-packages (from service-identity>=16.0.0->scrapy->advertools) (0.2.8)\n",
            "Requirement already satisfied: incremental>=21.3.0 in /usr/local/lib/python3.7/dist-packages (from Twisted>=17.9.0->scrapy->advertools) (21.3.0)\n",
            "Requirement already satisfied: hyperlink>=17.1.1 in /usr/local/lib/python3.7/dist-packages (from Twisted>=17.9.0->scrapy->advertools) (21.0.0)\n",
            "Requirement already satisfied: constantly>=15.1 in /usr/local/lib/python3.7/dist-packages (from Twisted>=17.9.0->scrapy->advertools) (15.1.0)\n",
            "Requirement already satisfied: Automat>=0.8.0 in /usr/local/lib/python3.7/dist-packages (from Twisted>=17.9.0->scrapy->advertools) (20.2.0)\n",
            "Requirement already satisfied: typing-extensions>=3.6.5 in /usr/local/lib/python3.7/dist-packages (from Twisted>=17.9.0->scrapy->advertools) (4.1.1)\n",
            "Requirement already satisfied: idna>=2.5 in /usr/local/lib/python3.7/dist-packages (from hyperlink>=17.1.1->Twisted>=17.9.0->scrapy->advertools) (2.10)\n",
            "Requirement already satisfied: requests>=2.1.0 in /usr/local/lib/python3.7/dist-packages (from tldextract->scrapy->advertools) (2.23.0)\n",
            "Requirement already satisfied: filelock>=3.0.8 in /usr/local/lib/python3.7/dist-packages (from tldextract->scrapy->advertools) (3.8.0)\n",
            "Requirement already satisfied: requests-file>=1.4 in /usr/local/lib/python3.7/dist-packages (from tldextract->scrapy->advertools) (1.5.1)\n",
            "Requirement already satisfied: chardet<4,>=3.0.2 in /usr/local/lib/python3.7/dist-packages (from requests>=2.1.0->tldextract->scrapy->advertools) (3.0.4)\n",
            "Requirement already satisfied: urllib3!=1.25.0,!=1.25.1,<1.26,>=1.21.1 in /usr/local/lib/python3.7/dist-packages (from requests>=2.1.0->tldextract->scrapy->advertools) (1.24.3)\n",
            "Requirement already satisfied: certifi>=2017.4.17 in /usr/local/lib/python3.7/dist-packages (from requests>=2.1.0->tldextract->scrapy->advertools) (2022.6.15)\n",
            "Requirement already satisfied: requests-oauthlib>=0.4.0 in /usr/local/lib/python3.7/dist-packages (from twython->advertools) (1.3.1)\n",
            "Requirement already satisfied: oauthlib>=3.0.0 in /usr/local/lib/python3.7/dist-packages (from requests-oauthlib>=0.4.0->twython->advertools) (3.2.0)\n"
          ]
        }
      ]
    },
    {
      "cell_type": "code",
      "execution_count": 82,
      "id": "d882e51b",
      "metadata": {
        "colab": {
          "base_uri": "https://localhost:8080/"
        },
        "id": "d882e51b",
        "outputId": "ce2eb283-81bd-46a9-c7a2-976912a61066"
      },
      "outputs": [
        {
          "output_type": "stream",
          "name": "stdout",
          "text": [
            "['a', 'about', 'above', 'across', 'after', 'afterwards', 'again', 'against', 'all', 'almost', 'alone', 'along', 'already', 'also', 'although', 'always', 'am', 'among', 'amongst', 'amount', 'an', 'and', 'another', 'any', 'anyhow', 'anyone', 'anything', 'anyway', 'anywhere', 'are', 'around', 'as', 'at', 'back', 'be', 'became', 'because', 'become', 'becomes', 'becoming', 'been', 'before', 'beforehand', 'behind', 'being', 'below', 'beside', 'besides', 'between', 'beyond', 'both', 'bottom', 'but', 'by', 'ca', 'call', 'can', 'cannot', 'could', 'did', 'do', 'does', 'doing', 'done', 'down', 'due', 'during', 'each', 'eight', 'either', 'eleven', 'else', 'elsewhere', 'empty', 'enough', 'even', 'ever', 'every', 'everyone', 'everything', 'everywhere', 'except', 'few', 'fifteen', 'fifty', 'first', 'five', 'for', 'former', 'formerly', 'forty', 'four', 'from', 'front', 'full', 'further', 'get', 'give', 'go', 'had', 'has', 'have', 'he', 'hence', 'her', 'here', 'hereafter', 'hereby', 'herein', 'hereupon', 'hers', 'herself', 'him', 'himself', 'his', 'how', 'however', 'hundred', 'i', 'if', 'in', 'indeed', 'into', 'is', 'it', 'its', 'itself', 'just', 'keep', 'last', 'latter', 'latterly', 'least', 'less', 'made', 'make', 'many', 'may', 'me', 'meanwhile', 'might', 'mine', 'more', 'moreover', 'most', 'mostly', 'move', 'much', 'must', 'my', 'myself', 'name', 'namely', 'neither', 'never', 'nevertheless', 'next', 'nine', 'no', 'nobody', 'none', 'noone', 'nor', 'not', 'nothing', 'now', 'nowhere', 'of', 'off', 'often', 'on', 'once', 'one', 'only', 'onto', 'or', 'other', 'others', 'otherwise', 'our', 'ours', 'ourselves', 'out', 'over', 'own', 'part', 'per', 'perhaps', 'please', 'put', 'quite', 'rather', 're', 'really', 'regarding', 'same', 'say', 'see', 'seem', 'seemed', 'seeming', 'seems', 'serious', 'several', 'she', 'should', 'show', 'side', 'since', 'six', 'sixty', 'so', 'some', 'somehow', 'someone', 'something', 'sometime', 'sometimes', 'somewhere', 'still', 'such', 'take', 'ten', 'than', 'that', 'the', 'their', 'them', 'themselves', 'then', 'thence', 'there', 'thereafter', 'thereby', 'therefore', 'therein', 'thereupon', 'these', 'they', 'third', 'this', 'those', 'though', 'three', 'through', 'throughout', 'thru', 'thus', 'to', 'together', 'too', 'top', 'toward', 'towards', 'twelve', 'twenty', 'two', 'under', 'unless', 'until', 'up', 'upon', 'us', 'used', 'using', 'various', 'very', 'via', 'was', 'we', 'well', 'were', 'what', 'whatever', 'when', 'whence', 'whenever', 'where', 'whereafter', 'whereas', 'whereby', 'wherein', 'whereupon', 'wherever', 'whether', 'which', 'while', 'whither', 'who', 'whoever', 'whole', 'whom', 'whose', 'why', 'will', 'with', 'within', 'without', 'would', 'yet', 'you', 'your', 'yours', 'yourself', 'yourselves']\n"
          ]
        }
      ],
      "source": [
        "import advertools as adv\n",
        "stop_words = sorted(adv.stopwords['english'])\n",
        "print(stop_words)"
      ]
    },
    {
      "cell_type": "code",
      "execution_count": 83,
      "id": "5391e288",
      "metadata": {
        "id": "5391e288"
      },
      "outputs": [],
      "source": [
        "def clear_text(text):\n",
        "    new_text = text.apply(lambda x: ' '.join([word for word in x.split() if word not in stop_words])).str.lower()\n",
        "    new_text = new_text.replace(r'[^\\w\\s]+', '', regex=True)\n",
        "    return new_text"
      ]
    },
    {
      "cell_type": "code",
      "execution_count": 84,
      "id": "1802bb8d",
      "metadata": {
        "id": "1802bb8d"
      },
      "outputs": [],
      "source": [
        "new_text = clear_text(df['text'])"
      ]
    },
    {
      "cell_type": "code",
      "execution_count": 85,
      "id": "946c36f5",
      "metadata": {
        "colab": {
          "base_uri": "https://localhost:8080/",
          "height": 520
        },
        "id": "946c36f5",
        "outputId": "ff285b82-b025-4a79-c087-da5d6125546f"
      },
      "outputs": [
        {
          "output_type": "execute_result",
          "data": {
            "text/plain": [
              "          class                                               text  class num  \\\n",
              "0         sport  Sport pertains to any form of competitive phys...          0   \n",
              "1         sport  Sport was an American sports magazine. Launche...          0   \n",
              "2         sport  Sport, Sport, Sport (Russian: Спорт, спорт, сп...          0   \n",
              "3         sport  Sport Lisboa e Benfica  (Portuguese pronunciat...          0   \n",
              "4         sport  Sport diving is an underwater sport that uses ...          0   \n",
              "..          ...                                                ...        ...   \n",
              "100  technology  Fintech a portmanteau of \"financial technology...         13   \n",
              "101  technology  TCL Technology (originally an abbreviation for...         13   \n",
              "102  technology  Space technology is technology for use in oute...         13   \n",
              "103  technology  A technology company (or tech company) is an e...         13   \n",
              "104  technology  Agricultural technology or agrotechnology (abb...         13   \n",
              "\n",
              "                                            clear text  \n",
              "0    sport pertains form competitive physical activ...  \n",
              "1    sport american sports magazine launched septem...  \n",
              "2    sport sport sport russian спорт спорт спорт 19...  \n",
              "3    sport lisboa e benfica portuguese pronunciatio...  \n",
              "4    sport diving underwater sport uses recreationa...  \n",
              "..                                                 ...  \n",
              "100  fintech portmanteau financial technology refer...  \n",
              "101  tcl technology originally abbreviation telepho...  \n",
              "102  space technology technology use outer space tr...  \n",
              "103  a technology company or tech company electroni...  \n",
              "104  agricultural technology agrotechnology abbrevi...  \n",
              "\n",
              "[105 rows x 4 columns]"
            ],
            "text/html": [
              "\n",
              "  <div id=\"df-0a77dc5c-7c2d-454c-83b6-0c381775093a\">\n",
              "    <div class=\"colab-df-container\">\n",
              "      <div>\n",
              "<style scoped>\n",
              "    .dataframe tbody tr th:only-of-type {\n",
              "        vertical-align: middle;\n",
              "    }\n",
              "\n",
              "    .dataframe tbody tr th {\n",
              "        vertical-align: top;\n",
              "    }\n",
              "\n",
              "    .dataframe thead th {\n",
              "        text-align: right;\n",
              "    }\n",
              "</style>\n",
              "<table border=\"1\" class=\"dataframe\">\n",
              "  <thead>\n",
              "    <tr style=\"text-align: right;\">\n",
              "      <th></th>\n",
              "      <th>class</th>\n",
              "      <th>text</th>\n",
              "      <th>class num</th>\n",
              "      <th>clear text</th>\n",
              "    </tr>\n",
              "  </thead>\n",
              "  <tbody>\n",
              "    <tr>\n",
              "      <th>0</th>\n",
              "      <td>sport</td>\n",
              "      <td>Sport pertains to any form of competitive phys...</td>\n",
              "      <td>0</td>\n",
              "      <td>sport pertains form competitive physical activ...</td>\n",
              "    </tr>\n",
              "    <tr>\n",
              "      <th>1</th>\n",
              "      <td>sport</td>\n",
              "      <td>Sport was an American sports magazine. Launche...</td>\n",
              "      <td>0</td>\n",
              "      <td>sport american sports magazine launched septem...</td>\n",
              "    </tr>\n",
              "    <tr>\n",
              "      <th>2</th>\n",
              "      <td>sport</td>\n",
              "      <td>Sport, Sport, Sport (Russian: Спорт, спорт, сп...</td>\n",
              "      <td>0</td>\n",
              "      <td>sport sport sport russian спорт спорт спорт 19...</td>\n",
              "    </tr>\n",
              "    <tr>\n",
              "      <th>3</th>\n",
              "      <td>sport</td>\n",
              "      <td>Sport Lisboa e Benfica  (Portuguese pronunciat...</td>\n",
              "      <td>0</td>\n",
              "      <td>sport lisboa e benfica portuguese pronunciatio...</td>\n",
              "    </tr>\n",
              "    <tr>\n",
              "      <th>4</th>\n",
              "      <td>sport</td>\n",
              "      <td>Sport diving is an underwater sport that uses ...</td>\n",
              "      <td>0</td>\n",
              "      <td>sport diving underwater sport uses recreationa...</td>\n",
              "    </tr>\n",
              "    <tr>\n",
              "      <th>...</th>\n",
              "      <td>...</td>\n",
              "      <td>...</td>\n",
              "      <td>...</td>\n",
              "      <td>...</td>\n",
              "    </tr>\n",
              "    <tr>\n",
              "      <th>100</th>\n",
              "      <td>technology</td>\n",
              "      <td>Fintech a portmanteau of \"financial technology...</td>\n",
              "      <td>13</td>\n",
              "      <td>fintech portmanteau financial technology refer...</td>\n",
              "    </tr>\n",
              "    <tr>\n",
              "      <th>101</th>\n",
              "      <td>technology</td>\n",
              "      <td>TCL Technology (originally an abbreviation for...</td>\n",
              "      <td>13</td>\n",
              "      <td>tcl technology originally abbreviation telepho...</td>\n",
              "    </tr>\n",
              "    <tr>\n",
              "      <th>102</th>\n",
              "      <td>technology</td>\n",
              "      <td>Space technology is technology for use in oute...</td>\n",
              "      <td>13</td>\n",
              "      <td>space technology technology use outer space tr...</td>\n",
              "    </tr>\n",
              "    <tr>\n",
              "      <th>103</th>\n",
              "      <td>technology</td>\n",
              "      <td>A technology company (or tech company) is an e...</td>\n",
              "      <td>13</td>\n",
              "      <td>a technology company or tech company electroni...</td>\n",
              "    </tr>\n",
              "    <tr>\n",
              "      <th>104</th>\n",
              "      <td>technology</td>\n",
              "      <td>Agricultural technology or agrotechnology (abb...</td>\n",
              "      <td>13</td>\n",
              "      <td>agricultural technology agrotechnology abbrevi...</td>\n",
              "    </tr>\n",
              "  </tbody>\n",
              "</table>\n",
              "<p>105 rows × 4 columns</p>\n",
              "</div>\n",
              "      <button class=\"colab-df-convert\" onclick=\"convertToInteractive('df-0a77dc5c-7c2d-454c-83b6-0c381775093a')\"\n",
              "              title=\"Convert this dataframe to an interactive table.\"\n",
              "              style=\"display:none;\">\n",
              "        \n",
              "  <svg xmlns=\"http://www.w3.org/2000/svg\" height=\"24px\"viewBox=\"0 0 24 24\"\n",
              "       width=\"24px\">\n",
              "    <path d=\"M0 0h24v24H0V0z\" fill=\"none\"/>\n",
              "    <path d=\"M18.56 5.44l.94 2.06.94-2.06 2.06-.94-2.06-.94-.94-2.06-.94 2.06-2.06.94zm-11 1L8.5 8.5l.94-2.06 2.06-.94-2.06-.94L8.5 2.5l-.94 2.06-2.06.94zm10 10l.94 2.06.94-2.06 2.06-.94-2.06-.94-.94-2.06-.94 2.06-2.06.94z\"/><path d=\"M17.41 7.96l-1.37-1.37c-.4-.4-.92-.59-1.43-.59-.52 0-1.04.2-1.43.59L10.3 9.45l-7.72 7.72c-.78.78-.78 2.05 0 2.83L4 21.41c.39.39.9.59 1.41.59.51 0 1.02-.2 1.41-.59l7.78-7.78 2.81-2.81c.8-.78.8-2.07 0-2.86zM5.41 20L4 18.59l7.72-7.72 1.47 1.35L5.41 20z\"/>\n",
              "  </svg>\n",
              "      </button>\n",
              "      \n",
              "  <style>\n",
              "    .colab-df-container {\n",
              "      display:flex;\n",
              "      flex-wrap:wrap;\n",
              "      gap: 12px;\n",
              "    }\n",
              "\n",
              "    .colab-df-convert {\n",
              "      background-color: #E8F0FE;\n",
              "      border: none;\n",
              "      border-radius: 50%;\n",
              "      cursor: pointer;\n",
              "      display: none;\n",
              "      fill: #1967D2;\n",
              "      height: 32px;\n",
              "      padding: 0 0 0 0;\n",
              "      width: 32px;\n",
              "    }\n",
              "\n",
              "    .colab-df-convert:hover {\n",
              "      background-color: #E2EBFA;\n",
              "      box-shadow: 0px 1px 2px rgba(60, 64, 67, 0.3), 0px 1px 3px 1px rgba(60, 64, 67, 0.15);\n",
              "      fill: #174EA6;\n",
              "    }\n",
              "\n",
              "    [theme=dark] .colab-df-convert {\n",
              "      background-color: #3B4455;\n",
              "      fill: #D2E3FC;\n",
              "    }\n",
              "\n",
              "    [theme=dark] .colab-df-convert:hover {\n",
              "      background-color: #434B5C;\n",
              "      box-shadow: 0px 1px 3px 1px rgba(0, 0, 0, 0.15);\n",
              "      filter: drop-shadow(0px 1px 2px rgba(0, 0, 0, 0.3));\n",
              "      fill: #FFFFFF;\n",
              "    }\n",
              "  </style>\n",
              "\n",
              "      <script>\n",
              "        const buttonEl =\n",
              "          document.querySelector('#df-0a77dc5c-7c2d-454c-83b6-0c381775093a button.colab-df-convert');\n",
              "        buttonEl.style.display =\n",
              "          google.colab.kernel.accessAllowed ? 'block' : 'none';\n",
              "\n",
              "        async function convertToInteractive(key) {\n",
              "          const element = document.querySelector('#df-0a77dc5c-7c2d-454c-83b6-0c381775093a');\n",
              "          const dataTable =\n",
              "            await google.colab.kernel.invokeFunction('convertToInteractive',\n",
              "                                                     [key], {});\n",
              "          if (!dataTable) return;\n",
              "\n",
              "          const docLinkHtml = 'Like what you see? Visit the ' +\n",
              "            '<a target=\"_blank\" href=https://colab.research.google.com/notebooks/data_table.ipynb>data table notebook</a>'\n",
              "            + ' to learn more about interactive tables.';\n",
              "          element.innerHTML = '';\n",
              "          dataTable['output_type'] = 'display_data';\n",
              "          await google.colab.output.renderOutput(dataTable, element);\n",
              "          const docLink = document.createElement('div');\n",
              "          docLink.innerHTML = docLinkHtml;\n",
              "          element.appendChild(docLink);\n",
              "        }\n",
              "      </script>\n",
              "    </div>\n",
              "  </div>\n",
              "  "
            ]
          },
          "metadata": {},
          "execution_count": 85
        }
      ],
      "source": [
        "df['clear text'] = new_text\n",
        "df"
      ]
    },
    {
      "cell_type": "code",
      "execution_count": 86,
      "id": "125b305d",
      "metadata": {
        "id": "125b305d"
      },
      "outputs": [],
      "source": [
        "newest_text = []\n",
        "for i in range(0, len(df)):\n",
        "    newest_text.append(word_tokenize(df['clear text'][i]))"
      ]
    },
    {
      "cell_type": "code",
      "execution_count": 87,
      "id": "777d5e01",
      "metadata": {
        "colab": {
          "base_uri": "https://localhost:8080/"
        },
        "id": "777d5e01",
        "outputId": "c5f154fd-dae2-4ae6-9f56-ae45f449cc20"
      },
      "outputs": [
        {
          "output_type": "stream",
          "name": "stderr",
          "text": [
            "[nltk_data] Downloading package averaged_perceptron_tagger to\n",
            "[nltk_data]     /root/nltk_data...\n",
            "[nltk_data]   Package averaged_perceptron_tagger is already up-to-\n",
            "[nltk_data]       date!\n"
          ]
        },
        {
          "output_type": "execute_result",
          "data": {
            "text/plain": [
              "True"
            ]
          },
          "metadata": {},
          "execution_count": 87
        }
      ],
      "source": [
        "nltk.download('averaged_perceptron_tagger')"
      ]
    },
    {
      "cell_type": "code",
      "execution_count": 88,
      "id": "5656e48a",
      "metadata": {
        "colab": {
          "base_uri": "https://localhost:8080/"
        },
        "id": "5656e48a",
        "outputId": "b71b1bbe-78ae-4ec3-fd0f-fe2609ce4dd6"
      },
      "outputs": [
        {
          "output_type": "stream",
          "name": "stderr",
          "text": [
            "[nltk_data] Downloading package wordnet to /root/nltk_data...\n",
            "[nltk_data]   Package wordnet is already up-to-date!\n"
          ]
        },
        {
          "output_type": "execute_result",
          "data": {
            "text/plain": [
              "True"
            ]
          },
          "metadata": {},
          "execution_count": 88
        }
      ],
      "source": [
        "nltk.download('wordnet')"
      ]
    },
    {
      "cell_type": "code",
      "execution_count": 89,
      "id": "6c3e3a28",
      "metadata": {
        "id": "6c3e3a28"
      },
      "outputs": [],
      "source": [
        "def my_lemmitezer(text):\n",
        "    return pos_tag(word_tokenize(text))"
      ]
    },
    {
      "cell_type": "code",
      "execution_count": 90,
      "id": "77b18f68",
      "metadata": {
        "id": "77b18f68"
      },
      "outputs": [],
      "source": [
        "tokenized_lemmitzed_text = []\n",
        "for i in range(0, len(df)):\n",
        "    tokenized_lemmitzed_text.append(my_lemmitezer(df['clear text'][i]))"
      ]
    },
    {
      "cell_type": "code",
      "execution_count": 91,
      "id": "efd359f8",
      "metadata": {
        "id": "efd359f8"
      },
      "outputs": [],
      "source": [
        "df['tokenized lemmitzed text'] = tokenized_lemmitzed_text"
      ]
    },
    {
      "cell_type": "code",
      "execution_count": 92,
      "id": "467087ce",
      "metadata": {
        "id": "467087ce"
      },
      "outputs": [],
      "source": [
        "stemmer = nltk.stem.PorterStemmer()"
      ]
    },
    {
      "cell_type": "code",
      "execution_count": 93,
      "id": "c55a27a3",
      "metadata": {
        "id": "c55a27a3"
      },
      "outputs": [],
      "source": [
        "def my_stemmer(text):\n",
        "    tokenized_stemmed_text = []\n",
        "    tokens = word_tokenize(text)\n",
        "    for token in tokens:\n",
        "        tokenized_stemmed_text.append(stemmer.stem(token))\n",
        "    return tokenized_stemmed_text"
      ]
    },
    {
      "cell_type": "code",
      "execution_count": 94,
      "id": "705facbe",
      "metadata": {
        "id": "705facbe"
      },
      "outputs": [],
      "source": [
        "tokenized_stemmed_text = []\n",
        "for i in range(0, len(df)):\n",
        "    tokenized_stemmed_text.append(my_stemmer(df['clear text'][i]))"
      ]
    },
    {
      "cell_type": "code",
      "execution_count": 95,
      "id": "f89793fd",
      "metadata": {
        "id": "f89793fd"
      },
      "outputs": [],
      "source": [
        "df['tokenized stemmed text'] = tokenized_stemmed_text\n",
        "# df['tokenized stemmed text'] = df['tokenized stemmed text'].str.join(' ')"
      ]
    },
    {
      "cell_type": "code",
      "execution_count": 96,
      "id": "eb33fad8",
      "metadata": {
        "colab": {
          "base_uri": "https://localhost:8080/"
        },
        "id": "eb33fad8",
        "outputId": "502fdbb6-80c1-4eb3-9f21-8bdf13736142"
      },
      "outputs": [
        {
          "output_type": "execute_result",
          "data": {
            "text/plain": [
              "0      sport pertains form competitive physical activ...\n",
              "1      sport american sports magazine launched septem...\n",
              "2      sport sport sport russian спорт спорт спорт 19...\n",
              "3      sport lisboa e benfica portuguese pronunciatio...\n",
              "4      sport diving underwater sport uses recreationa...\n",
              "                             ...                        \n",
              "100    fintech portmanteau financial technology refer...\n",
              "101    tcl technology originally abbreviation telepho...\n",
              "102    space technology technology use outer space tr...\n",
              "103    a technology company or tech company electroni...\n",
              "104    agricultural technology agrotechnology abbrevi...\n",
              "Name: clear text, Length: 105, dtype: object"
            ]
          },
          "metadata": {},
          "execution_count": 96
        }
      ],
      "source": [
        "x = df['clear text']\n",
        "x"
      ]
    },
    {
      "cell_type": "code",
      "execution_count": 97,
      "id": "b7173f11",
      "metadata": {
        "colab": {
          "base_uri": "https://localhost:8080/"
        },
        "id": "b7173f11",
        "outputId": "c91c06eb-acd3-4dd4-ae36-370254c9a766"
      },
      "outputs": [
        {
          "output_type": "execute_result",
          "data": {
            "text/plain": [
              "0       0\n",
              "1       0\n",
              "2       0\n",
              "3       0\n",
              "4       0\n",
              "       ..\n",
              "100    13\n",
              "101    13\n",
              "102    13\n",
              "103    13\n",
              "104    13\n",
              "Name: class num, Length: 105, dtype: int64"
            ]
          },
          "metadata": {},
          "execution_count": 97
        }
      ],
      "source": [
        "y = df['class num']\n",
        "y"
      ]
    },
    {
      "cell_type": "code",
      "execution_count": 98,
      "id": "18fe4ba3",
      "metadata": {
        "id": "18fe4ba3"
      },
      "outputs": [],
      "source": [
        "x_tr, x_ft, y_tr, y_ft = model_selection.train_test_split(x, y, test_size=0.2, stratify=y)"
      ]
    },
    {
      "cell_type": "code",
      "execution_count": 99,
      "id": "25831cf4",
      "metadata": {
        "colab": {
          "base_uri": "https://localhost:8080/"
        },
        "id": "25831cf4",
        "outputId": "b072076a-0ae1-4ce9-e29b-04da1d381a60"
      },
      "outputs": [
        {
          "output_type": "execute_result",
          "data": {
            "text/plain": [
              "44    alternative culture type culture exists outsid...\n",
              "71    a realestate bubble property bubble or housing...\n",
              "80    parenteral nutrition pn feeding nutritional pr...\n",
              "39    jyp entertainment corporation korean jyp 엔터테인먼...\n",
              "83    science systematic enterprise builds organizes...\n",
              "                            ...                        \n",
              "98    information technology it use computers create...\n",
              "69    real estate investing involves purchase manage...\n",
              "52    country also called country western genre popu...\n",
              "91    history from ancient greek ἱστορία romanized h...\n",
              "46    the culture fictional interstellar postscarcit...\n",
              "Name: clear text, Length: 84, dtype: object"
            ]
          },
          "metadata": {},
          "execution_count": 99
        }
      ],
      "source": [
        "x_tr"
      ]
    },
    {
      "cell_type": "code",
      "execution_count": 100,
      "id": "0866a004",
      "metadata": {
        "id": "0866a004"
      },
      "outputs": [],
      "source": [
        "x_train, x_test, y_train, y_test = model_selection.train_test_split(x_tr, y_tr, test_size=0.3, stratify=y_tr, random_state=5)"
      ]
    },
    {
      "cell_type": "code",
      "execution_count": 101,
      "id": "39e8c86f",
      "metadata": {
        "id": "39e8c86f"
      },
      "outputs": [],
      "source": [
        "count_vectorizer_t = feature_extraction.text.TfidfVectorizer()"
      ]
    },
    {
      "cell_type": "code",
      "execution_count": 102,
      "id": "182664c2",
      "metadata": {
        "colab": {
          "base_uri": "https://localhost:8080/"
        },
        "id": "182664c2",
        "outputId": "a5e5e4cd-47f5-4c9b-bf4a-598c7d060b3a"
      },
      "outputs": [
        {
          "output_type": "execute_result",
          "data": {
            "text/plain": [
              "TfidfVectorizer()"
            ]
          },
          "metadata": {},
          "execution_count": 102
        }
      ],
      "source": [
        "count_vectorizer_t.fit(x_train)"
      ]
    },
    {
      "cell_type": "code",
      "execution_count": 103,
      "id": "ba9d5ba3",
      "metadata": {
        "id": "ba9d5ba3"
      },
      "outputs": [],
      "source": [
        "x_train_t_tfidf = count_vectorizer_t.transform(x_train)\n",
        "x_test_t_tfidf = count_vectorizer_t.transform(x_test)"
      ]
    },
    {
      "cell_type": "code",
      "execution_count": 104,
      "id": "34c098b6",
      "metadata": {
        "id": "34c098b6"
      },
      "outputs": [],
      "source": [
        "model = svm.LinearSVC(max_iter=100000)"
      ]
    },
    {
      "cell_type": "code",
      "execution_count": 105,
      "id": "a63254d0",
      "metadata": {
        "id": "a63254d0"
      },
      "outputs": [],
      "source": [
        "model_t = multiclass.OneVsRestClassifier(model)"
      ]
    },
    {
      "cell_type": "code",
      "execution_count": 106,
      "id": "49e36d71",
      "metadata": {
        "colab": {
          "base_uri": "https://localhost:8080/"
        },
        "id": "49e36d71",
        "outputId": "a21adc3c-dc05-4332-9ce3-c7f27ccfce8f"
      },
      "outputs": [
        {
          "output_type": "execute_result",
          "data": {
            "text/plain": [
              "OneVsRestClassifier(estimator=LinearSVC(max_iter=100000))"
            ]
          },
          "metadata": {},
          "execution_count": 106
        }
      ],
      "source": [
        "model_t.fit(x_train_t_tfidf, y_train)"
      ]
    },
    {
      "cell_type": "code",
      "execution_count": 107,
      "id": "ee8ca6c4",
      "metadata": {
        "id": "ee8ca6c4"
      },
      "outputs": [],
      "source": [
        "y_test_predicted_t = model_t.predict(x_test_t_tfidf)"
      ]
    },
    {
      "cell_type": "code",
      "execution_count": 108,
      "id": "c8d48629",
      "metadata": {
        "colab": {
          "base_uri": "https://localhost:8080/",
          "height": 570
        },
        "id": "c8d48629",
        "outputId": "483fd405-d5b8-4a38-c9ce-9b16a7f1b65a"
      },
      "outputs": [
        {
          "output_type": "execute_result",
          "data": {
            "text/plain": [
              "               sport  economy  politics  health  tourism  entertainment  \\\n",
              "sport              2        0         0       0        0              0   \n",
              "economy            0        1         0       0        0              0   \n",
              "politics           0        0         2       0        0              0   \n",
              "health             0        0         0       2        0              0   \n",
              "tourism            0        0         0       0        2              0   \n",
              "entertainment      0        0         0       0        0              1   \n",
              "culture            0        0         0       0        0              0   \n",
              "music              0        0         0       0        0              0   \n",
              "education          0        0         0       0        0              0   \n",
              "real estate        0        0         0       0        0              0   \n",
              "nutrition          0        0         0       0        0              0   \n",
              "science            0        0         0       0        0              0   \n",
              "history            0        0         0       0        0              0   \n",
              "technology         0        0         0       0        1              0   \n",
              "\n",
              "               culture  music  education  real estate  nutrition  science  \\\n",
              "sport                0      0          0            0          0        0   \n",
              "economy              0      0          0            0          0        0   \n",
              "politics             0      0          0            0          0        0   \n",
              "health               0      0          0            0          0        0   \n",
              "tourism              0      0          0            0          0        0   \n",
              "entertainment        0      0          0            0          0        0   \n",
              "culture              2      0          0            0          0        0   \n",
              "music                0      2          0            0          0        0   \n",
              "education            0      0          2            0          0        0   \n",
              "real estate          0      0          0            2          0        0   \n",
              "nutrition            0      0          0            0          1        0   \n",
              "science              0      0          0            0          0        2   \n",
              "history              1      0          0            0          0        0   \n",
              "technology           0      0          0            0          0        1   \n",
              "\n",
              "               history  technology  \n",
              "sport                0           0  \n",
              "economy              0           0  \n",
              "politics             0           0  \n",
              "health               0           0  \n",
              "tourism              0           0  \n",
              "entertainment        0           0  \n",
              "culture              0           0  \n",
              "music                0           0  \n",
              "education            0           0  \n",
              "real estate          0           0  \n",
              "nutrition            0           1  \n",
              "science              0           0  \n",
              "history              1           0  \n",
              "technology           0           0  "
            ],
            "text/html": [
              "\n",
              "  <div id=\"df-77ffb1df-d37d-44a4-a8ec-22cae8ee2044\">\n",
              "    <div class=\"colab-df-container\">\n",
              "      <div>\n",
              "<style scoped>\n",
              "    .dataframe tbody tr th:only-of-type {\n",
              "        vertical-align: middle;\n",
              "    }\n",
              "\n",
              "    .dataframe tbody tr th {\n",
              "        vertical-align: top;\n",
              "    }\n",
              "\n",
              "    .dataframe thead th {\n",
              "        text-align: right;\n",
              "    }\n",
              "</style>\n",
              "<table border=\"1\" class=\"dataframe\">\n",
              "  <thead>\n",
              "    <tr style=\"text-align: right;\">\n",
              "      <th></th>\n",
              "      <th>sport</th>\n",
              "      <th>economy</th>\n",
              "      <th>politics</th>\n",
              "      <th>health</th>\n",
              "      <th>tourism</th>\n",
              "      <th>entertainment</th>\n",
              "      <th>culture</th>\n",
              "      <th>music</th>\n",
              "      <th>education</th>\n",
              "      <th>real estate</th>\n",
              "      <th>nutrition</th>\n",
              "      <th>science</th>\n",
              "      <th>history</th>\n",
              "      <th>technology</th>\n",
              "    </tr>\n",
              "  </thead>\n",
              "  <tbody>\n",
              "    <tr>\n",
              "      <th>sport</th>\n",
              "      <td>2</td>\n",
              "      <td>0</td>\n",
              "      <td>0</td>\n",
              "      <td>0</td>\n",
              "      <td>0</td>\n",
              "      <td>0</td>\n",
              "      <td>0</td>\n",
              "      <td>0</td>\n",
              "      <td>0</td>\n",
              "      <td>0</td>\n",
              "      <td>0</td>\n",
              "      <td>0</td>\n",
              "      <td>0</td>\n",
              "      <td>0</td>\n",
              "    </tr>\n",
              "    <tr>\n",
              "      <th>economy</th>\n",
              "      <td>0</td>\n",
              "      <td>1</td>\n",
              "      <td>0</td>\n",
              "      <td>0</td>\n",
              "      <td>0</td>\n",
              "      <td>0</td>\n",
              "      <td>0</td>\n",
              "      <td>0</td>\n",
              "      <td>0</td>\n",
              "      <td>0</td>\n",
              "      <td>0</td>\n",
              "      <td>0</td>\n",
              "      <td>0</td>\n",
              "      <td>0</td>\n",
              "    </tr>\n",
              "    <tr>\n",
              "      <th>politics</th>\n",
              "      <td>0</td>\n",
              "      <td>0</td>\n",
              "      <td>2</td>\n",
              "      <td>0</td>\n",
              "      <td>0</td>\n",
              "      <td>0</td>\n",
              "      <td>0</td>\n",
              "      <td>0</td>\n",
              "      <td>0</td>\n",
              "      <td>0</td>\n",
              "      <td>0</td>\n",
              "      <td>0</td>\n",
              "      <td>0</td>\n",
              "      <td>0</td>\n",
              "    </tr>\n",
              "    <tr>\n",
              "      <th>health</th>\n",
              "      <td>0</td>\n",
              "      <td>0</td>\n",
              "      <td>0</td>\n",
              "      <td>2</td>\n",
              "      <td>0</td>\n",
              "      <td>0</td>\n",
              "      <td>0</td>\n",
              "      <td>0</td>\n",
              "      <td>0</td>\n",
              "      <td>0</td>\n",
              "      <td>0</td>\n",
              "      <td>0</td>\n",
              "      <td>0</td>\n",
              "      <td>0</td>\n",
              "    </tr>\n",
              "    <tr>\n",
              "      <th>tourism</th>\n",
              "      <td>0</td>\n",
              "      <td>0</td>\n",
              "      <td>0</td>\n",
              "      <td>0</td>\n",
              "      <td>2</td>\n",
              "      <td>0</td>\n",
              "      <td>0</td>\n",
              "      <td>0</td>\n",
              "      <td>0</td>\n",
              "      <td>0</td>\n",
              "      <td>0</td>\n",
              "      <td>0</td>\n",
              "      <td>0</td>\n",
              "      <td>0</td>\n",
              "    </tr>\n",
              "    <tr>\n",
              "      <th>entertainment</th>\n",
              "      <td>0</td>\n",
              "      <td>0</td>\n",
              "      <td>0</td>\n",
              "      <td>0</td>\n",
              "      <td>0</td>\n",
              "      <td>1</td>\n",
              "      <td>0</td>\n",
              "      <td>0</td>\n",
              "      <td>0</td>\n",
              "      <td>0</td>\n",
              "      <td>0</td>\n",
              "      <td>0</td>\n",
              "      <td>0</td>\n",
              "      <td>0</td>\n",
              "    </tr>\n",
              "    <tr>\n",
              "      <th>culture</th>\n",
              "      <td>0</td>\n",
              "      <td>0</td>\n",
              "      <td>0</td>\n",
              "      <td>0</td>\n",
              "      <td>0</td>\n",
              "      <td>0</td>\n",
              "      <td>2</td>\n",
              "      <td>0</td>\n",
              "      <td>0</td>\n",
              "      <td>0</td>\n",
              "      <td>0</td>\n",
              "      <td>0</td>\n",
              "      <td>0</td>\n",
              "      <td>0</td>\n",
              "    </tr>\n",
              "    <tr>\n",
              "      <th>music</th>\n",
              "      <td>0</td>\n",
              "      <td>0</td>\n",
              "      <td>0</td>\n",
              "      <td>0</td>\n",
              "      <td>0</td>\n",
              "      <td>0</td>\n",
              "      <td>0</td>\n",
              "      <td>2</td>\n",
              "      <td>0</td>\n",
              "      <td>0</td>\n",
              "      <td>0</td>\n",
              "      <td>0</td>\n",
              "      <td>0</td>\n",
              "      <td>0</td>\n",
              "    </tr>\n",
              "    <tr>\n",
              "      <th>education</th>\n",
              "      <td>0</td>\n",
              "      <td>0</td>\n",
              "      <td>0</td>\n",
              "      <td>0</td>\n",
              "      <td>0</td>\n",
              "      <td>0</td>\n",
              "      <td>0</td>\n",
              "      <td>0</td>\n",
              "      <td>2</td>\n",
              "      <td>0</td>\n",
              "      <td>0</td>\n",
              "      <td>0</td>\n",
              "      <td>0</td>\n",
              "      <td>0</td>\n",
              "    </tr>\n",
              "    <tr>\n",
              "      <th>real estate</th>\n",
              "      <td>0</td>\n",
              "      <td>0</td>\n",
              "      <td>0</td>\n",
              "      <td>0</td>\n",
              "      <td>0</td>\n",
              "      <td>0</td>\n",
              "      <td>0</td>\n",
              "      <td>0</td>\n",
              "      <td>0</td>\n",
              "      <td>2</td>\n",
              "      <td>0</td>\n",
              "      <td>0</td>\n",
              "      <td>0</td>\n",
              "      <td>0</td>\n",
              "    </tr>\n",
              "    <tr>\n",
              "      <th>nutrition</th>\n",
              "      <td>0</td>\n",
              "      <td>0</td>\n",
              "      <td>0</td>\n",
              "      <td>0</td>\n",
              "      <td>0</td>\n",
              "      <td>0</td>\n",
              "      <td>0</td>\n",
              "      <td>0</td>\n",
              "      <td>0</td>\n",
              "      <td>0</td>\n",
              "      <td>1</td>\n",
              "      <td>0</td>\n",
              "      <td>0</td>\n",
              "      <td>1</td>\n",
              "    </tr>\n",
              "    <tr>\n",
              "      <th>science</th>\n",
              "      <td>0</td>\n",
              "      <td>0</td>\n",
              "      <td>0</td>\n",
              "      <td>0</td>\n",
              "      <td>0</td>\n",
              "      <td>0</td>\n",
              "      <td>0</td>\n",
              "      <td>0</td>\n",
              "      <td>0</td>\n",
              "      <td>0</td>\n",
              "      <td>0</td>\n",
              "      <td>2</td>\n",
              "      <td>0</td>\n",
              "      <td>0</td>\n",
              "    </tr>\n",
              "    <tr>\n",
              "      <th>history</th>\n",
              "      <td>0</td>\n",
              "      <td>0</td>\n",
              "      <td>0</td>\n",
              "      <td>0</td>\n",
              "      <td>0</td>\n",
              "      <td>0</td>\n",
              "      <td>1</td>\n",
              "      <td>0</td>\n",
              "      <td>0</td>\n",
              "      <td>0</td>\n",
              "      <td>0</td>\n",
              "      <td>0</td>\n",
              "      <td>1</td>\n",
              "      <td>0</td>\n",
              "    </tr>\n",
              "    <tr>\n",
              "      <th>technology</th>\n",
              "      <td>0</td>\n",
              "      <td>0</td>\n",
              "      <td>0</td>\n",
              "      <td>0</td>\n",
              "      <td>1</td>\n",
              "      <td>0</td>\n",
              "      <td>0</td>\n",
              "      <td>0</td>\n",
              "      <td>0</td>\n",
              "      <td>0</td>\n",
              "      <td>0</td>\n",
              "      <td>1</td>\n",
              "      <td>0</td>\n",
              "      <td>0</td>\n",
              "    </tr>\n",
              "  </tbody>\n",
              "</table>\n",
              "</div>\n",
              "      <button class=\"colab-df-convert\" onclick=\"convertToInteractive('df-77ffb1df-d37d-44a4-a8ec-22cae8ee2044')\"\n",
              "              title=\"Convert this dataframe to an interactive table.\"\n",
              "              style=\"display:none;\">\n",
              "        \n",
              "  <svg xmlns=\"http://www.w3.org/2000/svg\" height=\"24px\"viewBox=\"0 0 24 24\"\n",
              "       width=\"24px\">\n",
              "    <path d=\"M0 0h24v24H0V0z\" fill=\"none\"/>\n",
              "    <path d=\"M18.56 5.44l.94 2.06.94-2.06 2.06-.94-2.06-.94-.94-2.06-.94 2.06-2.06.94zm-11 1L8.5 8.5l.94-2.06 2.06-.94-2.06-.94L8.5 2.5l-.94 2.06-2.06.94zm10 10l.94 2.06.94-2.06 2.06-.94-2.06-.94-.94-2.06-.94 2.06-2.06.94z\"/><path d=\"M17.41 7.96l-1.37-1.37c-.4-.4-.92-.59-1.43-.59-.52 0-1.04.2-1.43.59L10.3 9.45l-7.72 7.72c-.78.78-.78 2.05 0 2.83L4 21.41c.39.39.9.59 1.41.59.51 0 1.02-.2 1.41-.59l7.78-7.78 2.81-2.81c.8-.78.8-2.07 0-2.86zM5.41 20L4 18.59l7.72-7.72 1.47 1.35L5.41 20z\"/>\n",
              "  </svg>\n",
              "      </button>\n",
              "      \n",
              "  <style>\n",
              "    .colab-df-container {\n",
              "      display:flex;\n",
              "      flex-wrap:wrap;\n",
              "      gap: 12px;\n",
              "    }\n",
              "\n",
              "    .colab-df-convert {\n",
              "      background-color: #E8F0FE;\n",
              "      border: none;\n",
              "      border-radius: 50%;\n",
              "      cursor: pointer;\n",
              "      display: none;\n",
              "      fill: #1967D2;\n",
              "      height: 32px;\n",
              "      padding: 0 0 0 0;\n",
              "      width: 32px;\n",
              "    }\n",
              "\n",
              "    .colab-df-convert:hover {\n",
              "      background-color: #E2EBFA;\n",
              "      box-shadow: 0px 1px 2px rgba(60, 64, 67, 0.3), 0px 1px 3px 1px rgba(60, 64, 67, 0.15);\n",
              "      fill: #174EA6;\n",
              "    }\n",
              "\n",
              "    [theme=dark] .colab-df-convert {\n",
              "      background-color: #3B4455;\n",
              "      fill: #D2E3FC;\n",
              "    }\n",
              "\n",
              "    [theme=dark] .colab-df-convert:hover {\n",
              "      background-color: #434B5C;\n",
              "      box-shadow: 0px 1px 3px 1px rgba(0, 0, 0, 0.15);\n",
              "      filter: drop-shadow(0px 1px 2px rgba(0, 0, 0, 0.3));\n",
              "      fill: #FFFFFF;\n",
              "    }\n",
              "  </style>\n",
              "\n",
              "      <script>\n",
              "        const buttonEl =\n",
              "          document.querySelector('#df-77ffb1df-d37d-44a4-a8ec-22cae8ee2044 button.colab-df-convert');\n",
              "        buttonEl.style.display =\n",
              "          google.colab.kernel.accessAllowed ? 'block' : 'none';\n",
              "\n",
              "        async function convertToInteractive(key) {\n",
              "          const element = document.querySelector('#df-77ffb1df-d37d-44a4-a8ec-22cae8ee2044');\n",
              "          const dataTable =\n",
              "            await google.colab.kernel.invokeFunction('convertToInteractive',\n",
              "                                                     [key], {});\n",
              "          if (!dataTable) return;\n",
              "\n",
              "          const docLinkHtml = 'Like what you see? Visit the ' +\n",
              "            '<a target=\"_blank\" href=https://colab.research.google.com/notebooks/data_table.ipynb>data table notebook</a>'\n",
              "            + ' to learn more about interactive tables.';\n",
              "          element.innerHTML = '';\n",
              "          dataTable['output_type'] = 'display_data';\n",
              "          await google.colab.output.renderOutput(dataTable, element);\n",
              "          const docLink = document.createElement('div');\n",
              "          docLink.innerHTML = docLinkHtml;\n",
              "          element.appendChild(docLink);\n",
              "        }\n",
              "      </script>\n",
              "    </div>\n",
              "  </div>\n",
              "  "
            ]
          },
          "metadata": {},
          "execution_count": 108
        }
      ],
      "source": [
        "cm = pd.DataFrame(metrics.confusion_matrix(y_test, y_test_predicted_t), columns=df['class'].unique(), index=df['class'].unique())\n",
        "cm"
      ]
    },
    {
      "cell_type": "code",
      "execution_count": 109,
      "id": "b97a3c5f",
      "metadata": {
        "colab": {
          "base_uri": "https://localhost:8080/"
        },
        "id": "b97a3c5f",
        "outputId": "a8064f77-fbe6-4fcf-c67e-63687098bafa"
      },
      "outputs": [
        {
          "output_type": "stream",
          "name": "stdout",
          "text": [
            "              precision    recall  f1-score   support\n",
            "\n",
            "           0       1.00      1.00      1.00         2\n",
            "           1       1.00      1.00      1.00         1\n",
            "           2       1.00      1.00      1.00         2\n",
            "           3       1.00      1.00      1.00         2\n",
            "           4       0.67      1.00      0.80         2\n",
            "           5       1.00      1.00      1.00         1\n",
            "           6       0.67      1.00      0.80         2\n",
            "           7       1.00      1.00      1.00         2\n",
            "           8       1.00      1.00      1.00         2\n",
            "           9       1.00      1.00      1.00         2\n",
            "          10       1.00      0.50      0.67         2\n",
            "          11       0.67      1.00      0.80         2\n",
            "          12       1.00      0.50      0.67         2\n",
            "          13       0.00      0.00      0.00         2\n",
            "\n",
            "    accuracy                           0.85        26\n",
            "   macro avg       0.86      0.86      0.84        26\n",
            "weighted avg       0.85      0.85      0.83        26\n",
            "\n"
          ]
        }
      ],
      "source": [
        "print(metrics.classification_report(y_test, y_test_predicted_t))"
      ]
    },
    {
      "cell_type": "code",
      "execution_count": 110,
      "id": "54d53ab7",
      "metadata": {
        "colab": {
          "base_uri": "https://localhost:8080/"
        },
        "id": "54d53ab7",
        "outputId": "a595f3e6-e6f6-4d86-de14-b03f3a86f4c9"
      },
      "outputs": [
        {
          "output_type": "execute_result",
          "data": {
            "text/plain": [
              "0.838095238095238"
            ]
          },
          "metadata": {},
          "execution_count": 110
        }
      ],
      "source": [
        "metrics.f1_score(y_test, y_test_predicted_t, average='macro')"
      ]
    },
    {
      "cell_type": "code",
      "execution_count": 111,
      "id": "4c8a16e7",
      "metadata": {
        "id": "4c8a16e7"
      },
      "outputs": [],
      "source": [
        "count_vectorizer_l = feature_extraction.text.TfidfVectorizer(tokenizer=my_lemmitezer)"
      ]
    },
    {
      "cell_type": "code",
      "execution_count": 112,
      "id": "0ce8acb3",
      "metadata": {
        "colab": {
          "base_uri": "https://localhost:8080/"
        },
        "id": "0ce8acb3",
        "outputId": "da9fa22a-0c92-4689-f03c-71ddd2e66909"
      },
      "outputs": [
        {
          "output_type": "stream",
          "name": "stderr",
          "text": [
            "/usr/local/lib/python3.7/dist-packages/sklearn/feature_extraction/text.py:517: UserWarning: The parameter 'token_pattern' will not be used since 'tokenizer' is not None'\n",
            "  \"The parameter 'token_pattern' will not be used\"\n"
          ]
        },
        {
          "output_type": "execute_result",
          "data": {
            "text/plain": [
              "TfidfVectorizer(tokenizer=<function my_lemmitezer at 0x7fa9f7d797a0>)"
            ]
          },
          "metadata": {},
          "execution_count": 112
        }
      ],
      "source": [
        "count_vectorizer_l.fit(x_train)"
      ]
    },
    {
      "cell_type": "code",
      "execution_count": 113,
      "id": "55688fe0",
      "metadata": {
        "id": "55688fe0"
      },
      "outputs": [],
      "source": [
        "x_train_l_tfidf = count_vectorizer_l.transform(x_train)\n",
        "x_test_l_tfidf = count_vectorizer_l.transform(x_test)"
      ]
    },
    {
      "cell_type": "code",
      "execution_count": 114,
      "id": "4594c7f8",
      "metadata": {
        "id": "4594c7f8"
      },
      "outputs": [],
      "source": [
        "model = svm.LinearSVC(max_iter=100000)"
      ]
    },
    {
      "cell_type": "code",
      "execution_count": 115,
      "id": "57a0a1c0",
      "metadata": {
        "id": "57a0a1c0"
      },
      "outputs": [],
      "source": [
        "model_l = multiclass.OneVsRestClassifier(model)"
      ]
    },
    {
      "cell_type": "code",
      "execution_count": 116,
      "id": "26b6ef7c",
      "metadata": {
        "colab": {
          "base_uri": "https://localhost:8080/"
        },
        "id": "26b6ef7c",
        "outputId": "bf8a002b-dfe2-4c02-ffa9-fe5a517ba382"
      },
      "outputs": [
        {
          "output_type": "execute_result",
          "data": {
            "text/plain": [
              "OneVsRestClassifier(estimator=LinearSVC(max_iter=100000))"
            ]
          },
          "metadata": {},
          "execution_count": 116
        }
      ],
      "source": [
        "model_l.fit(x_train_l_tfidf, y_train)"
      ]
    },
    {
      "cell_type": "code",
      "execution_count": 117,
      "id": "a24e474e",
      "metadata": {
        "id": "a24e474e"
      },
      "outputs": [],
      "source": [
        "y_test_predicted_l = model_l.predict(x_test_l_tfidf)"
      ]
    },
    {
      "cell_type": "code",
      "execution_count": 118,
      "id": "c00988ce",
      "metadata": {
        "colab": {
          "base_uri": "https://localhost:8080/",
          "height": 570
        },
        "id": "c00988ce",
        "outputId": "56d99ac4-ab47-441b-c012-557633a33892"
      },
      "outputs": [
        {
          "output_type": "execute_result",
          "data": {
            "text/plain": [
              "               sport  economy  politics  health  tourism  entertainment  \\\n",
              "sport              2        0         0       0        0              0   \n",
              "economy            0        1         0       0        0              0   \n",
              "politics           0        0         2       0        0              0   \n",
              "health             0        0         0       2        0              0   \n",
              "tourism            0        0         0       0        2              0   \n",
              "entertainment      0        0         0       0        0              1   \n",
              "culture            0        0         0       0        0              0   \n",
              "music              0        0         0       0        0              0   \n",
              "education          0        0         0       0        0              0   \n",
              "real estate        0        0         0       0        0              0   \n",
              "nutrition          0        0         0       0        0              0   \n",
              "science            0        0         0       0        0              0   \n",
              "history            0        0         0       0        0              0   \n",
              "technology         0        0         0       0        1              0   \n",
              "\n",
              "               culture  music  education  real estate  nutrition  science  \\\n",
              "sport                0      0          0            0          0        0   \n",
              "economy              0      0          0            0          0        0   \n",
              "politics             0      0          0            0          0        0   \n",
              "health               0      0          0            0          0        0   \n",
              "tourism              0      0          0            0          0        0   \n",
              "entertainment        0      0          0            0          0        0   \n",
              "culture              2      0          0            0          0        0   \n",
              "music                0      2          0            0          0        0   \n",
              "education            0      0          2            0          0        0   \n",
              "real estate          0      0          0            2          0        0   \n",
              "nutrition            0      0          0            0          1        0   \n",
              "science              0      0          0            0          0        2   \n",
              "history              1      0          0            0          0        0   \n",
              "technology           0      0          0            0          0        1   \n",
              "\n",
              "               history  technology  \n",
              "sport                0           0  \n",
              "economy              0           0  \n",
              "politics             0           0  \n",
              "health               0           0  \n",
              "tourism              0           0  \n",
              "entertainment        0           0  \n",
              "culture              0           0  \n",
              "music                0           0  \n",
              "education            0           0  \n",
              "real estate          0           0  \n",
              "nutrition            0           1  \n",
              "science              0           0  \n",
              "history              1           0  \n",
              "technology           0           0  "
            ],
            "text/html": [
              "\n",
              "  <div id=\"df-ade4ca3c-851f-41d8-8fb4-d9abe8c521e8\">\n",
              "    <div class=\"colab-df-container\">\n",
              "      <div>\n",
              "<style scoped>\n",
              "    .dataframe tbody tr th:only-of-type {\n",
              "        vertical-align: middle;\n",
              "    }\n",
              "\n",
              "    .dataframe tbody tr th {\n",
              "        vertical-align: top;\n",
              "    }\n",
              "\n",
              "    .dataframe thead th {\n",
              "        text-align: right;\n",
              "    }\n",
              "</style>\n",
              "<table border=\"1\" class=\"dataframe\">\n",
              "  <thead>\n",
              "    <tr style=\"text-align: right;\">\n",
              "      <th></th>\n",
              "      <th>sport</th>\n",
              "      <th>economy</th>\n",
              "      <th>politics</th>\n",
              "      <th>health</th>\n",
              "      <th>tourism</th>\n",
              "      <th>entertainment</th>\n",
              "      <th>culture</th>\n",
              "      <th>music</th>\n",
              "      <th>education</th>\n",
              "      <th>real estate</th>\n",
              "      <th>nutrition</th>\n",
              "      <th>science</th>\n",
              "      <th>history</th>\n",
              "      <th>technology</th>\n",
              "    </tr>\n",
              "  </thead>\n",
              "  <tbody>\n",
              "    <tr>\n",
              "      <th>sport</th>\n",
              "      <td>2</td>\n",
              "      <td>0</td>\n",
              "      <td>0</td>\n",
              "      <td>0</td>\n",
              "      <td>0</td>\n",
              "      <td>0</td>\n",
              "      <td>0</td>\n",
              "      <td>0</td>\n",
              "      <td>0</td>\n",
              "      <td>0</td>\n",
              "      <td>0</td>\n",
              "      <td>0</td>\n",
              "      <td>0</td>\n",
              "      <td>0</td>\n",
              "    </tr>\n",
              "    <tr>\n",
              "      <th>economy</th>\n",
              "      <td>0</td>\n",
              "      <td>1</td>\n",
              "      <td>0</td>\n",
              "      <td>0</td>\n",
              "      <td>0</td>\n",
              "      <td>0</td>\n",
              "      <td>0</td>\n",
              "      <td>0</td>\n",
              "      <td>0</td>\n",
              "      <td>0</td>\n",
              "      <td>0</td>\n",
              "      <td>0</td>\n",
              "      <td>0</td>\n",
              "      <td>0</td>\n",
              "    </tr>\n",
              "    <tr>\n",
              "      <th>politics</th>\n",
              "      <td>0</td>\n",
              "      <td>0</td>\n",
              "      <td>2</td>\n",
              "      <td>0</td>\n",
              "      <td>0</td>\n",
              "      <td>0</td>\n",
              "      <td>0</td>\n",
              "      <td>0</td>\n",
              "      <td>0</td>\n",
              "      <td>0</td>\n",
              "      <td>0</td>\n",
              "      <td>0</td>\n",
              "      <td>0</td>\n",
              "      <td>0</td>\n",
              "    </tr>\n",
              "    <tr>\n",
              "      <th>health</th>\n",
              "      <td>0</td>\n",
              "      <td>0</td>\n",
              "      <td>0</td>\n",
              "      <td>2</td>\n",
              "      <td>0</td>\n",
              "      <td>0</td>\n",
              "      <td>0</td>\n",
              "      <td>0</td>\n",
              "      <td>0</td>\n",
              "      <td>0</td>\n",
              "      <td>0</td>\n",
              "      <td>0</td>\n",
              "      <td>0</td>\n",
              "      <td>0</td>\n",
              "    </tr>\n",
              "    <tr>\n",
              "      <th>tourism</th>\n",
              "      <td>0</td>\n",
              "      <td>0</td>\n",
              "      <td>0</td>\n",
              "      <td>0</td>\n",
              "      <td>2</td>\n",
              "      <td>0</td>\n",
              "      <td>0</td>\n",
              "      <td>0</td>\n",
              "      <td>0</td>\n",
              "      <td>0</td>\n",
              "      <td>0</td>\n",
              "      <td>0</td>\n",
              "      <td>0</td>\n",
              "      <td>0</td>\n",
              "    </tr>\n",
              "    <tr>\n",
              "      <th>entertainment</th>\n",
              "      <td>0</td>\n",
              "      <td>0</td>\n",
              "      <td>0</td>\n",
              "      <td>0</td>\n",
              "      <td>0</td>\n",
              "      <td>1</td>\n",
              "      <td>0</td>\n",
              "      <td>0</td>\n",
              "      <td>0</td>\n",
              "      <td>0</td>\n",
              "      <td>0</td>\n",
              "      <td>0</td>\n",
              "      <td>0</td>\n",
              "      <td>0</td>\n",
              "    </tr>\n",
              "    <tr>\n",
              "      <th>culture</th>\n",
              "      <td>0</td>\n",
              "      <td>0</td>\n",
              "      <td>0</td>\n",
              "      <td>0</td>\n",
              "      <td>0</td>\n",
              "      <td>0</td>\n",
              "      <td>2</td>\n",
              "      <td>0</td>\n",
              "      <td>0</td>\n",
              "      <td>0</td>\n",
              "      <td>0</td>\n",
              "      <td>0</td>\n",
              "      <td>0</td>\n",
              "      <td>0</td>\n",
              "    </tr>\n",
              "    <tr>\n",
              "      <th>music</th>\n",
              "      <td>0</td>\n",
              "      <td>0</td>\n",
              "      <td>0</td>\n",
              "      <td>0</td>\n",
              "      <td>0</td>\n",
              "      <td>0</td>\n",
              "      <td>0</td>\n",
              "      <td>2</td>\n",
              "      <td>0</td>\n",
              "      <td>0</td>\n",
              "      <td>0</td>\n",
              "      <td>0</td>\n",
              "      <td>0</td>\n",
              "      <td>0</td>\n",
              "    </tr>\n",
              "    <tr>\n",
              "      <th>education</th>\n",
              "      <td>0</td>\n",
              "      <td>0</td>\n",
              "      <td>0</td>\n",
              "      <td>0</td>\n",
              "      <td>0</td>\n",
              "      <td>0</td>\n",
              "      <td>0</td>\n",
              "      <td>0</td>\n",
              "      <td>2</td>\n",
              "      <td>0</td>\n",
              "      <td>0</td>\n",
              "      <td>0</td>\n",
              "      <td>0</td>\n",
              "      <td>0</td>\n",
              "    </tr>\n",
              "    <tr>\n",
              "      <th>real estate</th>\n",
              "      <td>0</td>\n",
              "      <td>0</td>\n",
              "      <td>0</td>\n",
              "      <td>0</td>\n",
              "      <td>0</td>\n",
              "      <td>0</td>\n",
              "      <td>0</td>\n",
              "      <td>0</td>\n",
              "      <td>0</td>\n",
              "      <td>2</td>\n",
              "      <td>0</td>\n",
              "      <td>0</td>\n",
              "      <td>0</td>\n",
              "      <td>0</td>\n",
              "    </tr>\n",
              "    <tr>\n",
              "      <th>nutrition</th>\n",
              "      <td>0</td>\n",
              "      <td>0</td>\n",
              "      <td>0</td>\n",
              "      <td>0</td>\n",
              "      <td>0</td>\n",
              "      <td>0</td>\n",
              "      <td>0</td>\n",
              "      <td>0</td>\n",
              "      <td>0</td>\n",
              "      <td>0</td>\n",
              "      <td>1</td>\n",
              "      <td>0</td>\n",
              "      <td>0</td>\n",
              "      <td>1</td>\n",
              "    </tr>\n",
              "    <tr>\n",
              "      <th>science</th>\n",
              "      <td>0</td>\n",
              "      <td>0</td>\n",
              "      <td>0</td>\n",
              "      <td>0</td>\n",
              "      <td>0</td>\n",
              "      <td>0</td>\n",
              "      <td>0</td>\n",
              "      <td>0</td>\n",
              "      <td>0</td>\n",
              "      <td>0</td>\n",
              "      <td>0</td>\n",
              "      <td>2</td>\n",
              "      <td>0</td>\n",
              "      <td>0</td>\n",
              "    </tr>\n",
              "    <tr>\n",
              "      <th>history</th>\n",
              "      <td>0</td>\n",
              "      <td>0</td>\n",
              "      <td>0</td>\n",
              "      <td>0</td>\n",
              "      <td>0</td>\n",
              "      <td>0</td>\n",
              "      <td>1</td>\n",
              "      <td>0</td>\n",
              "      <td>0</td>\n",
              "      <td>0</td>\n",
              "      <td>0</td>\n",
              "      <td>0</td>\n",
              "      <td>1</td>\n",
              "      <td>0</td>\n",
              "    </tr>\n",
              "    <tr>\n",
              "      <th>technology</th>\n",
              "      <td>0</td>\n",
              "      <td>0</td>\n",
              "      <td>0</td>\n",
              "      <td>0</td>\n",
              "      <td>1</td>\n",
              "      <td>0</td>\n",
              "      <td>0</td>\n",
              "      <td>0</td>\n",
              "      <td>0</td>\n",
              "      <td>0</td>\n",
              "      <td>0</td>\n",
              "      <td>1</td>\n",
              "      <td>0</td>\n",
              "      <td>0</td>\n",
              "    </tr>\n",
              "  </tbody>\n",
              "</table>\n",
              "</div>\n",
              "      <button class=\"colab-df-convert\" onclick=\"convertToInteractive('df-ade4ca3c-851f-41d8-8fb4-d9abe8c521e8')\"\n",
              "              title=\"Convert this dataframe to an interactive table.\"\n",
              "              style=\"display:none;\">\n",
              "        \n",
              "  <svg xmlns=\"http://www.w3.org/2000/svg\" height=\"24px\"viewBox=\"0 0 24 24\"\n",
              "       width=\"24px\">\n",
              "    <path d=\"M0 0h24v24H0V0z\" fill=\"none\"/>\n",
              "    <path d=\"M18.56 5.44l.94 2.06.94-2.06 2.06-.94-2.06-.94-.94-2.06-.94 2.06-2.06.94zm-11 1L8.5 8.5l.94-2.06 2.06-.94-2.06-.94L8.5 2.5l-.94 2.06-2.06.94zm10 10l.94 2.06.94-2.06 2.06-.94-2.06-.94-.94-2.06-.94 2.06-2.06.94z\"/><path d=\"M17.41 7.96l-1.37-1.37c-.4-.4-.92-.59-1.43-.59-.52 0-1.04.2-1.43.59L10.3 9.45l-7.72 7.72c-.78.78-.78 2.05 0 2.83L4 21.41c.39.39.9.59 1.41.59.51 0 1.02-.2 1.41-.59l7.78-7.78 2.81-2.81c.8-.78.8-2.07 0-2.86zM5.41 20L4 18.59l7.72-7.72 1.47 1.35L5.41 20z\"/>\n",
              "  </svg>\n",
              "      </button>\n",
              "      \n",
              "  <style>\n",
              "    .colab-df-container {\n",
              "      display:flex;\n",
              "      flex-wrap:wrap;\n",
              "      gap: 12px;\n",
              "    }\n",
              "\n",
              "    .colab-df-convert {\n",
              "      background-color: #E8F0FE;\n",
              "      border: none;\n",
              "      border-radius: 50%;\n",
              "      cursor: pointer;\n",
              "      display: none;\n",
              "      fill: #1967D2;\n",
              "      height: 32px;\n",
              "      padding: 0 0 0 0;\n",
              "      width: 32px;\n",
              "    }\n",
              "\n",
              "    .colab-df-convert:hover {\n",
              "      background-color: #E2EBFA;\n",
              "      box-shadow: 0px 1px 2px rgba(60, 64, 67, 0.3), 0px 1px 3px 1px rgba(60, 64, 67, 0.15);\n",
              "      fill: #174EA6;\n",
              "    }\n",
              "\n",
              "    [theme=dark] .colab-df-convert {\n",
              "      background-color: #3B4455;\n",
              "      fill: #D2E3FC;\n",
              "    }\n",
              "\n",
              "    [theme=dark] .colab-df-convert:hover {\n",
              "      background-color: #434B5C;\n",
              "      box-shadow: 0px 1px 3px 1px rgba(0, 0, 0, 0.15);\n",
              "      filter: drop-shadow(0px 1px 2px rgba(0, 0, 0, 0.3));\n",
              "      fill: #FFFFFF;\n",
              "    }\n",
              "  </style>\n",
              "\n",
              "      <script>\n",
              "        const buttonEl =\n",
              "          document.querySelector('#df-ade4ca3c-851f-41d8-8fb4-d9abe8c521e8 button.colab-df-convert');\n",
              "        buttonEl.style.display =\n",
              "          google.colab.kernel.accessAllowed ? 'block' : 'none';\n",
              "\n",
              "        async function convertToInteractive(key) {\n",
              "          const element = document.querySelector('#df-ade4ca3c-851f-41d8-8fb4-d9abe8c521e8');\n",
              "          const dataTable =\n",
              "            await google.colab.kernel.invokeFunction('convertToInteractive',\n",
              "                                                     [key], {});\n",
              "          if (!dataTable) return;\n",
              "\n",
              "          const docLinkHtml = 'Like what you see? Visit the ' +\n",
              "            '<a target=\"_blank\" href=https://colab.research.google.com/notebooks/data_table.ipynb>data table notebook</a>'\n",
              "            + ' to learn more about interactive tables.';\n",
              "          element.innerHTML = '';\n",
              "          dataTable['output_type'] = 'display_data';\n",
              "          await google.colab.output.renderOutput(dataTable, element);\n",
              "          const docLink = document.createElement('div');\n",
              "          docLink.innerHTML = docLinkHtml;\n",
              "          element.appendChild(docLink);\n",
              "        }\n",
              "      </script>\n",
              "    </div>\n",
              "  </div>\n",
              "  "
            ]
          },
          "metadata": {},
          "execution_count": 118
        }
      ],
      "source": [
        "cm = pd.DataFrame(metrics.confusion_matrix(y_test, y_test_predicted_l), columns=df['class'].unique(), index=df['class'].unique())\n",
        "cm"
      ]
    },
    {
      "cell_type": "code",
      "execution_count": 119,
      "id": "3bce5577",
      "metadata": {
        "colab": {
          "base_uri": "https://localhost:8080/"
        },
        "id": "3bce5577",
        "outputId": "b85ce4d4-aa25-42fd-8f02-949a1b1738f8"
      },
      "outputs": [
        {
          "output_type": "stream",
          "name": "stdout",
          "text": [
            "              precision    recall  f1-score   support\n",
            "\n",
            "           0       1.00      1.00      1.00         2\n",
            "           1       1.00      1.00      1.00         1\n",
            "           2       1.00      1.00      1.00         2\n",
            "           3       1.00      1.00      1.00         2\n",
            "           4       0.67      1.00      0.80         2\n",
            "           5       1.00      1.00      1.00         1\n",
            "           6       0.67      1.00      0.80         2\n",
            "           7       1.00      1.00      1.00         2\n",
            "           8       1.00      1.00      1.00         2\n",
            "           9       1.00      1.00      1.00         2\n",
            "          10       1.00      0.50      0.67         2\n",
            "          11       0.67      1.00      0.80         2\n",
            "          12       1.00      0.50      0.67         2\n",
            "          13       0.00      0.00      0.00         2\n",
            "\n",
            "    accuracy                           0.85        26\n",
            "   macro avg       0.86      0.86      0.84        26\n",
            "weighted avg       0.85      0.85      0.83        26\n",
            "\n"
          ]
        }
      ],
      "source": [
        "print(metrics.classification_report(y_test, y_test_predicted_l))"
      ]
    },
    {
      "cell_type": "code",
      "execution_count": 120,
      "id": "a04fe762",
      "metadata": {
        "colab": {
          "base_uri": "https://localhost:8080/"
        },
        "id": "a04fe762",
        "outputId": "dd7deadc-5aad-4e3b-9774-e63727a909ae"
      },
      "outputs": [
        {
          "output_type": "execute_result",
          "data": {
            "text/plain": [
              "0.838095238095238"
            ]
          },
          "metadata": {},
          "execution_count": 120
        }
      ],
      "source": [
        "metrics.f1_score(y_test, y_test_predicted_l, average='macro')"
      ]
    },
    {
      "cell_type": "code",
      "execution_count": 121,
      "id": "1a54f918",
      "metadata": {
        "id": "1a54f918"
      },
      "outputs": [],
      "source": [
        "count_vectorizer_s = feature_extraction.text.TfidfVectorizer(tokenizer=my_stemmer)"
      ]
    },
    {
      "cell_type": "code",
      "execution_count": 122,
      "id": "86a190e9",
      "metadata": {
        "colab": {
          "base_uri": "https://localhost:8080/"
        },
        "id": "86a190e9",
        "outputId": "1f8c933e-659e-4a16-f664-20986c6ba885"
      },
      "outputs": [
        {
          "output_type": "stream",
          "name": "stderr",
          "text": [
            "/usr/local/lib/python3.7/dist-packages/sklearn/feature_extraction/text.py:517: UserWarning: The parameter 'token_pattern' will not be used since 'tokenizer' is not None'\n",
            "  \"The parameter 'token_pattern' will not be used\"\n"
          ]
        },
        {
          "output_type": "execute_result",
          "data": {
            "text/plain": [
              "TfidfVectorizer(tokenizer=<function my_stemmer at 0x7fa9f7477ef0>)"
            ]
          },
          "metadata": {},
          "execution_count": 122
        }
      ],
      "source": [
        "count_vectorizer_s.fit(x_train)"
      ]
    },
    {
      "cell_type": "code",
      "execution_count": 123,
      "id": "a8c86caa",
      "metadata": {
        "id": "a8c86caa"
      },
      "outputs": [],
      "source": [
        "x_train_s_tfidf = count_vectorizer_s.transform(x_train)\n",
        "x_test_s_tfidf = count_vectorizer_s.transform(x_test)"
      ]
    },
    {
      "cell_type": "code",
      "execution_count": 124,
      "id": "cd743b19",
      "metadata": {
        "id": "cd743b19"
      },
      "outputs": [],
      "source": [
        "model = svm.LinearSVC(max_iter=100000)"
      ]
    },
    {
      "cell_type": "code",
      "execution_count": 125,
      "id": "daf761f6",
      "metadata": {
        "id": "daf761f6"
      },
      "outputs": [],
      "source": [
        "model_s = multiclass.OneVsRestClassifier(model)"
      ]
    },
    {
      "cell_type": "code",
      "execution_count": 126,
      "id": "7a426645",
      "metadata": {
        "colab": {
          "base_uri": "https://localhost:8080/"
        },
        "id": "7a426645",
        "outputId": "d44799a9-4bdb-4dcf-fff2-88535c5c027a"
      },
      "outputs": [
        {
          "output_type": "execute_result",
          "data": {
            "text/plain": [
              "OneVsRestClassifier(estimator=LinearSVC(max_iter=100000))"
            ]
          },
          "metadata": {},
          "execution_count": 126
        }
      ],
      "source": [
        "model_s.fit(x_train_s_tfidf, y_train)"
      ]
    },
    {
      "cell_type": "code",
      "execution_count": 127,
      "id": "21add4a0",
      "metadata": {
        "id": "21add4a0"
      },
      "outputs": [],
      "source": [
        "y_test_predicted_s = model_s.predict(x_test_s_tfidf)"
      ]
    },
    {
      "cell_type": "code",
      "execution_count": 128,
      "id": "b712c4bf",
      "metadata": {
        "colab": {
          "base_uri": "https://localhost:8080/",
          "height": 570
        },
        "id": "b712c4bf",
        "outputId": "3c757659-7f03-4e7c-c1d4-60f33a0a0dd4"
      },
      "outputs": [
        {
          "output_type": "execute_result",
          "data": {
            "text/plain": [
              "               sport  economy  politics  health  tourism  entertainment  \\\n",
              "sport              2        0         0       0        0              0   \n",
              "economy            0        1         0       0        0              0   \n",
              "politics           0        0         2       0        0              0   \n",
              "health             0        0         0       2        0              0   \n",
              "tourism            0        0         0       0        2              0   \n",
              "entertainment      0        0         0       0        0              1   \n",
              "culture            0        0         0       0        0              0   \n",
              "music              0        0         0       0        0              0   \n",
              "education          0        0         0       0        0              0   \n",
              "real estate        0        0         0       0        0              0   \n",
              "nutrition          0        0         0       0        0              0   \n",
              "science            0        0         0       0        0              0   \n",
              "history            0        0         0       0        0              0   \n",
              "technology         0        0         0       0        0              0   \n",
              "\n",
              "               culture  music  education  real estate  nutrition  science  \\\n",
              "sport                0      0          0            0          0        0   \n",
              "economy              0      0          0            0          0        0   \n",
              "politics             0      0          0            0          0        0   \n",
              "health               0      0          0            0          0        0   \n",
              "tourism              0      0          0            0          0        0   \n",
              "entertainment        0      0          0            0          0        0   \n",
              "culture              2      0          0            0          0        0   \n",
              "music                0      2          0            0          0        0   \n",
              "education            0      0          2            0          0        0   \n",
              "real estate          0      0          0            2          0        0   \n",
              "nutrition            0      0          0            0          1        0   \n",
              "science              0      0          0            0          0        2   \n",
              "history              1      0          0            0          0        0   \n",
              "technology           0      0          0            0          0        1   \n",
              "\n",
              "               history  technology  \n",
              "sport                0           0  \n",
              "economy              0           0  \n",
              "politics             0           0  \n",
              "health               0           0  \n",
              "tourism              0           0  \n",
              "entertainment        0           0  \n",
              "culture              0           0  \n",
              "music                0           0  \n",
              "education            0           0  \n",
              "real estate          0           0  \n",
              "nutrition            0           1  \n",
              "science              0           0  \n",
              "history              1           0  \n",
              "technology           0           1  "
            ],
            "text/html": [
              "\n",
              "  <div id=\"df-22d3e9f5-079f-434b-acdf-4622c7396a92\">\n",
              "    <div class=\"colab-df-container\">\n",
              "      <div>\n",
              "<style scoped>\n",
              "    .dataframe tbody tr th:only-of-type {\n",
              "        vertical-align: middle;\n",
              "    }\n",
              "\n",
              "    .dataframe tbody tr th {\n",
              "        vertical-align: top;\n",
              "    }\n",
              "\n",
              "    .dataframe thead th {\n",
              "        text-align: right;\n",
              "    }\n",
              "</style>\n",
              "<table border=\"1\" class=\"dataframe\">\n",
              "  <thead>\n",
              "    <tr style=\"text-align: right;\">\n",
              "      <th></th>\n",
              "      <th>sport</th>\n",
              "      <th>economy</th>\n",
              "      <th>politics</th>\n",
              "      <th>health</th>\n",
              "      <th>tourism</th>\n",
              "      <th>entertainment</th>\n",
              "      <th>culture</th>\n",
              "      <th>music</th>\n",
              "      <th>education</th>\n",
              "      <th>real estate</th>\n",
              "      <th>nutrition</th>\n",
              "      <th>science</th>\n",
              "      <th>history</th>\n",
              "      <th>technology</th>\n",
              "    </tr>\n",
              "  </thead>\n",
              "  <tbody>\n",
              "    <tr>\n",
              "      <th>sport</th>\n",
              "      <td>2</td>\n",
              "      <td>0</td>\n",
              "      <td>0</td>\n",
              "      <td>0</td>\n",
              "      <td>0</td>\n",
              "      <td>0</td>\n",
              "      <td>0</td>\n",
              "      <td>0</td>\n",
              "      <td>0</td>\n",
              "      <td>0</td>\n",
              "      <td>0</td>\n",
              "      <td>0</td>\n",
              "      <td>0</td>\n",
              "      <td>0</td>\n",
              "    </tr>\n",
              "    <tr>\n",
              "      <th>economy</th>\n",
              "      <td>0</td>\n",
              "      <td>1</td>\n",
              "      <td>0</td>\n",
              "      <td>0</td>\n",
              "      <td>0</td>\n",
              "      <td>0</td>\n",
              "      <td>0</td>\n",
              "      <td>0</td>\n",
              "      <td>0</td>\n",
              "      <td>0</td>\n",
              "      <td>0</td>\n",
              "      <td>0</td>\n",
              "      <td>0</td>\n",
              "      <td>0</td>\n",
              "    </tr>\n",
              "    <tr>\n",
              "      <th>politics</th>\n",
              "      <td>0</td>\n",
              "      <td>0</td>\n",
              "      <td>2</td>\n",
              "      <td>0</td>\n",
              "      <td>0</td>\n",
              "      <td>0</td>\n",
              "      <td>0</td>\n",
              "      <td>0</td>\n",
              "      <td>0</td>\n",
              "      <td>0</td>\n",
              "      <td>0</td>\n",
              "      <td>0</td>\n",
              "      <td>0</td>\n",
              "      <td>0</td>\n",
              "    </tr>\n",
              "    <tr>\n",
              "      <th>health</th>\n",
              "      <td>0</td>\n",
              "      <td>0</td>\n",
              "      <td>0</td>\n",
              "      <td>2</td>\n",
              "      <td>0</td>\n",
              "      <td>0</td>\n",
              "      <td>0</td>\n",
              "      <td>0</td>\n",
              "      <td>0</td>\n",
              "      <td>0</td>\n",
              "      <td>0</td>\n",
              "      <td>0</td>\n",
              "      <td>0</td>\n",
              "      <td>0</td>\n",
              "    </tr>\n",
              "    <tr>\n",
              "      <th>tourism</th>\n",
              "      <td>0</td>\n",
              "      <td>0</td>\n",
              "      <td>0</td>\n",
              "      <td>0</td>\n",
              "      <td>2</td>\n",
              "      <td>0</td>\n",
              "      <td>0</td>\n",
              "      <td>0</td>\n",
              "      <td>0</td>\n",
              "      <td>0</td>\n",
              "      <td>0</td>\n",
              "      <td>0</td>\n",
              "      <td>0</td>\n",
              "      <td>0</td>\n",
              "    </tr>\n",
              "    <tr>\n",
              "      <th>entertainment</th>\n",
              "      <td>0</td>\n",
              "      <td>0</td>\n",
              "      <td>0</td>\n",
              "      <td>0</td>\n",
              "      <td>0</td>\n",
              "      <td>1</td>\n",
              "      <td>0</td>\n",
              "      <td>0</td>\n",
              "      <td>0</td>\n",
              "      <td>0</td>\n",
              "      <td>0</td>\n",
              "      <td>0</td>\n",
              "      <td>0</td>\n",
              "      <td>0</td>\n",
              "    </tr>\n",
              "    <tr>\n",
              "      <th>culture</th>\n",
              "      <td>0</td>\n",
              "      <td>0</td>\n",
              "      <td>0</td>\n",
              "      <td>0</td>\n",
              "      <td>0</td>\n",
              "      <td>0</td>\n",
              "      <td>2</td>\n",
              "      <td>0</td>\n",
              "      <td>0</td>\n",
              "      <td>0</td>\n",
              "      <td>0</td>\n",
              "      <td>0</td>\n",
              "      <td>0</td>\n",
              "      <td>0</td>\n",
              "    </tr>\n",
              "    <tr>\n",
              "      <th>music</th>\n",
              "      <td>0</td>\n",
              "      <td>0</td>\n",
              "      <td>0</td>\n",
              "      <td>0</td>\n",
              "      <td>0</td>\n",
              "      <td>0</td>\n",
              "      <td>0</td>\n",
              "      <td>2</td>\n",
              "      <td>0</td>\n",
              "      <td>0</td>\n",
              "      <td>0</td>\n",
              "      <td>0</td>\n",
              "      <td>0</td>\n",
              "      <td>0</td>\n",
              "    </tr>\n",
              "    <tr>\n",
              "      <th>education</th>\n",
              "      <td>0</td>\n",
              "      <td>0</td>\n",
              "      <td>0</td>\n",
              "      <td>0</td>\n",
              "      <td>0</td>\n",
              "      <td>0</td>\n",
              "      <td>0</td>\n",
              "      <td>0</td>\n",
              "      <td>2</td>\n",
              "      <td>0</td>\n",
              "      <td>0</td>\n",
              "      <td>0</td>\n",
              "      <td>0</td>\n",
              "      <td>0</td>\n",
              "    </tr>\n",
              "    <tr>\n",
              "      <th>real estate</th>\n",
              "      <td>0</td>\n",
              "      <td>0</td>\n",
              "      <td>0</td>\n",
              "      <td>0</td>\n",
              "      <td>0</td>\n",
              "      <td>0</td>\n",
              "      <td>0</td>\n",
              "      <td>0</td>\n",
              "      <td>0</td>\n",
              "      <td>2</td>\n",
              "      <td>0</td>\n",
              "      <td>0</td>\n",
              "      <td>0</td>\n",
              "      <td>0</td>\n",
              "    </tr>\n",
              "    <tr>\n",
              "      <th>nutrition</th>\n",
              "      <td>0</td>\n",
              "      <td>0</td>\n",
              "      <td>0</td>\n",
              "      <td>0</td>\n",
              "      <td>0</td>\n",
              "      <td>0</td>\n",
              "      <td>0</td>\n",
              "      <td>0</td>\n",
              "      <td>0</td>\n",
              "      <td>0</td>\n",
              "      <td>1</td>\n",
              "      <td>0</td>\n",
              "      <td>0</td>\n",
              "      <td>1</td>\n",
              "    </tr>\n",
              "    <tr>\n",
              "      <th>science</th>\n",
              "      <td>0</td>\n",
              "      <td>0</td>\n",
              "      <td>0</td>\n",
              "      <td>0</td>\n",
              "      <td>0</td>\n",
              "      <td>0</td>\n",
              "      <td>0</td>\n",
              "      <td>0</td>\n",
              "      <td>0</td>\n",
              "      <td>0</td>\n",
              "      <td>0</td>\n",
              "      <td>2</td>\n",
              "      <td>0</td>\n",
              "      <td>0</td>\n",
              "    </tr>\n",
              "    <tr>\n",
              "      <th>history</th>\n",
              "      <td>0</td>\n",
              "      <td>0</td>\n",
              "      <td>0</td>\n",
              "      <td>0</td>\n",
              "      <td>0</td>\n",
              "      <td>0</td>\n",
              "      <td>1</td>\n",
              "      <td>0</td>\n",
              "      <td>0</td>\n",
              "      <td>0</td>\n",
              "      <td>0</td>\n",
              "      <td>0</td>\n",
              "      <td>1</td>\n",
              "      <td>0</td>\n",
              "    </tr>\n",
              "    <tr>\n",
              "      <th>technology</th>\n",
              "      <td>0</td>\n",
              "      <td>0</td>\n",
              "      <td>0</td>\n",
              "      <td>0</td>\n",
              "      <td>0</td>\n",
              "      <td>0</td>\n",
              "      <td>0</td>\n",
              "      <td>0</td>\n",
              "      <td>0</td>\n",
              "      <td>0</td>\n",
              "      <td>0</td>\n",
              "      <td>1</td>\n",
              "      <td>0</td>\n",
              "      <td>1</td>\n",
              "    </tr>\n",
              "  </tbody>\n",
              "</table>\n",
              "</div>\n",
              "      <button class=\"colab-df-convert\" onclick=\"convertToInteractive('df-22d3e9f5-079f-434b-acdf-4622c7396a92')\"\n",
              "              title=\"Convert this dataframe to an interactive table.\"\n",
              "              style=\"display:none;\">\n",
              "        \n",
              "  <svg xmlns=\"http://www.w3.org/2000/svg\" height=\"24px\"viewBox=\"0 0 24 24\"\n",
              "       width=\"24px\">\n",
              "    <path d=\"M0 0h24v24H0V0z\" fill=\"none\"/>\n",
              "    <path d=\"M18.56 5.44l.94 2.06.94-2.06 2.06-.94-2.06-.94-.94-2.06-.94 2.06-2.06.94zm-11 1L8.5 8.5l.94-2.06 2.06-.94-2.06-.94L8.5 2.5l-.94 2.06-2.06.94zm10 10l.94 2.06.94-2.06 2.06-.94-2.06-.94-.94-2.06-.94 2.06-2.06.94z\"/><path d=\"M17.41 7.96l-1.37-1.37c-.4-.4-.92-.59-1.43-.59-.52 0-1.04.2-1.43.59L10.3 9.45l-7.72 7.72c-.78.78-.78 2.05 0 2.83L4 21.41c.39.39.9.59 1.41.59.51 0 1.02-.2 1.41-.59l7.78-7.78 2.81-2.81c.8-.78.8-2.07 0-2.86zM5.41 20L4 18.59l7.72-7.72 1.47 1.35L5.41 20z\"/>\n",
              "  </svg>\n",
              "      </button>\n",
              "      \n",
              "  <style>\n",
              "    .colab-df-container {\n",
              "      display:flex;\n",
              "      flex-wrap:wrap;\n",
              "      gap: 12px;\n",
              "    }\n",
              "\n",
              "    .colab-df-convert {\n",
              "      background-color: #E8F0FE;\n",
              "      border: none;\n",
              "      border-radius: 50%;\n",
              "      cursor: pointer;\n",
              "      display: none;\n",
              "      fill: #1967D2;\n",
              "      height: 32px;\n",
              "      padding: 0 0 0 0;\n",
              "      width: 32px;\n",
              "    }\n",
              "\n",
              "    .colab-df-convert:hover {\n",
              "      background-color: #E2EBFA;\n",
              "      box-shadow: 0px 1px 2px rgba(60, 64, 67, 0.3), 0px 1px 3px 1px rgba(60, 64, 67, 0.15);\n",
              "      fill: #174EA6;\n",
              "    }\n",
              "\n",
              "    [theme=dark] .colab-df-convert {\n",
              "      background-color: #3B4455;\n",
              "      fill: #D2E3FC;\n",
              "    }\n",
              "\n",
              "    [theme=dark] .colab-df-convert:hover {\n",
              "      background-color: #434B5C;\n",
              "      box-shadow: 0px 1px 3px 1px rgba(0, 0, 0, 0.15);\n",
              "      filter: drop-shadow(0px 1px 2px rgba(0, 0, 0, 0.3));\n",
              "      fill: #FFFFFF;\n",
              "    }\n",
              "  </style>\n",
              "\n",
              "      <script>\n",
              "        const buttonEl =\n",
              "          document.querySelector('#df-22d3e9f5-079f-434b-acdf-4622c7396a92 button.colab-df-convert');\n",
              "        buttonEl.style.display =\n",
              "          google.colab.kernel.accessAllowed ? 'block' : 'none';\n",
              "\n",
              "        async function convertToInteractive(key) {\n",
              "          const element = document.querySelector('#df-22d3e9f5-079f-434b-acdf-4622c7396a92');\n",
              "          const dataTable =\n",
              "            await google.colab.kernel.invokeFunction('convertToInteractive',\n",
              "                                                     [key], {});\n",
              "          if (!dataTable) return;\n",
              "\n",
              "          const docLinkHtml = 'Like what you see? Visit the ' +\n",
              "            '<a target=\"_blank\" href=https://colab.research.google.com/notebooks/data_table.ipynb>data table notebook</a>'\n",
              "            + ' to learn more about interactive tables.';\n",
              "          element.innerHTML = '';\n",
              "          dataTable['output_type'] = 'display_data';\n",
              "          await google.colab.output.renderOutput(dataTable, element);\n",
              "          const docLink = document.createElement('div');\n",
              "          docLink.innerHTML = docLinkHtml;\n",
              "          element.appendChild(docLink);\n",
              "        }\n",
              "      </script>\n",
              "    </div>\n",
              "  </div>\n",
              "  "
            ]
          },
          "metadata": {},
          "execution_count": 128
        }
      ],
      "source": [
        "cm = pd.DataFrame(metrics.confusion_matrix(y_test, y_test_predicted_s), columns=df['class'].unique(), index=df['class'].unique())\n",
        "cm"
      ]
    },
    {
      "cell_type": "code",
      "execution_count": 129,
      "id": "a0d3df4c",
      "metadata": {
        "colab": {
          "base_uri": "https://localhost:8080/"
        },
        "id": "a0d3df4c",
        "outputId": "01e2037f-e98c-4f58-9cbc-a9206ea9328f"
      },
      "outputs": [
        {
          "output_type": "stream",
          "name": "stdout",
          "text": [
            "              precision    recall  f1-score   support\n",
            "\n",
            "           0       1.00      1.00      1.00         2\n",
            "           1       1.00      1.00      1.00         1\n",
            "           2       1.00      1.00      1.00         2\n",
            "           3       1.00      1.00      1.00         2\n",
            "           4       1.00      1.00      1.00         2\n",
            "           5       1.00      1.00      1.00         1\n",
            "           6       0.67      1.00      0.80         2\n",
            "           7       1.00      1.00      1.00         2\n",
            "           8       1.00      1.00      1.00         2\n",
            "           9       1.00      1.00      1.00         2\n",
            "          10       1.00      0.50      0.67         2\n",
            "          11       0.67      1.00      0.80         2\n",
            "          12       1.00      0.50      0.67         2\n",
            "          13       0.50      0.50      0.50         2\n",
            "\n",
            "    accuracy                           0.88        26\n",
            "   macro avg       0.92      0.89      0.89        26\n",
            "weighted avg       0.91      0.88      0.88        26\n",
            "\n"
          ]
        }
      ],
      "source": [
        "print(metrics.classification_report(y_test, y_test_predicted_s))"
      ]
    },
    {
      "cell_type": "code",
      "execution_count": 130,
      "id": "44d6961b",
      "metadata": {
        "colab": {
          "base_uri": "https://localhost:8080/"
        },
        "id": "44d6961b",
        "outputId": "89fe9bec-6d69-4f2f-dd85-7c7b59462fe9"
      },
      "outputs": [
        {
          "output_type": "execute_result",
          "data": {
            "text/plain": [
              "0.8880952380952382"
            ]
          },
          "metadata": {},
          "execution_count": 130
        }
      ],
      "source": [
        "metrics.f1_score(y_test, y_test_predicted_s, average='macro')"
      ]
    },
    {
      "cell_type": "code",
      "execution_count": 131,
      "id": "196afb55",
      "metadata": {
        "id": "196afb55"
      },
      "outputs": [],
      "source": [
        "# !wget https://nlp.stanford.edu/data/glove.6B.zip\n",
        "# !unzip glove.6B.zip"
      ]
    },
    {
      "cell_type": "code",
      "source": [
        "file = open('glove.6B.100d.txt', 'r', encoding='utf-8')\n",
        "lines  = file.readlines()\n",
        "file.close()"
      ],
      "metadata": {
        "id": "QcR9DqzDzWHU"
      },
      "id": "QcR9DqzDzWHU",
      "execution_count": 132,
      "outputs": []
    },
    {
      "cell_type": "code",
      "source": [
        "word_embeddings = {}\n",
        "\n",
        "for line in lines:\n",
        "    strs = line.split()\n",
        "    word = strs[0]\n",
        "    coefs = np.array(strs[1:], dtype='float32')\n",
        "    \n",
        "    word_embeddings[word] = coefs"
      ],
      "metadata": {
        "id": "j41zUv2ZzYiQ"
      },
      "id": "j41zUv2ZzYiQ",
      "execution_count": 133,
      "outputs": []
    },
    {
      "cell_type": "code",
      "source": [
        "x_train"
      ],
      "metadata": {
        "colab": {
          "base_uri": "https://localhost:8080/"
        },
        "id": "AvEFA0Nq3-Az",
        "outputId": "ea109ce0-b89f-4b3a-e076-59dcbf14aeda"
      },
      "id": "AvEFA0Nq3-Az",
      "execution_count": 134,
      "outputs": [
        {
          "output_type": "execute_result",
          "data": {
            "text/plain": [
              "40     caesars entertainment inc eldorado resorts inc...\n",
              "63     physical education abbreviated phys ed pe subj...\n",
              "72     real estate appraisal property valuation land ...\n",
              "89     data science interdisciplinary field uses scie...\n",
              "33     the world tourism rankings compiled united nat...\n",
              "82     holozoic nutrition greek holowhole  zoikosof a...\n",
              "64     sex education known sexual education sexuality...\n",
              "75     nutrition biochemical physiological process or...\n",
              "71     a realestate bubble property bubble or housing...\n",
              "14     politics from greek πολιτικά politiká affairs ...\n",
              "7      squash racket ball sport played players fourwa...\n",
              "53     a music genre conventional category identifies...\n",
              "51     music music music put another nickel in popula...\n",
              "34     tourism geography study travel tourism industr...\n",
              "9      bbc sport sports division bbc providing nation...\n",
              "6      swimming individual team racing sport requires...\n",
              "12     the peoples republic china high income develop...\n",
              "31     the minister tourism head governmental departm...\n",
              "2      sport sport sport russian спорт спорт спорт 19...\n",
              "61     undergraduate education education conducted se...\n",
              "43     western culture known western civilization occ...\n",
              "39     jyp entertainment corporation korean jyp 엔터테인먼...\n",
              "93     google chrome freeware web browser developed g...\n",
              "48     culture club english new wave band formed lond...\n",
              "26     health education profession educating people h...\n",
              "94     ancient history aggregate past events beginnin...\n",
              "67     a real estate agent broker person represents s...\n",
              "103    a technology company or tech company electroni...\n",
              "19     farright politics referred extreme right right...\n",
              "90     science widely referred science magazine peerr...\n",
              "85     computer science study computation automation ...\n",
              "49     a culture minister heritage minister common ca...\n",
              "36     entertainment form activity holds attention in...\n",
              "13     the world economy global economy economy human...\n",
              "0      sport pertains form competitive physical activ...\n",
              "29     space tourism human space travel recreational ...\n",
              "101    tcl technology originally abbreviation telepho...\n",
              "97     technologies artifacts systematic application ...\n",
              "83     science systematic enterprise builds organizes...\n",
              "20     health according world health organization a s...\n",
              "65     the montessori method education system educati...\n",
              "92     human history called world history narrative h...\n",
              "70     real estate economics application economic tec...\n",
              "79     malnutrition occurs organism gets nutrients re...\n",
              "24     the world health organization who specialized ...\n",
              "44     alternative culture type culture exists outsid...\n",
              "80     parenteral nutrition pn feeding nutritional pr...\n",
              "62     education india primarily managed staterun pub...\n",
              "4      sport diving underwater sport uses recreationa...\n",
              "104    agricultural technology agrotechnology abbrevi...\n",
              "87     political science scientific study politics it...\n",
              "73     a real estate investment trust reit company ow...\n",
              "18     leftwing politics describes range political id...\n",
              "52     country also called country western genre popu...\n",
              "46     the culture fictional interstellar postscarcit...\n",
              "22     mental health encompasses emotional psychologi...\n",
              "54     allmusic previously known all music guide amg ...\n",
              "27     tourism travel pleasure business theory practi...\n",
              "Name: clear text, dtype: object"
            ]
          },
          "metadata": {},
          "execution_count": 134
        }
      ]
    },
    {
      "cell_type": "code",
      "source": [
        "dimension = 100\n",
        "# voc_size = 15000 #voditi racuna ovo mora da se povecava kada se poveca broj tekstova\n",
        "voc_size = len(word_embeddings)\n",
        "tokenizer = Tokenizer(num_words=voc_size)\n",
        "tokenizer.fit_on_texts(x_train)\n",
        "word_index = tokenizer.word_index"
      ],
      "metadata": {
        "id": "GQ7ybm7fzaI-"
      },
      "id": "GQ7ybm7fzaI-",
      "execution_count": 135,
      "outputs": []
    },
    {
      "cell_type": "code",
      "source": [
        "num_of_words = min(voc_size, len(word_index))"
      ],
      "metadata": {
        "id": "PNkuS1lfzgB3"
      },
      "id": "PNkuS1lfzgB3",
      "execution_count": 136,
      "outputs": []
    },
    {
      "cell_type": "code",
      "source": [
        "coef_matrix = np.zeros((num_of_words, dimension))\n",
        "\n",
        "for word, ord_num in word_index.items():\n",
        "    if ord_num >= num_of_words:\n",
        "        continue\n",
        "    \n",
        "    embedding_vector = word_embeddings.get(word)\n",
        "    if embedding_vector is not None:\n",
        "        coef_matrix[ord_num] = embedding_vector"
      ],
      "metadata": {
        "id": "eYNpdRmzzicX"
      },
      "id": "eYNpdRmzzicX",
      "execution_count": 137,
      "outputs": []
    },
    {
      "cell_type": "code",
      "source": [
        "# max_len = max([len(i) for i in x_train])\n",
        "max_len = 100"
      ],
      "metadata": {
        "id": "P6mcAAuGzkde"
      },
      "id": "P6mcAAuGzkde",
      "execution_count": 138,
      "outputs": []
    },
    {
      "cell_type": "code",
      "source": [
        "data_len = len(x_train)\n",
        "x_train = x_train.apply(lambda x: [coef_matrix[word_index[word] - 1] for word in x.split(' ') if word in word_index])\n",
        "x_train_glove = sequence.pad_sequences([x for x in x_train], maxlen=max_len, dtype='float16')\n",
        "x_train_glove = x_train_glove.reshape(data_len, max_len * 100).astype('float16')"
      ],
      "metadata": {
        "id": "-O0YRuvTzzT_"
      },
      "id": "-O0YRuvTzzT_",
      "execution_count": 139,
      "outputs": []
    },
    {
      "cell_type": "code",
      "source": [
        "x_train_glove"
      ],
      "metadata": {
        "colab": {
          "base_uri": "https://localhost:8080/"
        },
        "id": "O6EUn8mxz1WP",
        "outputId": "257a1cde-13a2-4f10-d844-e2c590101ca0"
      },
      "id": "O6EUn8mxz1WP",
      "execution_count": 140,
      "outputs": [
        {
          "output_type": "execute_result",
          "data": {
            "text/plain": [
              "array([[ 0.     ,  0.     ,  0.     , ..., -0.872  ,  1.034  ,  0.3826 ],\n",
              "       [ 0.     ,  0.     ,  0.     , ..., -0.1625 ,  0.01245, -0.2854 ],\n",
              "       [ 0.2452 ,  1.02   ,  0.1521 , ..., -0.2163 ,  0.6772 ,  0.434  ],\n",
              "       ...,\n",
              "       [ 0.     ,  0.     ,  0.     , ..., -0.378  ,  0.2668 , -0.9634 ],\n",
              "       [ 0.     ,  0.     ,  0.     , ..., -0.4858 ,  0.903  , -0.665  ],\n",
              "       [ 0.2822 ,  0.2    , -0.6333 , ..., -0.4546 ,  1.533  , -0.28   ]],\n",
              "      dtype=float16)"
            ]
          },
          "metadata": {},
          "execution_count": 140
        }
      ]
    },
    {
      "cell_type": "code",
      "source": [
        "data_len = len(x_test)\n",
        "x_test = x_test.apply(lambda x: [coef_matrix[word_index[word] - 1] for word in x.split(' ') if word in word_index])\n",
        "x_test_glove = sequence.pad_sequences([x for x in x_test], maxlen=max_len, dtype='float16')\n",
        "x_test_glove = x_test_glove.reshape(data_len, max_len * 100).astype('float16')"
      ],
      "metadata": {
        "id": "EEvnJMlZ40CE"
      },
      "id": "EEvnJMlZ40CE",
      "execution_count": 141,
      "outputs": []
    },
    {
      "cell_type": "code",
      "source": [
        "# def convert_to_svm_fromat(text, max_len):\n",
        "#     text = text.apply(lambda x: [coef_matrix[word_index[word] - 1] for word in x.split(' ') if word in word_index])\n",
        "\n",
        "#     x_train_glove = []\n",
        "\n",
        "#     for i in text:\n",
        "#         glove = []\n",
        "#         for j in i:\n",
        "#             glove.extend(j)\n",
        "#         if len(i) < max_len:\n",
        "#             glove.extend(np.zeros((max_len - len(i))*100))\n",
        "#         x_train_glove.append(glove)\n",
        "#     return x_train_glove"
      ],
      "metadata": {
        "id": "mlLSdZ5q43KF"
      },
      "id": "mlLSdZ5q43KF",
      "execution_count": 142,
      "outputs": []
    },
    {
      "cell_type": "code",
      "source": [
        "model = svm.LinearSVC(max_iter=100000)"
      ],
      "metadata": {
        "id": "sA051mpB5CW1"
      },
      "id": "sA051mpB5CW1",
      "execution_count": 143,
      "outputs": []
    },
    {
      "cell_type": "code",
      "source": [
        "model_g = multiclass.OneVsRestClassifier(model)"
      ],
      "metadata": {
        "id": "HiCnL3SM5Slt"
      },
      "id": "HiCnL3SM5Slt",
      "execution_count": 144,
      "outputs": []
    },
    {
      "cell_type": "code",
      "source": [
        "model_g.fit(x_train_glove, y_train)"
      ],
      "metadata": {
        "colab": {
          "base_uri": "https://localhost:8080/"
        },
        "id": "q4TyKYYN5W5E",
        "outputId": "9b7a6d51-3d16-42c3-a32d-d308684e73eb"
      },
      "id": "q4TyKYYN5W5E",
      "execution_count": 145,
      "outputs": [
        {
          "output_type": "execute_result",
          "data": {
            "text/plain": [
              "OneVsRestClassifier(estimator=LinearSVC(max_iter=100000))"
            ]
          },
          "metadata": {},
          "execution_count": 145
        }
      ]
    },
    {
      "cell_type": "code",
      "source": [
        "y_test_predicted_g = model_g.predict(x_test_glove)"
      ],
      "metadata": {
        "id": "CnoxjV0X5Zhk"
      },
      "id": "CnoxjV0X5Zhk",
      "execution_count": 146,
      "outputs": []
    },
    {
      "cell_type": "code",
      "source": [
        "cm = pd.DataFrame(metrics.confusion_matrix(y_test, y_test_predicted_g), columns=df['class'].unique(), index=df['class'].unique())\n",
        "cm"
      ],
      "metadata": {
        "colab": {
          "base_uri": "https://localhost:8080/",
          "height": 570
        },
        "id": "mzCUhi-s5d99",
        "outputId": "a111ba23-c8ab-4061-f734-e133fdb092bc"
      },
      "id": "mzCUhi-s5d99",
      "execution_count": 147,
      "outputs": [
        {
          "output_type": "execute_result",
          "data": {
            "text/plain": [
              "               sport  economy  politics  health  tourism  entertainment  \\\n",
              "sport              1        0         0       0        0              0   \n",
              "economy            0        0         0       0        0              0   \n",
              "politics           0        0         0       0        1              0   \n",
              "health             0        0         0       0        0              0   \n",
              "tourism            0        0         0       0        0              0   \n",
              "entertainment      1        0         0       0        0              0   \n",
              "culture            1        0         0       0        0              0   \n",
              "music              0        0         0       0        1              0   \n",
              "education          0        0         0       0        0              0   \n",
              "real estate        0        0         0       0        0              0   \n",
              "nutrition          1        0         0       0        0              0   \n",
              "science            1        0         0       0        0              0   \n",
              "history            1        0         0       0        0              0   \n",
              "technology         0        0         0       1        0              0   \n",
              "\n",
              "               culture  music  education  real estate  nutrition  science  \\\n",
              "sport                0      0          0            0          0        1   \n",
              "economy              0      0          0            1          0        0   \n",
              "politics             0      0          1            0          0        0   \n",
              "health               0      0          0            0          0        1   \n",
              "tourism              0      2          0            0          0        0   \n",
              "entertainment        0      0          0            0          0        0   \n",
              "culture              1      0          0            0          0        0   \n",
              "music                0      1          0            0          0        0   \n",
              "education            0      1          1            0          0        0   \n",
              "real estate          0      0          0            0          0        0   \n",
              "nutrition            0      0          0            0          0        0   \n",
              "science              0      0          0            0          0        1   \n",
              "history              0      0          1            0          0        0   \n",
              "technology           0      0          0            1          0        0   \n",
              "\n",
              "               history  technology  \n",
              "sport                0           0  \n",
              "economy              0           0  \n",
              "politics             0           0  \n",
              "health               0           1  \n",
              "tourism              0           0  \n",
              "entertainment        0           0  \n",
              "culture              0           0  \n",
              "music                0           0  \n",
              "education            0           0  \n",
              "real estate          0           2  \n",
              "nutrition            0           1  \n",
              "science              0           0  \n",
              "history              0           0  \n",
              "technology           0           0  "
            ],
            "text/html": [
              "\n",
              "  <div id=\"df-17259d27-a3fb-49af-88ae-b65b8656ead1\">\n",
              "    <div class=\"colab-df-container\">\n",
              "      <div>\n",
              "<style scoped>\n",
              "    .dataframe tbody tr th:only-of-type {\n",
              "        vertical-align: middle;\n",
              "    }\n",
              "\n",
              "    .dataframe tbody tr th {\n",
              "        vertical-align: top;\n",
              "    }\n",
              "\n",
              "    .dataframe thead th {\n",
              "        text-align: right;\n",
              "    }\n",
              "</style>\n",
              "<table border=\"1\" class=\"dataframe\">\n",
              "  <thead>\n",
              "    <tr style=\"text-align: right;\">\n",
              "      <th></th>\n",
              "      <th>sport</th>\n",
              "      <th>economy</th>\n",
              "      <th>politics</th>\n",
              "      <th>health</th>\n",
              "      <th>tourism</th>\n",
              "      <th>entertainment</th>\n",
              "      <th>culture</th>\n",
              "      <th>music</th>\n",
              "      <th>education</th>\n",
              "      <th>real estate</th>\n",
              "      <th>nutrition</th>\n",
              "      <th>science</th>\n",
              "      <th>history</th>\n",
              "      <th>technology</th>\n",
              "    </tr>\n",
              "  </thead>\n",
              "  <tbody>\n",
              "    <tr>\n",
              "      <th>sport</th>\n",
              "      <td>1</td>\n",
              "      <td>0</td>\n",
              "      <td>0</td>\n",
              "      <td>0</td>\n",
              "      <td>0</td>\n",
              "      <td>0</td>\n",
              "      <td>0</td>\n",
              "      <td>0</td>\n",
              "      <td>0</td>\n",
              "      <td>0</td>\n",
              "      <td>0</td>\n",
              "      <td>1</td>\n",
              "      <td>0</td>\n",
              "      <td>0</td>\n",
              "    </tr>\n",
              "    <tr>\n",
              "      <th>economy</th>\n",
              "      <td>0</td>\n",
              "      <td>0</td>\n",
              "      <td>0</td>\n",
              "      <td>0</td>\n",
              "      <td>0</td>\n",
              "      <td>0</td>\n",
              "      <td>0</td>\n",
              "      <td>0</td>\n",
              "      <td>0</td>\n",
              "      <td>1</td>\n",
              "      <td>0</td>\n",
              "      <td>0</td>\n",
              "      <td>0</td>\n",
              "      <td>0</td>\n",
              "    </tr>\n",
              "    <tr>\n",
              "      <th>politics</th>\n",
              "      <td>0</td>\n",
              "      <td>0</td>\n",
              "      <td>0</td>\n",
              "      <td>0</td>\n",
              "      <td>1</td>\n",
              "      <td>0</td>\n",
              "      <td>0</td>\n",
              "      <td>0</td>\n",
              "      <td>1</td>\n",
              "      <td>0</td>\n",
              "      <td>0</td>\n",
              "      <td>0</td>\n",
              "      <td>0</td>\n",
              "      <td>0</td>\n",
              "    </tr>\n",
              "    <tr>\n",
              "      <th>health</th>\n",
              "      <td>0</td>\n",
              "      <td>0</td>\n",
              "      <td>0</td>\n",
              "      <td>0</td>\n",
              "      <td>0</td>\n",
              "      <td>0</td>\n",
              "      <td>0</td>\n",
              "      <td>0</td>\n",
              "      <td>0</td>\n",
              "      <td>0</td>\n",
              "      <td>0</td>\n",
              "      <td>1</td>\n",
              "      <td>0</td>\n",
              "      <td>1</td>\n",
              "    </tr>\n",
              "    <tr>\n",
              "      <th>tourism</th>\n",
              "      <td>0</td>\n",
              "      <td>0</td>\n",
              "      <td>0</td>\n",
              "      <td>0</td>\n",
              "      <td>0</td>\n",
              "      <td>0</td>\n",
              "      <td>0</td>\n",
              "      <td>2</td>\n",
              "      <td>0</td>\n",
              "      <td>0</td>\n",
              "      <td>0</td>\n",
              "      <td>0</td>\n",
              "      <td>0</td>\n",
              "      <td>0</td>\n",
              "    </tr>\n",
              "    <tr>\n",
              "      <th>entertainment</th>\n",
              "      <td>1</td>\n",
              "      <td>0</td>\n",
              "      <td>0</td>\n",
              "      <td>0</td>\n",
              "      <td>0</td>\n",
              "      <td>0</td>\n",
              "      <td>0</td>\n",
              "      <td>0</td>\n",
              "      <td>0</td>\n",
              "      <td>0</td>\n",
              "      <td>0</td>\n",
              "      <td>0</td>\n",
              "      <td>0</td>\n",
              "      <td>0</td>\n",
              "    </tr>\n",
              "    <tr>\n",
              "      <th>culture</th>\n",
              "      <td>1</td>\n",
              "      <td>0</td>\n",
              "      <td>0</td>\n",
              "      <td>0</td>\n",
              "      <td>0</td>\n",
              "      <td>0</td>\n",
              "      <td>1</td>\n",
              "      <td>0</td>\n",
              "      <td>0</td>\n",
              "      <td>0</td>\n",
              "      <td>0</td>\n",
              "      <td>0</td>\n",
              "      <td>0</td>\n",
              "      <td>0</td>\n",
              "    </tr>\n",
              "    <tr>\n",
              "      <th>music</th>\n",
              "      <td>0</td>\n",
              "      <td>0</td>\n",
              "      <td>0</td>\n",
              "      <td>0</td>\n",
              "      <td>1</td>\n",
              "      <td>0</td>\n",
              "      <td>0</td>\n",
              "      <td>1</td>\n",
              "      <td>0</td>\n",
              "      <td>0</td>\n",
              "      <td>0</td>\n",
              "      <td>0</td>\n",
              "      <td>0</td>\n",
              "      <td>0</td>\n",
              "    </tr>\n",
              "    <tr>\n",
              "      <th>education</th>\n",
              "      <td>0</td>\n",
              "      <td>0</td>\n",
              "      <td>0</td>\n",
              "      <td>0</td>\n",
              "      <td>0</td>\n",
              "      <td>0</td>\n",
              "      <td>0</td>\n",
              "      <td>1</td>\n",
              "      <td>1</td>\n",
              "      <td>0</td>\n",
              "      <td>0</td>\n",
              "      <td>0</td>\n",
              "      <td>0</td>\n",
              "      <td>0</td>\n",
              "    </tr>\n",
              "    <tr>\n",
              "      <th>real estate</th>\n",
              "      <td>0</td>\n",
              "      <td>0</td>\n",
              "      <td>0</td>\n",
              "      <td>0</td>\n",
              "      <td>0</td>\n",
              "      <td>0</td>\n",
              "      <td>0</td>\n",
              "      <td>0</td>\n",
              "      <td>0</td>\n",
              "      <td>0</td>\n",
              "      <td>0</td>\n",
              "      <td>0</td>\n",
              "      <td>0</td>\n",
              "      <td>2</td>\n",
              "    </tr>\n",
              "    <tr>\n",
              "      <th>nutrition</th>\n",
              "      <td>1</td>\n",
              "      <td>0</td>\n",
              "      <td>0</td>\n",
              "      <td>0</td>\n",
              "      <td>0</td>\n",
              "      <td>0</td>\n",
              "      <td>0</td>\n",
              "      <td>0</td>\n",
              "      <td>0</td>\n",
              "      <td>0</td>\n",
              "      <td>0</td>\n",
              "      <td>0</td>\n",
              "      <td>0</td>\n",
              "      <td>1</td>\n",
              "    </tr>\n",
              "    <tr>\n",
              "      <th>science</th>\n",
              "      <td>1</td>\n",
              "      <td>0</td>\n",
              "      <td>0</td>\n",
              "      <td>0</td>\n",
              "      <td>0</td>\n",
              "      <td>0</td>\n",
              "      <td>0</td>\n",
              "      <td>0</td>\n",
              "      <td>0</td>\n",
              "      <td>0</td>\n",
              "      <td>0</td>\n",
              "      <td>1</td>\n",
              "      <td>0</td>\n",
              "      <td>0</td>\n",
              "    </tr>\n",
              "    <tr>\n",
              "      <th>history</th>\n",
              "      <td>1</td>\n",
              "      <td>0</td>\n",
              "      <td>0</td>\n",
              "      <td>0</td>\n",
              "      <td>0</td>\n",
              "      <td>0</td>\n",
              "      <td>0</td>\n",
              "      <td>0</td>\n",
              "      <td>1</td>\n",
              "      <td>0</td>\n",
              "      <td>0</td>\n",
              "      <td>0</td>\n",
              "      <td>0</td>\n",
              "      <td>0</td>\n",
              "    </tr>\n",
              "    <tr>\n",
              "      <th>technology</th>\n",
              "      <td>0</td>\n",
              "      <td>0</td>\n",
              "      <td>0</td>\n",
              "      <td>1</td>\n",
              "      <td>0</td>\n",
              "      <td>0</td>\n",
              "      <td>0</td>\n",
              "      <td>0</td>\n",
              "      <td>0</td>\n",
              "      <td>1</td>\n",
              "      <td>0</td>\n",
              "      <td>0</td>\n",
              "      <td>0</td>\n",
              "      <td>0</td>\n",
              "    </tr>\n",
              "  </tbody>\n",
              "</table>\n",
              "</div>\n",
              "      <button class=\"colab-df-convert\" onclick=\"convertToInteractive('df-17259d27-a3fb-49af-88ae-b65b8656ead1')\"\n",
              "              title=\"Convert this dataframe to an interactive table.\"\n",
              "              style=\"display:none;\">\n",
              "        \n",
              "  <svg xmlns=\"http://www.w3.org/2000/svg\" height=\"24px\"viewBox=\"0 0 24 24\"\n",
              "       width=\"24px\">\n",
              "    <path d=\"M0 0h24v24H0V0z\" fill=\"none\"/>\n",
              "    <path d=\"M18.56 5.44l.94 2.06.94-2.06 2.06-.94-2.06-.94-.94-2.06-.94 2.06-2.06.94zm-11 1L8.5 8.5l.94-2.06 2.06-.94-2.06-.94L8.5 2.5l-.94 2.06-2.06.94zm10 10l.94 2.06.94-2.06 2.06-.94-2.06-.94-.94-2.06-.94 2.06-2.06.94z\"/><path d=\"M17.41 7.96l-1.37-1.37c-.4-.4-.92-.59-1.43-.59-.52 0-1.04.2-1.43.59L10.3 9.45l-7.72 7.72c-.78.78-.78 2.05 0 2.83L4 21.41c.39.39.9.59 1.41.59.51 0 1.02-.2 1.41-.59l7.78-7.78 2.81-2.81c.8-.78.8-2.07 0-2.86zM5.41 20L4 18.59l7.72-7.72 1.47 1.35L5.41 20z\"/>\n",
              "  </svg>\n",
              "      </button>\n",
              "      \n",
              "  <style>\n",
              "    .colab-df-container {\n",
              "      display:flex;\n",
              "      flex-wrap:wrap;\n",
              "      gap: 12px;\n",
              "    }\n",
              "\n",
              "    .colab-df-convert {\n",
              "      background-color: #E8F0FE;\n",
              "      border: none;\n",
              "      border-radius: 50%;\n",
              "      cursor: pointer;\n",
              "      display: none;\n",
              "      fill: #1967D2;\n",
              "      height: 32px;\n",
              "      padding: 0 0 0 0;\n",
              "      width: 32px;\n",
              "    }\n",
              "\n",
              "    .colab-df-convert:hover {\n",
              "      background-color: #E2EBFA;\n",
              "      box-shadow: 0px 1px 2px rgba(60, 64, 67, 0.3), 0px 1px 3px 1px rgba(60, 64, 67, 0.15);\n",
              "      fill: #174EA6;\n",
              "    }\n",
              "\n",
              "    [theme=dark] .colab-df-convert {\n",
              "      background-color: #3B4455;\n",
              "      fill: #D2E3FC;\n",
              "    }\n",
              "\n",
              "    [theme=dark] .colab-df-convert:hover {\n",
              "      background-color: #434B5C;\n",
              "      box-shadow: 0px 1px 3px 1px rgba(0, 0, 0, 0.15);\n",
              "      filter: drop-shadow(0px 1px 2px rgba(0, 0, 0, 0.3));\n",
              "      fill: #FFFFFF;\n",
              "    }\n",
              "  </style>\n",
              "\n",
              "      <script>\n",
              "        const buttonEl =\n",
              "          document.querySelector('#df-17259d27-a3fb-49af-88ae-b65b8656ead1 button.colab-df-convert');\n",
              "        buttonEl.style.display =\n",
              "          google.colab.kernel.accessAllowed ? 'block' : 'none';\n",
              "\n",
              "        async function convertToInteractive(key) {\n",
              "          const element = document.querySelector('#df-17259d27-a3fb-49af-88ae-b65b8656ead1');\n",
              "          const dataTable =\n",
              "            await google.colab.kernel.invokeFunction('convertToInteractive',\n",
              "                                                     [key], {});\n",
              "          if (!dataTable) return;\n",
              "\n",
              "          const docLinkHtml = 'Like what you see? Visit the ' +\n",
              "            '<a target=\"_blank\" href=https://colab.research.google.com/notebooks/data_table.ipynb>data table notebook</a>'\n",
              "            + ' to learn more about interactive tables.';\n",
              "          element.innerHTML = '';\n",
              "          dataTable['output_type'] = 'display_data';\n",
              "          await google.colab.output.renderOutput(dataTable, element);\n",
              "          const docLink = document.createElement('div');\n",
              "          docLink.innerHTML = docLinkHtml;\n",
              "          element.appendChild(docLink);\n",
              "        }\n",
              "      </script>\n",
              "    </div>\n",
              "  </div>\n",
              "  "
            ]
          },
          "metadata": {},
          "execution_count": 147
        }
      ]
    },
    {
      "cell_type": "code",
      "source": [
        "print(metrics.classification_report(y_test, y_test_predicted_g))"
      ],
      "metadata": {
        "colab": {
          "base_uri": "https://localhost:8080/"
        },
        "id": "76dZZ6Y75hhc",
        "outputId": "2786fa86-04a0-4ce4-dca4-3bb1e4fccb90"
      },
      "id": "76dZZ6Y75hhc",
      "execution_count": 148,
      "outputs": [
        {
          "output_type": "stream",
          "name": "stdout",
          "text": [
            "              precision    recall  f1-score   support\n",
            "\n",
            "           0       0.17      0.50      0.25         2\n",
            "           1       0.00      0.00      0.00         1\n",
            "           2       0.00      0.00      0.00         2\n",
            "           3       0.00      0.00      0.00         2\n",
            "           4       0.00      0.00      0.00         2\n",
            "           5       0.00      0.00      0.00         1\n",
            "           6       1.00      0.50      0.67         2\n",
            "           7       0.25      0.50      0.33         2\n",
            "           8       0.33      0.50      0.40         2\n",
            "           9       0.00      0.00      0.00         2\n",
            "          10       0.00      0.00      0.00         2\n",
            "          11       0.33      0.50      0.40         2\n",
            "          12       0.00      0.00      0.00         2\n",
            "          13       0.00      0.00      0.00         2\n",
            "\n",
            "    accuracy                           0.19        26\n",
            "   macro avg       0.15      0.18      0.15        26\n",
            "weighted avg       0.16      0.19      0.16        26\n",
            "\n"
          ]
        },
        {
          "output_type": "stream",
          "name": "stderr",
          "text": [
            "/usr/local/lib/python3.7/dist-packages/sklearn/metrics/_classification.py:1318: UndefinedMetricWarning: Precision and F-score are ill-defined and being set to 0.0 in labels with no predicted samples. Use `zero_division` parameter to control this behavior.\n",
            "  _warn_prf(average, modifier, msg_start, len(result))\n",
            "/usr/local/lib/python3.7/dist-packages/sklearn/metrics/_classification.py:1318: UndefinedMetricWarning: Precision and F-score are ill-defined and being set to 0.0 in labels with no predicted samples. Use `zero_division` parameter to control this behavior.\n",
            "  _warn_prf(average, modifier, msg_start, len(result))\n",
            "/usr/local/lib/python3.7/dist-packages/sklearn/metrics/_classification.py:1318: UndefinedMetricWarning: Precision and F-score are ill-defined and being set to 0.0 in labels with no predicted samples. Use `zero_division` parameter to control this behavior.\n",
            "  _warn_prf(average, modifier, msg_start, len(result))\n"
          ]
        }
      ]
    },
    {
      "cell_type": "code",
      "source": [
        "metrics.f1_score(y_test, y_test_predicted_g, average='macro')"
      ],
      "metadata": {
        "colab": {
          "base_uri": "https://localhost:8080/"
        },
        "id": "UOWaB1Q75mRc",
        "outputId": "8d9d1c99-9905-4658-e87c-96d10ef71687"
      },
      "id": "UOWaB1Q75mRc",
      "execution_count": 149,
      "outputs": [
        {
          "output_type": "execute_result",
          "data": {
            "text/plain": [
              "0.1464285714285714"
            ]
          },
          "metadata": {},
          "execution_count": 149
        }
      ]
    },
    {
      "cell_type": "code",
      "source": [
        "maxlen = max([x_train_t_tfidf[i].data.shape[0] for i in range(x_train_t_tfidf.shape[0])])\n",
        "maxlen = 500"
      ],
      "metadata": {
        "id": "HTxxC1BR5tyk"
      },
      "id": "HTxxC1BR5tyk",
      "execution_count": 150,
      "outputs": []
    },
    {
      "cell_type": "code",
      "source": [
        "x_train_t_tfidf = sequence.pad_sequences([x.data for x in x_train_t_tfidf], maxlen=maxlen, dtype='float16')\n",
        "x_test_t_tfidf = sequence.pad_sequences([x.data for x in x_test_t_tfidf], maxlen=maxlen, dtype='float16')"
      ],
      "metadata": {
        "id": "XZ6V9Z7cHzhi"
      },
      "id": "XZ6V9Z7cHzhi",
      "execution_count": 151,
      "outputs": []
    },
    {
      "cell_type": "code",
      "source": [
        "vocabulary_size = len(count_vectorizer_t.vocabulary_)\n",
        "vocabulary_size"
      ],
      "metadata": {
        "colab": {
          "base_uri": "https://localhost:8080/"
        },
        "id": "ZYIs-faDH1-x",
        "outputId": "09cceacb-5ad3-4e14-e568-74e34b347e60"
      },
      "id": "ZYIs-faDH1-x",
      "execution_count": 152,
      "outputs": [
        {
          "output_type": "execute_result",
          "data": {
            "text/plain": [
              "3231"
            ]
          },
          "metadata": {},
          "execution_count": 152
        }
      ]
    },
    {
      "cell_type": "code",
      "source": [
        "y_train = utils.to_categorical(y_train, 14)\n",
        "y_test = utils.to_categorical(y_test, 14)\n",
        "y_test"
      ],
      "metadata": {
        "colab": {
          "base_uri": "https://localhost:8080/"
        },
        "id": "IUpA52XkH7v7",
        "outputId": "346c5f9c-0158-499c-d964-b6c17f71a4a3"
      },
      "id": "IUpA52XkH7v7",
      "execution_count": 153,
      "outputs": [
        {
          "output_type": "execute_result",
          "data": {
            "text/plain": [
              "array([[0., 0., 0., 1., 0., 0., 0., 0., 0., 0., 0., 0., 0., 0.],\n",
              "       [0., 0., 0., 0., 0., 0., 0., 1., 0., 0., 0., 0., 0., 0.],\n",
              "       [0., 0., 0., 0., 0., 0., 0., 0., 0., 1., 0., 0., 0., 0.],\n",
              "       [0., 0., 0., 0., 1., 0., 0., 0., 0., 0., 0., 0., 0., 0.],\n",
              "       [0., 0., 0., 0., 0., 0., 0., 0., 0., 0., 0., 1., 0., 0.],\n",
              "       [1., 0., 0., 0., 0., 0., 0., 0., 0., 0., 0., 0., 0., 0.],\n",
              "       [0., 0., 0., 0., 0., 0., 0., 1., 0., 0., 0., 0., 0., 0.],\n",
              "       [0., 0., 0., 0., 0., 0., 1., 0., 0., 0., 0., 0., 0., 0.],\n",
              "       [0., 0., 0., 0., 1., 0., 0., 0., 0., 0., 0., 0., 0., 0.],\n",
              "       [0., 0., 0., 0., 0., 0., 0., 0., 0., 0., 0., 0., 1., 0.],\n",
              "       [0., 0., 1., 0., 0., 0., 0., 0., 0., 0., 0., 0., 0., 0.],\n",
              "       [0., 0., 0., 0., 0., 0., 0., 0., 0., 0., 0., 0., 0., 1.],\n",
              "       [0., 0., 0., 0., 0., 0., 0., 0., 0., 0., 0., 0., 1., 0.],\n",
              "       [0., 1., 0., 0., 0., 0., 0., 0., 0., 0., 0., 0., 0., 0.],\n",
              "       [0., 0., 0., 0., 0., 0., 0., 0., 1., 0., 0., 0., 0., 0.],\n",
              "       [0., 0., 0., 0., 0., 0., 0., 0., 0., 0., 0., 1., 0., 0.],\n",
              "       [0., 0., 0., 1., 0., 0., 0., 0., 0., 0., 0., 0., 0., 0.],\n",
              "       [0., 0., 0., 0., 0., 0., 0., 0., 1., 0., 0., 0., 0., 0.],\n",
              "       [0., 0., 0., 0., 0., 0., 1., 0., 0., 0., 0., 0., 0., 0.],\n",
              "       [1., 0., 0., 0., 0., 0., 0., 0., 0., 0., 0., 0., 0., 0.],\n",
              "       [0., 0., 0., 0., 0., 1., 0., 0., 0., 0., 0., 0., 0., 0.],\n",
              "       [0., 0., 0., 0., 0., 0., 0., 0., 0., 0., 0., 0., 0., 1.],\n",
              "       [0., 0., 0., 0., 0., 0., 0., 0., 0., 0., 1., 0., 0., 0.],\n",
              "       [0., 0., 0., 0., 0., 0., 0., 0., 0., 0., 1., 0., 0., 0.],\n",
              "       [0., 0., 1., 0., 0., 0., 0., 0., 0., 0., 0., 0., 0., 0.],\n",
              "       [0., 0., 0., 0., 0., 0., 0., 0., 0., 1., 0., 0., 0., 0.]],\n",
              "      dtype=float32)"
            ]
          },
          "metadata": {},
          "execution_count": 153
        }
      ]
    },
    {
      "cell_type": "code",
      "source": [
        "model = Sequential([Embedding(vocabulary_size, 128, input_length=maxlen), \n",
        "                    Conv1D(100, 2, activation='relu'), \n",
        "                    MaxPool1D(pool_size=14),\n",
        "                    Conv1D(48, 14, activation='relu'), \n",
        "                    # MaxPool1D(pool_size=14),\n",
        "                    # Conv1D(48, 7, activation='sigmoid'), \n",
        "                    # MaxPool1D(pool_size=5),\n",
        "                    GlobalMaxPool1D(),\n",
        "                    Flatten(),\n",
        "                    Dense(units=256, activation='relu'),\n",
        "                    Dense(14, activation='softmax')\n",
        "                   ]) "
      ],
      "metadata": {
        "id": "bQ-ty3M1INCS"
      },
      "id": "bQ-ty3M1INCS",
      "execution_count": 154,
      "outputs": []
    },
    {
      "cell_type": "code",
      "source": [
        "model.summary()"
      ],
      "metadata": {
        "colab": {
          "base_uri": "https://localhost:8080/"
        },
        "id": "g4Lx67K6IZSL",
        "outputId": "3afb5834-a440-4697-d41f-8fe9f1a23334"
      },
      "id": "g4Lx67K6IZSL",
      "execution_count": 155,
      "outputs": [
        {
          "output_type": "stream",
          "name": "stdout",
          "text": [
            "Model: \"sequential\"\n",
            "_________________________________________________________________\n",
            " Layer (type)                Output Shape              Param #   \n",
            "=================================================================\n",
            " embedding (Embedding)       (None, 500, 128)          413568    \n",
            "                                                                 \n",
            " conv1d (Conv1D)             (None, 499, 100)          25700     \n",
            "                                                                 \n",
            " max_pooling1d (MaxPooling1D  (None, 35, 100)          0         \n",
            " )                                                               \n",
            "                                                                 \n",
            " conv1d_1 (Conv1D)           (None, 22, 48)            67248     \n",
            "                                                                 \n",
            " global_max_pooling1d (Globa  (None, 48)               0         \n",
            " lMaxPooling1D)                                                  \n",
            "                                                                 \n",
            " flatten (Flatten)           (None, 48)                0         \n",
            "                                                                 \n",
            " dense (Dense)               (None, 256)               12544     \n",
            "                                                                 \n",
            " dense_1 (Dense)             (None, 14)                3598      \n",
            "                                                                 \n",
            "=================================================================\n",
            "Total params: 522,658\n",
            "Trainable params: 522,658\n",
            "Non-trainable params: 0\n",
            "_________________________________________________________________\n"
          ]
        }
      ]
    },
    {
      "cell_type": "code",
      "source": [
        "model.compile(loss=BinaryCrossentropy(), optimizer=Adam(learning_rate=0.001), metrics=['accuracy'])"
      ],
      "metadata": {
        "id": "AfxAjtZoIr-k"
      },
      "id": "AfxAjtZoIr-k",
      "execution_count": 156,
      "outputs": []
    },
    {
      "cell_type": "code",
      "source": [
        "history = model.fit(x_train_t_tfidf, y_train, epochs=10, batch_size=256, validation_split=0.2, verbose=1)"
      ],
      "metadata": {
        "colab": {
          "base_uri": "https://localhost:8080/"
        },
        "id": "_ySvRVKBIvD8",
        "outputId": "9d90b44c-ab73-4565-fae6-90ef76617fee"
      },
      "id": "_ySvRVKBIvD8",
      "execution_count": 157,
      "outputs": [
        {
          "output_type": "stream",
          "name": "stdout",
          "text": [
            "Epoch 1/10\n",
            "1/1 [==============================] - 3s 3s/step - loss: 0.6925 - accuracy: 0.0870 - val_loss: 0.6876 - val_accuracy: 0.0833\n",
            "Epoch 2/10\n",
            "1/1 [==============================] - 0s 373ms/step - loss: 0.6874 - accuracy: 0.0870 - val_loss: 0.6805 - val_accuracy: 0.0833\n",
            "Epoch 3/10\n",
            "1/1 [==============================] - 0s 272ms/step - loss: 0.6804 - accuracy: 0.0870 - val_loss: 0.6709 - val_accuracy: 0.0833\n",
            "Epoch 4/10\n",
            "1/1 [==============================] - 0s 302ms/step - loss: 0.6707 - accuracy: 0.0870 - val_loss: 0.6575 - val_accuracy: 0.0833\n",
            "Epoch 5/10\n",
            "1/1 [==============================] - 0s 293ms/step - loss: 0.6572 - accuracy: 0.0870 - val_loss: 0.6396 - val_accuracy: 0.0833\n",
            "Epoch 6/10\n",
            "1/1 [==============================] - 0s 254ms/step - loss: 0.6392 - accuracy: 0.0870 - val_loss: 0.6165 - val_accuracy: 0.0833\n",
            "Epoch 7/10\n",
            "1/1 [==============================] - 0s 262ms/step - loss: 0.6159 - accuracy: 0.0870 - val_loss: 0.5877 - val_accuracy: 0.0833\n",
            "Epoch 8/10\n",
            "1/1 [==============================] - 0s 295ms/step - loss: 0.5867 - accuracy: 0.0870 - val_loss: 0.5530 - val_accuracy: 0.0833\n",
            "Epoch 9/10\n",
            "1/1 [==============================] - 0s 293ms/step - loss: 0.5515 - accuracy: 0.0870 - val_loss: 0.5129 - val_accuracy: 0.0833\n",
            "Epoch 10/10\n",
            "1/1 [==============================] - 0s 190ms/step - loss: 0.5108 - accuracy: 0.0870 - val_loss: 0.4689 - val_accuracy: 0.0833\n"
          ]
        }
      ]
    },
    {
      "cell_type": "code",
      "source": [
        "plt.figure(figsize=(10, 4))\n",
        "\n",
        "plt.subplot(1, 2, 1)\n",
        "plt.title('Loss')\n",
        "plt.plot(history.epoch, history.history['loss'], label='training')\n",
        "plt.plot(history.epoch, history.history['val_loss'], label='validation')\n",
        "plt.legend(loc='best')\n",
        "\n",
        "plt.subplot(1, 2, 2)\n",
        "plt.title('Accuracy')\n",
        "plt.plot(history.epoch, history.history['accuracy'], label='training')\n",
        "plt.plot(history.epoch, history.history['val_accuracy'], label='validation')\n",
        "plt.legend(loc='best')\n",
        "\n",
        "plt.show()"
      ],
      "metadata": {
        "colab": {
          "base_uri": "https://localhost:8080/",
          "height": 281
        },
        "id": "gthXcCkTIw9M",
        "outputId": "b1d7a976-556d-4179-c613-e86e77cf3755"
      },
      "id": "gthXcCkTIw9M",
      "execution_count": 158,
      "outputs": [
        {
          "output_type": "display_data",
          "data": {
            "text/plain": [
              "<Figure size 720x288 with 2 Axes>"
            ],
            "image/png": "[encoded data removed]"
          },
          "metadata": {
            "needs_background": "light"
          }
        }
      ]
    },
    {
      "cell_type": "code",
      "source": [
        "train_scores = model.evaluate(x_train_t_tfidf, y_train)"
      ],
      "metadata": {
        "colab": {
          "base_uri": "https://localhost:8080/"
        },
        "id": "XSRiAfzII2l0",
        "outputId": "06016d55-a68e-4197-9336-8103ac7b8048"
      },
      "id": "XSRiAfzII2l0",
      "execution_count": 159,
      "outputs": [
        {
          "output_type": "stream",
          "name": "stdout",
          "text": [
            "2/2 [==============================] - 0s 37ms/step - loss: 0.4667 - accuracy: 0.0862\n"
          ]
        }
      ]
    },
    {
      "cell_type": "code",
      "source": [
        "train_scores"
      ],
      "metadata": {
        "colab": {
          "base_uri": "https://localhost:8080/"
        },
        "id": "2PAebDLhI7Yk",
        "outputId": "b5bda57c-7fb3-4005-8bb6-b3214c1707b9"
      },
      "id": "2PAebDLhI7Yk",
      "execution_count": 160,
      "outputs": [
        {
          "output_type": "execute_result",
          "data": {
            "text/plain": [
              "[0.46667414903640747, 0.08620689809322357]"
            ]
          },
          "metadata": {},
          "execution_count": 160
        }
      ]
    },
    {
      "cell_type": "code",
      "source": [
        "test_scores = model.evaluate(x_test_t_tfidf, y_test)"
      ],
      "metadata": {
        "colab": {
          "base_uri": "https://localhost:8080/"
        },
        "id": "oalrGlzXI9Es",
        "outputId": "e5afe2c8-ca5d-4cb1-a53e-8a27a9b34451"
      },
      "id": "oalrGlzXI9Es",
      "execution_count": 161,
      "outputs": [
        {
          "output_type": "stream",
          "name": "stdout",
          "text": [
            "1/1 [==============================] - 0s 44ms/step - loss: 0.4680 - accuracy: 0.0769\n"
          ]
        }
      ]
    },
    {
      "cell_type": "code",
      "source": [
        "test_scores"
      ],
      "metadata": {
        "colab": {
          "base_uri": "https://localhost:8080/"
        },
        "id": "8aqc3wGXI_ft",
        "outputId": "96429813-60bd-4147-b06d-afeffb5361a1"
      },
      "id": "8aqc3wGXI_ft",
      "execution_count": 162,
      "outputs": [
        {
          "output_type": "execute_result",
          "data": {
            "text/plain": [
              "[0.46804749965667725, 0.07692307978868484]"
            ]
          },
          "metadata": {},
          "execution_count": 162
        }
      ]
    },
    {
      "cell_type": "code",
      "source": [
        "maxlen = max([x_train_l_tfidf[i].data.shape[0] for i in range(x_train_l_tfidf.shape[0])])\n",
        "maxlen = 500"
      ],
      "metadata": {
        "id": "MIfIQKrnJBrF"
      },
      "id": "MIfIQKrnJBrF",
      "execution_count": 163,
      "outputs": []
    },
    {
      "cell_type": "code",
      "source": [
        "x_train_l_tfidf = sequence.pad_sequences([x.data for x in x_train_l_tfidf], maxlen=maxlen, dtype='float16')\n",
        "x_test_l_tfidf = sequence.pad_sequences([x.data for x in x_test_l_tfidf], maxlen=maxlen, dtype='float16')"
      ],
      "metadata": {
        "id": "i3MrSkDAK6C3"
      },
      "id": "i3MrSkDAK6C3",
      "execution_count": 164,
      "outputs": []
    },
    {
      "cell_type": "code",
      "source": [
        "vocabulary_size = len(count_vectorizer_l.vocabulary_)"
      ],
      "metadata": {
        "id": "IeG7Qx2sK8_Y"
      },
      "id": "IeG7Qx2sK8_Y",
      "execution_count": 165,
      "outputs": []
    },
    {
      "cell_type": "code",
      "source": [
        "model = Sequential([Embedding(vocabulary_size, 128, input_length=maxlen), \n",
        "                    Conv1D(48, 10, activation='sigmoid'), \n",
        "                    MaxPool1D(pool_size=48),\n",
        "                    # Conv1D(48, 7, activation='sigmoid'), \n",
        "                    # MaxPool1D(pool_size=5),\n",
        "                    GlobalMaxPool1D(),\n",
        "                    Flatten(),\n",
        "                    Dense(14, activation='softmax')\n",
        "                   ]) "
      ],
      "metadata": {
        "id": "m9L_faHUK__f"
      },
      "id": "m9L_faHUK__f",
      "execution_count": 166,
      "outputs": []
    },
    {
      "cell_type": "code",
      "source": [
        "model.summary()"
      ],
      "metadata": {
        "colab": {
          "base_uri": "https://localhost:8080/"
        },
        "id": "-skJdQXMLHpx",
        "outputId": "a25842d8-fbf2-41cb-9e0f-f10cbbee5f57"
      },
      "id": "-skJdQXMLHpx",
      "execution_count": 167,
      "outputs": [
        {
          "output_type": "stream",
          "name": "stdout",
          "text": [
            "Model: \"sequential_1\"\n",
            "_________________________________________________________________\n",
            " Layer (type)                Output Shape              Param #   \n",
            "=================================================================\n",
            " embedding_1 (Embedding)     (None, 500, 128)          464384    \n",
            "                                                                 \n",
            " conv1d_2 (Conv1D)           (None, 491, 48)           61488     \n",
            "                                                                 \n",
            " max_pooling1d_1 (MaxPooling  (None, 10, 48)           0         \n",
            " 1D)                                                             \n",
            "                                                                 \n",
            " global_max_pooling1d_1 (Glo  (None, 48)               0         \n",
            " balMaxPooling1D)                                                \n",
            "                                                                 \n",
            " flatten_1 (Flatten)         (None, 48)                0         \n",
            "                                                                 \n",
            " dense_2 (Dense)             (None, 14)                686       \n",
            "                                                                 \n",
            "=================================================================\n",
            "Total params: 526,558\n",
            "Trainable params: 526,558\n",
            "Non-trainable params: 0\n",
            "_________________________________________________________________\n"
          ]
        }
      ]
    },
    {
      "cell_type": "code",
      "source": [
        "model.compile(loss=BinaryCrossentropy(), optimizer=Adam(learning_rate=0.0001), metrics=['accuracy'])"
      ],
      "metadata": {
        "id": "WALybCCILKHP"
      },
      "id": "WALybCCILKHP",
      "execution_count": 168,
      "outputs": []
    },
    {
      "cell_type": "code",
      "source": [
        "history = model.fit(x_train_l_tfidf, y_train, epochs=10, batch_size=128, validation_split=0.2, verbose=1)"
      ],
      "metadata": {
        "colab": {
          "base_uri": "https://localhost:8080/"
        },
        "id": "DWhaHzEoLPcw",
        "outputId": "914fb2e9-49c3-4f79-8966-7354c3464074"
      },
      "id": "DWhaHzEoLPcw",
      "execution_count": 169,
      "outputs": [
        {
          "output_type": "stream",
          "name": "stdout",
          "text": [
            "Epoch 1/10\n",
            "1/1 [==============================] - 1s 1s/step - loss: 0.7780 - accuracy: 0.0870 - val_loss: 0.7788 - val_accuracy: 0.0833\n",
            "Epoch 2/10\n",
            "1/1 [==============================] - 0s 309ms/step - loss: 0.7763 - accuracy: 0.0870 - val_loss: 0.7770 - val_accuracy: 0.0833\n",
            "Epoch 3/10\n",
            "1/1 [==============================] - 0s 298ms/step - loss: 0.7745 - accuracy: 0.0870 - val_loss: 0.7753 - val_accuracy: 0.0833\n",
            "Epoch 4/10\n",
            "1/1 [==============================] - 0s 300ms/step - loss: 0.7728 - accuracy: 0.0870 - val_loss: 0.7735 - val_accuracy: 0.0833\n",
            "Epoch 5/10\n",
            "1/1 [==============================] - 0s 300ms/step - loss: 0.7710 - accuracy: 0.0870 - val_loss: 0.7718 - val_accuracy: 0.0833\n",
            "Epoch 6/10\n",
            "1/1 [==============================] - 0s 302ms/step - loss: 0.7693 - accuracy: 0.0870 - val_loss: 0.7701 - val_accuracy: 0.0833\n",
            "Epoch 7/10\n",
            "1/1 [==============================] - 0s 283ms/step - loss: 0.7675 - accuracy: 0.0870 - val_loss: 0.7683 - val_accuracy: 0.0833\n",
            "Epoch 8/10\n",
            "1/1 [==============================] - 0s 294ms/step - loss: 0.7658 - accuracy: 0.0870 - val_loss: 0.7666 - val_accuracy: 0.0833\n",
            "Epoch 9/10\n",
            "1/1 [==============================] - 0s 317ms/step - loss: 0.7641 - accuracy: 0.0870 - val_loss: 0.7649 - val_accuracy: 0.0833\n",
            "Epoch 10/10\n",
            "1/1 [==============================] - 0s 298ms/step - loss: 0.7623 - accuracy: 0.0870 - val_loss: 0.7631 - val_accuracy: 0.0833\n"
          ]
        }
      ]
    },
    {
      "cell_type": "code",
      "source": [
        "plt.figure(figsize=(10, 4))\n",
        "\n",
        "plt.subplot(1, 2, 1)\n",
        "plt.title('Loss')\n",
        "plt.plot(history.epoch, history.history['loss'], label='training')\n",
        "plt.plot(history.epoch, history.history['val_loss'], label='validation')\n",
        "plt.legend(loc='best')\n",
        "\n",
        "plt.subplot(1, 2, 2)\n",
        "plt.title('Accuracy')\n",
        "plt.plot(history.epoch, history.history['accuracy'], label='training')\n",
        "plt.plot(history.epoch, history.history['val_accuracy'], label='validation')\n",
        "plt.legend(loc='best')\n",
        "\n",
        "plt.show()"
      ],
      "metadata": {
        "colab": {
          "base_uri": "https://localhost:8080/",
          "height": 281
        },
        "id": "m2fP2tjCLRiQ",
        "outputId": "9ab3ecc5-2bc6-4902-b2d0-10f31414ce55"
      },
      "id": "m2fP2tjCLRiQ",
      "execution_count": 170,
      "outputs": [
        {
          "output_type": "display_data",
          "data": {
            "text/plain": [
              "<Figure size 720x288 with 2 Axes>"
            ],
            "image/png": "[encoded data removed]"
          },
          "metadata": {
            "needs_background": "light"
          }
        }
      ]
    },
    {
      "cell_type": "code",
      "source": [
        "train_scores = model.evaluate(x_train_l_tfidf, y_train)"
      ],
      "metadata": {
        "colab": {
          "base_uri": "https://localhost:8080/"
        },
        "id": "IX-g2mu_LZBH",
        "outputId": "87a180ab-37af-4867-fa0c-45d8a10ccc51"
      },
      "id": "IX-g2mu_LZBH",
      "execution_count": 171,
      "outputs": [
        {
          "output_type": "stream",
          "name": "stdout",
          "text": [
            "2/2 [==============================] - 0s 34ms/step - loss: 0.7611 - accuracy: 0.0862\n"
          ]
        }
      ]
    },
    {
      "cell_type": "code",
      "source": [
        "train_scores"
      ],
      "metadata": {
        "colab": {
          "base_uri": "https://localhost:8080/"
        },
        "id": "ER2UAQ81Mzba",
        "outputId": "dfae694f-5556-453c-8ce3-0bd5ae1bca24"
      },
      "id": "ER2UAQ81Mzba",
      "execution_count": 172,
      "outputs": [
        {
          "output_type": "execute_result",
          "data": {
            "text/plain": [
              "[0.7611293792724609, 0.08620689809322357]"
            ]
          },
          "metadata": {},
          "execution_count": 172
        }
      ]
    },
    {
      "cell_type": "code",
      "source": [
        "test_scores = model.evaluate(x_test_l_tfidf, y_test)"
      ],
      "metadata": {
        "colab": {
          "base_uri": "https://localhost:8080/"
        },
        "id": "x5zTxjcmM1d6",
        "outputId": "e4a76560-9155-401d-90a7-5baa2f44d781"
      },
      "id": "x5zTxjcmM1d6",
      "execution_count": 173,
      "outputs": [
        {
          "output_type": "stream",
          "name": "stdout",
          "text": [
            "1/1 [==============================] - 0s 58ms/step - loss: 0.7643 - accuracy: 0.0769\n"
          ]
        }
      ]
    },
    {
      "cell_type": "code",
      "source": [
        "test_scores"
      ],
      "metadata": {
        "colab": {
          "base_uri": "https://localhost:8080/"
        },
        "id": "tsAC109QM3fJ",
        "outputId": "aa1a7419-42c9-4a1f-a26d-8697e0cc5c9c"
      },
      "id": "tsAC109QM3fJ",
      "execution_count": 174,
      "outputs": [
        {
          "output_type": "execute_result",
          "data": {
            "text/plain": [
              "[0.7643445730209351, 0.07692307978868484]"
            ]
          },
          "metadata": {},
          "execution_count": 174
        }
      ]
    },
    {
      "cell_type": "code",
      "source": [
        "maxlen = max([x_train_s_tfidf[i].data.shape[0] for i in range(x_train_s_tfidf.shape[0])])\n",
        "maxlen  = 500"
      ],
      "metadata": {
        "id": "m79mRMSyM6Rj"
      },
      "id": "m79mRMSyM6Rj",
      "execution_count": 175,
      "outputs": []
    },
    {
      "cell_type": "code",
      "source": [
        "x_train_s_tfidf = sequence.pad_sequences([x.data for x in x_train_s_tfidf], maxlen=maxlen, dtype='float16')\n",
        "x_test_s_tfidf = sequence.pad_sequences([x.data for x in x_test_s_tfidf], maxlen=maxlen, dtype='float16')"
      ],
      "metadata": {
        "id": "ii4xhc-5QdG-"
      },
      "id": "ii4xhc-5QdG-",
      "execution_count": 176,
      "outputs": []
    },
    {
      "cell_type": "code",
      "source": [
        "vocabulary_size = len(count_vectorizer_s.vocabulary_)"
      ],
      "metadata": {
        "id": "2sKBXkuYQfiO"
      },
      "id": "2sKBXkuYQfiO",
      "execution_count": 177,
      "outputs": []
    },
    {
      "cell_type": "code",
      "source": [
        "model = Sequential([Embedding(vocabulary_size, 128, input_length=maxlen), \n",
        "                    Conv1D(48, 10, activation='sigmoid'), \n",
        "                    MaxPool1D(pool_size=48),\n",
        "                    # Conv1D(48, 7, activation='sigmoid'), \n",
        "                    # MaxPool1D(pool_size=5),\n",
        "                    GlobalMaxPool1D(),\n",
        "                    Flatten(),\n",
        "                    Dense(14, activation='softmax')\n",
        "                   ]) "
      ],
      "metadata": {
        "id": "8GEmP0MfQhj2"
      },
      "id": "8GEmP0MfQhj2",
      "execution_count": 178,
      "outputs": []
    },
    {
      "cell_type": "code",
      "source": [
        "model.summary()"
      ],
      "metadata": {
        "colab": {
          "base_uri": "https://localhost:8080/"
        },
        "id": "xYk8tCjiQmDH",
        "outputId": "f67eeefb-f67a-402a-cf4a-1608050d3ea7"
      },
      "id": "xYk8tCjiQmDH",
      "execution_count": 179,
      "outputs": [
        {
          "output_type": "stream",
          "name": "stdout",
          "text": [
            "Model: \"sequential_2\"\n",
            "_________________________________________________________________\n",
            " Layer (type)                Output Shape              Param #   \n",
            "=================================================================\n",
            " embedding_2 (Embedding)     (None, 500, 128)          314496    \n",
            "                                                                 \n",
            " conv1d_3 (Conv1D)           (None, 491, 48)           61488     \n",
            "                                                                 \n",
            " max_pooling1d_2 (MaxPooling  (None, 10, 48)           0         \n",
            " 1D)                                                             \n",
            "                                                                 \n",
            " global_max_pooling1d_2 (Glo  (None, 48)               0         \n",
            " balMaxPooling1D)                                                \n",
            "                                                                 \n",
            " flatten_2 (Flatten)         (None, 48)                0         \n",
            "                                                                 \n",
            " dense_3 (Dense)             (None, 14)                686       \n",
            "                                                                 \n",
            "=================================================================\n",
            "Total params: 376,670\n",
            "Trainable params: 376,670\n",
            "Non-trainable params: 0\n",
            "_________________________________________________________________\n"
          ]
        }
      ]
    },
    {
      "cell_type": "code",
      "source": [
        "model.compile(loss=BinaryCrossentropy(), optimizer=Adam(learning_rate=0.0001), metrics=['accuracy'])"
      ],
      "metadata": {
        "id": "6UJxQx41Qorn"
      },
      "id": "6UJxQx41Qorn",
      "execution_count": 180,
      "outputs": []
    },
    {
      "cell_type": "code",
      "source": [
        "history = model.fit(x_train_s_tfidf, y_train, epochs=10, batch_size=128, validation_split=0.2, verbose=1)"
      ],
      "metadata": {
        "colab": {
          "base_uri": "https://localhost:8080/"
        },
        "id": "ObeYo7OAQq-g",
        "outputId": "13b368a7-1352-4851-b66a-b2c21d70960a"
      },
      "id": "ObeYo7OAQq-g",
      "execution_count": 181,
      "outputs": [
        {
          "output_type": "stream",
          "name": "stdout",
          "text": [
            "Epoch 1/10\n",
            "1/1 [==============================] - 1s 1s/step - loss: 0.7420 - accuracy: 0.0652 - val_loss: 0.7424 - val_accuracy: 0.0000e+00\n",
            "Epoch 2/10\n",
            "1/1 [==============================] - 0s 299ms/step - loss: 0.7402 - accuracy: 0.0652 - val_loss: 0.7406 - val_accuracy: 0.0000e+00\n",
            "Epoch 3/10\n",
            "1/1 [==============================] - 0s 293ms/step - loss: 0.7383 - accuracy: 0.0652 - val_loss: 0.7388 - val_accuracy: 0.0000e+00\n",
            "Epoch 4/10\n",
            "1/1 [==============================] - 0s 288ms/step - loss: 0.7365 - accuracy: 0.0652 - val_loss: 0.7370 - val_accuracy: 0.0000e+00\n",
            "Epoch 5/10\n",
            "1/1 [==============================] - 0s 280ms/step - loss: 0.7347 - accuracy: 0.0652 - val_loss: 0.7352 - val_accuracy: 0.0000e+00\n",
            "Epoch 6/10\n",
            "1/1 [==============================] - 0s 283ms/step - loss: 0.7329 - accuracy: 0.0652 - val_loss: 0.7334 - val_accuracy: 0.0000e+00\n",
            "Epoch 7/10\n",
            "1/1 [==============================] - 0s 283ms/step - loss: 0.7311 - accuracy: 0.0652 - val_loss: 0.7316 - val_accuracy: 0.0000e+00\n",
            "Epoch 8/10\n",
            "1/1 [==============================] - 0s 298ms/step - loss: 0.7293 - accuracy: 0.0652 - val_loss: 0.7298 - val_accuracy: 0.0000e+00\n",
            "Epoch 9/10\n",
            "1/1 [==============================] - 0s 281ms/step - loss: 0.7275 - accuracy: 0.0652 - val_loss: 0.7280 - val_accuracy: 0.0000e+00\n",
            "Epoch 10/10\n",
            "1/1 [==============================] - 0s 290ms/step - loss: 0.7257 - accuracy: 0.0652 - val_loss: 0.7262 - val_accuracy: 0.0000e+00\n"
          ]
        }
      ]
    },
    {
      "cell_type": "code",
      "source": [
        "plt.figure(figsize=(10, 4))\n",
        "\n",
        "plt.subplot(1, 2, 1)\n",
        "plt.title('Loss')\n",
        "plt.plot(history.epoch, history.history['loss'], label='training')\n",
        "plt.plot(history.epoch, history.history['val_loss'], label='validation')\n",
        "plt.legend(loc='best')\n",
        "\n",
        "plt.subplot(1, 2, 2)\n",
        "plt.title('Accuracy')\n",
        "plt.plot(history.epoch, history.history['accuracy'], label='training')\n",
        "plt.plot(history.epoch, history.history['val_accuracy'], label='validation')\n",
        "plt.legend(loc='best')\n",
        "\n",
        "plt.show()"
      ],
      "metadata": {
        "colab": {
          "base_uri": "https://localhost:8080/",
          "height": 281
        },
        "id": "jY7j2bVgQs_X",
        "outputId": "95eba437-1eb0-4655-9b32-3de3b746adf1"
      },
      "id": "jY7j2bVgQs_X",
      "execution_count": 182,
      "outputs": [
        {
          "output_type": "display_data",
          "data": {
            "text/plain": [
              "<Figure size 720x288 with 2 Axes>"
            ],
            "image/png": "[encoded data removed]"
          },
          "metadata": {
            "needs_background": "light"
          }
        }
      ]
    },
    {
      "cell_type": "code",
      "source": [
        "train_scores = model.evaluate(x_train_s_tfidf, y_train)"
      ],
      "metadata": {
        "colab": {
          "base_uri": "https://localhost:8080/"
        },
        "id": "JxEHRuV7Q34m",
        "outputId": "b1ac4993-7752-436d-95a7-37c6cf0b34ea"
      },
      "id": "JxEHRuV7Q34m",
      "execution_count": 183,
      "outputs": [
        {
          "output_type": "stream",
          "name": "stdout",
          "text": [
            "2/2 [==============================] - 0s 36ms/step - loss: 0.7244 - accuracy: 0.0517\n"
          ]
        }
      ]
    },
    {
      "cell_type": "code",
      "source": [
        "train_scores"
      ],
      "metadata": {
        "colab": {
          "base_uri": "https://localhost:8080/"
        },
        "id": "4nlbCwUGQ6IH",
        "outputId": "1245ef31-3874-4867-bcdd-598deb1d9002"
      },
      "id": "4nlbCwUGQ6IH",
      "execution_count": 184,
      "outputs": [
        {
          "output_type": "execute_result",
          "data": {
            "text/plain": [
              "[0.7243961095809937, 0.0517241396009922]"
            ]
          },
          "metadata": {},
          "execution_count": 184
        }
      ]
    },
    {
      "cell_type": "code",
      "source": [
        "test_scores = model.evaluate(x_test_s_tfidf, y_test)"
      ],
      "metadata": {
        "colab": {
          "base_uri": "https://localhost:8080/"
        },
        "id": "O0d4zo5KQ8F2",
        "outputId": "cc070c7d-256c-4937-92da-2a007d7aeb86"
      },
      "id": "O0d4zo5KQ8F2",
      "execution_count": 185,
      "outputs": [
        {
          "output_type": "stream",
          "name": "stdout",
          "text": [
            "1/1 [==============================] - 0s 54ms/step - loss: 0.7201 - accuracy: 0.0769\n"
          ]
        }
      ]
    },
    {
      "cell_type": "code",
      "source": [
        "test_scores"
      ],
      "metadata": {
        "colab": {
          "base_uri": "https://localhost:8080/"
        },
        "id": "FDb8OF_mQ972",
        "outputId": "746ee47b-d809-420e-9931-ff938fe909b0"
      },
      "id": "FDb8OF_mQ972",
      "execution_count": 186,
      "outputs": [
        {
          "output_type": "execute_result",
          "data": {
            "text/plain": [
              "[0.7201408743858337, 0.07692307978868484]"
            ]
          },
          "metadata": {},
          "execution_count": 186
        }
      ]
    },
    {
      "cell_type": "code",
      "source": [
        "max_len = 100"
      ],
      "metadata": {
        "id": "rmTzIag3Q_1G"
      },
      "id": "rmTzIag3Q_1G",
      "execution_count": 187,
      "outputs": []
    },
    {
      "cell_type": "code",
      "source": [
        "x_train_glove.shape"
      ],
      "metadata": {
        "colab": {
          "base_uri": "https://localhost:8080/"
        },
        "id": "1gPayT2MoXCv",
        "outputId": "362f81ee-814c-4e14-ede7-c8b5815db3fe"
      },
      "id": "1gPayT2MoXCv",
      "execution_count": 188,
      "outputs": [
        {
          "output_type": "execute_result",
          "data": {
            "text/plain": [
              "(58, 10000)"
            ]
          },
          "metadata": {},
          "execution_count": 188
        }
      ]
    },
    {
      "cell_type": "code",
      "source": [
        "voc_size"
      ],
      "metadata": {
        "colab": {
          "base_uri": "https://localhost:8080/"
        },
        "id": "x5IdOC_VlG9x",
        "outputId": "ca109af6-14f0-4ba3-c4df-778bae58e8d4"
      },
      "id": "x5IdOC_VlG9x",
      "execution_count": 189,
      "outputs": [
        {
          "output_type": "execute_result",
          "data": {
            "text/plain": [
              "400000"
            ]
          },
          "metadata": {},
          "execution_count": 189
        }
      ]
    },
    {
      "cell_type": "code",
      "source": [
        "model = Sequential([Embedding(1000, 128, input_length=max_len*100), \n",
        "                    Conv1D(48, 14, activation='sigmoid'), \n",
        "                    MaxPool1D(pool_size=48),\n",
        "                    # Conv1D(48, 7, activation='sigmoid'), \n",
        "                    # MaxPool1D(pool_size=5),\n",
        "                    GlobalMaxPool1D(),\n",
        "                    Flatten(),\n",
        "                    Dense(14, activation='softmax')\n",
        "                   ]) "
      ],
      "metadata": {
        "id": "ChNMb-VPRvrI"
      },
      "id": "ChNMb-VPRvrI",
      "execution_count": 190,
      "outputs": []
    },
    {
      "cell_type": "code",
      "source": [
        "model.summary()"
      ],
      "metadata": {
        "colab": {
          "base_uri": "https://localhost:8080/"
        },
        "id": "0CH66-yxR2vw",
        "outputId": "0c39ff03-e37b-42e1-866f-7958dcb42416"
      },
      "id": "0CH66-yxR2vw",
      "execution_count": 191,
      "outputs": [
        {
          "output_type": "stream",
          "name": "stdout",
          "text": [
            "Model: \"sequential_3\"\n",
            "_________________________________________________________________\n",
            " Layer (type)                Output Shape              Param #   \n",
            "=================================================================\n",
            " embedding_3 (Embedding)     (None, 10000, 128)        128000    \n",
            "                                                                 \n",
            " conv1d_4 (Conv1D)           (None, 9987, 48)          86064     \n",
            "                                                                 \n",
            " max_pooling1d_3 (MaxPooling  (None, 208, 48)          0         \n",
            " 1D)                                                             \n",
            "                                                                 \n",
            " global_max_pooling1d_3 (Glo  (None, 48)               0         \n",
            " balMaxPooling1D)                                                \n",
            "                                                                 \n",
            " flatten_3 (Flatten)         (None, 48)                0         \n",
            "                                                                 \n",
            " dense_4 (Dense)             (None, 14)                686       \n",
            "                                                                 \n",
            "=================================================================\n",
            "Total params: 214,750\n",
            "Trainable params: 214,750\n",
            "Non-trainable params: 0\n",
            "_________________________________________________________________\n"
          ]
        }
      ]
    },
    {
      "cell_type": "code",
      "source": [
        "model.compile(loss=BinaryCrossentropy(), optimizer=Adam(learning_rate=0.0001), metrics=['accuracy'])"
      ],
      "metadata": {
        "id": "2Af5iScXR6vw"
      },
      "id": "2Af5iScXR6vw",
      "execution_count": 192,
      "outputs": []
    },
    {
      "cell_type": "code",
      "source": [
        "import tensorflow as tf\n",
        "with tf.device('/device:GPU:0'):\n",
        "  history = model.fit(x_train_glove, y_train, epochs=10, batch_size=128, validation_split=0.2, verbose=1)"
      ],
      "metadata": {
        "colab": {
          "base_uri": "https://localhost:8080/",
          "height": 1000
        },
        "id": "_FZz7J3_SAR4",
        "outputId": "69df56e3-d1bd-48ad-f920-8d6e808b683e"
      },
      "id": "_FZz7J3_SAR4",
      "execution_count": 193,
      "outputs": [
        {
          "output_type": "stream",
          "name": "stdout",
          "text": [
            "Epoch 1/10\n"
          ]
        },
        {
          "output_type": "error",
          "ename": "InvalidArgumentError",
          "evalue": "ignored",
          "traceback": [
            "\u001b[0;31m---------------------------------------------------------------------------\u001b[0m",
            "\u001b[0;31mInvalidArgumentError\u001b[0m                      Traceback (most recent call last)",
            "\u001b[0;32m<ipython-input-193-b6f861ca9fa0>\u001b[0m in \u001b[0;36m<module>\u001b[0;34m\u001b[0m\n\u001b[1;32m      1\u001b[0m \u001b[0;32mimport\u001b[0m \u001b[0mtensorflow\u001b[0m \u001b[0;32mas\u001b[0m \u001b[0mtf\u001b[0m\u001b[0;34m\u001b[0m\u001b[0;34m\u001b[0m\u001b[0m\n\u001b[1;32m      2\u001b[0m \u001b[0;32mwith\u001b[0m \u001b[0mtf\u001b[0m\u001b[0;34m.\u001b[0m\u001b[0mdevice\u001b[0m\u001b[0;34m(\u001b[0m\u001b[0;34m'/device:GPU:0'\u001b[0m\u001b[0;34m)\u001b[0m\u001b[0;34m:\u001b[0m\u001b[0;34m\u001b[0m\u001b[0;34m\u001b[0m\u001b[0m\n\u001b[0;32m----> 3\u001b[0;31m   \u001b[0mhistory\u001b[0m \u001b[0;34m=\u001b[0m \u001b[0mmodel\u001b[0m\u001b[0;34m.\u001b[0m\u001b[0mfit\u001b[0m\u001b[0;34m(\u001b[0m\u001b[0mx_train_glove\u001b[0m\u001b[0;34m,\u001b[0m \u001b[0my_train\u001b[0m\u001b[0;34m,\u001b[0m \u001b[0mepochs\u001b[0m\u001b[0;34m=\u001b[0m\u001b[0;36m10\u001b[0m\u001b[0;34m,\u001b[0m \u001b[0mbatch_size\u001b[0m\u001b[0;34m=\u001b[0m\u001b[0;36m128\u001b[0m\u001b[0;34m,\u001b[0m \u001b[0mvalidation_split\u001b[0m\u001b[0;34m=\u001b[0m\u001b[0;36m0.2\u001b[0m\u001b[0;34m,\u001b[0m \u001b[0mverbose\u001b[0m\u001b[0;34m=\u001b[0m\u001b[0;36m1\u001b[0m\u001b[0;34m)\u001b[0m\u001b[0;34m\u001b[0m\u001b[0;34m\u001b[0m\u001b[0m\n\u001b[0m",
            "\u001b[0;32m/usr/local/lib/python3.7/dist-packages/keras/utils/traceback_utils.py\u001b[0m in \u001b[0;36merror_handler\u001b[0;34m(*args, **kwargs)\u001b[0m\n\u001b[1;32m     65\u001b[0m     \u001b[0;32mexcept\u001b[0m \u001b[0mException\u001b[0m \u001b[0;32mas\u001b[0m \u001b[0me\u001b[0m\u001b[0;34m:\u001b[0m  \u001b[0;31m# pylint: disable=broad-except\u001b[0m\u001b[0;34m\u001b[0m\u001b[0;34m\u001b[0m\u001b[0m\n\u001b[1;32m     66\u001b[0m       \u001b[0mfiltered_tb\u001b[0m \u001b[0;34m=\u001b[0m \u001b[0m_process_traceback_frames\u001b[0m\u001b[0;34m(\u001b[0m\u001b[0me\u001b[0m\u001b[0;34m.\u001b[0m\u001b[0m__traceback__\u001b[0m\u001b[0;34m)\u001b[0m\u001b[0;34m\u001b[0m\u001b[0;34m\u001b[0m\u001b[0m\n\u001b[0;32m---> 67\u001b[0;31m       \u001b[0;32mraise\u001b[0m \u001b[0me\u001b[0m\u001b[0;34m.\u001b[0m\u001b[0mwith_traceback\u001b[0m\u001b[0;34m(\u001b[0m\u001b[0mfiltered_tb\u001b[0m\u001b[0;34m)\u001b[0m \u001b[0;32mfrom\u001b[0m \u001b[0;32mNone\u001b[0m\u001b[0;34m\u001b[0m\u001b[0;34m\u001b[0m\u001b[0m\n\u001b[0m\u001b[1;32m     68\u001b[0m     \u001b[0;32mfinally\u001b[0m\u001b[0;34m:\u001b[0m\u001b[0;34m\u001b[0m\u001b[0;34m\u001b[0m\u001b[0m\n\u001b[1;32m     69\u001b[0m       \u001b[0;32mdel\u001b[0m \u001b[0mfiltered_tb\u001b[0m\u001b[0;34m\u001b[0m\u001b[0;34m\u001b[0m\u001b[0m\n",
            "\u001b[0;32m/usr/local/lib/python3.7/dist-packages/tensorflow/python/eager/execute.py\u001b[0m in \u001b[0;36mquick_execute\u001b[0;34m(op_name, num_outputs, inputs, attrs, ctx, name)\u001b[0m\n\u001b[1;32m     53\u001b[0m     \u001b[0mctx\u001b[0m\u001b[0;34m.\u001b[0m\u001b[0mensure_initialized\u001b[0m\u001b[0;34m(\u001b[0m\u001b[0;34m)\u001b[0m\u001b[0;34m\u001b[0m\u001b[0;34m\u001b[0m\u001b[0m\n\u001b[1;32m     54\u001b[0m     tensors = pywrap_tfe.TFE_Py_Execute(ctx._handle, device_name, op_name,\n\u001b[0;32m---> 55\u001b[0;31m                                         inputs, attrs, num_outputs)\n\u001b[0m\u001b[1;32m     56\u001b[0m   \u001b[0;32mexcept\u001b[0m \u001b[0mcore\u001b[0m\u001b[0;34m.\u001b[0m\u001b[0m_NotOkStatusException\u001b[0m \u001b[0;32mas\u001b[0m \u001b[0me\u001b[0m\u001b[0;34m:\u001b[0m\u001b[0;34m\u001b[0m\u001b[0;34m\u001b[0m\u001b[0m\n\u001b[1;32m     57\u001b[0m     \u001b[0;32mif\u001b[0m \u001b[0mname\u001b[0m \u001b[0;32mis\u001b[0m \u001b[0;32mnot\u001b[0m \u001b[0;32mNone\u001b[0m\u001b[0;34m:\u001b[0m\u001b[0;34m\u001b[0m\u001b[0;34m\u001b[0m\u001b[0m\n",
            "\u001b[0;31mInvalidArgumentError\u001b[0m: Graph execution error:\n\nDetected at node 'sequential_3/embedding_3/embedding_lookup' defined at (most recent call last):\n    File \"/usr/lib/python3.7/runpy.py\", line 193, in _run_module_as_main\n      \"__main__\", mod_spec)\n    File \"/usr/lib/python3.7/runpy.py\", line 85, in _run_code\n      exec(code, run_globals)\n    File \"/usr/local/lib/python3.7/dist-packages/ipykernel_launcher.py\", line 16, in <module>\n      app.launch_new_instance()\n    File \"/usr/local/lib/python3.7/dist-packages/traitlets/config/application.py\", line 846, in launch_instance\n      app.start()\n    File \"/usr/local/lib/python3.7/dist-packages/ipykernel/kernelapp.py\", line 612, in start\n      self.io_loop.start()\n    File \"/usr/local/lib/python3.7/dist-packages/tornado/platform/asyncio.py\", line 132, in start\n      self.asyncio_loop.run_forever()\n    File \"/usr/lib/python3.7/asyncio/base_events.py\", line 541, in run_forever\n      self._run_once()\n    File \"/usr/lib/python3.7/asyncio/base_events.py\", line 1786, in _run_once\n      handle._run()\n    File \"/usr/lib/python3.7/asyncio/events.py\", line 88, in _run\n      self._context.run(self._callback, *self._args)\n    File \"/usr/local/lib/python3.7/dist-packages/tornado/ioloop.py\", line 758, in _run_callback\n      ret = callback()\n    File \"/usr/local/lib/python3.7/dist-packages/tornado/stack_context.py\", line 300, in null_wrapper\n      return fn(*args, **kwargs)\n    File \"/usr/local/lib/python3.7/dist-packages/tornado/gen.py\", line 1233, in inner\n      self.run()\n    File \"/usr/local/lib/python3.7/dist-packages/tornado/gen.py\", line 1147, in run\n      yielded = self.gen.send(value)\n    File \"/usr/local/lib/python3.7/dist-packages/ipykernel/kernelbase.py\", line 381, in dispatch_queue\n      yield self.process_one()\n    File \"/usr/local/lib/python3.7/dist-packages/tornado/gen.py\", line 346, in wrapper\n      runner = Runner(result, future, yielded)\n    File \"/usr/local/lib/python3.7/dist-packages/tornado/gen.py\", line 1080, in __init__\n      self.run()\n    File \"/usr/local/lib/python3.7/dist-packages/tornado/gen.py\", line 1147, in run\n      yielded = self.gen.send(value)\n    File \"/usr/local/lib/python3.7/dist-packages/ipykernel/kernelbase.py\", line 365, in process_one\n      yield gen.maybe_future(dispatch(*args))\n    File \"/usr/local/lib/python3.7/dist-packages/tornado/gen.py\", line 326, in wrapper\n      yielded = next(result)\n    File \"/usr/local/lib/python3.7/dist-packages/ipykernel/kernelbase.py\", line 268, in dispatch_shell\n      yield gen.maybe_future(handler(stream, idents, msg))\n    File \"/usr/local/lib/python3.7/dist-packages/tornado/gen.py\", line 326, in wrapper\n      yielded = next(result)\n    File \"/usr/local/lib/python3.7/dist-packages/ipykernel/kernelbase.py\", line 545, in execute_request\n      user_expressions, allow_stdin,\n    File \"/usr/local/lib/python3.7/dist-packages/tornado/gen.py\", line 326, in wrapper\n      yielded = next(result)\n    File \"/usr/local/lib/python3.7/dist-packages/ipykernel/ipkernel.py\", line 306, in do_execute\n      res = shell.run_cell(code, store_history=store_history, silent=silent)\n    File \"/usr/local/lib/python3.7/dist-packages/ipykernel/zmqshell.py\", line 536, in run_cell\n      return super(ZMQInteractiveShell, self).run_cell(*args, **kwargs)\n    File \"/usr/local/lib/python3.7/dist-packages/IPython/core/interactiveshell.py\", line 2855, in run_cell\n      raw_cell, store_history, silent, shell_futures)\n    File \"/usr/local/lib/python3.7/dist-packages/IPython/core/interactiveshell.py\", line 2881, in _run_cell\n      return runner(coro)\n    File \"/usr/local/lib/python3.7/dist-packages/IPython/core/async_helpers.py\", line 68, in _pseudo_sync_runner\n      coro.send(None)\n    File \"/usr/local/lib/python3.7/dist-packages/IPython/core/interactiveshell.py\", line 3058, in run_cell_async\n      interactivity=interactivity, compiler=compiler, result=result)\n    File \"/usr/local/lib/python3.7/dist-packages/IPython/core/interactiveshell.py\", line 3249, in run_ast_nodes\n      if (await self.run_code(code, result,  async_=asy)):\n    File \"/usr/local/lib/python3.7/dist-packages/IPython/core/interactiveshell.py\", line 3326, in run_code\n      exec(code_obj, self.user_global_ns, self.user_ns)\n    File \"<ipython-input-193-b6f861ca9fa0>\", line 3, in <module>\n      history = model.fit(x_train_glove, y_train, epochs=10, batch_size=128, validation_split=0.2, verbose=1)\n    File \"/usr/local/lib/python3.7/dist-packages/keras/utils/traceback_utils.py\", line 64, in error_handler\n      return fn(*args, **kwargs)\n    File \"/usr/local/lib/python3.7/dist-packages/keras/engine/training.py\", line 1384, in fit\n      tmp_logs = self.train_function(iterator)\n    File \"/usr/local/lib/python3.7/dist-packages/keras/engine/training.py\", line 1021, in train_function\n      return step_function(self, iterator)\n    File \"/usr/local/lib/python3.7/dist-packages/keras/engine/training.py\", line 1010, in step_function\n      outputs = model.distribute_strategy.run(run_step, args=(data,))\n    File \"/usr/local/lib/python3.7/dist-packages/keras/engine/training.py\", line 1000, in run_step\n      outputs = model.train_step(data)\n    File \"/usr/local/lib/python3.7/dist-packages/keras/engine/training.py\", line 859, in train_step\n      y_pred = self(x, training=True)\n    File \"/usr/local/lib/python3.7/dist-packages/keras/utils/traceback_utils.py\", line 64, in error_handler\n      return fn(*args, **kwargs)\n    File \"/usr/local/lib/python3.7/dist-packages/keras/engine/base_layer.py\", line 1096, in __call__\n      outputs = call_fn(inputs, *args, **kwargs)\n    File \"/usr/local/lib/python3.7/dist-packages/keras/utils/traceback_utils.py\", line 92, in error_handler\n      return fn(*args, **kwargs)\n    File \"/usr/local/lib/python3.7/dist-packages/keras/engine/sequential.py\", line 374, in call\n      return super(Sequential, self).call(inputs, training=training, mask=mask)\n    File \"/usr/local/lib/python3.7/dist-packages/keras/engine/functional.py\", line 452, in call\n      inputs, training=training, mask=mask)\n    File \"/usr/local/lib/python3.7/dist-packages/keras/engine/functional.py\", line 589, in _run_internal_graph\n      outputs = node.layer(*args, **kwargs)\n    File \"/usr/local/lib/python3.7/dist-packages/keras/utils/traceback_utils.py\", line 64, in error_handler\n      return fn(*args, **kwargs)\n    File \"/usr/local/lib/python3.7/dist-packages/keras/engine/base_layer.py\", line 1096, in __call__\n      outputs = call_fn(inputs, *args, **kwargs)\n    File \"/usr/local/lib/python3.7/dist-packages/keras/utils/traceback_utils.py\", line 92, in error_handler\n      return fn(*args, **kwargs)\n    File \"/usr/local/lib/python3.7/dist-packages/keras/layers/embeddings.py\", line 197, in call\n      out = tf.nn.embedding_lookup(self.embeddings, inputs)\nNode: 'sequential_3/embedding_3/embedding_lookup'\nindices[40,2505] = -1 is not in [0, 1000)\n\t [[{{node sequential_3/embedding_3/embedding_lookup}}]] [Op:__inference_train_function_5306]"
          ]
        }
      ]
    },
    {
      "cell_type": "code",
      "source": [],
      "metadata": {
        "id": "FFXCU4cSV9uB"
      },
      "id": "FFXCU4cSV9uB",
      "execution_count": null,
      "outputs": []
    }
  ],
  "metadata": {
    "kernelspec": {
      "display_name": "Python 3",
      "language": "python",
      "name": "python3"
    },
    "language_info": {
      "codemirror_mode": {
        "name": "ipython",
        "version": 3
      },
      "file_extension": ".py",
      "mimetype": "text/x-python",
      "name": "python",
      "nbconvert_exporter": "python",
      "pygments_lexer": "ipython3",
      "version": "3.8.8"
    },
    "colab": {
      "provenance": [],
      "collapsed_sections": []
    }
  },
  "nbformat": 4,
  "nbformat_minor": 5
}