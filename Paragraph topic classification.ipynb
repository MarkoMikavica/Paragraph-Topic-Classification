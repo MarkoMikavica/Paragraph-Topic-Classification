{
 "cells": [
  {
   "cell_type": "code",
   "execution_count": 1,
   "id": "e1f272ea",
   "metadata": {},
   "outputs": [],
   "source": [
    "import wikipedia\n",
    "import wikipediaapi \n",
    "import datetime\n",
    "import pandas as pd\n",
    "import numpy as np\n",
    "from sklearn import feature_extraction\n",
    "from sklearn import model_selection\n",
    "import nltk\n",
    "from nltk import tokenize\n",
    "from nltk import word_tokenize, pos_tag\n",
    "import string\n",
    "from keras.preprocessing.text import Tokenizer\n",
    "from sklearn import svm\n",
    "from sklearn import multiclass\n",
    "from sklearn import metrics\n",
    "from tensorflow.keras.datasets import imdb\n",
    "from tensorflow.keras.preprocessing import sequence\n",
    "from tensorflow.keras.models import Sequential\n",
    "from tensorflow.keras.layers import Embedding, Dense, Flatten\n",
    "from tensorflow.keras.layers import Embedding, Conv1D, MaxPool1D, GlobalMaxPool1D, Dense\n",
    "from tensorflow.keras.losses import BinaryCrossentropy\n",
    "from tensorflow.keras.optimizers import Adam\n",
    "import matplotlib.pyplot as plt"
   ]
  },
  {
   "cell_type": "code",
   "execution_count": 2,
   "id": "f9e620c1",
   "metadata": {},
   "outputs": [],
   "source": [
    "classes = ['sport', 'economy', 'politics', 'health', 'tourism', \n",
    "           'entertainment', 'culture', 'music', 'education', \n",
    "           'real estate', 'nutrition', 'science', 'history', 'technology'\n",
    "          ]"
   ]
  },
  {
   "cell_type": "code",
   "execution_count": 3,
   "id": "3dc9e7d6",
   "metadata": {},
   "outputs": [],
   "source": [
    "def generate_data(classes, n):\n",
    "    data = [];\n",
    "    for i in classes:\n",
    "#         topics = wikipedia.search(i, results = n)\n",
    "#         for j in topics:\n",
    "#         print(classes)\n",
    "#         print(\"Class: \", i)\n",
    "        for j in list(wikipedia.search(i,results = n)):\n",
    "            wiki_wiki = wikipediaapi.Wikipedia('en')\n",
    "            page_py = wiki_wiki.page(j)\n",
    "            if(page_py.exists()):\n",
    "#                 print(\"Class: \", i)\n",
    "#                 print(\"Title: \", j)\n",
    "#                     print(\"Section: \", page_py.sections[0].title)\n",
    "#                     print(\"Text: \", page_py.text)\n",
    "                for k in page_py.categories:\n",
    "                    if i in k.lower(): \n",
    "#                         print(\"Class: \", i)\n",
    "                        data.append((i, page_py.summary))\n",
    "                        break\n",
    "            else:\n",
    "                continue\n",
    "    return data"
   ]
  },
  {
   "cell_type": "code",
   "execution_count": 5,
   "id": "afe90b3e",
   "metadata": {},
   "outputs": [],
   "source": [
    "data = generate_data(classes, 10)"
   ]
  },
  {
   "cell_type": "code",
   "execution_count": 6,
   "id": "bd1782cb",
   "metadata": {},
   "outputs": [
    {
     "name": "stdout",
     "output_type": "stream",
     "text": [
      "sport 10\n",
      "economy 4\n",
      "politics 6\n",
      "health 7\n",
      "tourism 9\n",
      "entertainment 5\n",
      "culture 9\n",
      "music 7\n",
      "education 9\n",
      "real estate 9\n",
      "nutrition 8\n",
      "science 8\n",
      "history 6\n",
      "technology 8\n"
     ]
    }
   ],
   "source": [
    "for i in classes:\n",
    "    c = 0\n",
    "    for j in range(0, len(data)):\n",
    "        if(data[j][0] == i):\n",
    "            c = c + 1\n",
    "    print(\"%s %d\" %(i, c))"
   ]
  },
  {
   "cell_type": "code",
   "execution_count": 7,
   "id": "97e005e0",
   "metadata": {},
   "outputs": [],
   "source": [
    "def create_data_csv_file(name, data):\n",
    "    name = name + '.csv'\n",
    "#         '_' + str(datetime.datetime.now()).replace(' ', '_').replace('.', '-').replace(':', '-') + \n",
    "#         '.csv'\n",
    "    sep = '<>'\n",
    "    cols = 'class' + sep + 'text\\n'\n",
    "    with open(name, 'w+', encoding='utf-8') as file:\n",
    "        file.write(cols)\n",
    "#         YELLOW,SMALL,STRETCH,ADULT,T\n",
    "        for i in range(0, len(data)):\n",
    "            line = data[i][0] + sep + data[i][1].replace('\\n', ' ')\n",
    "\n",
    "            file.write(line)\n",
    "            file.write('\\n')\n",
    "    file.close()\n",
    "            \n",
    "#     print(text)"
   ]
  },
  {
   "cell_type": "code",
   "execution_count": 9,
   "id": "a4daf0f5",
   "metadata": {},
   "outputs": [],
   "source": [
    "# create_data_csv_file('data_10', data)"
   ]
  },
  {
   "cell_type": "code",
   "execution_count": 10,
   "id": "cc25664d",
   "metadata": {},
   "outputs": [
    {
     "name": "stderr",
     "output_type": "stream",
     "text": [
      "<ipython-input-10-79470950938f>:1: ParserWarning: Falling back to the 'python' engine because the 'c' engine does not support regex separators (separators > 1 char and different from '\\s+' are interpreted as regex); you can avoid this warning by specifying engine='python'.\n",
      "  df = pd.read_csv('data_10.csv', sep = '<>')\n"
     ]
    },
    {
     "data": {
      "text/html": [
       "<div>\n",
       "<style scoped>\n",
       "    .dataframe tbody tr th:only-of-type {\n",
       "        vertical-align: middle;\n",
       "    }\n",
       "\n",
       "    .dataframe tbody tr th {\n",
       "        vertical-align: top;\n",
       "    }\n",
       "\n",
       "    .dataframe thead th {\n",
       "        text-align: right;\n",
       "    }\n",
       "</style>\n",
       "<table border=\"1\" class=\"dataframe\">\n",
       "  <thead>\n",
       "    <tr style=\"text-align: right;\">\n",
       "      <th></th>\n",
       "      <th>class</th>\n",
       "      <th>text</th>\n",
       "    </tr>\n",
       "  </thead>\n",
       "  <tbody>\n",
       "    <tr>\n",
       "      <th>0</th>\n",
       "      <td>sport</td>\n",
       "      <td>Sport pertains to any form of competitive phys...</td>\n",
       "    </tr>\n",
       "    <tr>\n",
       "      <th>1</th>\n",
       "      <td>sport</td>\n",
       "      <td>Sport was an American sports magazine. Launche...</td>\n",
       "    </tr>\n",
       "    <tr>\n",
       "      <th>2</th>\n",
       "      <td>sport</td>\n",
       "      <td>Sport, Sport, Sport (Russian: Спорт, спорт, сп...</td>\n",
       "    </tr>\n",
       "    <tr>\n",
       "      <th>3</th>\n",
       "      <td>sport</td>\n",
       "      <td>Sport Lisboa e Benfica  (Portuguese pronunciat...</td>\n",
       "    </tr>\n",
       "    <tr>\n",
       "      <th>4</th>\n",
       "      <td>sport</td>\n",
       "      <td>Sport diving is an underwater sport that uses ...</td>\n",
       "    </tr>\n",
       "    <tr>\n",
       "      <th>...</th>\n",
       "      <td>...</td>\n",
       "      <td>...</td>\n",
       "    </tr>\n",
       "    <tr>\n",
       "      <th>100</th>\n",
       "      <td>technology</td>\n",
       "      <td>Fintech a portmanteau of \"financial technology...</td>\n",
       "    </tr>\n",
       "    <tr>\n",
       "      <th>101</th>\n",
       "      <td>technology</td>\n",
       "      <td>TCL Technology (originally an abbreviation for...</td>\n",
       "    </tr>\n",
       "    <tr>\n",
       "      <th>102</th>\n",
       "      <td>technology</td>\n",
       "      <td>Space technology is technology for use in oute...</td>\n",
       "    </tr>\n",
       "    <tr>\n",
       "      <th>103</th>\n",
       "      <td>technology</td>\n",
       "      <td>A technology company (or tech company) is an e...</td>\n",
       "    </tr>\n",
       "    <tr>\n",
       "      <th>104</th>\n",
       "      <td>technology</td>\n",
       "      <td>Agricultural technology or agrotechnology (abb...</td>\n",
       "    </tr>\n",
       "  </tbody>\n",
       "</table>\n",
       "<p>105 rows × 2 columns</p>\n",
       "</div>"
      ],
      "text/plain": [
       "          class                                               text\n",
       "0         sport  Sport pertains to any form of competitive phys...\n",
       "1         sport  Sport was an American sports magazine. Launche...\n",
       "2         sport  Sport, Sport, Sport (Russian: Спорт, спорт, сп...\n",
       "3         sport  Sport Lisboa e Benfica  (Portuguese pronunciat...\n",
       "4         sport  Sport diving is an underwater sport that uses ...\n",
       "..          ...                                                ...\n",
       "100  technology  Fintech a portmanteau of \"financial technology...\n",
       "101  technology  TCL Technology (originally an abbreviation for...\n",
       "102  technology  Space technology is technology for use in oute...\n",
       "103  technology  A technology company (or tech company) is an e...\n",
       "104  technology  Agricultural technology or agrotechnology (abb...\n",
       "\n",
       "[105 rows x 2 columns]"
      ]
     },
     "execution_count": 10,
     "metadata": {},
     "output_type": "execute_result"
    }
   ],
   "source": [
    "df = pd.read_csv('data_10.csv', sep = '<>')\n",
    "df"
   ]
  },
  {
   "cell_type": "code",
   "execution_count": 11,
   "id": "834aa614",
   "metadata": {},
   "outputs": [
    {
     "data": {
      "text/plain": [
       "sport            10\n",
       "education         9\n",
       "tourism           9\n",
       "real estate       9\n",
       "culture           9\n",
       "technology        8\n",
       "nutrition         8\n",
       "science           8\n",
       "music             7\n",
       "health            7\n",
       "politics          6\n",
       "history           6\n",
       "entertainment     5\n",
       "economy           4\n",
       "Name: class, dtype: int64"
      ]
     },
     "execution_count": 11,
     "metadata": {},
     "output_type": "execute_result"
    }
   ],
   "source": [
    "df['class'].value_counts()"
   ]
  },
  {
   "cell_type": "code",
   "execution_count": null,
   "id": "564ec0b0",
   "metadata": {},
   "outputs": [],
   "source": []
  }
 ],
 "metadata": {
  "kernelspec": {
   "display_name": "Python 3",
   "language": "python",
   "name": "python3"
  },
  "language_info": {
   "codemirror_mode": {
    "name": "ipython",
    "version": 3
   },
   "file_extension": ".py",
   "mimetype": "text/x-python",
   "name": "python",
   "nbconvert_exporter": "python",
   "pygments_lexer": "ipython3",
   "version": "3.8.8"
  }
 },
 "nbformat": 4,
 "nbformat_minor": 5
}
